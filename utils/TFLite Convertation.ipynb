{
 "cells": [
  {
   "cell_type": "markdown",
   "id": "61017cc1",
   "metadata": {},
   "source": [
    "### Prerequisites\n",
    "\n",
    "Installing `tflite` as we are converting TFLite model."
   ]
  },
  {
   "cell_type": "code",
   "execution_count": null,
   "id": "acea4fd8",
   "metadata": {},
   "outputs": [],
   "source": [
    "!pip install tflite"
   ]
  },
  {
   "cell_type": "markdown",
   "id": "26fe4062",
   "metadata": {},
   "source": [
    "Importing all required modules: tflite, tvm, autotvm, and opencv2"
   ]
  },
  {
   "cell_type": "code",
   "execution_count": 53,
   "id": "c9ec3223",
   "metadata": {},
   "outputs": [],
   "source": [
    "import cv2\n",
    "import logging\n",
    "import multiprocessing\n",
    "import numpy as np\n",
    "import os\n",
    "import sys\n",
    "import tflite\n",
    "import tvm\n",
    "import tvm.testing\n",
    "\n",
    "from matplotlib import pyplot as plt\n",
    "\n",
    "from tvm import autotvm\n",
    "from tvm import relay\n",
    "from tvm import te\n",
    "from tvm import transform\n",
    "from tvm.autotvm.tuner import XGBTuner, GATuner, RandomTuner, GridSearchTuner\n",
    "from tvm.contrib import graph_executor\n",
    "from tvm.driver import tvmc"
   ]
  },
  {
   "cell_type": "markdown",
   "id": "a987432d",
   "metadata": {},
   "source": [
    "Define variable visible to the entire notebook: compilation target."
   ]
  },
  {
   "cell_type": "code",
   "execution_count": 2,
   "id": "77f24016",
   "metadata": {},
   "outputs": [],
   "source": [
    "target = \"llvm -mcpu=core-avx2\""
   ]
  },
  {
   "cell_type": "markdown",
   "id": "30449154",
   "metadata": {},
   "source": [
    "### Convert TF Lite model to TVM model and fix layout for tuning"
   ]
  },
  {
   "cell_type": "code",
   "execution_count": 3,
   "id": "20fe04aa",
   "metadata": {},
   "outputs": [],
   "source": [
    "tflite_model_buf = open('selfie_multiclass_256x256.tflite', \"rb\").read()\n",
    "tflite_model = tflite.Model.GetRootAsModel(tflite_model_buf, 0)"
   ]
  },
  {
   "cell_type": "code",
   "execution_count": 4,
   "id": "034d8b7e",
   "metadata": {},
   "outputs": [],
   "source": [
    "input_tensor = \"input_29\"\n",
    "input_shape = (1, 256, 256, 3)\n",
    "input_dtype = \"float32\"\n",
    "\n",
    "mod, params = relay.frontend.from_tflite(\n",
    "    tflite_model, shape_dict = {input_tensor: input_shape }, dtype_dict={input_tensor: input_dtype}\n",
    ")"
   ]
  },
  {
   "cell_type": "code",
   "execution_count": 5,
   "id": "e1d4f777",
   "metadata": {},
   "outputs": [],
   "source": [
    "with tvm.transform.PassContext(opt_level=3):\n",
    "    mod_nchw = tvm.relay.transform.InferType()(mod)\n",
    "    mod_nchw = tvm.relay.transform.ConvertLayout({\"nn.conv2d\": [\"NCHW\", \"OIHW\"],\n",
    "                                                  \"image.resize2d\": [\"NCHW\"],\n",
    "                                                  \"nn.conv2d_transpose\": [\"NCHW\", \"OIHW\"]})(mod_nchw)"
   ]
  },
  {
   "cell_type": "code",
   "execution_count": 6,
   "id": "5e961087",
   "metadata": {
    "scrolled": true
   },
   "outputs": [
    {
     "name": "stderr",
     "output_type": "stream",
     "text": [
      "One or more operators have not been tuned. Please tune your model for better performance. Use DEBUG logging level to see more details.\n"
     ]
    }
   ],
   "source": [
    "# Build the module against to x86 CPU\n",
    "with transform.PassContext(opt_level=3):\n",
    "    lib = relay.build(mod_nchw, target, params=params)"
   ]
  },
  {
   "cell_type": "markdown",
   "id": "a536e679",
   "metadata": {},
   "source": [
    "### Test the converted model\n",
    "\n",
    "Test that the model with converted layout can do reasonable inference.\n",
    "The input image should be **normalised**."
   ]
  },
  {
   "cell_type": "code",
   "execution_count": 20,
   "id": "852306be",
   "metadata": {},
   "outputs": [],
   "source": [
    "def load_image_for_inference(image_path: str) -> np.ndarray:\n",
    "    image = cv2.imread(image_path)\n",
    "    image = cv2.cvtColor(image, cv2.COLOR_BGR2RGB)\n",
    "    image = cv2.resize(image, (256, 256))\n",
    "    image = image.astype(np.float32)\n",
    "\n",
    "    image[:, :, 0] = (image[:, :, 0] / 255.0)\n",
    "    image[:, :, 1] = (image[:, :, 1] / 255.0)\n",
    "    image[:, :, 2] = (image[:, :, 2] / 255.0)\n",
    "\n",
    "\n",
    "    image = np.expand_dims(image, axis=0)  \n",
    "    return image"
   ]
  },
  {
   "cell_type": "code",
   "execution_count": 21,
   "id": "c17c1fd7",
   "metadata": {},
   "outputs": [
    {
     "name": "stdout",
     "output_type": "stream",
     "text": [
      "image shape: (1, 256, 256, 3)\n",
      "image min value: 0.0\n",
      "image max value: 1.0\n"
     ]
    }
   ],
   "source": [
    "image = load_image_for_inference('example3.jpg')\n",
    "\n",
    "print('image shape:', image.shape)\n",
    "print('image min value:', image.min())\n",
    "print('image max value:', image.max())"
   ]
  },
  {
   "cell_type": "code",
   "execution_count": 22,
   "id": "b2fb785a",
   "metadata": {
    "scrolled": false
   },
   "outputs": [
    {
     "name": "stdout",
     "output_type": "stream",
     "text": [
      "output shape: (1, 256, 256, 6)\n"
     ]
    }
   ],
   "source": [
    "module = graph_executor.GraphModule(lib[\"default\"](tvm.cpu()))\n",
    "module.set_input(input_tensor, tvm.nd.array(image))\n",
    "\n",
    "module.run()\n",
    "\n",
    "tvm_output = module.get_output(0).numpy()\n",
    "\n",
    "print('output shape:', tvm_output.shape)"
   ]
  },
  {
   "cell_type": "code",
   "execution_count": 23,
   "id": "8c0f6dbb",
   "metadata": {},
   "outputs": [],
   "source": [
    "CLASSES = {\n",
    "    0: 'background',\n",
    "    1: 'hair',\n",
    "    2: 'body-skin',\n",
    "    3: 'face-skin',\n",
    "    4: 'clothes',\n",
    "    5: 'accessories'\n",
    "}"
   ]
  },
  {
   "cell_type": "code",
   "execution_count": 24,
   "id": "7cef25af",
   "metadata": {},
   "outputs": [
    {
     "data": {
      "image/png": "[encoded data removed]",
      "text/plain": [
       "<Figure size 1200x1200 with 7 Axes>"
      ]
     },
     "metadata": {},
     "output_type": "display_data"
    }
   ],
   "source": [
    "n = len(CLASSES)\n",
    "fig, ax = plt.subplots(nrows=1, ncols=(n + 1), figsize=(12, 12))\n",
    "\n",
    "ax[0].set_title('original')\n",
    "ax[0].imshow(image[0, :, :, :])\n",
    "ax[0].axis(\"off\")\n",
    "\n",
    "for i in range(n):\n",
    "    sample = tvm_output[0, :, :, i]\n",
    "    sample_label = CLASSES[i]\n",
    "\n",
    "    ax[i + 1].set_title(sample_label)\n",
    "    ax[i + 1].imshow(sample > 0.5)\n",
    "    ax[i + 1].axis(\"off\")\n",
    "\n",
    "plt.tight_layout()\n",
    "plt.show()"
   ]
  },
  {
   "cell_type": "markdown",
   "id": "60be6307",
   "metadata": {},
   "source": [
    "### Save TVMC model\n",
    "\n",
    "Let's save our untuned model."
   ]
  },
  {
   "cell_type": "code",
   "execution_count": 37,
   "id": "d8261a7d",
   "metadata": {},
   "outputs": [],
   "source": [
    "def convert_params_to_numpy(parameters: dict[str: tvm.nd.NDArray]) -> dict[str: np.ndarray]:\n",
    "    patched_parameters = {}\n",
    "\n",
    "    for k, v in parameters.items():\n",
    "        patched_parameters[k] = v.numpy()\n",
    "    \n",
    "    return patched_parameters"
   ]
  },
  {
   "cell_type": "code",
   "execution_count": 38,
   "id": "5b2eb3b4",
   "metadata": {},
   "outputs": [],
   "source": [
    "def load_tvm_parameters(path: str) -> dict[str: tvm.nd.NDArray]:\n",
    "    raw_parameters = np.load(path)\n",
    "    \n",
    "    patched_parameters = {}\n",
    "\n",
    "    for k, v in raw_parameters.items():\n",
    "        patched_parameters[k] = tvm.nd.array(v)\n",
    "    \n",
    "    return patched_parameters"
   ]
  },
  {
   "cell_type": "code",
   "execution_count": 25,
   "id": "1d693dfa",
   "metadata": {},
   "outputs": [],
   "source": [
    "def add_prefix_to_parameters(parameters: dict,\n",
    "                             prefix: str) -> dict:\n",
    "    patched_parameters = {}\n",
    "\n",
    "    for k, v in parameters.items():\n",
    "        patched_parameters[f\"{prefix}{k}\"] = v\n",
    "    \n",
    "    return patched_parameters"
   ]
  },
  {
   "cell_type": "code",
   "execution_count": 26,
   "id": "997ea75f",
   "metadata": {},
   "outputs": [],
   "source": [
    "def create_tvmc_model(model, \n",
    "                      parameters,\n",
    "                      file_name):\n",
    "    with open(f\"{file_name}.txt\", \"w\") as f:\n",
    "        f.write(repr(mod_nchw))\n",
    "        \n",
    "    return tvmc.load(f\"{file_name}.txt\", shape_dict={ input_tensor: input_shape, **vparams }, model_format=\"relay\")"
   ]
  },
  {
   "cell_type": "code",
   "execution_count": 27,
   "id": "12de0f7f",
   "metadata": {},
   "outputs": [],
   "source": [
    "vparams = add_prefix_to_parameters(params, prefix='v')"
   ]
  },
  {
   "cell_type": "code",
   "execution_count": 40,
   "id": "2f50abb6",
   "metadata": {},
   "outputs": [],
   "source": [
    "np.save('parameters', convert_params_to_numpy(vparams))"
   ]
  },
  {
   "cell_type": "code",
   "execution_count": 41,
   "id": "8c594417",
   "metadata": {},
   "outputs": [],
   "source": [
    "tvmc_model = create_tvmc_model(mod_nchw, vparams, file_name='selfie_multiclass_256x256')"
   ]
  },
  {
   "cell_type": "code",
   "execution_count": 42,
   "id": "c4b68bd8",
   "metadata": {},
   "outputs": [
    {
     "data": {
      "text/plain": [
       "<tvm.driver.tvmc.model.TVMCPackage at 0x1511e8ca0>"
      ]
     },
     "execution_count": 42,
     "metadata": {},
     "output_type": "execute_result"
    }
   ],
   "source": [
    "tvmc.compile(tvmc_model, target=target, \n",
    "             tuning_records='tvmc_compilation.log', \n",
    "             package_path=\"selfie_multiclass_not_tuned.tar\")"
   ]
  },
  {
   "cell_type": "markdown",
   "id": "6b6b0ebe",
   "metadata": {},
   "source": [
    "#### Check inference on TVMC model"
   ]
  },
  {
   "cell_type": "code",
   "execution_count": 43,
   "id": "d234a2b9",
   "metadata": {},
   "outputs": [
    {
     "name": "stderr",
     "output_type": "stream",
     "text": [
      "2023-12-17 22:24:17.778 INFO load_module /var/folders/27/z40g_7vx5q97_wfz_gcd92k40000gn/T/tmp6bo2pyn6/mod.so\n"
     ]
    },
    {
     "name": "stdout",
     "output_type": "stream",
     "text": [
      "output shape: (1, 256, 256, 6)\n"
     ]
    }
   ],
   "source": [
    "package = tvmc.TVMCPackage(package_path=\"selfie_multiclass_256x256.tar\")\n",
    "\n",
    "inputs = {input_tensor: image, **vparams }\n",
    "num_iter = 10\n",
    "result = tvmc.run(package, device=\"cpu\", inputs=inputs, \n",
    "                  benchmark=True, number=num_iter)\n",
    "\n",
    "tvmc_output = result.outputs[\"output_0\"]\n",
    "print('output shape:', tvmc_output.shape)"
   ]
  },
  {
   "cell_type": "code",
   "execution_count": 44,
   "id": "bc561184",
   "metadata": {},
   "outputs": [
    {
     "data": {
      "image/png": "[encoded data removed]",
      "text/plain": [
       "<Figure size 1200x1200 with 7 Axes>"
      ]
     },
     "metadata": {},
     "output_type": "display_data"
    }
   ],
   "source": [
    "n = len(CLASSES)\n",
    "fig, ax = plt.subplots(nrows=1, ncols=(n + 1), figsize=(12, 12))\n",
    "\n",
    "ax[0].set_title('original')\n",
    "ax[0].imshow(image[0, :, :, :])\n",
    "ax[0].axis(\"off\")\n",
    "\n",
    "for i in range(n):\n",
    "    sample = tvmc_output[0, :, :, i]\n",
    "    sample_label = CLASSES[i]\n",
    "\n",
    "    ax[i + 1].set_title(sample_label)\n",
    "    ax[i + 1].imshow(sample > 0.5)\n",
    "    ax[i + 1].axis(\"off\")\n",
    "\n",
    "plt.tight_layout()\n",
    "plt.show()"
   ]
  },
  {
   "cell_type": "markdown",
   "id": "4665c316",
   "metadata": {},
   "source": [
    "### AutoTVM tuning"
   ]
  },
  {
   "cell_type": "code",
   "execution_count": 45,
   "id": "c8815e59",
   "metadata": {},
   "outputs": [],
   "source": [
    "log_file = \"statistics.log\""
   ]
  },
  {
   "cell_type": "code",
   "execution_count": 46,
   "id": "9ba6f6ad",
   "metadata": {},
   "outputs": [],
   "source": [
    "def evaluate_performance(input_name, lib, data_shape, dtype=\"float32\"):\n",
    "    # upload parameters to device\n",
    "    dev = tvm.cpu()\n",
    "    data_tvm = tvm.nd.array((np.random.uniform(size=data_shape)).astype(dtype))\n",
    "    module = graph_executor.GraphModule(lib[\"default\"](dev))\n",
    "    module.set_input(input_name, data_tvm)\n",
    "\n",
    "    # evaluate\n",
    "    print(\"Evaluate inference time cost...\")\n",
    "    print(module.benchmark(dev, number=100, repeat=3))"
   ]
  },
  {
   "cell_type": "code",
   "execution_count": 47,
   "id": "e4436ecf",
   "metadata": {},
   "outputs": [],
   "source": [
    "# extract workloads from relay program\n",
    "def extract_tasks_autotvm(mod, target, params):\n",
    "    print(\"Extract tasks...\")\n",
    "    print(mod)\n",
    "    tasks = autotvm.task.extract_from_program(\n",
    "        mod, target=target, params=params\n",
    "    )\n",
    "    assert(len(tasks) > 0)\n",
    "    return tasks\n",
    "\n",
    "def evaluate_autotvm(input_name, model, data_shape, log_file, target=\"llvm\"):\n",
    "    # compile kernels in default mode\n",
    "    print(\"Evaluation of the network compiled in 'default' mode without auto tune:\")\n",
    "    with tvm.transform.PassContext():\n",
    "        print(\"Compile...\")\n",
    "        lib = relay.build(model, target=target, params=params)\n",
    "        evaluate_performance(input_name, lib, data_shape)\n",
    "\n",
    "    # compile kernels in kernel tuned only mode\n",
    "    print(\"\\nEvaluation of the network been tuned on kernel level:\")\n",
    "    with autotvm.apply_history_best(log_file):\n",
    "        print(\"Compile...\")\n",
    "        with tvm.transform.PassContext():\n",
    "            lib = relay.build(model, target=target, params=params)\n",
    "        evaluate_performance(input_name, lib, data_shape)"
   ]
  },
  {
   "cell_type": "code",
   "execution_count": 48,
   "id": "9a7cb323",
   "metadata": {},
   "outputs": [
    {
     "name": "stdout",
     "output_type": "stream",
     "text": [
      "Num threads:  16\n"
     ]
    }
   ],
   "source": [
    "# Set number of threads used for tuning based on the number of\n",
    "# physical CPU cores on your machine.\n",
    "num_threads = multiprocessing.cpu_count()\n",
    "print(\"Num threads: \", num_threads)\n",
    "os.environ[\"TVM_NUM_THREADS\"] = str(num_threads)"
   ]
  },
  {
   "cell_type": "code",
   "execution_count": 49,
   "id": "55ded394",
   "metadata": {},
   "outputs": [],
   "source": [
    "tuning_option = {\n",
    "    \"log_filename\": log_file,\n",
    "    \"tuner\": \"gridsearch\",\n",
    "    \"early_stopping\": True,\n",
    "    \"measure_option\": autotvm.measure_option(\n",
    "        builder=autotvm.LocalBuilder(),\n",
    "        runner=autotvm.LocalRunner(\n",
    "            number=1, repeat=10, min_repeat_ms=0, enable_cpu_cache_flush=True\n",
    "        ),\n",
    "    ),\n",
    "}"
   ]
  },
  {
   "cell_type": "code",
   "execution_count": 50,
   "id": "d3e3bbc6",
   "metadata": {},
   "outputs": [],
   "source": [
    "def run_tuning_autotvm(\n",
    "    tasks, measure_option, tuner=\"gridsearch\", early_stopping=None, log_filename=\"tuning.log\"\n",
    "):\n",
    "    for i, task in enumerate(tasks):\n",
    "        prefix = \"[Task %2d/%2d] \" % (i + 1, len(tasks))\n",
    "\n",
    "        # create tuner\n",
    "        if tuner == \"xgb\" or tuner == \"xgb-rank\":\n",
    "            tuner_obj = XGBTuner(task, loss_type=\"rank\")\n",
    "        elif tuner == \"ga\":\n",
    "            tuner_obj = GATuner(task, pop_size=50)\n",
    "        elif tuner == \"random\":\n",
    "            tuner_obj = RandomTuner(task)\n",
    "        elif tuner == \"gridsearch\":\n",
    "            tuner_obj = GridSearchTuner(task)\n",
    "        else:\n",
    "            raise ValueError(\"Invalid tuner: \" + tuner)\n",
    "\n",
    "        # do tuning\n",
    "        n_trial = len(task.config_space)\n",
    "        tuner_obj.tune(\n",
    "            n_trial=n_trial,\n",
    "            early_stopping=early_stopping,\n",
    "            measure_option=measure_option,\n",
    "            callbacks=[\n",
    "                autotvm.callback.progress_bar(n_trial, prefix=prefix),\n",
    "                autotvm.callback.log_to_file(log_filename),\n",
    "            ],\n",
    "        )"
   ]
  },
  {
   "cell_type": "code",
   "execution_count": 51,
   "id": "bd030755",
   "metadata": {},
   "outputs": [
    {
     "name": "stdout",
     "output_type": "stream",
     "text": [
      "Extract tasks...\n",
      "def @main(%input_29: Tensor[(1, 256, 256, 3), float32] /* ty=Tensor[(1, 256, 256, 3), float32] */, %v_param_1: Tensor[(3, 3, 3, 16), float32] /* ty=Tensor[(3, 3, 3, 16), float32] */, %v_param_2: Tensor[(16), float32] /* ty=Tensor[(16), float32] */, %v_param_7: Tensor[(1, 1, 16, 96), float32] /* ty=Tensor[(1, 1, 16, 96), float32] */, %v_param_8: Tensor[(96), float32] /* ty=Tensor[(96), float32] */, %v_param_9: Tensor[(3, 3, 96, 1), float32] /* ty=Tensor[(3, 3, 96, 1), float32] */, %v_param_10: Tensor[(96), float32] /* ty=Tensor[(96), float32] */, %v_param_11: Tensor[(1, 1, 96, 64), float32] /* ty=Tensor[(1, 1, 96, 64), float32] */, %v_param_12: Tensor[(64), float32] /* ty=Tensor[(64), float32] */, %v_param_13: Tensor[(1, 1, 64, 384), float32] /* ty=Tensor[(1, 1, 64, 384), float32] */, %v_param_14: Tensor[(384), float32] /* ty=Tensor[(384), float32] */, %v_param_15: Tensor[(3, 3, 384, 1), float32] /* ty=Tensor[(3, 3, 384, 1), float32] */, %v_param_16: Tensor[(384), float32] /* ty=Tensor[(384), float32] */, %v_param_17: Tensor[(1, 1, 384, 128), float32] /* ty=Tensor[(1, 1, 384, 128), float32] */, %v_param_18: Tensor[(128), float32] /* ty=Tensor[(128), float32] */, %v_param_19: Tensor[(1, 1, 128, 768), float32] /* ty=Tensor[(1, 1, 128, 768), float32] */, %v_param_20: Tensor[(768), float32] /* ty=Tensor[(768), float32] */, %v_param_21: Tensor[(3, 3, 768, 1), float32] /* ty=Tensor[(3, 3, 768, 1), float32] */, %v_param_22: Tensor[(768), float32] /* ty=Tensor[(768), float32] */, %v_param_23: Tensor[(1, 1, 768, 128), float32] /* ty=Tensor[(1, 1, 768, 128), float32] */, %v_param_24: Tensor[(128), float32] /* ty=Tensor[(128), float32] */, %v_param_29: Tensor[(1, 1, 128, 768), float32] /* ty=Tensor[(1, 1, 128, 768), float32] */, %v_param_30: Tensor[(768), float32] /* ty=Tensor[(768), float32] */, %v_param_31: Tensor[(3, 3, 768, 1), float32] /* ty=Tensor[(3, 3, 768, 1), float32] */, %v_param_32: Tensor[(768), float32] /* ty=Tensor[(768), float32] */, %v_param_33: Tensor[(1, 1, 768, 256), float32] /* ty=Tensor[(1, 1, 768, 256), float32] */, %v_param_34: Tensor[(256), float32] /* ty=Tensor[(256), float32] */, %v_param_35: Tensor[(3, 3, 256, 128), float32] /* ty=Tensor[(3, 3, 256, 128), float32] */, %v_param_36: Tensor[(128), float32] /* ty=Tensor[(128), float32] */, %v_param_37: Tensor[(1, 1, 128, 128), float32] /* ty=Tensor[(1, 1, 128, 128), float32] */, %v_param_38: Tensor[(128), float32] /* ty=Tensor[(128), float32] */, %v_param_39: Tensor[(128), float32] /* ty=Tensor[(128), float32] */, %v_param_40: Tensor[(128), float32] /* ty=Tensor[(128), float32] */, %v_param_41: Tensor[(1, 1, 128, 256), float32] /* ty=Tensor[(1, 1, 128, 256), float32] */, %v_param_42: Tensor[(256), float32] /* ty=Tensor[(256), float32] */, %v_param_43: Tensor[(1, 1, 256, 128), float32] /* ty=Tensor[(1, 1, 256, 128), float32] */, %v_param_44: Tensor[(128), float32] /* ty=Tensor[(128), float32] */, %v_param_49: Tensor[(1, 1, 128, 128), float32] /* ty=Tensor[(1, 1, 128, 128), float32] */, %v_param_50: Tensor[(128), float32] /* ty=Tensor[(128), float32] */, %v_param_47: Tensor[(1, 1, 128, 128), float32] /* ty=Tensor[(1, 1, 128, 128), float32] */, %v_param_48: Tensor[(128), float32] /* ty=Tensor[(128), float32] */, %v_param_45: Tensor[(1, 1, 128, 1), float32] /* ty=Tensor[(1, 1, 128, 1), float32] */, %v_param_46: Tensor[(1), float32] /* ty=Tensor[(1), float32] */, %v_param_51: Tensor[(1, 1, 128, 128), float32] /* ty=Tensor[(1, 1, 128, 128), float32] */, %v_param_52: Tensor[(128), float32] /* ty=Tensor[(128), float32] */, %v_param_53: Tensor[(128), float32] /* ty=Tensor[(128), float32] */, %v_param_54: Tensor[(128), float32] /* ty=Tensor[(128), float32] */, %v_param_55: Tensor[(1, 1, 128, 256), float32] /* ty=Tensor[(1, 1, 128, 256), float32] */, %v_param_56: Tensor[(256), float32] /* ty=Tensor[(256), float32] */, %v_param_57: Tensor[(1, 1, 256, 128), float32] /* ty=Tensor[(1, 1, 256, 128), float32] */, %v_param_58: Tensor[(128), float32] /* ty=Tensor[(128), float32] */, %v_param_63: Tensor[(1, 1, 128, 128), float32] /* ty=Tensor[(1, 1, 128, 128), float32] */, %v_param_64: Tensor[(128), float32] /* ty=Tensor[(128), float32] */, %v_param_61: Tensor[(1, 1, 128, 128), float32] /* ty=Tensor[(1, 1, 128, 128), float32] */, %v_param_62: Tensor[(128), float32] /* ty=Tensor[(128), float32] */, %v_param_59: Tensor[(1, 1, 128, 1), float32] /* ty=Tensor[(1, 1, 128, 1), float32] */, %v_param_60: Tensor[(1), float32] /* ty=Tensor[(1), float32] */, %v_param_65: Tensor[(1, 1, 128, 128), float32] /* ty=Tensor[(1, 1, 128, 128), float32] */, %v_param_66: Tensor[(128), float32] /* ty=Tensor[(128), float32] */, %v_param_67: Tensor[(1, 1, 128, 256), float32] /* ty=Tensor[(1, 1, 128, 256), float32] */, %v_param_68: Tensor[(256), float32] /* ty=Tensor[(256), float32] */, %v_param_73: Tensor[(1, 1, 256, 1536), float32] /* ty=Tensor[(1, 1, 256, 1536), float32] */, %v_param_74: Tensor[(1536), float32] /* ty=Tensor[(1536), float32] */, %v_param_75: Tensor[(3, 3, 1536, 1), float32] /* ty=Tensor[(3, 3, 1536, 1), float32] */, %v_param_76: Tensor[(1536), float32] /* ty=Tensor[(1536), float32] */, %v_param_77: Tensor[(1, 1, 1536, 384), float32] /* ty=Tensor[(1, 1, 1536, 384), float32] */, %v_param_78: Tensor[(384), float32] /* ty=Tensor[(384), float32] */, %v_param_79: Tensor[(3, 3, 384, 192), float32] /* ty=Tensor[(3, 3, 384, 192), float32] */, %v_param_80: Tensor[(192), float32] /* ty=Tensor[(192), float32] */, %v_param_81: Tensor[(1, 1, 192, 192), float32] /* ty=Tensor[(1, 1, 192, 192), float32] */, %v_param_82: Tensor[(192), float32] /* ty=Tensor[(192), float32] */, %v_param_83: Tensor[(192), float32] /* ty=Tensor[(192), float32] */, %v_param_84: Tensor[(192), float32] /* ty=Tensor[(192), float32] */, %v_param_85: Tensor[(1, 1, 192, 384), float32] /* ty=Tensor[(1, 1, 192, 384), float32] */, %v_param_86: Tensor[(384), float32] /* ty=Tensor[(384), float32] */, %v_param_87: Tensor[(1, 1, 384, 192), float32] /* ty=Tensor[(1, 1, 384, 192), float32] */, %v_param_88: Tensor[(192), float32] /* ty=Tensor[(192), float32] */, %v_param_93: Tensor[(1, 1, 192, 192), float32] /* ty=Tensor[(1, 1, 192, 192), float32] */, %v_param_94: Tensor[(192), float32] /* ty=Tensor[(192), float32] */, %v_param_91: Tensor[(1, 1, 192, 192), float32] /* ty=Tensor[(1, 1, 192, 192), float32] */, %v_param_92: Tensor[(192), float32] /* ty=Tensor[(192), float32] */, %v_param_89: Tensor[(1, 1, 192, 1), float32] /* ty=Tensor[(1, 1, 192, 1), float32] */, %v_param_90: Tensor[(1), float32] /* ty=Tensor[(1), float32] */, %v_param_95: Tensor[(1, 1, 192, 192), float32] /* ty=Tensor[(1, 1, 192, 192), float32] */, %v_param_96: Tensor[(192), float32] /* ty=Tensor[(192), float32] */, %v_param_97: Tensor[(192), float32] /* ty=Tensor[(192), float32] */, %v_param_98: Tensor[(192), float32] /* ty=Tensor[(192), float32] */, %v_param_99: Tensor[(1, 1, 192, 384), float32] /* ty=Tensor[(1, 1, 192, 384), float32] */, %v_param_100: Tensor[(384), float32] /* ty=Tensor[(384), float32] */, %v_param_101: Tensor[(1, 1, 384, 192), float32] /* ty=Tensor[(1, 1, 384, 192), float32] */, %v_param_102: Tensor[(192), float32] /* ty=Tensor[(192), float32] */, %v_param_107: Tensor[(1, 1, 192, 192), float32] /* ty=Tensor[(1, 1, 192, 192), float32] */, %v_param_108: Tensor[(192), float32] /* ty=Tensor[(192), float32] */, %v_param_105: Tensor[(1, 1, 192, 192), float32] /* ty=Tensor[(1, 1, 192, 192), float32] */, %v_param_106: Tensor[(192), float32] /* ty=Tensor[(192), float32] */, %v_param_103: Tensor[(1, 1, 192, 1), float32] /* ty=Tensor[(1, 1, 192, 1), float32] */, %v_param_104: Tensor[(1), float32] /* ty=Tensor[(1), float32] */, %v_param_109: Tensor[(1, 1, 192, 192), float32] /* ty=Tensor[(1, 1, 192, 192), float32] */, %v_param_110: Tensor[(192), float32] /* ty=Tensor[(192), float32] */, %v_param_111: Tensor[(192), float32] /* ty=Tensor[(192), float32] */, %v_param_112: Tensor[(192), float32] /* ty=Tensor[(192), float32] */, %v_param_113: Tensor[(1, 1, 192, 384), float32] /* ty=Tensor[(1, 1, 192, 384), float32] */, %v_param_114: Tensor[(384), float32] /* ty=Tensor[(384), float32] */, %v_param_115: Tensor[(1, 1, 384, 192), float32] /* ty=Tensor[(1, 1, 384, 192), float32] */, %v_param_116: Tensor[(192), float32] /* ty=Tensor[(192), float32] */, %v_param_121: Tensor[(1, 1, 192, 192), float32] /* ty=Tensor[(1, 1, 192, 192), float32] */, %v_param_122: Tensor[(192), float32] /* ty=Tensor[(192), float32] */, %v_param_119: Tensor[(1, 1, 192, 192), float32] /* ty=Tensor[(1, 1, 192, 192), float32] */, %v_param_120: Tensor[(192), float32] /* ty=Tensor[(192), float32] */, %v_param_117: Tensor[(1, 1, 192, 1), float32] /* ty=Tensor[(1, 1, 192, 1), float32] */, %v_param_118: Tensor[(1), float32] /* ty=Tensor[(1), float32] */, %v_param_123: Tensor[(1, 1, 192, 192), float32] /* ty=Tensor[(1, 1, 192, 192), float32] */, %v_param_124: Tensor[(192), float32] /* ty=Tensor[(192), float32] */, %v_param_125: Tensor[(192), float32] /* ty=Tensor[(192), float32] */, %v_param_126: Tensor[(192), float32] /* ty=Tensor[(192), float32] */, %v_param_127: Tensor[(1, 1, 192, 384), float32] /* ty=Tensor[(1, 1, 192, 384), float32] */, %v_param_128: Tensor[(384), float32] /* ty=Tensor[(384), float32] */, %v_param_129: Tensor[(1, 1, 384, 192), float32] /* ty=Tensor[(1, 1, 384, 192), float32] */, %v_param_130: Tensor[(192), float32] /* ty=Tensor[(192), float32] */, %v_param_135: Tensor[(1, 1, 192, 192), float32] /* ty=Tensor[(1, 1, 192, 192), float32] */, %v_param_136: Tensor[(192), float32] /* ty=Tensor[(192), float32] */, %v_param_133: Tensor[(1, 1, 192, 192), float32] /* ty=Tensor[(1, 1, 192, 192), float32] */, %v_param_134: Tensor[(192), float32] /* ty=Tensor[(192), float32] */, %v_param_131: Tensor[(1, 1, 192, 1), float32] /* ty=Tensor[(1, 1, 192, 1), float32] */, %v_param_132: Tensor[(1), float32] /* ty=Tensor[(1), float32] */, %v_param_137: Tensor[(1, 1, 192, 192), float32] /* ty=Tensor[(1, 1, 192, 192), float32] */, %v_param_138: Tensor[(192), float32] /* ty=Tensor[(192), float32] */, %v_param_139: Tensor[(1, 1, 192, 384), float32] /* ty=Tensor[(1, 1, 192, 384), float32] */, %v_param_140: Tensor[(384), float32] /* ty=Tensor[(384), float32] */, %v_param_141: Tensor[(1, 1, 384, 1), float32] /* ty=Tensor[(1, 1, 384, 1), float32] */, %v_param_142: Tensor[(384), float32] /* ty=Tensor[(384), float32] */, %v_param_143: Tensor[(1, 1, 384, 64), float32] /* ty=Tensor[(1, 1, 384, 64), float32] */, %v_param_144: Tensor[(64), float32] /* ty=Tensor[(64), float32] */, %v_param_69: Tensor[(1, 1, 256, 1), float32] /* ty=Tensor[(1, 1, 256, 1), float32] */, %v_param_70: Tensor[(256), float32] /* ty=Tensor[(256), float32] */, %v_param_71: Tensor[(1, 1, 256, 64), float32] /* ty=Tensor[(1, 1, 256, 64), float32] */, %v_param_72: Tensor[(64), float32] /* ty=Tensor[(64), float32] */, %v_param_25: Tensor[(1, 1, 128, 1), float32] /* ty=Tensor[(1, 1, 128, 1), float32] */, %v_param_26: Tensor[(128), float32] /* ty=Tensor[(128), float32] */, %v_param_27: Tensor[(1, 1, 128, 64), float32] /* ty=Tensor[(1, 1, 128, 64), float32] */, %v_param_28: Tensor[(64), float32] /* ty=Tensor[(64), float32] */, %v_param_3: Tensor[(1, 1, 16, 1), float32] /* ty=Tensor[(1, 1, 16, 1), float32] */, %v_param_4: Tensor[(16), float32] /* ty=Tensor[(16), float32] */, %v_param_5: Tensor[(1, 1, 16, 64), float32] /* ty=Tensor[(1, 1, 16, 64), float32] */, %v_param_6: Tensor[(64), float32] /* ty=Tensor[(64), float32] */, %v_param_157: Tensor[(3, 3, 64, 1), float32] /* ty=Tensor[(3, 3, 64, 1), float32] */, %v_param_158: Tensor[(64), float32] /* ty=Tensor[(64), float32] */, %v_param_159: Tensor[(1, 1, 64, 64), float32] /* ty=Tensor[(1, 1, 64, 64), float32] */, %v_param_160: Tensor[(64), float32] /* ty=Tensor[(64), float32] */, %v_param_153: Tensor[(3, 3, 64, 1), float32] /* ty=Tensor[(3, 3, 64, 1), float32] */, %v_param_154: Tensor[(64), float32] /* ty=Tensor[(64), float32] */, %v_param_155: Tensor[(1, 1, 64, 64), float32] /* ty=Tensor[(1, 1, 64, 64), float32] */, %v_param_156: Tensor[(64), float32] /* ty=Tensor[(64), float32] */, %v_param_149: Tensor[(3, 3, 64, 1), float32] /* ty=Tensor[(3, 3, 64, 1), float32] */, %v_param_150: Tensor[(64), float32] /* ty=Tensor[(64), float32] */, %v_param_151: Tensor[(1, 1, 64, 64), float32] /* ty=Tensor[(1, 1, 64, 64), float32] */, %v_param_152: Tensor[(64), float32] /* ty=Tensor[(64), float32] */, %v_param_145: Tensor[(3, 3, 64, 1), float32] /* ty=Tensor[(3, 3, 64, 1), float32] */, %v_param_146: Tensor[(64), float32] /* ty=Tensor[(64), float32] */, %v_param_147: Tensor[(1, 1, 64, 64), float32] /* ty=Tensor[(1, 1, 64, 64), float32] */, %v_param_148: Tensor[(64), float32] /* ty=Tensor[(64), float32] */, %v_param_161: Tensor[(3, 3, 64, 1), float32] /* ty=Tensor[(3, 3, 64, 1), float32] */, %v_param_162: Tensor[(64), float32] /* ty=Tensor[(64), float32] */, %v_param_163: Tensor[(1, 1, 64, 32), float32] /* ty=Tensor[(1, 1, 64, 32), float32] */, %v_param_164: Tensor[(32), float32] /* ty=Tensor[(32), float32] */, %v_param_165: Tensor[(3, 3, 32, 1), float32] /* ty=Tensor[(3, 3, 32, 1), float32] */, %v_param_166: Tensor[(32), float32] /* ty=Tensor[(32), float32] */, %v_param_167: Tensor[(1, 1, 32, 32), float32] /* ty=Tensor[(1, 1, 32, 32), float32] */, %v_param_168: Tensor[(32), float32] /* ty=Tensor[(32), float32] */, %v_param_169: Tensor[(3, 3, 32, 1), float32] /* ty=Tensor[(3, 3, 32, 1), float32] */, %v_param_170: Tensor[(32), float32] /* ty=Tensor[(32), float32] */, %v_param_171: Tensor[(1, 1, 32, 32), float32] /* ty=Tensor[(1, 1, 32, 32), float32] */, %v_param_172: Tensor[(32), float32] /* ty=Tensor[(32), float32] */, %v_param_173: Tensor[(3, 3, 32, 1), float32] /* ty=Tensor[(3, 3, 32, 1), float32] */, %v_param_174: Tensor[(32), float32] /* ty=Tensor[(32), float32] */, %v_param_175: Tensor[(1, 1, 32, 32), float32] /* ty=Tensor[(1, 1, 32, 32), float32] */, %v_param_176: Tensor[(32), float32] /* ty=Tensor[(32), float32] */, %v_param_177: Tensor[(3, 3, 32, 1), float32] /* ty=Tensor[(3, 3, 32, 1), float32] */, %v_param_178: Tensor[(32), float32] /* ty=Tensor[(32), float32] */, %v_param_179: Tensor[(1, 1, 32, 32), float32] /* ty=Tensor[(1, 1, 32, 32), float32] */, %v_param_180: Tensor[(32), float32] /* ty=Tensor[(32), float32] */, %v_param_181: Tensor[(32, 32, 2, 2), float32] /* ty=Tensor[(32, 32, 2, 2), float32] */, %v_param_182: Tensor[(32), float32] /* ty=Tensor[(32), float32] */, %v_param_183: Tensor[(1, 1, 32, 6), float32] /* ty=Tensor[(1, 1, 32, 6), float32] */, %v_param_184: Tensor[(6), float32] /* ty=Tensor[(6), float32] */, output_tensor_names=[\"Identity\"]) -> Tensor[(1, 256, 256, 6), float32] {\n",
      "  %0 = layout_transform(%input_29, src_layout=\"NHWC\", dst_layout=\"NCHW\") /* ty=Tensor[(1, 3, 256, 256), float32] */;\n",
      "  %1 = layout_transform(%v_param_1, src_layout=\"HWIO\", dst_layout=\"OIHW\") /* ty=Tensor[(16, 3, 3, 3), float32] */;\n",
      "  %2 = nn.conv2d(%0, %1, strides=[2, 2], padding=[0, 0, 1, 1], channels=16, kernel_size=[3, 3]) /* ty=Tensor[(1, 16, 128, 128), float32] */;\n",
      "  %3 = layout_transform(%2, src_layout=\"NCHW\", dst_layout=\"NHWC\") /* ty=Tensor[(1, 128, 128, 16), float32] */;\n",
      "  %4 = nn.bias_add(%3, %v_param_2, axis=3) /* ty=Tensor[(1, 128, 128, 16), float32] */;\n",
      "  %5 = nn.relu(%4) /* ty=Tensor[(1, 128, 128, 16), float32] */;\n",
      "  %6 = layout_transform(%5, src_layout=\"NHWC\", dst_layout=\"NCHW\") /* ty=Tensor[(1, 16, 128, 128), float32] */;\n",
      "  %7 = layout_transform(%v_param_7, src_layout=\"HWIO\", dst_layout=\"OIHW\") /* ty=Tensor[(96, 16, 1, 1), float32] */;\n",
      "  %8 = nn.conv2d(%6, %7, padding=[0, 0, 0, 0], channels=96, kernel_size=[1, 1]) /* ty=Tensor[(1, 96, 128, 128), float32] */;\n",
      "  %9 = layout_transform(%8, src_layout=\"NCHW\", dst_layout=\"NHWC\") /* ty=Tensor[(1, 128, 128, 96), float32] */;\n",
      "  %10 = nn.bias_add(%9, %v_param_8, axis=3) /* ty=Tensor[(1, 128, 128, 96), float32] */;\n",
      "  %11 = nn.relu(%10) /* ty=Tensor[(1, 128, 128, 96), float32] */;\n",
      "  %12 = layout_transform(%11, src_layout=\"NHWC\", dst_layout=\"NCHW\") /* ty=Tensor[(1, 96, 128, 128), float32] */;\n",
      "  %13 = layout_transform(%v_param_9, src_layout=\"HWOI\", dst_layout=\"OIHW\") /* ty=Tensor[(96, 1, 3, 3), float32] */;\n",
      "  %14 = nn.conv2d(%12, %13, padding=[1, 1, 1, 1], groups=96, channels=96, kernel_size=[3, 3]) /* ty=Tensor[(1, 96, 128, 128), float32] */;\n",
      "  %15 = layout_transform(%14, src_layout=\"NCHW\", dst_layout=\"NHWC\") /* ty=Tensor[(1, 128, 128, 96), float32] */;\n",
      "  %16 = nn.bias_add(%15, %v_param_10, axis=3) /* ty=Tensor[(1, 128, 128, 96), float32] */;\n",
      "  %17 = nn.relu(%16) /* ty=Tensor[(1, 128, 128, 96), float32] */;\n",
      "  %18 = layout_transform(%17, src_layout=\"NHWC\", dst_layout=\"NCHW\") /* ty=Tensor[(1, 96, 128, 128), float32] */;\n",
      "  %19 = layout_transform(%v_param_11, src_layout=\"HWIO\", dst_layout=\"OIHW\") /* ty=Tensor[(64, 96, 1, 1), float32] */;\n",
      "  %20 = nn.conv2d(%18, %19, padding=[0, 0, 0, 0], channels=64, kernel_size=[1, 1]) /* ty=Tensor[(1, 64, 128, 128), float32] */;\n",
      "  %21 = layout_transform(%20, src_layout=\"NCHW\", dst_layout=\"NHWC\") /* ty=Tensor[(1, 128, 128, 64), float32] */;\n",
      "  %22 = nn.bias_add(%21, %v_param_12, axis=3) /* ty=Tensor[(1, 128, 128, 64), float32] */;\n",
      "  %23 = layout_transform(%22, src_layout=\"NHWC\", dst_layout=\"NCHW\") /* ty=Tensor[(1, 64, 128, 128), float32] */;\n",
      "  %24 = layout_transform(%v_param_13, src_layout=\"HWIO\", dst_layout=\"OIHW\") /* ty=Tensor[(384, 64, 1, 1), float32] */;\n",
      "  %25 = nn.conv2d(%23, %24, padding=[0, 0, 0, 0], channels=384, kernel_size=[1, 1]) /* ty=Tensor[(1, 384, 128, 128), float32] */;\n",
      "  %26 = layout_transform(%25, src_layout=\"NCHW\", dst_layout=\"NHWC\") /* ty=Tensor[(1, 128, 128, 384), float32] */;\n",
      "  %27 = nn.bias_add(%26, %v_param_14, axis=3) /* ty=Tensor[(1, 128, 128, 384), float32] */;\n",
      "  %28 = nn.relu(%27) /* ty=Tensor[(1, 128, 128, 384), float32] */;\n",
      "  %29 = layout_transform(%28, src_layout=\"NHWC\", dst_layout=\"NCHW\") /* ty=Tensor[(1, 384, 128, 128), float32] */;\n",
      "  %30 = layout_transform(%v_param_15, src_layout=\"HWOI\", dst_layout=\"OIHW\") /* ty=Tensor[(384, 1, 3, 3), float32] */;\n",
      "  %31 = nn.conv2d(%29, %30, strides=[2, 2], padding=[0, 0, 1, 1], groups=384, channels=384, kernel_size=[3, 3]) /* ty=Tensor[(1, 384, 64, 64), float32] */;\n",
      "  %32 = layout_transform(%31, src_layout=\"NCHW\", dst_layout=\"NHWC\") /* ty=Tensor[(1, 64, 64, 384), float32] */;\n",
      "  %33 = nn.bias_add(%32, %v_param_16, axis=3) /* ty=Tensor[(1, 64, 64, 384), float32] */;\n",
      "  %34 = nn.relu(%33) /* ty=Tensor[(1, 64, 64, 384), float32] */;\n",
      "  %35 = layout_transform(%34, src_layout=\"NHWC\", dst_layout=\"NCHW\") /* ty=Tensor[(1, 384, 64, 64), float32] */;\n",
      "  %36 = layout_transform(%v_param_17, src_layout=\"HWIO\", dst_layout=\"OIHW\") /* ty=Tensor[(128, 384, 1, 1), float32] */;\n",
      "  %37 = nn.conv2d(%35, %36, padding=[0, 0, 0, 0], channels=128, kernel_size=[1, 1]) /* ty=Tensor[(1, 128, 64, 64), float32] */;\n",
      "  %38 = layout_transform(%37, src_layout=\"NCHW\", dst_layout=\"NHWC\") /* ty=Tensor[(1, 64, 64, 128), float32] */;\n",
      "  %39 = nn.bias_add(%38, %v_param_18, axis=3) /* ty=Tensor[(1, 64, 64, 128), float32] */;\n",
      "  %40 = layout_transform(%39, src_layout=\"NHWC\", dst_layout=\"NCHW\") /* ty=Tensor[(1, 128, 64, 64), float32] */;\n",
      "  %41 = layout_transform(%v_param_19, src_layout=\"HWIO\", dst_layout=\"OIHW\") /* ty=Tensor[(768, 128, 1, 1), float32] */;\n",
      "  %42 = nn.conv2d(%40, %41, padding=[0, 0, 0, 0], channels=768, kernel_size=[1, 1]) /* ty=Tensor[(1, 768, 64, 64), float32] */;\n",
      "  %43 = layout_transform(%42, src_layout=\"NCHW\", dst_layout=\"NHWC\") /* ty=Tensor[(1, 64, 64, 768), float32] */;\n",
      "  %44 = nn.bias_add(%43, %v_param_20, axis=3) /* ty=Tensor[(1, 64, 64, 768), float32] */;\n",
      "  %45 = nn.relu(%44) /* ty=Tensor[(1, 64, 64, 768), float32] */;\n",
      "  %46 = layout_transform(%45, src_layout=\"NHWC\", dst_layout=\"NCHW\") /* ty=Tensor[(1, 768, 64, 64), float32] */;\n",
      "  %47 = layout_transform(%v_param_21, src_layout=\"HWOI\", dst_layout=\"OIHW\") /* ty=Tensor[(768, 1, 3, 3), float32] */;\n",
      "  %48 = nn.conv2d(%46, %47, padding=[1, 1, 1, 1], groups=768, channels=768, kernel_size=[3, 3]) /* ty=Tensor[(1, 768, 64, 64), float32] */;\n",
      "  %49 = layout_transform(%48, src_layout=\"NCHW\", dst_layout=\"NHWC\") /* ty=Tensor[(1, 64, 64, 768), float32] */;\n",
      "  %50 = nn.bias_add(%49, %v_param_22, axis=3) /* ty=Tensor[(1, 64, 64, 768), float32] */;\n",
      "  %51 = nn.relu(%50) /* ty=Tensor[(1, 64, 64, 768), float32] */;\n",
      "  %52 = layout_transform(%51, src_layout=\"NHWC\", dst_layout=\"NCHW\") /* ty=Tensor[(1, 768, 64, 64), float32] */;\n",
      "  %53 = layout_transform(%v_param_23, src_layout=\"HWIO\", dst_layout=\"OIHW\") /* ty=Tensor[(128, 768, 1, 1), float32] */;\n",
      "  %54 = nn.conv2d(%52, %53, padding=[0, 0, 0, 0], channels=128, kernel_size=[1, 1]) /* ty=Tensor[(1, 128, 64, 64), float32] */;\n",
      "  %55 = layout_transform(%54, src_layout=\"NCHW\", dst_layout=\"NHWC\") /* ty=Tensor[(1, 64, 64, 128), float32] */;\n",
      "  %56 = nn.bias_add(%55, %v_param_24, axis=3) /* ty=Tensor[(1, 64, 64, 128), float32] */;\n",
      "  %57 = add(%56, %39) /* ty=Tensor[(1, 64, 64, 128), float32] */;\n",
      "  %58 = layout_transform(%57, src_layout=\"NHWC\", dst_layout=\"NCHW\") /* ty=Tensor[(1, 128, 64, 64), float32] */;\n",
      "  %59 = layout_transform(%v_param_29, src_layout=\"HWIO\", dst_layout=\"OIHW\") /* ty=Tensor[(768, 128, 1, 1), float32] */;\n",
      "  %60 = nn.conv2d(%58, %59, padding=[0, 0, 0, 0], channels=768, kernel_size=[1, 1]) /* ty=Tensor[(1, 768, 64, 64), float32] */;\n",
      "  %61 = layout_transform(%60, src_layout=\"NCHW\", dst_layout=\"NHWC\") /* ty=Tensor[(1, 64, 64, 768), float32] */;\n",
      "  %62 = nn.bias_add(%61, %v_param_30, axis=3) /* ty=Tensor[(1, 64, 64, 768), float32] */;\n",
      "  %63 = nn.relu(%62) /* ty=Tensor[(1, 64, 64, 768), float32] */;\n",
      "  %64 = layout_transform(%63, src_layout=\"NHWC\", dst_layout=\"NCHW\") /* ty=Tensor[(1, 768, 64, 64), float32] */;\n",
      "  %65 = layout_transform(%v_param_31, src_layout=\"HWOI\", dst_layout=\"OIHW\") /* ty=Tensor[(768, 1, 3, 3), float32] */;\n",
      "  %66 = nn.conv2d(%64, %65, strides=[2, 2], padding=[0, 0, 1, 1], groups=768, channels=768, kernel_size=[3, 3]) /* ty=Tensor[(1, 768, 32, 32), float32] */;\n",
      "  %67 = layout_transform(%66, src_layout=\"NCHW\", dst_layout=\"NHWC\") /* ty=Tensor[(1, 32, 32, 768), float32] */;\n",
      "  %68 = nn.bias_add(%67, %v_param_32, axis=3) /* ty=Tensor[(1, 32, 32, 768), float32] */;\n",
      "  %69 = nn.relu(%68) /* ty=Tensor[(1, 32, 32, 768), float32] */;\n",
      "  %70 = layout_transform(%69, src_layout=\"NHWC\", dst_layout=\"NCHW\") /* ty=Tensor[(1, 768, 32, 32), float32] */;\n",
      "  %71 = layout_transform(%v_param_33, src_layout=\"HWIO\", dst_layout=\"OIHW\") /* ty=Tensor[(256, 768, 1, 1), float32] */;\n",
      "  %72 = nn.conv2d(%70, %71, padding=[0, 0, 0, 0], channels=256, kernel_size=[1, 1]) /* ty=Tensor[(1, 256, 32, 32), float32] */;\n",
      "  %73 = layout_transform(%72, src_layout=\"NCHW\", dst_layout=\"NHWC\") /* ty=Tensor[(1, 32, 32, 256), float32] */;\n",
      "  %74 = nn.bias_add(%73, %v_param_34, axis=3) /* ty=Tensor[(1, 32, 32, 256), float32] */;\n",
      "  %75 = layout_transform(%74, src_layout=\"NHWC\", dst_layout=\"NCHW\") /* ty=Tensor[(1, 256, 32, 32), float32] */;\n",
      "  %76 = layout_transform(%v_param_35, src_layout=\"HWIO\", dst_layout=\"OIHW\") /* ty=Tensor[(128, 256, 3, 3), float32] */;\n",
      "  %77 = nn.conv2d(%75, %76, padding=[1, 1, 1, 1], channels=128, kernel_size=[3, 3]) /* ty=Tensor[(1, 128, 32, 32), float32] */;\n",
      "  %78 = layout_transform(%77, src_layout=\"NCHW\", dst_layout=\"NHWC\") /* ty=Tensor[(1, 32, 32, 128), float32] */;\n",
      "  %79 = nn.bias_add(%78, %v_param_36, axis=3) /* ty=Tensor[(1, 32, 32, 128), float32] */;\n",
      "  %80 = nn.relu(%79) /* ty=Tensor[(1, 32, 32, 128), float32] */;\n",
      "  %81 = layout_transform(%80, src_layout=\"NHWC\", dst_layout=\"NCHW\") /* ty=Tensor[(1, 128, 32, 32), float32] */;\n",
      "  %82 = layout_transform(%v_param_37, src_layout=\"HWIO\", dst_layout=\"OIHW\") /* ty=Tensor[(128, 128, 1, 1), float32] */;\n",
      "  %83 = nn.conv2d(%81, %82, padding=[0, 0, 0, 0], channels=128, kernel_size=[1, 1]) /* ty=Tensor[(1, 128, 32, 32), float32] */;\n",
      "  %84 = layout_transform(%83, src_layout=\"NCHW\", dst_layout=\"NHWC\") /* ty=Tensor[(1, 32, 32, 128), float32] */;\n",
      "  %85 = nn.bias_add(%84, %v_param_38, axis=3) /* ty=Tensor[(1, 32, 32, 128), float32] */;\n",
      "  %86 = nn.relu(%85) /* ty=Tensor[(1, 32, 32, 128), float32] */;\n",
      "  %87 = reshape(%86, newshape=[-1, 4, 8, 512]) /* ty=Tensor[(8, 4, 8, 512), float32] */;\n",
      "  %88 = transpose(%87, axes=[0, 2, 1, 3]) /* ty=Tensor[(8, 8, 4, 512), float32] */;\n",
      "  %89 = reshape(%88, newshape=[-1, 64, 16, 128]) /* ty=Tensor[(1, 64, 16, 128), float32] */;\n",
      "  %90 = transpose(%89, axes=[0, 2, 1, 3]) /* ty=Tensor[(1, 16, 64, 128), float32] */;\n",
      "  %91 = multiply(%90, %v_param_39) /* ty=Tensor[(1, 16, 64, 128), float32] */;\n",
      "  %92 = add(%91, %v_param_40) /* ty=Tensor[(1, 16, 64, 128), float32] */;\n",
      "  %93 = layout_transform(%92, src_layout=\"NHWC\", dst_layout=\"NCHW\") /* ty=Tensor[(1, 128, 16, 64), float32] */;\n",
      "  %94 = layout_transform(%v_param_41, src_layout=\"HWIO\", dst_layout=\"OIHW\") /* ty=Tensor[(256, 128, 1, 1), float32] */;\n",
      "  %95 = nn.conv2d(%93, %94, padding=[0, 0, 0, 0], channels=256, kernel_size=[1, 1]) /* ty=Tensor[(1, 256, 16, 64), float32] */;\n",
      "  %96 = layout_transform(%95, src_layout=\"NCHW\", dst_layout=\"NHWC\") /* ty=Tensor[(1, 16, 64, 256), float32] */;\n",
      "  %97 = nn.bias_add(%96, %v_param_42, axis=3) /* ty=Tensor[(1, 16, 64, 256), float32] */;\n",
      "  %98 = layout_transform(%97, src_layout=\"NHWC\", dst_layout=\"NCHW\") /* ty=Tensor[(1, 256, 16, 64), float32] */;\n",
      "  %99 = layout_transform(%v_param_43, src_layout=\"HWIO\", dst_layout=\"OIHW\") /* ty=Tensor[(128, 256, 1, 1), float32] */;\n",
      "  %100 = nn.conv2d(%98, %99, padding=[0, 0, 0, 0], channels=128, kernel_size=[1, 1]) /* ty=Tensor[(1, 128, 16, 64), float32] */;\n",
      "  %101 = layout_transform(%100, src_layout=\"NCHW\", dst_layout=\"NHWC\") /* ty=Tensor[(1, 16, 64, 128), float32] */;\n",
      "  %102 = layout_transform(%v_param_49, src_layout=\"HWIO\", dst_layout=\"OIHW\") /* ty=Tensor[(128, 128, 1, 1), float32] */;\n",
      "  %103 = nn.conv2d(%93, %102, padding=[0, 0, 0, 0], channels=128, kernel_size=[1, 1]) /* ty=Tensor[(1, 128, 16, 64), float32] */;\n",
      "  %104 = layout_transform(%103, src_layout=\"NCHW\", dst_layout=\"NHWC\") /* ty=Tensor[(1, 16, 64, 128), float32] */;\n",
      "  %105 = nn.bias_add(%104, %v_param_50, axis=3) /* ty=Tensor[(1, 16, 64, 128), float32] */;\n",
      "  %106 = layout_transform(%v_param_47, src_layout=\"HWIO\", dst_layout=\"OIHW\") /* ty=Tensor[(128, 128, 1, 1), float32] */;\n",
      "  %107 = nn.conv2d(%93, %106, padding=[0, 0, 0, 0], channels=128, kernel_size=[1, 1]) /* ty=Tensor[(1, 128, 16, 64), float32] */;\n",
      "  %108 = layout_transform(%107, src_layout=\"NCHW\", dst_layout=\"NHWC\") /* ty=Tensor[(1, 16, 64, 128), float32] */;\n",
      "  %109 = layout_transform(%v_param_45, src_layout=\"HWIO\", dst_layout=\"OIHW\") /* ty=Tensor[(1, 128, 1, 1), float32] */;\n",
      "  %110 = nn.conv2d(%93, %109, padding=[0, 0, 0, 0], channels=1, kernel_size=[1, 1]) /* ty=Tensor[(1, 1, 16, 64), float32] */;\n",
      "  %111 = layout_transform(%110, src_layout=\"NCHW\", dst_layout=\"NHWC\") /* ty=Tensor[(1, 16, 64, 1), float32] */;\n",
      "  %112 = nn.bias_add(%111, %v_param_46, axis=3) /* ty=Tensor[(1, 16, 64, 1), float32] */;\n",
      "  %113 = reshape(%112, newshape=[1, 16, 1, 64]) /* ty=Tensor[(1, 16, 1, 64), float32] */;\n",
      "  %114 = nn.softmax(%113) /* ty=Tensor[(1, 16, 1, 64), float32] */;\n",
      "  %115 = nn.bias_add(%108, %v_param_48, axis=3) /* ty=Tensor[(1, 16, 64, 128), float32] */;\n",
      "  %116 = reshape(%114, newshape=[1, 16, 64, 1]) /* ty=Tensor[(1, 16, 64, 1), float32] */;\n",
      "  %117 = multiply(%115, %116) /* ty=Tensor[(1, 16, 64, 128), float32] */;\n",
      "  %118 = nn.relu(%105) /* ty=Tensor[(1, 16, 64, 128), float32] */;\n",
      "  %119 = sum(%117, axis=[2], keepdims=True) /* ty=Tensor[(1, 16, 1, 128), float32] */;\n",
      "  %120 = multiply(%118, %119) /* ty=Tensor[(1, 16, 64, 128), float32] */;\n",
      "  %121 = layout_transform(%120, src_layout=\"NHWC\", dst_layout=\"NCHW\") /* ty=Tensor[(1, 128, 16, 64), float32] */;\n",
      "  %122 = layout_transform(%v_param_51, src_layout=\"HWIO\", dst_layout=\"OIHW\") /* ty=Tensor[(128, 128, 1, 1), float32] */;\n",
      "  %123 = nn.conv2d(%121, %122, padding=[0, 0, 0, 0], channels=128, kernel_size=[1, 1]) /* ty=Tensor[(1, 128, 16, 64), float32] */;\n",
      "  %124 = layout_transform(%123, src_layout=\"NCHW\", dst_layout=\"NHWC\") /* ty=Tensor[(1, 16, 64, 128), float32] */;\n",
      "  %125 = nn.bias_add(%124, %v_param_52, axis=3) /* ty=Tensor[(1, 16, 64, 128), float32] */;\n",
      "  %126 = nn.bias_add(%101, %v_param_44, axis=3) /* ty=Tensor[(1, 16, 64, 128), float32] */;\n",
      "  %127 = add(%125, %90) /* ty=Tensor[(1, 16, 64, 128), float32] */;\n",
      "  %128 = add(%126, %127) /* ty=Tensor[(1, 16, 64, 128), float32] */;\n",
      "  %129 = multiply(%128, %v_param_53) /* ty=Tensor[(1, 16, 64, 128), float32] */;\n",
      "  %130 = add(%129, %v_param_54) /* ty=Tensor[(1, 16, 64, 128), float32] */;\n",
      "  %131 = layout_transform(%130, src_layout=\"NHWC\", dst_layout=\"NCHW\") /* ty=Tensor[(1, 128, 16, 64), float32] */;\n",
      "  %132 = layout_transform(%v_param_55, src_layout=\"HWIO\", dst_layout=\"OIHW\") /* ty=Tensor[(256, 128, 1, 1), float32] */;\n",
      "  %133 = nn.conv2d(%131, %132, padding=[0, 0, 0, 0], channels=256, kernel_size=[1, 1]) /* ty=Tensor[(1, 256, 16, 64), float32] */;\n",
      "  %134 = layout_transform(%133, src_layout=\"NCHW\", dst_layout=\"NHWC\") /* ty=Tensor[(1, 16, 64, 256), float32] */;\n",
      "  %135 = nn.bias_add(%134, %v_param_56, axis=3) /* ty=Tensor[(1, 16, 64, 256), float32] */;\n",
      "  %136 = layout_transform(%135, src_layout=\"NHWC\", dst_layout=\"NCHW\") /* ty=Tensor[(1, 256, 16, 64), float32] */;\n",
      "  %137 = layout_transform(%v_param_57, src_layout=\"HWIO\", dst_layout=\"OIHW\") /* ty=Tensor[(128, 256, 1, 1), float32] */;\n",
      "  %138 = nn.conv2d(%136, %137, padding=[0, 0, 0, 0], channels=128, kernel_size=[1, 1]) /* ty=Tensor[(1, 128, 16, 64), float32] */;\n",
      "  %139 = layout_transform(%138, src_layout=\"NCHW\", dst_layout=\"NHWC\") /* ty=Tensor[(1, 16, 64, 128), float32] */;\n",
      "  %140 = layout_transform(%v_param_63, src_layout=\"HWIO\", dst_layout=\"OIHW\") /* ty=Tensor[(128, 128, 1, 1), float32] */;\n",
      "  %141 = nn.conv2d(%131, %140, padding=[0, 0, 0, 0], channels=128, kernel_size=[1, 1]) /* ty=Tensor[(1, 128, 16, 64), float32] */;\n",
      "  %142 = layout_transform(%141, src_layout=\"NCHW\", dst_layout=\"NHWC\") /* ty=Tensor[(1, 16, 64, 128), float32] */;\n",
      "  %143 = nn.bias_add(%142, %v_param_64, axis=3) /* ty=Tensor[(1, 16, 64, 128), float32] */;\n",
      "  %144 = layout_transform(%v_param_61, src_layout=\"HWIO\", dst_layout=\"OIHW\") /* ty=Tensor[(128, 128, 1, 1), float32] */;\n",
      "  %145 = nn.conv2d(%131, %144, padding=[0, 0, 0, 0], channels=128, kernel_size=[1, 1]) /* ty=Tensor[(1, 128, 16, 64), float32] */;\n",
      "  %146 = layout_transform(%145, src_layout=\"NCHW\", dst_layout=\"NHWC\") /* ty=Tensor[(1, 16, 64, 128), float32] */;\n",
      "  %147 = layout_transform(%v_param_59, src_layout=\"HWIO\", dst_layout=\"OIHW\") /* ty=Tensor[(1, 128, 1, 1), float32] */;\n",
      "  %148 = nn.conv2d(%131, %147, padding=[0, 0, 0, 0], channels=1, kernel_size=[1, 1]) /* ty=Tensor[(1, 1, 16, 64), float32] */;\n",
      "  %149 = layout_transform(%148, src_layout=\"NCHW\", dst_layout=\"NHWC\") /* ty=Tensor[(1, 16, 64, 1), float32] */;\n",
      "  %150 = nn.bias_add(%149, %v_param_60, axis=3) /* ty=Tensor[(1, 16, 64, 1), float32] */;\n",
      "  %151 = reshape(%150, newshape=[1, 16, 1, 64]) /* ty=Tensor[(1, 16, 1, 64), float32] */;\n",
      "  %152 = nn.softmax(%151) /* ty=Tensor[(1, 16, 1, 64), float32] */;\n",
      "  %153 = nn.bias_add(%146, %v_param_62, axis=3) /* ty=Tensor[(1, 16, 64, 128), float32] */;\n",
      "  %154 = reshape(%152, newshape=[1, 16, 64, 1]) /* ty=Tensor[(1, 16, 64, 1), float32] */;\n",
      "  %155 = multiply(%153, %154) /* ty=Tensor[(1, 16, 64, 128), float32] */;\n",
      "  %156 = nn.relu(%143) /* ty=Tensor[(1, 16, 64, 128), float32] */;\n",
      "  %157 = sum(%155, axis=[2], keepdims=True) /* ty=Tensor[(1, 16, 1, 128), float32] */;\n",
      "  %158 = multiply(%156, %157) /* ty=Tensor[(1, 16, 64, 128), float32] */;\n",
      "  %159 = layout_transform(%158, src_layout=\"NHWC\", dst_layout=\"NCHW\") /* ty=Tensor[(1, 128, 16, 64), float32] */;\n",
      "  %160 = layout_transform(%v_param_65, src_layout=\"HWIO\", dst_layout=\"OIHW\") /* ty=Tensor[(128, 128, 1, 1), float32] */;\n",
      "  %161 = nn.conv2d(%159, %160, padding=[0, 0, 0, 0], channels=128, kernel_size=[1, 1]) /* ty=Tensor[(1, 128, 16, 64), float32] */;\n",
      "  %162 = layout_transform(%161, src_layout=\"NCHW\", dst_layout=\"NHWC\") /* ty=Tensor[(1, 16, 64, 128), float32] */;\n",
      "  %163 = nn.bias_add(%162, %v_param_66, axis=3) /* ty=Tensor[(1, 16, 64, 128), float32] */;\n",
      "  %164 = nn.bias_add(%139, %v_param_58, axis=3) /* ty=Tensor[(1, 16, 64, 128), float32] */;\n",
      "  %165 = add(%163, %128) /* ty=Tensor[(1, 16, 64, 128), float32] */;\n",
      "  %166 = add(%164, %165) /* ty=Tensor[(1, 16, 64, 128), float32] */;\n",
      "  %167 = transpose(%166, axes=[0, 2, 1, 3]) /* ty=Tensor[(1, 64, 16, 128), float32] */;\n",
      "  %168 = reshape(%167, newshape=[-1, 8, 4, 512]) /* ty=Tensor[(8, 8, 4, 512), float32] */;\n",
      "  %169 = transpose(%168, axes=[0, 2, 1, 3]) /* ty=Tensor[(8, 4, 8, 512), float32] */;\n",
      "  %170 = reshape(%169, newshape=[-1, 32, 32, 128]) /* ty=Tensor[(1, 32, 32, 128), float32] */;\n",
      "  %171 = layout_transform(%170, src_layout=\"NHWC\", dst_layout=\"NCHW\") /* ty=Tensor[(1, 128, 32, 32), float32] */;\n",
      "  %172 = layout_transform(%v_param_67, src_layout=\"HWIO\", dst_layout=\"OIHW\") /* ty=Tensor[(256, 128, 1, 1), float32] */;\n",
      "  %173 = nn.conv2d(%171, %172, padding=[0, 0, 0, 0], channels=256, kernel_size=[1, 1]) /* ty=Tensor[(1, 256, 32, 32), float32] */;\n",
      "  %174 = layout_transform(%173, src_layout=\"NCHW\", dst_layout=\"NHWC\") /* ty=Tensor[(1, 32, 32, 256), float32] */;\n",
      "  %175 = nn.bias_add(%174, %v_param_68, axis=3) /* ty=Tensor[(1, 32, 32, 256), float32] */;\n",
      "  %176 = layout_transform(%175, src_layout=\"NHWC\", dst_layout=\"NCHW\") /* ty=Tensor[(1, 256, 32, 32), float32] */;\n",
      "  %177 = layout_transform(%v_param_73, src_layout=\"HWIO\", dst_layout=\"OIHW\") /* ty=Tensor[(1536, 256, 1, 1), float32] */;\n",
      "  %178 = nn.conv2d(%176, %177, padding=[0, 0, 0, 0], channels=1536, kernel_size=[1, 1]) /* ty=Tensor[(1, 1536, 32, 32), float32] */;\n",
      "  %179 = layout_transform(%178, src_layout=\"NCHW\", dst_layout=\"NHWC\") /* ty=Tensor[(1, 32, 32, 1536), float32] */;\n",
      "  %180 = nn.bias_add(%179, %v_param_74, axis=3) /* ty=Tensor[(1, 32, 32, 1536), float32] */;\n",
      "  %181 = nn.relu(%180) /* ty=Tensor[(1, 32, 32, 1536), float32] */;\n",
      "  %182 = layout_transform(%181, src_layout=\"NHWC\", dst_layout=\"NCHW\") /* ty=Tensor[(1, 1536, 32, 32), float32] */;\n",
      "  %183 = layout_transform(%v_param_75, src_layout=\"HWOI\", dst_layout=\"OIHW\") /* ty=Tensor[(1536, 1, 3, 3), float32] */;\n",
      "  %184 = nn.conv2d(%182, %183, strides=[2, 2], padding=[0, 0, 1, 1], groups=1536, channels=1536, kernel_size=[3, 3]) /* ty=Tensor[(1, 1536, 16, 16), float32] */;\n",
      "  %185 = layout_transform(%184, src_layout=\"NCHW\", dst_layout=\"NHWC\") /* ty=Tensor[(1, 16, 16, 1536), float32] */;\n",
      "  %186 = nn.bias_add(%185, %v_param_76, axis=3) /* ty=Tensor[(1, 16, 16, 1536), float32] */;\n",
      "  %187 = nn.relu(%186) /* ty=Tensor[(1, 16, 16, 1536), float32] */;\n",
      "  %188 = layout_transform(%187, src_layout=\"NHWC\", dst_layout=\"NCHW\") /* ty=Tensor[(1, 1536, 16, 16), float32] */;\n",
      "  %189 = layout_transform(%v_param_77, src_layout=\"HWIO\", dst_layout=\"OIHW\") /* ty=Tensor[(384, 1536, 1, 1), float32] */;\n",
      "  %190 = nn.conv2d(%188, %189, padding=[0, 0, 0, 0], channels=384, kernel_size=[1, 1]) /* ty=Tensor[(1, 384, 16, 16), float32] */;\n",
      "  %191 = layout_transform(%190, src_layout=\"NCHW\", dst_layout=\"NHWC\") /* ty=Tensor[(1, 16, 16, 384), float32] */;\n",
      "  %192 = nn.bias_add(%191, %v_param_78, axis=3) /* ty=Tensor[(1, 16, 16, 384), float32] */;\n",
      "  %193 = layout_transform(%192, src_layout=\"NHWC\", dst_layout=\"NCHW\") /* ty=Tensor[(1, 384, 16, 16), float32] */;\n",
      "  %194 = layout_transform(%v_param_79, src_layout=\"HWIO\", dst_layout=\"OIHW\") /* ty=Tensor[(192, 384, 3, 3), float32] */;\n",
      "  %195 = nn.conv2d(%193, %194, padding=[1, 1, 1, 1], channels=192, kernel_size=[3, 3]) /* ty=Tensor[(1, 192, 16, 16), float32] */;\n",
      "  %196 = layout_transform(%195, src_layout=\"NCHW\", dst_layout=\"NHWC\") /* ty=Tensor[(1, 16, 16, 192), float32] */;\n",
      "  %197 = nn.bias_add(%196, %v_param_80, axis=3) /* ty=Tensor[(1, 16, 16, 192), float32] */;\n",
      "  %198 = nn.relu(%197) /* ty=Tensor[(1, 16, 16, 192), float32] */;\n",
      "  %199 = layout_transform(%198, src_layout=\"NHWC\", dst_layout=\"NCHW\") /* ty=Tensor[(1, 192, 16, 16), float32] */;\n",
      "  %200 = layout_transform(%v_param_81, src_layout=\"HWIO\", dst_layout=\"OIHW\") /* ty=Tensor[(192, 192, 1, 1), float32] */;\n",
      "  %201 = nn.conv2d(%199, %200, padding=[0, 0, 0, 0], channels=192, kernel_size=[1, 1]) /* ty=Tensor[(1, 192, 16, 16), float32] */;\n",
      "  %202 = layout_transform(%201, src_layout=\"NCHW\", dst_layout=\"NHWC\") /* ty=Tensor[(1, 16, 16, 192), float32] */;\n",
      "  %203 = nn.bias_add(%202, %v_param_82, axis=3) /* ty=Tensor[(1, 16, 16, 192), float32] */;\n",
      "  %204 = nn.relu(%203) /* ty=Tensor[(1, 16, 16, 192), float32] */;\n",
      "  %205 = reshape(%204, newshape=[-1, 4, 4, 768]) /* ty=Tensor[(4, 4, 4, 768), float32] */;\n",
      "  %206 = transpose(%205, axes=[0, 2, 1, 3]) /* ty=Tensor[(4, 4, 4, 768), float32] */;\n",
      "  %207 = reshape(%206, newshape=[-1, 16, 16, 192]) /* ty=Tensor[(1, 16, 16, 192), float32] */;\n",
      "  %208 = transpose(%207, axes=[0, 2, 1, 3]) /* ty=Tensor[(1, 16, 16, 192), float32] */;\n",
      "  %209 = multiply(%208, %v_param_83) /* ty=Tensor[(1, 16, 16, 192), float32] */;\n",
      "  %210 = add(%209, %v_param_84) /* ty=Tensor[(1, 16, 16, 192), float32] */;\n",
      "  %211 = layout_transform(%210, src_layout=\"NHWC\", dst_layout=\"NCHW\") /* ty=Tensor[(1, 192, 16, 16), float32] */;\n",
      "  %212 = layout_transform(%v_param_85, src_layout=\"HWIO\", dst_layout=\"OIHW\") /* ty=Tensor[(384, 192, 1, 1), float32] */;\n",
      "  %213 = nn.conv2d(%211, %212, padding=[0, 0, 0, 0], channels=384, kernel_size=[1, 1]) /* ty=Tensor[(1, 384, 16, 16), float32] */;\n",
      "  %214 = layout_transform(%213, src_layout=\"NCHW\", dst_layout=\"NHWC\") /* ty=Tensor[(1, 16, 16, 384), float32] */;\n",
      "  %215 = nn.bias_add(%214, %v_param_86, axis=3) /* ty=Tensor[(1, 16, 16, 384), float32] */;\n",
      "  %216 = layout_transform(%215, src_layout=\"NHWC\", dst_layout=\"NCHW\") /* ty=Tensor[(1, 384, 16, 16), float32] */;\n",
      "  %217 = layout_transform(%v_param_87, src_layout=\"HWIO\", dst_layout=\"OIHW\") /* ty=Tensor[(192, 384, 1, 1), float32] */;\n",
      "  %218 = nn.conv2d(%216, %217, padding=[0, 0, 0, 0], channels=192, kernel_size=[1, 1]) /* ty=Tensor[(1, 192, 16, 16), float32] */;\n",
      "  %219 = layout_transform(%218, src_layout=\"NCHW\", dst_layout=\"NHWC\") /* ty=Tensor[(1, 16, 16, 192), float32] */;\n",
      "  %220 = layout_transform(%v_param_93, src_layout=\"HWIO\", dst_layout=\"OIHW\") /* ty=Tensor[(192, 192, 1, 1), float32] */;\n",
      "  %221 = nn.conv2d(%211, %220, padding=[0, 0, 0, 0], channels=192, kernel_size=[1, 1]) /* ty=Tensor[(1, 192, 16, 16), float32] */;\n",
      "  %222 = layout_transform(%221, src_layout=\"NCHW\", dst_layout=\"NHWC\") /* ty=Tensor[(1, 16, 16, 192), float32] */;\n",
      "  %223 = nn.bias_add(%222, %v_param_94, axis=3) /* ty=Tensor[(1, 16, 16, 192), float32] */;\n",
      "  %224 = layout_transform(%v_param_91, src_layout=\"HWIO\", dst_layout=\"OIHW\") /* ty=Tensor[(192, 192, 1, 1), float32] */;\n",
      "  %225 = nn.conv2d(%211, %224, padding=[0, 0, 0, 0], channels=192, kernel_size=[1, 1]) /* ty=Tensor[(1, 192, 16, 16), float32] */;\n",
      "  %226 = layout_transform(%225, src_layout=\"NCHW\", dst_layout=\"NHWC\") /* ty=Tensor[(1, 16, 16, 192), float32] */;\n",
      "  %227 = layout_transform(%v_param_89, src_layout=\"HWIO\", dst_layout=\"OIHW\") /* ty=Tensor[(1, 192, 1, 1), float32] */;\n",
      "  %228 = nn.conv2d(%211, %227, padding=[0, 0, 0, 0], channels=1, kernel_size=[1, 1]) /* ty=Tensor[(1, 1, 16, 16), float32] */;\n",
      "  %229 = layout_transform(%228, src_layout=\"NCHW\", dst_layout=\"NHWC\") /* ty=Tensor[(1, 16, 16, 1), float32] */;\n",
      "  %230 = nn.bias_add(%229, %v_param_90, axis=3) /* ty=Tensor[(1, 16, 16, 1), float32] */;\n",
      "  %231 = reshape(%230, newshape=[1, 16, 1, 16]) /* ty=Tensor[(1, 16, 1, 16), float32] */;\n",
      "  %232 = nn.softmax(%231) /* ty=Tensor[(1, 16, 1, 16), float32] */;\n",
      "  %233 = nn.bias_add(%226, %v_param_92, axis=3) /* ty=Tensor[(1, 16, 16, 192), float32] */;\n",
      "  %234 = reshape(%232, newshape=[1, 16, 16, 1]) /* ty=Tensor[(1, 16, 16, 1), float32] */;\n",
      "  %235 = multiply(%233, %234) /* ty=Tensor[(1, 16, 16, 192), float32] */;\n",
      "  %236 = nn.relu(%223) /* ty=Tensor[(1, 16, 16, 192), float32] */;\n",
      "  %237 = sum(%235, axis=[2], keepdims=True) /* ty=Tensor[(1, 16, 1, 192), float32] */;\n",
      "  %238 = multiply(%236, %237) /* ty=Tensor[(1, 16, 16, 192), float32] */;\n",
      "  %239 = layout_transform(%238, src_layout=\"NHWC\", dst_layout=\"NCHW\") /* ty=Tensor[(1, 192, 16, 16), float32] */;\n",
      "  %240 = layout_transform(%v_param_95, src_layout=\"HWIO\", dst_layout=\"OIHW\") /* ty=Tensor[(192, 192, 1, 1), float32] */;\n",
      "  %241 = nn.conv2d(%239, %240, padding=[0, 0, 0, 0], channels=192, kernel_size=[1, 1]) /* ty=Tensor[(1, 192, 16, 16), float32] */;\n",
      "  %242 = layout_transform(%241, src_layout=\"NCHW\", dst_layout=\"NHWC\") /* ty=Tensor[(1, 16, 16, 192), float32] */;\n",
      "  %243 = nn.bias_add(%242, %v_param_96, axis=3) /* ty=Tensor[(1, 16, 16, 192), float32] */;\n",
      "  %244 = nn.bias_add(%219, %v_param_88, axis=3) /* ty=Tensor[(1, 16, 16, 192), float32] */;\n",
      "  %245 = add(%243, %208) /* ty=Tensor[(1, 16, 16, 192), float32] */;\n",
      "  %246 = add(%244, %245) /* ty=Tensor[(1, 16, 16, 192), float32] */;\n",
      "  %247 = multiply(%246, %v_param_97) /* ty=Tensor[(1, 16, 16, 192), float32] */;\n",
      "  %248 = add(%247, %v_param_98) /* ty=Tensor[(1, 16, 16, 192), float32] */;\n",
      "  %249 = layout_transform(%248, src_layout=\"NHWC\", dst_layout=\"NCHW\") /* ty=Tensor[(1, 192, 16, 16), float32] */;\n",
      "  %250 = layout_transform(%v_param_99, src_layout=\"HWIO\", dst_layout=\"OIHW\") /* ty=Tensor[(384, 192, 1, 1), float32] */;\n",
      "  %251 = nn.conv2d(%249, %250, padding=[0, 0, 0, 0], channels=384, kernel_size=[1, 1]) /* ty=Tensor[(1, 384, 16, 16), float32] */;\n",
      "  %252 = layout_transform(%251, src_layout=\"NCHW\", dst_layout=\"NHWC\") /* ty=Tensor[(1, 16, 16, 384), float32] */;\n",
      "  %253 = nn.bias_add(%252, %v_param_100, axis=3) /* ty=Tensor[(1, 16, 16, 384), float32] */;\n",
      "  %254 = layout_transform(%253, src_layout=\"NHWC\", dst_layout=\"NCHW\") /* ty=Tensor[(1, 384, 16, 16), float32] */;\n",
      "  %255 = layout_transform(%v_param_101, src_layout=\"HWIO\", dst_layout=\"OIHW\") /* ty=Tensor[(192, 384, 1, 1), float32] */;\n",
      "  %256 = nn.conv2d(%254, %255, padding=[0, 0, 0, 0], channels=192, kernel_size=[1, 1]) /* ty=Tensor[(1, 192, 16, 16), float32] */;\n",
      "  %257 = layout_transform(%256, src_layout=\"NCHW\", dst_layout=\"NHWC\") /* ty=Tensor[(1, 16, 16, 192), float32] */;\n",
      "  %258 = layout_transform(%v_param_107, src_layout=\"HWIO\", dst_layout=\"OIHW\") /* ty=Tensor[(192, 192, 1, 1), float32] */;\n",
      "  %259 = nn.conv2d(%249, %258, padding=[0, 0, 0, 0], channels=192, kernel_size=[1, 1]) /* ty=Tensor[(1, 192, 16, 16), float32] */;\n",
      "  %260 = layout_transform(%259, src_layout=\"NCHW\", dst_layout=\"NHWC\") /* ty=Tensor[(1, 16, 16, 192), float32] */;\n",
      "  %261 = nn.bias_add(%260, %v_param_108, axis=3) /* ty=Tensor[(1, 16, 16, 192), float32] */;\n",
      "  %262 = layout_transform(%v_param_105, src_layout=\"HWIO\", dst_layout=\"OIHW\") /* ty=Tensor[(192, 192, 1, 1), float32] */;\n",
      "  %263 = nn.conv2d(%249, %262, padding=[0, 0, 0, 0], channels=192, kernel_size=[1, 1]) /* ty=Tensor[(1, 192, 16, 16), float32] */;\n",
      "  %264 = layout_transform(%263, src_layout=\"NCHW\", dst_layout=\"NHWC\") /* ty=Tensor[(1, 16, 16, 192), float32] */;\n",
      "  %265 = layout_transform(%v_param_103, src_layout=\"HWIO\", dst_layout=\"OIHW\") /* ty=Tensor[(1, 192, 1, 1), float32] */;\n",
      "  %266 = nn.conv2d(%249, %265, padding=[0, 0, 0, 0], channels=1, kernel_size=[1, 1]) /* ty=Tensor[(1, 1, 16, 16), float32] */;\n",
      "  %267 = layout_transform(%266, src_layout=\"NCHW\", dst_layout=\"NHWC\") /* ty=Tensor[(1, 16, 16, 1), float32] */;\n",
      "  %268 = nn.bias_add(%267, %v_param_104, axis=3) /* ty=Tensor[(1, 16, 16, 1), float32] */;\n",
      "  %269 = reshape(%268, newshape=[1, 16, 1, 16]) /* ty=Tensor[(1, 16, 1, 16), float32] */;\n",
      "  %270 = nn.softmax(%269) /* ty=Tensor[(1, 16, 1, 16), float32] */;\n",
      "  %271 = nn.bias_add(%264, %v_param_106, axis=3) /* ty=Tensor[(1, 16, 16, 192), float32] */;\n",
      "  %272 = reshape(%270, newshape=[1, 16, 16, 1]) /* ty=Tensor[(1, 16, 16, 1), float32] */;\n",
      "  %273 = multiply(%271, %272) /* ty=Tensor[(1, 16, 16, 192), float32] */;\n",
      "  %274 = nn.relu(%261) /* ty=Tensor[(1, 16, 16, 192), float32] */;\n",
      "  %275 = sum(%273, axis=[2], keepdims=True) /* ty=Tensor[(1, 16, 1, 192), float32] */;\n",
      "  %276 = multiply(%274, %275) /* ty=Tensor[(1, 16, 16, 192), float32] */;\n",
      "  %277 = layout_transform(%276, src_layout=\"NHWC\", dst_layout=\"NCHW\") /* ty=Tensor[(1, 192, 16, 16), float32] */;\n",
      "  %278 = layout_transform(%v_param_109, src_layout=\"HWIO\", dst_layout=\"OIHW\") /* ty=Tensor[(192, 192, 1, 1), float32] */;\n",
      "  %279 = nn.conv2d(%277, %278, padding=[0, 0, 0, 0], channels=192, kernel_size=[1, 1]) /* ty=Tensor[(1, 192, 16, 16), float32] */;\n",
      "  %280 = layout_transform(%279, src_layout=\"NCHW\", dst_layout=\"NHWC\") /* ty=Tensor[(1, 16, 16, 192), float32] */;\n",
      "  %281 = nn.bias_add(%280, %v_param_110, axis=3) /* ty=Tensor[(1, 16, 16, 192), float32] */;\n",
      "  %282 = nn.bias_add(%257, %v_param_102, axis=3) /* ty=Tensor[(1, 16, 16, 192), float32] */;\n",
      "  %283 = add(%281, %246) /* ty=Tensor[(1, 16, 16, 192), float32] */;\n",
      "  %284 = add(%282, %283) /* ty=Tensor[(1, 16, 16, 192), float32] */;\n",
      "  %285 = multiply(%284, %v_param_111) /* ty=Tensor[(1, 16, 16, 192), float32] */;\n",
      "  %286 = add(%285, %v_param_112) /* ty=Tensor[(1, 16, 16, 192), float32] */;\n",
      "  %287 = layout_transform(%286, src_layout=\"NHWC\", dst_layout=\"NCHW\") /* ty=Tensor[(1, 192, 16, 16), float32] */;\n",
      "  %288 = layout_transform(%v_param_113, src_layout=\"HWIO\", dst_layout=\"OIHW\") /* ty=Tensor[(384, 192, 1, 1), float32] */;\n",
      "  %289 = nn.conv2d(%287, %288, padding=[0, 0, 0, 0], channels=384, kernel_size=[1, 1]) /* ty=Tensor[(1, 384, 16, 16), float32] */;\n",
      "  %290 = layout_transform(%289, src_layout=\"NCHW\", dst_layout=\"NHWC\") /* ty=Tensor[(1, 16, 16, 384), float32] */;\n",
      "  %291 = nn.bias_add(%290, %v_param_114, axis=3) /* ty=Tensor[(1, 16, 16, 384), float32] */;\n",
      "  %292 = layout_transform(%291, src_layout=\"NHWC\", dst_layout=\"NCHW\") /* ty=Tensor[(1, 384, 16, 16), float32] */;\n",
      "  %293 = layout_transform(%v_param_115, src_layout=\"HWIO\", dst_layout=\"OIHW\") /* ty=Tensor[(192, 384, 1, 1), float32] */;\n",
      "  %294 = nn.conv2d(%292, %293, padding=[0, 0, 0, 0], channels=192, kernel_size=[1, 1]) /* ty=Tensor[(1, 192, 16, 16), float32] */;\n",
      "  %295 = layout_transform(%294, src_layout=\"NCHW\", dst_layout=\"NHWC\") /* ty=Tensor[(1, 16, 16, 192), float32] */;\n",
      "  %296 = layout_transform(%v_param_121, src_layout=\"HWIO\", dst_layout=\"OIHW\") /* ty=Tensor[(192, 192, 1, 1), float32] */;\n",
      "  %297 = nn.conv2d(%287, %296, padding=[0, 0, 0, 0], channels=192, kernel_size=[1, 1]) /* ty=Tensor[(1, 192, 16, 16), float32] */;\n",
      "  %298 = layout_transform(%297, src_layout=\"NCHW\", dst_layout=\"NHWC\") /* ty=Tensor[(1, 16, 16, 192), float32] */;\n",
      "  %299 = nn.bias_add(%298, %v_param_122, axis=3) /* ty=Tensor[(1, 16, 16, 192), float32] */;\n",
      "  %300 = layout_transform(%v_param_119, src_layout=\"HWIO\", dst_layout=\"OIHW\") /* ty=Tensor[(192, 192, 1, 1), float32] */;\n",
      "  %301 = nn.conv2d(%287, %300, padding=[0, 0, 0, 0], channels=192, kernel_size=[1, 1]) /* ty=Tensor[(1, 192, 16, 16), float32] */;\n",
      "  %302 = layout_transform(%301, src_layout=\"NCHW\", dst_layout=\"NHWC\") /* ty=Tensor[(1, 16, 16, 192), float32] */;\n",
      "  %303 = layout_transform(%v_param_117, src_layout=\"HWIO\", dst_layout=\"OIHW\") /* ty=Tensor[(1, 192, 1, 1), float32] */;\n",
      "  %304 = nn.conv2d(%287, %303, padding=[0, 0, 0, 0], channels=1, kernel_size=[1, 1]) /* ty=Tensor[(1, 1, 16, 16), float32] */;\n",
      "  %305 = layout_transform(%304, src_layout=\"NCHW\", dst_layout=\"NHWC\") /* ty=Tensor[(1, 16, 16, 1), float32] */;\n",
      "  %306 = nn.bias_add(%305, %v_param_118, axis=3) /* ty=Tensor[(1, 16, 16, 1), float32] */;\n",
      "  %307 = reshape(%306, newshape=[1, 16, 1, 16]) /* ty=Tensor[(1, 16, 1, 16), float32] */;\n",
      "  %308 = nn.softmax(%307) /* ty=Tensor[(1, 16, 1, 16), float32] */;\n",
      "  %309 = nn.bias_add(%302, %v_param_120, axis=3) /* ty=Tensor[(1, 16, 16, 192), float32] */;\n",
      "  %310 = reshape(%308, newshape=[1, 16, 16, 1]) /* ty=Tensor[(1, 16, 16, 1), float32] */;\n",
      "  %311 = multiply(%309, %310) /* ty=Tensor[(1, 16, 16, 192), float32] */;\n",
      "  %312 = nn.relu(%299) /* ty=Tensor[(1, 16, 16, 192), float32] */;\n",
      "  %313 = sum(%311, axis=[2], keepdims=True) /* ty=Tensor[(1, 16, 1, 192), float32] */;\n",
      "  %314 = multiply(%312, %313) /* ty=Tensor[(1, 16, 16, 192), float32] */;\n",
      "  %315 = layout_transform(%314, src_layout=\"NHWC\", dst_layout=\"NCHW\") /* ty=Tensor[(1, 192, 16, 16), float32] */;\n",
      "  %316 = layout_transform(%v_param_123, src_layout=\"HWIO\", dst_layout=\"OIHW\") /* ty=Tensor[(192, 192, 1, 1), float32] */;\n",
      "  %317 = nn.conv2d(%315, %316, padding=[0, 0, 0, 0], channels=192, kernel_size=[1, 1]) /* ty=Tensor[(1, 192, 16, 16), float32] */;\n",
      "  %318 = layout_transform(%317, src_layout=\"NCHW\", dst_layout=\"NHWC\") /* ty=Tensor[(1, 16, 16, 192), float32] */;\n",
      "  %319 = nn.bias_add(%318, %v_param_124, axis=3) /* ty=Tensor[(1, 16, 16, 192), float32] */;\n",
      "  %320 = nn.bias_add(%295, %v_param_116, axis=3) /* ty=Tensor[(1, 16, 16, 192), float32] */;\n",
      "  %321 = add(%319, %284) /* ty=Tensor[(1, 16, 16, 192), float32] */;\n",
      "  %322 = add(%320, %321) /* ty=Tensor[(1, 16, 16, 192), float32] */;\n",
      "  %323 = multiply(%322, %v_param_125) /* ty=Tensor[(1, 16, 16, 192), float32] */;\n",
      "  %324 = add(%323, %v_param_126) /* ty=Tensor[(1, 16, 16, 192), float32] */;\n",
      "  %325 = layout_transform(%324, src_layout=\"NHWC\", dst_layout=\"NCHW\") /* ty=Tensor[(1, 192, 16, 16), float32] */;\n",
      "  %326 = layout_transform(%v_param_127, src_layout=\"HWIO\", dst_layout=\"OIHW\") /* ty=Tensor[(384, 192, 1, 1), float32] */;\n",
      "  %327 = nn.conv2d(%325, %326, padding=[0, 0, 0, 0], channels=384, kernel_size=[1, 1]) /* ty=Tensor[(1, 384, 16, 16), float32] */;\n",
      "  %328 = layout_transform(%327, src_layout=\"NCHW\", dst_layout=\"NHWC\") /* ty=Tensor[(1, 16, 16, 384), float32] */;\n",
      "  %329 = nn.bias_add(%328, %v_param_128, axis=3) /* ty=Tensor[(1, 16, 16, 384), float32] */;\n",
      "  %330 = layout_transform(%329, src_layout=\"NHWC\", dst_layout=\"NCHW\") /* ty=Tensor[(1, 384, 16, 16), float32] */;\n",
      "  %331 = layout_transform(%v_param_129, src_layout=\"HWIO\", dst_layout=\"OIHW\") /* ty=Tensor[(192, 384, 1, 1), float32] */;\n",
      "  %332 = nn.conv2d(%330, %331, padding=[0, 0, 0, 0], channels=192, kernel_size=[1, 1]) /* ty=Tensor[(1, 192, 16, 16), float32] */;\n",
      "  %333 = layout_transform(%332, src_layout=\"NCHW\", dst_layout=\"NHWC\") /* ty=Tensor[(1, 16, 16, 192), float32] */;\n",
      "  %334 = layout_transform(%v_param_135, src_layout=\"HWIO\", dst_layout=\"OIHW\") /* ty=Tensor[(192, 192, 1, 1), float32] */;\n",
      "  %335 = nn.conv2d(%325, %334, padding=[0, 0, 0, 0], channels=192, kernel_size=[1, 1]) /* ty=Tensor[(1, 192, 16, 16), float32] */;\n",
      "  %336 = layout_transform(%335, src_layout=\"NCHW\", dst_layout=\"NHWC\") /* ty=Tensor[(1, 16, 16, 192), float32] */;\n",
      "  %337 = nn.bias_add(%336, %v_param_136, axis=3) /* ty=Tensor[(1, 16, 16, 192), float32] */;\n",
      "  %338 = layout_transform(%v_param_133, src_layout=\"HWIO\", dst_layout=\"OIHW\") /* ty=Tensor[(192, 192, 1, 1), float32] */;\n",
      "  %339 = nn.conv2d(%325, %338, padding=[0, 0, 0, 0], channels=192, kernel_size=[1, 1]) /* ty=Tensor[(1, 192, 16, 16), float32] */;\n",
      "  %340 = layout_transform(%339, src_layout=\"NCHW\", dst_layout=\"NHWC\") /* ty=Tensor[(1, 16, 16, 192), float32] */;\n",
      "  %341 = layout_transform(%v_param_131, src_layout=\"HWIO\", dst_layout=\"OIHW\") /* ty=Tensor[(1, 192, 1, 1), float32] */;\n",
      "  %342 = nn.conv2d(%325, %341, padding=[0, 0, 0, 0], channels=1, kernel_size=[1, 1]) /* ty=Tensor[(1, 1, 16, 16), float32] */;\n",
      "  %343 = layout_transform(%342, src_layout=\"NCHW\", dst_layout=\"NHWC\") /* ty=Tensor[(1, 16, 16, 1), float32] */;\n",
      "  %344 = nn.bias_add(%343, %v_param_132, axis=3) /* ty=Tensor[(1, 16, 16, 1), float32] */;\n",
      "  %345 = reshape(%344, newshape=[1, 16, 1, 16]) /* ty=Tensor[(1, 16, 1, 16), float32] */;\n",
      "  %346 = nn.softmax(%345) /* ty=Tensor[(1, 16, 1, 16), float32] */;\n",
      "  %347 = nn.bias_add(%340, %v_param_134, axis=3) /* ty=Tensor[(1, 16, 16, 192), float32] */;\n",
      "  %348 = reshape(%346, newshape=[1, 16, 16, 1]) /* ty=Tensor[(1, 16, 16, 1), float32] */;\n",
      "  %349 = multiply(%347, %348) /* ty=Tensor[(1, 16, 16, 192), float32] */;\n",
      "  %350 = nn.relu(%337) /* ty=Tensor[(1, 16, 16, 192), float32] */;\n",
      "  %351 = sum(%349, axis=[2], keepdims=True) /* ty=Tensor[(1, 16, 1, 192), float32] */;\n",
      "  %352 = multiply(%350, %351) /* ty=Tensor[(1, 16, 16, 192), float32] */;\n",
      "  %353 = layout_transform(%352, src_layout=\"NHWC\", dst_layout=\"NCHW\") /* ty=Tensor[(1, 192, 16, 16), float32] */;\n",
      "  %354 = layout_transform(%v_param_137, src_layout=\"HWIO\", dst_layout=\"OIHW\") /* ty=Tensor[(192, 192, 1, 1), float32] */;\n",
      "  %355 = nn.conv2d(%353, %354, padding=[0, 0, 0, 0], channels=192, kernel_size=[1, 1]) /* ty=Tensor[(1, 192, 16, 16), float32] */;\n",
      "  %356 = layout_transform(%355, src_layout=\"NCHW\", dst_layout=\"NHWC\") /* ty=Tensor[(1, 16, 16, 192), float32] */;\n",
      "  %357 = nn.bias_add(%356, %v_param_138, axis=3) /* ty=Tensor[(1, 16, 16, 192), float32] */;\n",
      "  %358 = nn.bias_add(%333, %v_param_130, axis=3) /* ty=Tensor[(1, 16, 16, 192), float32] */;\n",
      "  %359 = add(%357, %322) /* ty=Tensor[(1, 16, 16, 192), float32] */;\n",
      "  %360 = add(%358, %359) /* ty=Tensor[(1, 16, 16, 192), float32] */;\n",
      "  %361 = transpose(%360, axes=[0, 2, 1, 3]) /* ty=Tensor[(1, 16, 16, 192), float32] */;\n",
      "  %362 = reshape(%361, newshape=[-1, 4, 4, 768]) /* ty=Tensor[(4, 4, 4, 768), float32] */;\n",
      "  %363 = transpose(%362, axes=[0, 2, 1, 3]) /* ty=Tensor[(4, 4, 4, 768), float32] */;\n",
      "  %364 = reshape(%363, newshape=[-1, 16, 16, 192]) /* ty=Tensor[(1, 16, 16, 192), float32] */;\n",
      "  %365 = layout_transform(%364, src_layout=\"NHWC\", dst_layout=\"NCHW\") /* ty=Tensor[(1, 192, 16, 16), float32] */;\n",
      "  %366 = layout_transform(%v_param_139, src_layout=\"HWIO\", dst_layout=\"OIHW\") /* ty=Tensor[(384, 192, 1, 1), float32] */;\n",
      "  %367 = nn.conv2d(%365, %366, padding=[0, 0, 0, 0], channels=384, kernel_size=[1, 1]) /* ty=Tensor[(1, 384, 16, 16), float32] */;\n",
      "  %368 = layout_transform(%367, src_layout=\"NCHW\", dst_layout=\"NHWC\") /* ty=Tensor[(1, 16, 16, 384), float32] */;\n",
      "  %369 = nn.bias_add(%368, %v_param_140, axis=3) /* ty=Tensor[(1, 16, 16, 384), float32] */;\n",
      "  %370 = layout_transform(%369, src_layout=\"NHWC\", dst_layout=\"NCHW\") /* ty=Tensor[(1, 384, 16, 16), float32] */;\n",
      "  %371 = layout_transform(%v_param_141, src_layout=\"HWOI\", dst_layout=\"OIHW\") /* ty=Tensor[(384, 1, 1, 1), float32] */;\n",
      "  %372 = nn.conv2d(%370, %371, padding=[0, 0, 0, 0], groups=384, channels=384, kernel_size=[1, 1]) /* ty=Tensor[(1, 384, 16, 16), float32] */;\n",
      "  %373 = layout_transform(%372, src_layout=\"NCHW\", dst_layout=\"NHWC\") /* ty=Tensor[(1, 16, 16, 384), float32] */;\n",
      "  %374 = nn.bias_add(%373, %v_param_142, axis=3) /* ty=Tensor[(1, 16, 16, 384), float32] */;\n",
      "  %375 = layout_transform(%374, src_layout=\"NHWC\", dst_layout=\"NCHW\") /* ty=Tensor[(1, 384, 16, 16), float32] */;\n",
      "  %376 = layout_transform(%v_param_143, src_layout=\"HWIO\", dst_layout=\"OIHW\") /* ty=Tensor[(64, 384, 1, 1), float32] */;\n",
      "  %377 = nn.conv2d(%375, %376, padding=[0, 0, 0, 0], channels=64, kernel_size=[1, 1]) /* ty=Tensor[(1, 64, 16, 16), float32] */;\n",
      "  %378 = layout_transform(%377, src_layout=\"NCHW\", dst_layout=\"NHWC\") /* ty=Tensor[(1, 16, 16, 64), float32] */;\n",
      "  %379 = nn.bias_add(%378, %v_param_144, axis=3) /* ty=Tensor[(1, 16, 16, 64), float32] */;\n",
      "  %380 = layout_transform(%379, src_layout=\"NHWC\", dst_layout=\"NCHW\") /* ty=Tensor[(1, 64, 16, 16), float32] */;\n",
      "  %381 = layout_transform(%v_param_69, src_layout=\"HWOI\", dst_layout=\"OIHW\") /* ty=Tensor[(256, 1, 1, 1), float32] */;\n",
      "  %382 = nn.conv2d(%176, %381, padding=[0, 0, 0, 0], groups=256, channels=256, kernel_size=[1, 1]) /* ty=Tensor[(1, 256, 32, 32), float32] */;\n",
      "  %383 = layout_transform(%382, src_layout=\"NCHW\", dst_layout=\"NHWC\") /* ty=Tensor[(1, 32, 32, 256), float32] */;\n",
      "  %384 = nn.bias_add(%383, %v_param_70, axis=3) /* ty=Tensor[(1, 32, 32, 256), float32] */;\n",
      "  %385 = layout_transform(%384, src_layout=\"NHWC\", dst_layout=\"NCHW\") /* ty=Tensor[(1, 256, 32, 32), float32] */;\n",
      "  %386 = layout_transform(%v_param_71, src_layout=\"HWIO\", dst_layout=\"OIHW\") /* ty=Tensor[(64, 256, 1, 1), float32] */;\n",
      "  %387 = nn.conv2d(%385, %386, padding=[0, 0, 0, 0], channels=64, kernel_size=[1, 1]) /* ty=Tensor[(1, 64, 32, 32), float32] */;\n",
      "  %388 = layout_transform(%387, src_layout=\"NCHW\", dst_layout=\"NHWC\") /* ty=Tensor[(1, 32, 32, 64), float32] */;\n",
      "  %389 = nn.bias_add(%388, %v_param_72, axis=3) /* ty=Tensor[(1, 32, 32, 64), float32] */;\n",
      "  %390 = image.resize2d(%380, size=[32, 32], roi=[0f, 0f, 0f, 0f], method=\"nearest_neighbor\", rounding_method=\"round_prefer_ceil\") /* ty=Tensor[(1, 64, 32, 32), float32] */;\n",
      "  %391 = layout_transform(%389, src_layout=\"NHWC\", dst_layout=\"NCHW\") /* ty=Tensor[(1, 64, 32, 32), float32] */;\n",
      "  %392 = add(%390, %391) /* ty=Tensor[(1, 64, 32, 32), float32] */;\n",
      "  %393 = layout_transform(%v_param_25, src_layout=\"HWOI\", dst_layout=\"OIHW\") /* ty=Tensor[(128, 1, 1, 1), float32] */;\n",
      "  %394 = nn.conv2d(%58, %393, padding=[0, 0, 0, 0], groups=128, channels=128, kernel_size=[1, 1]) /* ty=Tensor[(1, 128, 64, 64), float32] */;\n",
      "  %395 = layout_transform(%394, src_layout=\"NCHW\", dst_layout=\"NHWC\") /* ty=Tensor[(1, 64, 64, 128), float32] */;\n",
      "  %396 = nn.bias_add(%395, %v_param_26, axis=3) /* ty=Tensor[(1, 64, 64, 128), float32] */;\n",
      "  %397 = layout_transform(%396, src_layout=\"NHWC\", dst_layout=\"NCHW\") /* ty=Tensor[(1, 128, 64, 64), float32] */;\n",
      "  %398 = layout_transform(%v_param_27, src_layout=\"HWIO\", dst_layout=\"OIHW\") /* ty=Tensor[(64, 128, 1, 1), float32] */;\n",
      "  %399 = nn.conv2d(%397, %398, padding=[0, 0, 0, 0], channels=64, kernel_size=[1, 1]) /* ty=Tensor[(1, 64, 64, 64), float32] */;\n",
      "  %400 = layout_transform(%399, src_layout=\"NCHW\", dst_layout=\"NHWC\") /* ty=Tensor[(1, 64, 64, 64), float32] */;\n",
      "  %401 = nn.bias_add(%400, %v_param_28, axis=3) /* ty=Tensor[(1, 64, 64, 64), float32] */;\n",
      "  %402 = image.resize2d(%392, size=[64, 64], roi=[0f, 0f, 0f, 0f], method=\"nearest_neighbor\", rounding_method=\"round_prefer_ceil\") /* ty=Tensor[(1, 64, 64, 64), float32] */;\n",
      "  %403 = layout_transform(%401, src_layout=\"NHWC\", dst_layout=\"NCHW\") /* ty=Tensor[(1, 64, 64, 64), float32] */;\n",
      "  %404 = add(%402, %403) /* ty=Tensor[(1, 64, 64, 64), float32] */;\n",
      "  %405 = layout_transform(%v_param_3, src_layout=\"HWOI\", dst_layout=\"OIHW\") /* ty=Tensor[(16, 1, 1, 1), float32] */;\n",
      "  %406 = nn.conv2d(%6, %405, padding=[0, 0, 0, 0], groups=16, channels=16, kernel_size=[1, 1]) /* ty=Tensor[(1, 16, 128, 128), float32] */;\n",
      "  %407 = layout_transform(%406, src_layout=\"NCHW\", dst_layout=\"NHWC\") /* ty=Tensor[(1, 128, 128, 16), float32] */;\n",
      "  %408 = nn.bias_add(%407, %v_param_4, axis=3) /* ty=Tensor[(1, 128, 128, 16), float32] */;\n",
      "  %409 = layout_transform(%408, src_layout=\"NHWC\", dst_layout=\"NCHW\") /* ty=Tensor[(1, 16, 128, 128), float32] */;\n",
      "  %410 = layout_transform(%v_param_5, src_layout=\"HWIO\", dst_layout=\"OIHW\") /* ty=Tensor[(64, 16, 1, 1), float32] */;\n",
      "  %411 = nn.conv2d(%409, %410, padding=[0, 0, 0, 0], channels=64, kernel_size=[1, 1]) /* ty=Tensor[(1, 64, 128, 128), float32] */;\n",
      "  %412 = layout_transform(%411, src_layout=\"NCHW\", dst_layout=\"NHWC\") /* ty=Tensor[(1, 128, 128, 64), float32] */;\n",
      "  %413 = nn.bias_add(%412, %v_param_6, axis=3) /* ty=Tensor[(1, 128, 128, 64), float32] */;\n",
      "  %414 = image.resize2d(%404, size=[128, 128], roi=[0f, 0f, 0f, 0f], method=\"nearest_neighbor\", rounding_method=\"round_prefer_ceil\") /* ty=Tensor[(1, 64, 128, 128), float32] */;\n",
      "  %415 = layout_transform(%413, src_layout=\"NHWC\", dst_layout=\"NCHW\") /* ty=Tensor[(1, 64, 128, 128), float32] */;\n",
      "  %416 = add(%414, %415) /* ty=Tensor[(1, 64, 128, 128), float32] */;\n",
      "  %417 = layout_transform(%v_param_157, src_layout=\"HWOI\", dst_layout=\"OIHW\") /* ty=Tensor[(64, 1, 3, 3), float32] */;\n",
      "  %418 = nn.conv2d(%416, %417, padding=[1, 1, 1, 1], groups=64, channels=64, kernel_size=[3, 3]) /* ty=Tensor[(1, 64, 128, 128), float32] */;\n",
      "  %419 = layout_transform(%418, src_layout=\"NCHW\", dst_layout=\"NHWC\") /* ty=Tensor[(1, 128, 128, 64), float32] */;\n",
      "  %420 = nn.bias_add(%419, %v_param_158, axis=3) /* ty=Tensor[(1, 128, 128, 64), float32] */;\n",
      "  %421 = layout_transform(%420, src_layout=\"NHWC\", dst_layout=\"NCHW\") /* ty=Tensor[(1, 64, 128, 128), float32] */;\n",
      "  %422 = layout_transform(%v_param_159, src_layout=\"HWIO\", dst_layout=\"OIHW\") /* ty=Tensor[(64, 64, 1, 1), float32] */;\n",
      "  %423 = nn.conv2d(%421, %422, padding=[0, 0, 0, 0], channels=64, kernel_size=[1, 1]) /* ty=Tensor[(1, 64, 128, 128), float32] */;\n",
      "  %424 = layout_transform(%423, src_layout=\"NCHW\", dst_layout=\"NHWC\") /* ty=Tensor[(1, 128, 128, 64), float32] */;\n",
      "  %425 = layout_transform(%v_param_153, src_layout=\"HWOI\", dst_layout=\"OIHW\") /* ty=Tensor[(64, 1, 3, 3), float32] */;\n",
      "  %426 = nn.conv2d(%404, %425, padding=[1, 1, 1, 1], groups=64, channels=64, kernel_size=[3, 3]) /* ty=Tensor[(1, 64, 64, 64), float32] */;\n",
      "  %427 = layout_transform(%426, src_layout=\"NCHW\", dst_layout=\"NHWC\") /* ty=Tensor[(1, 64, 64, 64), float32] */;\n",
      "  %428 = nn.bias_add(%427, %v_param_154, axis=3) /* ty=Tensor[(1, 64, 64, 64), float32] */;\n",
      "  %429 = layout_transform(%428, src_layout=\"NHWC\", dst_layout=\"NCHW\") /* ty=Tensor[(1, 64, 64, 64), float32] */;\n",
      "  %430 = layout_transform(%v_param_155, src_layout=\"HWIO\", dst_layout=\"OIHW\") /* ty=Tensor[(64, 64, 1, 1), float32] */;\n",
      "  %431 = nn.conv2d(%429, %430, padding=[0, 0, 0, 0], channels=64, kernel_size=[1, 1]) /* ty=Tensor[(1, 64, 64, 64), float32] */;\n",
      "  %432 = layout_transform(%431, src_layout=\"NCHW\", dst_layout=\"NHWC\") /* ty=Tensor[(1, 64, 64, 64), float32] */;\n",
      "  %433 = nn.bias_add(%432, %v_param_156, axis=3) /* ty=Tensor[(1, 64, 64, 64), float32] */;\n",
      "  %434 = layout_transform(%433, src_layout=\"NHWC\", dst_layout=\"NCHW\") /* ty=Tensor[(1, 64, 64, 64), float32] */;\n",
      "  %435 = image.resize2d(%434, size=[128, 128], roi=[0f, 0f, 0f, 0f], rounding_method=\"\") /* ty=Tensor[(1, 64, 128, 128), float32] */;\n",
      "  %436 = nn.bias_add(%424, %v_param_160, axis=3) /* ty=Tensor[(1, 128, 128, 64), float32] */;\n",
      "  %437 = layout_transform(%435, src_layout=\"NCHW\", dst_layout=\"NHWC\") /* ty=Tensor[(1, 128, 128, 64), float32] */;\n",
      "  %438 = layout_transform(%v_param_149, src_layout=\"HWOI\", dst_layout=\"OIHW\") /* ty=Tensor[(64, 1, 3, 3), float32] */;\n",
      "  %439 = nn.conv2d(%392, %438, padding=[1, 1, 1, 1], groups=64, channels=64, kernel_size=[3, 3]) /* ty=Tensor[(1, 64, 32, 32), float32] */;\n",
      "  %440 = layout_transform(%439, src_layout=\"NCHW\", dst_layout=\"NHWC\") /* ty=Tensor[(1, 32, 32, 64), float32] */;\n",
      "  %441 = nn.bias_add(%440, %v_param_150, axis=3) /* ty=Tensor[(1, 32, 32, 64), float32] */;\n",
      "  %442 = layout_transform(%441, src_layout=\"NHWC\", dst_layout=\"NCHW\") /* ty=Tensor[(1, 64, 32, 32), float32] */;\n",
      "  %443 = layout_transform(%v_param_151, src_layout=\"HWIO\", dst_layout=\"OIHW\") /* ty=Tensor[(64, 64, 1, 1), float32] */;\n",
      "  %444 = nn.conv2d(%442, %443, padding=[0, 0, 0, 0], channels=64, kernel_size=[1, 1]) /* ty=Tensor[(1, 64, 32, 32), float32] */;\n",
      "  %445 = layout_transform(%444, src_layout=\"NCHW\", dst_layout=\"NHWC\") /* ty=Tensor[(1, 32, 32, 64), float32] */;\n",
      "  %446 = nn.bias_add(%445, %v_param_152, axis=3) /* ty=Tensor[(1, 32, 32, 64), float32] */;\n",
      "  %447 = layout_transform(%446, src_layout=\"NHWC\", dst_layout=\"NCHW\") /* ty=Tensor[(1, 64, 32, 32), float32] */;\n",
      "  %448 = image.resize2d(%447, size=[128, 128], roi=[0f, 0f, 0f, 0f], rounding_method=\"\") /* ty=Tensor[(1, 64, 128, 128), float32] */;\n",
      "  %449 = add(%436, %437) /* ty=Tensor[(1, 128, 128, 64), float32] */;\n",
      "  %450 = layout_transform(%448, src_layout=\"NCHW\", dst_layout=\"NHWC\") /* ty=Tensor[(1, 128, 128, 64), float32] */;\n",
      "  %451 = layout_transform(%v_param_145, src_layout=\"HWOI\", dst_layout=\"OIHW\") /* ty=Tensor[(64, 1, 3, 3), float32] */;\n",
      "  %452 = nn.conv2d(%380, %451, padding=[1, 1, 1, 1], groups=64, channels=64, kernel_size=[3, 3]) /* ty=Tensor[(1, 64, 16, 16), float32] */;\n",
      "  %453 = layout_transform(%452, src_layout=\"NCHW\", dst_layout=\"NHWC\") /* ty=Tensor[(1, 16, 16, 64), float32] */;\n",
      "  %454 = nn.bias_add(%453, %v_param_146, axis=3) /* ty=Tensor[(1, 16, 16, 64), float32] */;\n",
      "  %455 = layout_transform(%454, src_layout=\"NHWC\", dst_layout=\"NCHW\") /* ty=Tensor[(1, 64, 16, 16), float32] */;\n",
      "  %456 = layout_transform(%v_param_147, src_layout=\"HWIO\", dst_layout=\"OIHW\") /* ty=Tensor[(64, 64, 1, 1), float32] */;\n",
      "  %457 = nn.conv2d(%455, %456, padding=[0, 0, 0, 0], channels=64, kernel_size=[1, 1]) /* ty=Tensor[(1, 64, 16, 16), float32] */;\n",
      "  %458 = layout_transform(%457, src_layout=\"NCHW\", dst_layout=\"NHWC\") /* ty=Tensor[(1, 16, 16, 64), float32] */;\n",
      "  %459 = nn.bias_add(%458, %v_param_148, axis=3) /* ty=Tensor[(1, 16, 16, 64), float32] */;\n",
      "  %460 = layout_transform(%459, src_layout=\"NHWC\", dst_layout=\"NCHW\") /* ty=Tensor[(1, 64, 16, 16), float32] */;\n",
      "  %461 = image.resize2d(%460, size=[128, 128], roi=[0f, 0f, 0f, 0f], rounding_method=\"\") /* ty=Tensor[(1, 64, 128, 128), float32] */;\n",
      "  %462 = add(%449, %450) /* ty=Tensor[(1, 128, 128, 64), float32] */;\n",
      "  %463 = layout_transform(%461, src_layout=\"NCHW\", dst_layout=\"NHWC\") /* ty=Tensor[(1, 128, 128, 64), float32] */;\n",
      "  %464 = add(%462, %463) /* ty=Tensor[(1, 128, 128, 64), float32] */;\n",
      "  %465 = layout_transform(%464, src_layout=\"NHWC\", dst_layout=\"NCHW\") /* ty=Tensor[(1, 64, 128, 128), float32] */;\n",
      "  %466 = layout_transform(%v_param_161, src_layout=\"HWOI\", dst_layout=\"OIHW\") /* ty=Tensor[(64, 1, 3, 3), float32] */;\n",
      "  %467 = nn.conv2d(%465, %466, padding=[1, 1, 1, 1], groups=64, channels=64, kernel_size=[3, 3]) /* ty=Tensor[(1, 64, 128, 128), float32] */;\n",
      "  %468 = layout_transform(%467, src_layout=\"NCHW\", dst_layout=\"NHWC\") /* ty=Tensor[(1, 128, 128, 64), float32] */;\n",
      "  %469 = nn.bias_add(%468, %v_param_162, axis=3) /* ty=Tensor[(1, 128, 128, 64), float32] */;\n",
      "  %470 = nn.relu(%469) /* ty=Tensor[(1, 128, 128, 64), float32] */;\n",
      "  %471 = layout_transform(%470, src_layout=\"NHWC\", dst_layout=\"NCHW\") /* ty=Tensor[(1, 64, 128, 128), float32] */;\n",
      "  %472 = layout_transform(%v_param_163, src_layout=\"HWIO\", dst_layout=\"OIHW\") /* ty=Tensor[(32, 64, 1, 1), float32] */;\n",
      "  %473 = nn.conv2d(%471, %472, padding=[0, 0, 0, 0], channels=32, kernel_size=[1, 1]) /* ty=Tensor[(1, 32, 128, 128), float32] */;\n",
      "  %474 = layout_transform(%473, src_layout=\"NCHW\", dst_layout=\"NHWC\") /* ty=Tensor[(1, 128, 128, 32), float32] */;\n",
      "  %475 = nn.bias_add(%474, %v_param_164, axis=3) /* ty=Tensor[(1, 128, 128, 32), float32] */;\n",
      "  %476 = nn.relu(%475) /* ty=Tensor[(1, 128, 128, 32), float32] */;\n",
      "  %477 = layout_transform(%476, src_layout=\"NHWC\", dst_layout=\"NCHW\") /* ty=Tensor[(1, 32, 128, 128), float32] */;\n",
      "  %478 = layout_transform(%v_param_165, src_layout=\"HWOI\", dst_layout=\"OIHW\") /* ty=Tensor[(32, 1, 3, 3), float32] */;\n",
      "  %479 = nn.conv2d(%477, %478, padding=[1, 1, 1, 1], groups=32, channels=32, kernel_size=[3, 3]) /* ty=Tensor[(1, 32, 128, 128), float32] */;\n",
      "  %480 = layout_transform(%479, src_layout=\"NCHW\", dst_layout=\"NHWC\") /* ty=Tensor[(1, 128, 128, 32), float32] */;\n",
      "  %481 = nn.bias_add(%480, %v_param_166, axis=3) /* ty=Tensor[(1, 128, 128, 32), float32] */;\n",
      "  %482 = nn.relu(%481) /* ty=Tensor[(1, 128, 128, 32), float32] */;\n",
      "  %483 = layout_transform(%482, src_layout=\"NHWC\", dst_layout=\"NCHW\") /* ty=Tensor[(1, 32, 128, 128), float32] */;\n",
      "  %484 = layout_transform(%v_param_167, src_layout=\"HWIO\", dst_layout=\"OIHW\") /* ty=Tensor[(32, 32, 1, 1), float32] */;\n",
      "  %485 = nn.conv2d(%483, %484, padding=[0, 0, 0, 0], channels=32, kernel_size=[1, 1]) /* ty=Tensor[(1, 32, 128, 128), float32] */;\n",
      "  %486 = layout_transform(%485, src_layout=\"NCHW\", dst_layout=\"NHWC\") /* ty=Tensor[(1, 128, 128, 32), float32] */;\n",
      "  %487 = nn.bias_add(%486, %v_param_168, axis=3) /* ty=Tensor[(1, 128, 128, 32), float32] */;\n",
      "  %488 = nn.relu(%487) /* ty=Tensor[(1, 128, 128, 32), float32] */;\n",
      "  %489 = layout_transform(%488, src_layout=\"NHWC\", dst_layout=\"NCHW\") /* ty=Tensor[(1, 32, 128, 128), float32] */;\n",
      "  %490 = layout_transform(%v_param_169, src_layout=\"HWOI\", dst_layout=\"OIHW\") /* ty=Tensor[(32, 1, 3, 3), float32] */;\n",
      "  %491 = nn.conv2d(%489, %490, padding=[1, 1, 1, 1], groups=32, channels=32, kernel_size=[3, 3]) /* ty=Tensor[(1, 32, 128, 128), float32] */;\n",
      "  %492 = layout_transform(%491, src_layout=\"NCHW\", dst_layout=\"NHWC\") /* ty=Tensor[(1, 128, 128, 32), float32] */;\n",
      "  %493 = nn.bias_add(%492, %v_param_170, axis=3) /* ty=Tensor[(1, 128, 128, 32), float32] */;\n",
      "  %494 = nn.relu(%493) /* ty=Tensor[(1, 128, 128, 32), float32] */;\n",
      "  %495 = layout_transform(%494, src_layout=\"NHWC\", dst_layout=\"NCHW\") /* ty=Tensor[(1, 32, 128, 128), float32] */;\n",
      "  %496 = layout_transform(%v_param_171, src_layout=\"HWIO\", dst_layout=\"OIHW\") /* ty=Tensor[(32, 32, 1, 1), float32] */;\n",
      "  %497 = nn.conv2d(%495, %496, padding=[0, 0, 0, 0], channels=32, kernel_size=[1, 1]) /* ty=Tensor[(1, 32, 128, 128), float32] */;\n",
      "  %498 = layout_transform(%497, src_layout=\"NCHW\", dst_layout=\"NHWC\") /* ty=Tensor[(1, 128, 128, 32), float32] */;\n",
      "  %499 = nn.bias_add(%498, %v_param_172, axis=3) /* ty=Tensor[(1, 128, 128, 32), float32] */;\n",
      "  %500 = nn.relu(%499) /* ty=Tensor[(1, 128, 128, 32), float32] */;\n",
      "  %501 = layout_transform(%500, src_layout=\"NHWC\", dst_layout=\"NCHW\") /* ty=Tensor[(1, 32, 128, 128), float32] */;\n",
      "  %502 = layout_transform(%v_param_173, src_layout=\"HWOI\", dst_layout=\"OIHW\") /* ty=Tensor[(32, 1, 3, 3), float32] */;\n",
      "  %503 = nn.conv2d(%501, %502, padding=[1, 1, 1, 1], groups=32, channels=32, kernel_size=[3, 3]) /* ty=Tensor[(1, 32, 128, 128), float32] */;\n",
      "  %504 = layout_transform(%503, src_layout=\"NCHW\", dst_layout=\"NHWC\") /* ty=Tensor[(1, 128, 128, 32), float32] */;\n",
      "  %505 = nn.bias_add(%504, %v_param_174, axis=3) /* ty=Tensor[(1, 128, 128, 32), float32] */;\n",
      "  %506 = nn.relu(%505) /* ty=Tensor[(1, 128, 128, 32), float32] */;\n",
      "  %507 = layout_transform(%506, src_layout=\"NHWC\", dst_layout=\"NCHW\") /* ty=Tensor[(1, 32, 128, 128), float32] */;\n",
      "  %508 = layout_transform(%v_param_175, src_layout=\"HWIO\", dst_layout=\"OIHW\") /* ty=Tensor[(32, 32, 1, 1), float32] */;\n",
      "  %509 = nn.conv2d(%507, %508, padding=[0, 0, 0, 0], channels=32, kernel_size=[1, 1]) /* ty=Tensor[(1, 32, 128, 128), float32] */;\n",
      "  %510 = layout_transform(%509, src_layout=\"NCHW\", dst_layout=\"NHWC\") /* ty=Tensor[(1, 128, 128, 32), float32] */;\n",
      "  %511 = nn.bias_add(%510, %v_param_176, axis=3) /* ty=Tensor[(1, 128, 128, 32), float32] */;\n",
      "  %512 = nn.relu(%511) /* ty=Tensor[(1, 128, 128, 32), float32] */;\n",
      "  %513 = layout_transform(%512, src_layout=\"NHWC\", dst_layout=\"NCHW\") /* ty=Tensor[(1, 32, 128, 128), float32] */;\n",
      "  %514 = layout_transform(%v_param_177, src_layout=\"HWOI\", dst_layout=\"OIHW\") /* ty=Tensor[(32, 1, 3, 3), float32] */;\n",
      "  %515 = nn.conv2d(%513, %514, padding=[1, 1, 1, 1], groups=32, channels=32, kernel_size=[3, 3]) /* ty=Tensor[(1, 32, 128, 128), float32] */;\n",
      "  %516 = layout_transform(%515, src_layout=\"NCHW\", dst_layout=\"NHWC\") /* ty=Tensor[(1, 128, 128, 32), float32] */;\n",
      "  %517 = nn.bias_add(%516, %v_param_178, axis=3) /* ty=Tensor[(1, 128, 128, 32), float32] */;\n",
      "  %518 = nn.relu(%517) /* ty=Tensor[(1, 128, 128, 32), float32] */;\n",
      "  %519 = layout_transform(%518, src_layout=\"NHWC\", dst_layout=\"NCHW\") /* ty=Tensor[(1, 32, 128, 128), float32] */;\n",
      "  %520 = layout_transform(%v_param_179, src_layout=\"HWIO\", dst_layout=\"OIHW\") /* ty=Tensor[(32, 32, 1, 1), float32] */;\n",
      "  %521 = nn.conv2d(%519, %520, padding=[0, 0, 0, 0], channels=32, kernel_size=[1, 1]) /* ty=Tensor[(1, 32, 128, 128), float32] */;\n",
      "  %522 = layout_transform(%521, src_layout=\"NCHW\", dst_layout=\"NHWC\") /* ty=Tensor[(1, 128, 128, 32), float32] */;\n",
      "  %523 = nn.bias_add(%522, %v_param_180, axis=3) /* ty=Tensor[(1, 128, 128, 32), float32] */;\n",
      "  %524 = nn.relu(%523) /* ty=Tensor[(1, 128, 128, 32), float32] */;\n",
      "  %525 = layout_transform(%524, src_layout=\"NHWC\", dst_layout=\"NCHW\") /* ty=Tensor[(1, 32, 128, 128), float32] */;\n",
      "  %526 = layout_transform(%v_param_181, src_layout=\"IOHW\", dst_layout=\"OIHW\") /* ty=Tensor[(32, 32, 2, 2), float32] */;\n",
      "  %527 = nn.conv2d_transpose(%525, %526, channels=32, kernel_size=[2, 2], strides=[2, 2], padding=[0, 0, 0, 0], out_dtype=\"float32\") /* ty=Tensor[(1, 32, 256, 256), float32] */;\n",
      "  %528 = layout_transform(%527, src_layout=\"NCHW\", dst_layout=\"NHWC\") /* ty=Tensor[(1, 256, 256, 32), float32] */;\n",
      "  %529 = nn.bias_add(%528, %v_param_182, axis=3) /* ty=Tensor[(1, 256, 256, 32), float32] */;\n",
      "  %530 = layout_transform(%529, src_layout=\"NHWC\", dst_layout=\"NCHW\") /* ty=Tensor[(1, 32, 256, 256), float32] */;\n",
      "  %531 = layout_transform(%v_param_183, src_layout=\"HWIO\", dst_layout=\"OIHW\") /* ty=Tensor[(6, 32, 1, 1), float32] */;\n",
      "  %532 = nn.conv2d(%530, %531, padding=[0, 0, 0, 0], channels=6, kernel_size=[1, 1]) /* ty=Tensor[(1, 6, 256, 256), float32] */;\n",
      "  %533 = layout_transform(%532, src_layout=\"NCHW\", dst_layout=\"NHWC\") /* ty=Tensor[(1, 256, 256, 6), float32] */;\n",
      "  nn.bias_add(%533, %v_param_184, axis=3) /* ty=Tensor[(1, 256, 256, 6), float32] */\n",
      "}\n",
      "\n",
      "[Task  1/48]  Current/Best:    0.00/   0.00 GFLOPS | Progress: (0/140) | 0.00 s"
     ]
    },
    {
     "name": "stderr",
     "output_type": "stream",
     "text": [
      "2023-12-17 22:25:02.670 INFO Finish serving ('127.0.0.1', 53015)\n",
      "2023-12-17 22:25:03.617 INFO Finish serving ('127.0.0.1', 53017)\n",
      "2023-12-17 22:25:08.377 INFO load_module /var/folders/27/z40g_7vx5q97_wfz_gcd92k40000gn/T/tmpx4rp54bh/tmp_func_e0350817e26d601d.tar\n",
      "2023-12-17 22:25:08.496 INFO Finish serving ('127.0.0.1', 53019)\n",
      "2023-12-17 22:25:11.140 INFO load_module /var/folders/27/z40g_7vx5q97_wfz_gcd92k40000gn/T/tmpesf1io9j/tmp_func_2b250298e5eba1e0.tar\n",
      "2023-12-17 22:25:11.262 INFO Finish serving ('127.0.0.1', 53027)\n",
      "2023-12-17 22:25:12.578 INFO load_module /var/folders/27/z40g_7vx5q97_wfz_gcd92k40000gn/T/tmpmlki835g/tmp_func_246a9f1cb64a842f.tar\n",
      "2023-12-17 22:25:12.700 INFO Finish serving ('127.0.0.1', 53029)\n",
      "2023-12-17 22:25:14.096 INFO load_module /var/folders/27/z40g_7vx5q97_wfz_gcd92k40000gn/T/tmpcmphbsv9/tmp_func_3275900f50b35021.tar\n",
      "2023-12-17 22:25:14.213 INFO Finish serving ('127.0.0.1', 53031)\n",
      "2023-12-17 22:25:15.670 INFO load_module /var/folders/27/z40g_7vx5q97_wfz_gcd92k40000gn/T/tmpqs2h37gp/tmp_func_a05e249929948c0b.tar\n",
      "2023-12-17 22:25:15.788 INFO Finish serving ('127.0.0.1', 53033)\n",
      "2023-12-17 22:25:17.243 INFO load_module /var/folders/27/z40g_7vx5q97_wfz_gcd92k40000gn/T/tmpug89qtv1/tmp_func_e36e99263abcc11.tar\n",
      "2023-12-17 22:25:17.363 INFO Finish serving ('127.0.0.1', 53035)\n",
      "2023-12-17 22:25:18.721 INFO load_module /var/folders/27/z40g_7vx5q97_wfz_gcd92k40000gn/T/tmp71z90v3s/tmp_func_4dd16cf5a56c0d1.tar\n",
      "2023-12-17 22:25:18.838 INFO Finish serving ('127.0.0.1', 53037)\n",
      "2023-12-17 22:25:20.164 INFO load_module /var/folders/27/z40g_7vx5q97_wfz_gcd92k40000gn/T/tmp0zp7m8f0/tmp_func_f7937b8adf05fdac.tar\n",
      "2023-12-17 22:25:20.282 INFO Finish serving ('127.0.0.1', 53039)\n",
      "2023-12-17 22:25:21.544 INFO load_module /var/folders/27/z40g_7vx5q97_wfz_gcd92k40000gn/T/tmp73hzb87j/tmp_func_2e23f1b7a245ce24.tar\n",
      "2023-12-17 22:25:21.663 INFO Finish serving ('127.0.0.1', 53041)\n",
      "2023-12-17 22:25:23.012 INFO load_module /var/folders/27/z40g_7vx5q97_wfz_gcd92k40000gn/T/tmpgpbeout2/tmp_func_1bb0bcda67e46c56.tar\n",
      "2023-12-17 22:25:23.132 INFO Finish serving ('127.0.0.1', 53043)\n",
      "2023-12-17 22:25:24.586 INFO load_module /var/folders/27/z40g_7vx5q97_wfz_gcd92k40000gn/T/tmpqjs7290a/tmp_func_1ae4cd71654d4f4b.tar\n",
      "2023-12-17 22:25:24.707 INFO Finish serving ('127.0.0.1', 53045)\n",
      "2023-12-17 22:25:26.159 INFO load_module /var/folders/27/z40g_7vx5q97_wfz_gcd92k40000gn/T/tmptvyzia6c/tmp_func_77731aadaac98c61.tar\n",
      "2023-12-17 22:25:26.281 INFO Finish serving ('127.0.0.1', 53047)\n",
      "2023-12-17 22:25:27.731 INFO load_module /var/folders/27/z40g_7vx5q97_wfz_gcd92k40000gn/T/tmpxsz7ipu1/tmp_func_ad789c71eb222ea8.tar\n",
      "2023-12-17 22:25:27.850 INFO Finish serving ('127.0.0.1', 53049)\n",
      "2023-12-17 22:25:29.213 INFO load_module /var/folders/27/z40g_7vx5q97_wfz_gcd92k40000gn/T/tmp9pr07vj5/tmp_func_92cfe51b58c94d56.tar\n",
      "2023-12-17 22:25:29.333 INFO Finish serving ('127.0.0.1', 53051)\n",
      "2023-12-17 22:25:30.779 INFO load_module /var/folders/27/z40g_7vx5q97_wfz_gcd92k40000gn/T/tmp1uipi8wj/tmp_func_89320c80749f7fa7.tar\n",
      "2023-12-17 22:25:30.901 INFO Finish serving ('127.0.0.1', 53053)\n"
     ]
    },
    {
     "name": "stdout",
     "output_type": "stream",
     "text": [
      "[Task  1/48]  Current/Best:  124.47/ 162.07 GFLOPS | Progress: (16/140) | 33.18 s"
     ]
    },
    {
     "name": "stderr",
     "output_type": "stream",
     "text": [
      "2023-12-17 22:25:32.257 INFO load_module /var/folders/27/z40g_7vx5q97_wfz_gcd92k40000gn/T/tmplh3d4k75/tmp_func_dd0577ce3b364622.tar\n",
      "2023-12-17 22:25:32.379 INFO Finish serving ('127.0.0.1', 53055)\n"
     ]
    },
    {
     "name": "stdout",
     "output_type": "stream",
     "text": [
      " Done.\n",
      "[Task  2/48]  Current/Best:    0.00/   0.00 GFLOPS | Progress: (0/840) | 0.00 s"
     ]
    },
    {
     "name": "stderr",
     "output_type": "stream",
     "text": [
      "2023-12-17 22:25:35.297 INFO Finish serving ('127.0.0.1', 53059)\n",
      "2023-12-17 22:25:36.331 INFO Finish serving ('127.0.0.1', 53061)\n",
      "2023-12-17 22:25:38.225 INFO load_module /var/folders/27/z40g_7vx5q97_wfz_gcd92k40000gn/T/tmp0ko9imom/tmp_func_fe7041b45746f18c.tar\n",
      "2023-12-17 22:25:38.381 INFO Finish serving ('127.0.0.1', 53063)\n",
      "2023-12-17 22:25:39.693 INFO load_module /var/folders/27/z40g_7vx5q97_wfz_gcd92k40000gn/T/tmpofnc9o1w/tmp_func_20300e5c8eedbada.tar\n",
      "2023-12-17 22:25:39.847 INFO Finish serving ('127.0.0.1', 53065)\n",
      "2023-12-17 22:25:41.370 INFO load_module /var/folders/27/z40g_7vx5q97_wfz_gcd92k40000gn/T/tmp7lh8eddl/tmp_func_b5734a9473b96a9f.tar\n",
      "2023-12-17 22:25:41.517 INFO Finish serving ('127.0.0.1', 53067)\n",
      "2023-12-17 22:25:42.838 INFO load_module /var/folders/27/z40g_7vx5q97_wfz_gcd92k40000gn/T/tmpksdtv7yr/tmp_func_a32658c675e0044d.tar\n",
      "2023-12-17 22:25:42.987 INFO Finish serving ('127.0.0.1', 53069)\n",
      "2023-12-17 22:25:44.415 INFO load_module /var/folders/27/z40g_7vx5q97_wfz_gcd92k40000gn/T/tmpptrh_3cd/tmp_func_101914c5093b3226.tar\n",
      "2023-12-17 22:25:44.567 INFO Finish serving ('127.0.0.1', 53071)\n",
      "2023-12-17 22:25:45.981 INFO load_module /var/folders/27/z40g_7vx5q97_wfz_gcd92k40000gn/T/tmpy3khzoil/tmp_func_aacd500ed092cd7d.tar\n",
      "2023-12-17 22:25:46.132 INFO Finish serving ('127.0.0.1', 53073)\n",
      "2023-12-17 22:25:47.660 INFO load_module /var/folders/27/z40g_7vx5q97_wfz_gcd92k40000gn/T/tmpk9lfkv5c/tmp_func_68938f9b16a8fa29.tar\n",
      "2023-12-17 22:25:47.813 INFO Finish serving ('127.0.0.1', 53075)\n",
      "2023-12-17 22:25:49.436 INFO load_module /var/folders/27/z40g_7vx5q97_wfz_gcd92k40000gn/T/tmpcwwce3gx/tmp_func_aea0743ad4783295.tar\n",
      "2023-12-17 22:25:49.585 INFO Finish serving ('127.0.0.1', 53077)\n",
      "2023-12-17 22:25:50.895 INFO load_module /var/folders/27/z40g_7vx5q97_wfz_gcd92k40000gn/T/tmpcwlif5k8/tmp_func_2c9c598e17cda0a6.tar\n",
      "2023-12-17 22:25:51.050 INFO Finish serving ('127.0.0.1', 53079)\n",
      "2023-12-17 22:25:52.473 INFO load_module /var/folders/27/z40g_7vx5q97_wfz_gcd92k40000gn/T/tmpqryz565w/tmp_func_495bb88a7dc1801c.tar\n",
      "2023-12-17 22:25:52.623 INFO Finish serving ('127.0.0.1', 53081)\n",
      "2023-12-17 22:25:54.247 INFO load_module /var/folders/27/z40g_7vx5q97_wfz_gcd92k40000gn/T/tmp6ra9e5f7/tmp_func_4609e7e428e7ab9c.tar\n",
      "2023-12-17 22:25:54.399 INFO Finish serving ('127.0.0.1', 53083)\n",
      "2023-12-17 22:25:55.688 INFO load_module /var/folders/27/z40g_7vx5q97_wfz_gcd92k40000gn/T/tmpq3qkkkkf/tmp_func_c73965d10dcf423a.tar\n",
      "2023-12-17 22:25:55.833 INFO Finish serving ('127.0.0.1', 53085)\n",
      "2023-12-17 22:25:57.089 INFO load_module /var/folders/27/z40g_7vx5q97_wfz_gcd92k40000gn/T/tmpm8xm9ndl/tmp_func_8728e9eec4dca5ff.tar\n",
      "2023-12-17 22:25:57.233 INFO Finish serving ('127.0.0.1', 53087)\n",
      "2023-12-17 22:25:58.669 INFO load_module /var/folders/27/z40g_7vx5q97_wfz_gcd92k40000gn/T/tmpcui2e19j/tmp_func_9e9062516033dbbe.tar\n",
      "2023-12-17 22:25:58.816 INFO Finish serving ('127.0.0.1', 53089)\n",
      "2023-12-17 22:26:00.242 INFO load_module /var/folders/27/z40g_7vx5q97_wfz_gcd92k40000gn/T/tmpv8hwarpk/tmp_func_69e979ccd3504ee4.tar\n",
      "2023-12-17 22:26:00.390 INFO Finish serving ('127.0.0.1', 53091)\n"
     ]
    },
    {
     "name": "stdout",
     "output_type": "stream",
     "text": [
      "[Task  2/48]  Current/Best:  105.30/ 105.30 GFLOPS | Progress: (16/840) | 29.28 s"
     ]
    },
    {
     "name": "stderr",
     "output_type": "stream",
     "text": [
      "2023-12-17 22:26:01.713 INFO load_module /var/folders/27/z40g_7vx5q97_wfz_gcd92k40000gn/T/tmp7co3yab1/tmp_func_5558fb99d890dad.tar\n",
      "2023-12-17 22:26:01.859 INFO Finish serving ('127.0.0.1', 53093)\n"
     ]
    },
    {
     "name": "stdout",
     "output_type": "stream",
     "text": [
      " Done.\n",
      "[Task  3/48]  Current/Best:    0.00/   0.00 GFLOPS | Progress: (0/2016) | 0.00 s"
     ]
    },
    {
     "name": "stderr",
     "output_type": "stream",
     "text": [
      "2023-12-17 22:26:04.854 INFO Finish serving ('127.0.0.1', 53097)\n",
      "2023-12-17 22:26:05.848 INFO Finish serving ('127.0.0.1', 53099)\n",
      "2023-12-17 22:26:07.197 INFO load_module /var/folders/27/z40g_7vx5q97_wfz_gcd92k40000gn/T/tmpibihg28f/tmp_func_5d657c977df3551f.tar\n",
      "2023-12-17 22:26:07.371 INFO Finish serving ('127.0.0.1', 53101)\n",
      "2023-12-17 22:26:08.668 INFO load_module /var/folders/27/z40g_7vx5q97_wfz_gcd92k40000gn/T/tmp2fyc349b/tmp_func_2ba333962ba55c54.tar\n",
      "2023-12-17 22:26:08.851 INFO Finish serving ('127.0.0.1', 53103)\n",
      "2023-12-17 22:26:10.209 INFO load_module /var/folders/27/z40g_7vx5q97_wfz_gcd92k40000gn/T/tmpsplqgm_k/tmp_func_76a5d302453d1755.tar\n",
      "2023-12-17 22:26:10.391 INFO Finish serving ('127.0.0.1', 53105)\n",
      "2023-12-17 22:26:11.771 INFO load_module /var/folders/27/z40g_7vx5q97_wfz_gcd92k40000gn/T/tmpnxcrzjfg/tmp_func_2697cbba91b21a07.tar\n",
      "2023-12-17 22:26:11.951 INFO Finish serving ('127.0.0.1', 53107)\n",
      "2023-12-17 22:26:13.345 INFO load_module /var/folders/27/z40g_7vx5q97_wfz_gcd92k40000gn/T/tmp68lsmwj5/tmp_func_be550b686f73eadc.tar\n",
      "2023-12-17 22:26:13.536 INFO Finish serving ('127.0.0.1', 53109)\n",
      "2023-12-17 22:26:16.060 INFO load_module /var/folders/27/z40g_7vx5q97_wfz_gcd92k40000gn/T/tmpph019o4k/tmp_func_c71f41f91466d5ac.tar\n",
      "2023-12-17 22:26:16.241 INFO Finish serving ('127.0.0.1', 53111)\n",
      "2023-12-17 22:26:17.546 INFO load_module /var/folders/27/z40g_7vx5q97_wfz_gcd92k40000gn/T/tmplapiejtj/tmp_func_1e36a0fd4b213c47.tar\n",
      "2023-12-17 22:26:17.730 INFO Finish serving ('127.0.0.1', 53113)\n",
      "2023-12-17 22:26:19.537 INFO load_module /var/folders/27/z40g_7vx5q97_wfz_gcd92k40000gn/T/tmphmymnkyr/tmp_func_61ebfbeaf1b889ab.tar\n",
      "2023-12-17 22:26:19.724 INFO Finish serving ('127.0.0.1', 53115)\n",
      "2023-12-17 22:26:21.211 INFO load_module /var/folders/27/z40g_7vx5q97_wfz_gcd92k40000gn/T/tmpe1byuuf5/tmp_func_f2a72bbbb677d7fc.tar\n",
      "2023-12-17 22:26:21.393 INFO Finish serving ('127.0.0.1', 53117)\n",
      "2023-12-17 22:26:22.687 INFO load_module /var/folders/27/z40g_7vx5q97_wfz_gcd92k40000gn/T/tmphhho8bvl/tmp_func_deef3c61dc3483a2.tar\n",
      "2023-12-17 22:26:22.872 INFO Finish serving ('127.0.0.1', 53119)\n",
      "2023-12-17 22:26:24.259 INFO load_module /var/folders/27/z40g_7vx5q97_wfz_gcd92k40000gn/T/tmpktzpgcn8/tmp_func_9b492d64fb3200c3.tar\n",
      "2023-12-17 22:26:24.459 INFO Finish serving ('127.0.0.1', 53121)\n",
      "2023-12-17 22:26:25.831 INFO load_module /var/folders/27/z40g_7vx5q97_wfz_gcd92k40000gn/T/tmpbx2mjsh5/tmp_func_d4f725e2890f5bf.tar\n",
      "2023-12-17 22:26:26.019 INFO Finish serving ('127.0.0.1', 53123)\n",
      "2023-12-17 22:26:27.526 INFO load_module /var/folders/27/z40g_7vx5q97_wfz_gcd92k40000gn/T/tmp3vhnsr_2/tmp_func_3a40ba897d07080e.tar\n",
      "2023-12-17 22:26:27.711 INFO Finish serving ('127.0.0.1', 53125)\n",
      "2023-12-17 22:26:29.138 INFO load_module /var/folders/27/z40g_7vx5q97_wfz_gcd92k40000gn/T/tmpm8g4nkfq/tmp_func_41cd95e32ee00aca.tar\n",
      "2023-12-17 22:26:29.318 INFO Finish serving ('127.0.0.1', 53127)\n",
      "2023-12-17 22:26:30.659 INFO load_module /var/folders/27/z40g_7vx5q97_wfz_gcd92k40000gn/T/tmpabcr_tuv/tmp_func_f38198c3212ac6ed.tar\n",
      "2023-12-17 22:26:30.844 INFO Finish serving ('127.0.0.1', 53129)\n"
     ]
    },
    {
     "name": "stdout",
     "output_type": "stream",
     "text": [
      "[Task  3/48]  Current/Best:   54.88/  65.06 GFLOPS | Progress: (16/2016) | 30.40 s"
     ]
    },
    {
     "name": "stderr",
     "output_type": "stream",
     "text": [
      "2023-12-17 22:26:32.252 INFO load_module /var/folders/27/z40g_7vx5q97_wfz_gcd92k40000gn/T/tmpeumepuh2/tmp_func_b1efde33a3b3d481.tar\n",
      "2023-12-17 22:26:32.436 INFO Finish serving ('127.0.0.1', 53131)\n"
     ]
    },
    {
     "name": "stdout",
     "output_type": "stream",
     "text": [
      " Done.\n",
      "[Task  4/48]  Current/Best:    0.00/   0.00 GFLOPS | Progress: (0/1176) | 0.00 s"
     ]
    },
    {
     "name": "stderr",
     "output_type": "stream",
     "text": [
      "2023-12-17 22:26:35.339 INFO Finish serving ('127.0.0.1', 53136)\n",
      "2023-12-17 22:26:36.318 INFO Finish serving ('127.0.0.1', 53138)\n",
      "2023-12-17 22:26:38.611 INFO load_module /var/folders/27/z40g_7vx5q97_wfz_gcd92k40000gn/T/tmpexqcq007/tmp_func_6d9982a6508d4964.tar\n",
      "2023-12-17 22:26:38.852 INFO Finish serving ('127.0.0.1', 53140)\n",
      "2023-12-17 22:26:40.219 INFO load_module /var/folders/27/z40g_7vx5q97_wfz_gcd92k40000gn/T/tmpy313b6e2/tmp_func_264f090fffe1899b.tar\n",
      "2023-12-17 22:26:40.452 INFO Finish serving ('127.0.0.1', 53142)\n",
      "2023-12-17 22:26:41.759 INFO load_module /var/folders/27/z40g_7vx5q97_wfz_gcd92k40000gn/T/tmppjfzwlr4/tmp_func_c75bdc256c71ba73.tar\n",
      "2023-12-17 22:26:41.970 INFO Finish serving ('127.0.0.1', 53144)\n",
      "2023-12-17 22:26:43.325 INFO load_module /var/folders/27/z40g_7vx5q97_wfz_gcd92k40000gn/T/tmpzlfs79gl/tmp_func_b72abeadb96b5af1.tar\n",
      "2023-12-17 22:26:43.536 INFO Finish serving ('127.0.0.1', 53146)\n",
      "2023-12-17 22:26:44.854 INFO load_module /var/folders/27/z40g_7vx5q97_wfz_gcd92k40000gn/T/tmpgekdhmgh/tmp_func_9d0767d17e39366b.tar\n",
      "2023-12-17 22:26:45.065 INFO Finish serving ('127.0.0.1', 53148)\n",
      "2023-12-17 22:26:46.389 INFO load_module /var/folders/27/z40g_7vx5q97_wfz_gcd92k40000gn/T/tmpty6x6dvv/tmp_func_4d2903eef9259a74.tar\n",
      "2023-12-17 22:26:46.604 INFO Finish serving ('127.0.0.1', 53150)\n",
      "2023-12-17 22:26:47.854 INFO load_module /var/folders/27/z40g_7vx5q97_wfz_gcd92k40000gn/T/tmp143bkc42/tmp_func_c7b65c2bd605e2d1.tar\n",
      "2023-12-17 22:26:48.065 INFO Finish serving ('127.0.0.1', 53152)\n",
      "2023-12-17 22:26:49.526 INFO load_module /var/folders/27/z40g_7vx5q97_wfz_gcd92k40000gn/T/tmpmkkhtu2v/tmp_func_2e87ce9c1fe7e399.tar\n",
      "2023-12-17 22:26:49.743 INFO Finish serving ('127.0.0.1', 53154)\n",
      "2023-12-17 22:26:51.091 INFO load_module /var/folders/27/z40g_7vx5q97_wfz_gcd92k40000gn/T/tmpx474_q1z/tmp_func_3b6c50980eca9c1e.tar\n",
      "2023-12-17 22:26:51.295 INFO Finish serving ('127.0.0.1', 53156)\n",
      "2023-12-17 22:26:52.668 INFO load_module /var/folders/27/z40g_7vx5q97_wfz_gcd92k40000gn/T/tmpesi3x2k_/tmp_func_9a94e5a1353131ed.tar\n",
      "2023-12-17 22:26:52.883 INFO Finish serving ('127.0.0.1', 53158)\n",
      "2023-12-17 22:26:54.239 INFO load_module /var/folders/27/z40g_7vx5q97_wfz_gcd92k40000gn/T/tmpnbdpxzf8/tmp_func_d7e7d4b365a15d3a.tar\n",
      "2023-12-17 22:26:54.453 INFO Finish serving ('127.0.0.1', 53162)\n",
      "2023-12-17 22:26:55.808 INFO load_module /var/folders/27/z40g_7vx5q97_wfz_gcd92k40000gn/T/tmpfuac1t11/tmp_func_87af4117b944d543.tar\n",
      "2023-12-17 22:26:56.015 INFO Finish serving ('127.0.0.1', 53164)\n",
      "2023-12-17 22:26:57.388 INFO load_module /var/folders/27/z40g_7vx5q97_wfz_gcd92k40000gn/T/tmpwwcni9_v/tmp_func_7b3afee54e3d9037.tar\n",
      "2023-12-17 22:26:57.603 INFO Finish serving ('127.0.0.1', 53167)\n",
      "2023-12-17 22:26:58.970 INFO load_module /var/folders/27/z40g_7vx5q97_wfz_gcd92k40000gn/T/tmpc8qki395/tmp_func_71a378c0180a67d5.tar\n",
      "2023-12-17 22:26:59.183 INFO Finish serving ('127.0.0.1', 53171)\n",
      "2023-12-17 22:27:00.537 INFO load_module /var/folders/27/z40g_7vx5q97_wfz_gcd92k40000gn/T/tmpqk269cgj/tmp_func_ff3b427602ff8f79.tar\n",
      "2023-12-17 22:27:00.737 INFO Finish serving ('127.0.0.1', 53173)\n"
     ]
    },
    {
     "name": "stdout",
     "output_type": "stream",
     "text": [
      "[Task  4/48]  Current/Best:   92.36/  92.36 GFLOPS | Progress: (16/1176) | 29.69 s"
     ]
    },
    {
     "name": "stderr",
     "output_type": "stream",
     "text": [
      "2023-12-17 22:27:02.105 INFO load_module /var/folders/27/z40g_7vx5q97_wfz_gcd92k40000gn/T/tmppc4pushz/tmp_func_af88b007ef328739.tar\n",
      "2023-12-17 22:27:02.306 INFO Finish serving ('127.0.0.1', 53176)\n"
     ]
    },
    {
     "name": "stdout",
     "output_type": "stream",
     "text": [
      " Done.\n",
      "[Task  5/48]  Current/Best:    0.00/   0.00 GFLOPS | Progress: (0/1568) | 0.00 s"
     ]
    },
    {
     "name": "stderr",
     "output_type": "stream",
     "text": [
      "2023-12-17 22:27:05.211 INFO Finish serving ('127.0.0.1', 53180)\n",
      "2023-12-17 22:27:06.231 INFO Finish serving ('127.0.0.1', 53182)\n",
      "2023-12-17 22:27:08.070 INFO load_module /var/folders/27/z40g_7vx5q97_wfz_gcd92k40000gn/T/tmpt7cbqdid/tmp_func_8d0187e840c02769.tar\n",
      "2023-12-17 22:27:08.574 INFO Finish serving ('127.0.0.1', 53184)\n",
      "2023-12-17 22:27:10.109 INFO load_module /var/folders/27/z40g_7vx5q97_wfz_gcd92k40000gn/T/tmpwr6l1x8p/tmp_func_8e90b8e860c5d2cf.tar\n",
      "2023-12-17 22:27:10.559 INFO Finish serving ('127.0.0.1', 53186)\n",
      "2023-12-17 22:27:11.965 INFO load_module /var/folders/27/z40g_7vx5q97_wfz_gcd92k40000gn/T/tmp_yolqme4/tmp_func_b81ee64f6c5b30fc.tar\n",
      "2023-12-17 22:27:12.368 INFO Finish serving ('127.0.0.1', 53188)\n",
      "2023-12-17 22:27:14.065 INFO load_module /var/folders/27/z40g_7vx5q97_wfz_gcd92k40000gn/T/tmp25hqb842/tmp_func_513d5a9e192e1f65.tar\n",
      "2023-12-17 22:27:14.604 INFO Finish serving ('127.0.0.1', 53190)\n",
      "2023-12-17 22:27:16.257 INFO load_module /var/folders/27/z40g_7vx5q97_wfz_gcd92k40000gn/T/tmpu63j_rc5/tmp_func_e86ccc31ebdcf50c.tar\n",
      "2023-12-17 22:27:16.661 INFO Finish serving ('127.0.0.1', 53192)\n",
      "2023-12-17 22:27:18.257 INFO load_module /var/folders/27/z40g_7vx5q97_wfz_gcd92k40000gn/T/tmpa364sfyr/tmp_func_e53716f4cbd2f822.tar\n",
      "2023-12-17 22:27:18.669 INFO Finish serving ('127.0.0.1', 53194)\n",
      "2023-12-17 22:27:20.057 INFO load_module /var/folders/27/z40g_7vx5q97_wfz_gcd92k40000gn/T/tmp25l_bk4l/tmp_func_a43f15be4d8cb591.tar\n",
      "2023-12-17 22:27:20.436 INFO Finish serving ('127.0.0.1', 53196)\n",
      "2023-12-17 22:27:21.930 INFO load_module /var/folders/27/z40g_7vx5q97_wfz_gcd92k40000gn/T/tmpzyxd4i5g/tmp_func_a7c2b1ce84c60834.tar\n",
      "2023-12-17 22:27:22.319 INFO Finish serving ('127.0.0.1', 53198)\n",
      "2023-12-17 22:27:23.797 INFO load_module /var/folders/27/z40g_7vx5q97_wfz_gcd92k40000gn/T/tmpiw1vf71o/tmp_func_e0df081b8be63f53.tar\n",
      "2023-12-17 22:27:24.227 INFO Finish serving ('127.0.0.1', 53200)\n",
      "2023-12-17 22:27:25.694 INFO load_module /var/folders/27/z40g_7vx5q97_wfz_gcd92k40000gn/T/tmp2gcqqev8/tmp_func_3db88b1095eaf1d.tar\n",
      "2023-12-17 22:27:26.029 INFO Finish serving ('127.0.0.1', 53202)\n",
      "2023-12-17 22:27:27.310 INFO load_module /var/folders/27/z40g_7vx5q97_wfz_gcd92k40000gn/T/tmp0i20xfbn/tmp_func_531d1ae6733c1147.tar\n",
      "2023-12-17 22:27:27.629 INFO Finish serving ('127.0.0.1', 53204)\n",
      "2023-12-17 22:27:28.937 INFO load_module /var/folders/27/z40g_7vx5q97_wfz_gcd92k40000gn/T/tmp6hpgan3n/tmp_func_954324fa1cf81578.tar\n",
      "2023-12-17 22:27:29.260 INFO Finish serving ('127.0.0.1', 53206)\n",
      "2023-12-17 22:27:30.621 INFO load_module /var/folders/27/z40g_7vx5q97_wfz_gcd92k40000gn/T/tmpotrec660/tmp_func_6a404a82b6a552f5.tar\n",
      "2023-12-17 22:27:30.949 INFO Finish serving ('127.0.0.1', 53208)\n",
      "2023-12-17 22:27:32.416 INFO load_module /var/folders/27/z40g_7vx5q97_wfz_gcd92k40000gn/T/tmpo3829hz3/tmp_func_412198e5b2a83f50.tar\n",
      "2023-12-17 22:27:32.770 INFO Finish serving ('127.0.0.1', 53210)\n",
      "2023-12-17 22:27:34.084 INFO load_module /var/folders/27/z40g_7vx5q97_wfz_gcd92k40000gn/T/tmp0_vm_82g/tmp_func_25d219c66ac7b6e3.tar\n",
      "2023-12-17 22:27:34.413 INFO Finish serving ('127.0.0.1', 53212)\n",
      "2023-12-17 22:27:35.734 INFO load_module /var/folders/27/z40g_7vx5q97_wfz_gcd92k40000gn/T/tmpq5tksbg2/tmp_func_c3144df9976fe12a.tar\n"
     ]
    },
    {
     "name": "stdout",
     "output_type": "stream",
     "text": [
      "[Task  5/48]  Current/Best:   88.00/  92.26 GFLOPS | Progress: (16/1568) | 33.57 s Done.\n",
      "[Task  6/48]  Current/Best:    0.00/   0.00 GFLOPS | Progress: (0/3584) | 0.00 s"
     ]
    },
    {
     "name": "stderr",
     "output_type": "stream",
     "text": [
      "2023-12-17 22:27:36.050 INFO Finish serving ('127.0.0.1', 53214)\n",
      "2023-12-17 22:27:38.957 INFO Finish serving ('127.0.0.1', 53218)\n",
      "2023-12-17 22:27:39.962 INFO Finish serving ('127.0.0.1', 53220)\n",
      "2023-12-17 22:27:41.330 INFO load_module /var/folders/27/z40g_7vx5q97_wfz_gcd92k40000gn/T/tmp40w8dxzp/tmp_func_36d80e27d792cebb.tar\n",
      "2023-12-17 22:27:41.677 INFO Finish serving ('127.0.0.1', 53222)\n",
      "2023-12-17 22:27:43.002 INFO load_module /var/folders/27/z40g_7vx5q97_wfz_gcd92k40000gn/T/tmp9vtfd9qt/tmp_func_e171f560ab9307f9.tar\n",
      "2023-12-17 22:27:43.369 INFO Finish serving ('127.0.0.1', 53224)\n",
      "2023-12-17 22:27:44.723 INFO load_module /var/folders/27/z40g_7vx5q97_wfz_gcd92k40000gn/T/tmppgt144sk/tmp_func_4a204db120c3a443.tar\n",
      "2023-12-17 22:27:45.094 INFO Finish serving ('127.0.0.1', 53226)\n",
      "2023-12-17 22:27:46.571 INFO load_module /var/folders/27/z40g_7vx5q97_wfz_gcd92k40000gn/T/tmpisx9y1yr/tmp_func_571355ad2534f4e9.tar\n",
      "2023-12-17 22:27:46.928 INFO Finish serving ('127.0.0.1', 53228)\n",
      "2023-12-17 22:27:48.256 INFO load_module /var/folders/27/z40g_7vx5q97_wfz_gcd92k40000gn/T/tmpicms5qdm/tmp_func_d4f15122df588dd6.tar\n",
      "2023-12-17 22:27:48.622 INFO Finish serving ('127.0.0.1', 53230)\n",
      "2023-12-17 22:27:50.242 INFO load_module /var/folders/27/z40g_7vx5q97_wfz_gcd92k40000gn/T/tmpaey6vwlr/tmp_func_3c33a188aa522d6b.tar\n",
      "2023-12-17 22:27:50.613 INFO Finish serving ('127.0.0.1', 53232)\n",
      "2023-12-17 22:27:51.942 INFO load_module /var/folders/27/z40g_7vx5q97_wfz_gcd92k40000gn/T/tmpwf6f20y6/tmp_func_9ac708394341e1d4.tar\n",
      "2023-12-17 22:27:52.324 INFO Finish serving ('127.0.0.1', 53234)\n",
      "2023-12-17 22:27:53.598 INFO load_module /var/folders/27/z40g_7vx5q97_wfz_gcd92k40000gn/T/tmps6hacn3m/tmp_func_d99f63a050a47955.tar\n",
      "2023-12-17 22:27:54.022 INFO Finish serving ('127.0.0.1', 53236)\n",
      "2023-12-17 22:27:55.486 INFO load_module /var/folders/27/z40g_7vx5q97_wfz_gcd92k40000gn/T/tmp3rwek_bj/tmp_func_61e9a9ffe5c5324d.tar\n",
      "2023-12-17 22:27:55.968 INFO Finish serving ('127.0.0.1', 53238)\n",
      "2023-12-17 22:27:57.213 INFO load_module /var/folders/27/z40g_7vx5q97_wfz_gcd92k40000gn/T/tmpz7lkmi2l/tmp_func_dcd0b7395dc3f945.tar\n",
      "2023-12-17 22:27:57.679 INFO Finish serving ('127.0.0.1', 53240)\n",
      "2023-12-17 22:27:59.028 INFO load_module /var/folders/27/z40g_7vx5q97_wfz_gcd92k40000gn/T/tmpq6mvwrrt/tmp_func_ffe84c59c819cd7f.tar\n",
      "2023-12-17 22:27:59.489 INFO Finish serving ('127.0.0.1', 53242)\n",
      "2023-12-17 22:28:00.824 INFO load_module /var/folders/27/z40g_7vx5q97_wfz_gcd92k40000gn/T/tmpji9h2j_z/tmp_func_d9514b29f2641e89.tar\n",
      "2023-12-17 22:28:01.273 INFO Finish serving ('127.0.0.1', 53244)\n",
      "2023-12-17 22:28:02.561 INFO load_module /var/folders/27/z40g_7vx5q97_wfz_gcd92k40000gn/T/tmpkyzf3vfa/tmp_func_c24b3b73163a2365.tar\n",
      "2023-12-17 22:28:03.046 INFO Finish serving ('127.0.0.1', 53246)\n",
      "2023-12-17 22:28:04.398 INFO load_module /var/folders/27/z40g_7vx5q97_wfz_gcd92k40000gn/T/tmpzhgphpbj/tmp_func_e25428fbfd70ae9.tar\n",
      "2023-12-17 22:28:04.904 INFO Finish serving ('127.0.0.1', 53248)\n",
      "2023-12-17 22:28:06.134 INFO load_module /var/folders/27/z40g_7vx5q97_wfz_gcd92k40000gn/T/tmpimaatt_w/tmp_func_4aa8a81e6799c706.tar\n",
      "2023-12-17 22:28:06.638 INFO Finish serving ('127.0.0.1', 53250)\n",
      "2023-12-17 22:28:08.070 INFO load_module /var/folders/27/z40g_7vx5q97_wfz_gcd92k40000gn/T/tmplx_6cy0b/tmp_func_2018df8e0d70f66b.tar\n"
     ]
    },
    {
     "name": "stdout",
     "output_type": "stream",
     "text": [
      "[Task  6/48]  Current/Best:    3.88/  18.74 GFLOPS | Progress: (16/3584) | 32.40 s Done.\n",
      "[Task  7/48]  Current/Best:    0.00/   0.00 GFLOPS | Progress: (0/1792) | 0.00 s"
     ]
    },
    {
     "name": "stderr",
     "output_type": "stream",
     "text": [
      "2023-12-17 22:28:08.637 INFO Finish serving ('127.0.0.1', 53252)\n",
      "2023-12-17 22:28:11.602 INFO Finish serving ('127.0.0.1', 53256)\n",
      "2023-12-17 22:28:12.590 INFO Finish serving ('127.0.0.1', 53258)\n",
      "2023-12-17 22:28:14.572 INFO load_module /var/folders/27/z40g_7vx5q97_wfz_gcd92k40000gn/T/tmpof7fn_8n/tmp_func_cce424bfbc18fb3b.tar\n",
      "2023-12-17 22:28:14.794 INFO Finish serving ('127.0.0.1', 53260)\n",
      "2023-12-17 22:28:16.032 INFO load_module /var/folders/27/z40g_7vx5q97_wfz_gcd92k40000gn/T/tmpzxy6l1rc/tmp_func_70f0c9442a83a45c.tar\n",
      "2023-12-17 22:28:16.310 INFO Finish serving ('127.0.0.1', 53262)\n",
      "2023-12-17 22:28:17.605 INFO load_module /var/folders/27/z40g_7vx5q97_wfz_gcd92k40000gn/T/tmpgxj9loil/tmp_func_90379fdea74db518.tar\n",
      "2023-12-17 22:28:17.861 INFO Finish serving ('127.0.0.1', 53264)\n",
      "2023-12-17 22:28:19.370 INFO load_module /var/folders/27/z40g_7vx5q97_wfz_gcd92k40000gn/T/tmpw__xscei/tmp_func_f592044356aa7583.tar\n",
      "2023-12-17 22:28:19.677 INFO Finish serving ('127.0.0.1', 53266)\n",
      "2023-12-17 22:28:21.044 INFO load_module /var/folders/27/z40g_7vx5q97_wfz_gcd92k40000gn/T/tmpaoajbdpg/tmp_func_1cd7090616056a20.tar\n",
      "2023-12-17 22:28:21.294 INFO Finish serving ('127.0.0.1', 53268)\n",
      "2023-12-17 22:28:22.846 INFO load_module /var/folders/27/z40g_7vx5q97_wfz_gcd92k40000gn/T/tmpvvbqkwv8/tmp_func_2ebae3e4a8c2f0a5.tar\n",
      "2023-12-17 22:28:23.089 INFO Finish serving ('127.0.0.1', 53270)\n",
      "2023-12-17 22:28:24.845 INFO load_module /var/folders/27/z40g_7vx5q97_wfz_gcd92k40000gn/T/tmp30xs1wjk/tmp_func_7d483b77e73da1b2.tar\n",
      "2023-12-17 22:28:25.088 INFO Finish serving ('127.0.0.1', 53272)\n",
      "2023-12-17 22:28:26.418 INFO load_module /var/folders/27/z40g_7vx5q97_wfz_gcd92k40000gn/T/tmpi1raticl/tmp_func_54df1c4ec9206df7.tar\n",
      "2023-12-17 22:28:26.662 INFO Finish serving ('127.0.0.1', 53274)\n",
      "2023-12-17 22:28:28.091 INFO load_module /var/folders/27/z40g_7vx5q97_wfz_gcd92k40000gn/T/tmpemtgz8o_/tmp_func_4d48ce96a27b643f.tar\n",
      "2023-12-17 22:28:28.335 INFO Finish serving ('127.0.0.1', 53276)\n",
      "2023-12-17 22:28:29.868 INFO load_module /var/folders/27/z40g_7vx5q97_wfz_gcd92k40000gn/T/tmpua90gvud/tmp_func_67a61141e571b679.tar\n",
      "2023-12-17 22:28:30.120 INFO Finish serving ('127.0.0.1', 53278)\n",
      "2023-12-17 22:28:31.533 INFO load_module /var/folders/27/z40g_7vx5q97_wfz_gcd92k40000gn/T/tmptxlkhocj/tmp_func_7a7bcc2273dfbf07.tar\n",
      "2023-12-17 22:28:31.779 INFO Finish serving ('127.0.0.1', 53280)\n",
      "2023-12-17 22:28:33.336 INFO load_module /var/folders/27/z40g_7vx5q97_wfz_gcd92k40000gn/T/tmp98v1lk8l/tmp_func_e28fee8ede5cf7ef.tar\n",
      "2023-12-17 22:28:33.588 INFO Finish serving ('127.0.0.1', 53282)\n",
      "2023-12-17 22:28:34.906 INFO load_module /var/folders/27/z40g_7vx5q97_wfz_gcd92k40000gn/T/tmpl5xsn7jc/tmp_func_c01ccc84de4eb90.tar\n",
      "2023-12-17 22:28:35.155 INFO Finish serving ('127.0.0.1', 53284)\n",
      "2023-12-17 22:28:36.500 INFO load_module /var/folders/27/z40g_7vx5q97_wfz_gcd92k40000gn/T/tmpqfkyducb/tmp_func_f7e7fcbe6a2e2a58.tar\n",
      "2023-12-17 22:28:36.753 INFO Finish serving ('127.0.0.1', 53286)\n",
      "2023-12-17 22:28:38.236 INFO load_module /var/folders/27/z40g_7vx5q97_wfz_gcd92k40000gn/T/tmp5x6w8s2q/tmp_func_556ac13cb8fa2471.tar\n",
      "2023-12-17 22:28:38.501 INFO Finish serving ('127.0.0.1', 53288)\n",
      "2023-12-17 22:28:40.155 INFO load_module /var/folders/27/z40g_7vx5q97_wfz_gcd92k40000gn/T/tmphx95p38i/tmp_func_6c2d696dd099b7b.tar\n"
     ]
    },
    {
     "name": "stdout",
     "output_type": "stream",
     "text": [
      "[Task  7/48]  Current/Best:   55.71/  86.39 GFLOPS | Progress: (16/1792) | 31.59 s Done.\n",
      "[Task  8/48]  Current/Best:    0.00/   0.00 GFLOPS | Progress: (0/2016) | 0.00 s"
     ]
    },
    {
     "name": "stderr",
     "output_type": "stream",
     "text": [
      "2023-12-17 22:28:40.402 INFO Finish serving ('127.0.0.1', 53290)\n",
      "2023-12-17 22:28:43.512 INFO Finish serving ('127.0.0.1', 53294)\n",
      "2023-12-17 22:28:44.738 INFO Finish serving ('127.0.0.1', 53296)\n",
      "2023-12-17 22:28:46.975 INFO load_module /var/folders/27/z40g_7vx5q97_wfz_gcd92k40000gn/T/tmpf5lb1w13/tmp_func_f52e403a95fdff4b.tar\n",
      "2023-12-17 22:28:47.349 INFO Finish serving ('127.0.0.1', 53298)\n",
      "2023-12-17 22:28:49.259 INFO load_module /var/folders/27/z40g_7vx5q97_wfz_gcd92k40000gn/T/tmpep_bpf3w/tmp_func_8ba4395f6fa36e23.tar\n",
      "2023-12-17 22:28:49.797 INFO Finish serving ('127.0.0.1', 53300)\n",
      "2023-12-17 22:28:51.346 INFO load_module /var/folders/27/z40g_7vx5q97_wfz_gcd92k40000gn/T/tmpjsp4vcpd/tmp_func_f64489ad3692409.tar\n",
      "2023-12-17 22:28:51.731 INFO Finish serving ('127.0.0.1', 53302)\n",
      "2023-12-17 22:28:53.257 INFO load_module /var/folders/27/z40g_7vx5q97_wfz_gcd92k40000gn/T/tmp_s2omknn/tmp_func_4ecf88c30d410262.tar\n",
      "2023-12-17 22:28:53.589 INFO Finish serving ('127.0.0.1', 53304)\n",
      "2023-12-17 22:28:54.952 INFO load_module /var/folders/27/z40g_7vx5q97_wfz_gcd92k40000gn/T/tmpiaehayir/tmp_func_12f11ffdf8484696.tar\n",
      "2023-12-17 22:28:55.339 INFO Finish serving ('127.0.0.1', 53306)\n",
      "2023-12-17 22:28:56.824 INFO load_module /var/folders/27/z40g_7vx5q97_wfz_gcd92k40000gn/T/tmpvv90nt9r/tmp_func_c39476b813f14727.tar\n",
      "2023-12-17 22:28:57.170 INFO Finish serving ('127.0.0.1', 53308)\n",
      "2023-12-17 22:28:58.637 INFO load_module /var/folders/27/z40g_7vx5q97_wfz_gcd92k40000gn/T/tmpu058yio5/tmp_func_f3c166e15305067c.tar\n",
      "2023-12-17 22:28:58.958 INFO Finish serving ('127.0.0.1', 53310)\n",
      "2023-12-17 22:29:00.497 INFO load_module /var/folders/27/z40g_7vx5q97_wfz_gcd92k40000gn/T/tmpckxzqnax/tmp_func_d9e7f72e72b75044.tar\n",
      "2023-12-17 22:29:00.846 INFO Finish serving ('127.0.0.1', 53313)\n",
      "2023-12-17 22:29:02.595 INFO load_module /var/folders/27/z40g_7vx5q97_wfz_gcd92k40000gn/T/tmpe_vcfhba/tmp_func_4de772ea73d40345.tar\n",
      "2023-12-17 22:29:02.932 INFO Finish serving ('127.0.0.1', 53315)\n",
      "2023-12-17 22:29:04.694 INFO load_module /var/folders/27/z40g_7vx5q97_wfz_gcd92k40000gn/T/tmp28et232w/tmp_func_fc124b19b48d245f.tar\n",
      "2023-12-17 22:29:05.016 INFO Finish serving ('127.0.0.1', 53317)\n",
      "2023-12-17 22:29:06.544 INFO load_module /var/folders/27/z40g_7vx5q97_wfz_gcd92k40000gn/T/tmpd8ze_sb1/tmp_func_fed9bf38957c999d.tar\n",
      "2023-12-17 22:29:06.830 INFO Finish serving ('127.0.0.1', 53319)\n",
      "2023-12-17 22:29:08.658 INFO load_module /var/folders/27/z40g_7vx5q97_wfz_gcd92k40000gn/T/tmp7ecz67_f/tmp_func_1b812b321a04d0df.tar\n",
      "2023-12-17 22:29:08.947 INFO Finish serving ('127.0.0.1', 53321)\n",
      "2023-12-17 22:29:10.563 INFO load_module /var/folders/27/z40g_7vx5q97_wfz_gcd92k40000gn/T/tmpm0hkcv8u/tmp_func_67582da5752115bf.tar\n",
      "2023-12-17 22:29:10.836 INFO Finish serving ('127.0.0.1', 53323)\n",
      "2023-12-17 22:29:12.424 INFO load_module /var/folders/27/z40g_7vx5q97_wfz_gcd92k40000gn/T/tmpejmxbvjl/tmp_func_944943924687737b.tar\n",
      "2023-12-17 22:29:12.715 INFO Finish serving ('127.0.0.1', 53325)\n",
      "2023-12-17 22:29:14.236 INFO load_module /var/folders/27/z40g_7vx5q97_wfz_gcd92k40000gn/T/tmpenud_ljh/tmp_func_baa6ffd7dfb647cd.tar\n",
      "2023-12-17 22:29:14.510 INFO Finish serving ('127.0.0.1', 53327)\n",
      "2023-12-17 22:29:16.325 INFO load_module /var/folders/27/z40g_7vx5q97_wfz_gcd92k40000gn/T/tmpjt9s02ku/tmp_func_48a966608ad82db4.tar\n"
     ]
    },
    {
     "name": "stdout",
     "output_type": "stream",
     "text": [
      "[Task  8/48]  Current/Best:   76.12/  91.72 GFLOPS | Progress: (16/2016) | 36.03 s Done.\n",
      "[Task  9/48]  Current/Best:    0.00/   0.00 GFLOPS | Progress: (0/4536) | 0.00 s"
     ]
    },
    {
     "name": "stderr",
     "output_type": "stream",
     "text": [
      "2023-12-17 22:29:16.609 INFO Finish serving ('127.0.0.1', 53329)\n",
      "2023-12-17 22:29:19.996 INFO Finish serving ('127.0.0.1', 53333)\n",
      "2023-12-17 22:29:21.084 INFO Finish serving ('127.0.0.1', 53335)\n",
      "2023-12-17 22:29:23.044 INFO load_module /var/folders/27/z40g_7vx5q97_wfz_gcd92k40000gn/T/tmpfjj0g83g/tmp_func_9b1e27474ae7cab2.tar\n",
      "2023-12-17 22:29:23.301 INFO Finish serving ('127.0.0.1', 53337)\n",
      "2023-12-17 22:29:24.715 INFO load_module /var/folders/27/z40g_7vx5q97_wfz_gcd92k40000gn/T/tmpoeciwyyc/tmp_func_69087f0fec5b993.tar\n",
      "2023-12-17 22:29:24.975 INFO Finish serving ('127.0.0.1', 53339)\n",
      "2023-12-17 22:29:26.305 INFO load_module /var/folders/27/z40g_7vx5q97_wfz_gcd92k40000gn/T/tmpfzhkjes0/tmp_func_aef87c70fe3a9dca.tar\n",
      "2023-12-17 22:29:26.568 INFO Finish serving ('127.0.0.1', 53341)\n",
      "2023-12-17 22:29:28.065 INFO load_module /var/folders/27/z40g_7vx5q97_wfz_gcd92k40000gn/T/tmpompp7kii/tmp_func_a1b1dec10d4a2f16.tar\n",
      "2023-12-17 22:29:28.324 INFO Finish serving ('127.0.0.1', 53343)\n",
      "2023-12-17 22:29:29.859 INFO load_module /var/folders/27/z40g_7vx5q97_wfz_gcd92k40000gn/T/tmp94ujqfw0/tmp_func_a1805bb039f9cc64.tar\n",
      "2023-12-17 22:29:30.126 INFO Finish serving ('127.0.0.1', 53345)\n",
      "2023-12-17 22:29:31.447 INFO load_module /var/folders/27/z40g_7vx5q97_wfz_gcd92k40000gn/T/tmp1abtfx2m/tmp_func_f2b84249bac1934.tar\n",
      "2023-12-17 22:29:31.719 INFO Finish serving ('127.0.0.1', 53347)\n",
      "2023-12-17 22:29:33.105 INFO load_module /var/folders/27/z40g_7vx5q97_wfz_gcd92k40000gn/T/tmpbg_kpdzv/tmp_func_fd49c1af9b653a81.tar\n",
      "2023-12-17 22:29:33.364 INFO Finish serving ('127.0.0.1', 53349)\n",
      "2023-12-17 22:29:34.678 INFO load_module /var/folders/27/z40g_7vx5q97_wfz_gcd92k40000gn/T/tmp2tvtwxe2/tmp_func_e0907247fe9e7bec.tar\n",
      "2023-12-17 22:29:34.948 INFO Finish serving ('127.0.0.1', 53351)\n",
      "2023-12-17 22:29:36.442 INFO load_module /var/folders/27/z40g_7vx5q97_wfz_gcd92k40000gn/T/tmp6tnmnp08/tmp_func_8b3ad98cc155a52b.tar\n",
      "2023-12-17 22:29:36.712 INFO Finish serving ('127.0.0.1', 53353)\n",
      "2023-12-17 22:29:38.247 INFO load_module /var/folders/27/z40g_7vx5q97_wfz_gcd92k40000gn/T/tmpxwfjtf8k/tmp_func_5a9ca47e6e906e5f.tar\n",
      "2023-12-17 22:29:38.538 INFO Finish serving ('127.0.0.1', 53355)\n",
      "2023-12-17 22:29:39.942 INFO load_module /var/folders/27/z40g_7vx5q97_wfz_gcd92k40000gn/T/tmpdx1rjgn6/tmp_func_85f04a95f6c96a4b.tar\n",
      "2023-12-17 22:29:40.219 INFO Finish serving ('127.0.0.1', 53357)\n",
      "2023-12-17 22:29:41.556 INFO load_module /var/folders/27/z40g_7vx5q97_wfz_gcd92k40000gn/T/tmpziwyycf0/tmp_func_386db97130807170.tar\n",
      "2023-12-17 22:29:41.834 INFO Finish serving ('127.0.0.1', 53359)\n",
      "2023-12-17 22:29:43.173 INFO load_module /var/folders/27/z40g_7vx5q97_wfz_gcd92k40000gn/T/tmpic632ema/tmp_func_f53ccc3874a8695c.tar\n",
      "2023-12-17 22:29:43.442 INFO Finish serving ('127.0.0.1', 53361)\n",
      "2023-12-17 22:29:44.805 INFO load_module /var/folders/27/z40g_7vx5q97_wfz_gcd92k40000gn/T/tmpe_88z5bs/tmp_func_e539200bb729833b.tar\n",
      "2023-12-17 22:29:45.098 INFO Finish serving ('127.0.0.1', 53363)\n",
      "2023-12-17 22:29:46.635 INFO load_module /var/folders/27/z40g_7vx5q97_wfz_gcd92k40000gn/T/tmpuh7j2zm4/tmp_func_6a9fd6878c9929b0.tar\n",
      "2023-12-17 22:29:46.919 INFO Finish serving ('127.0.0.1', 53365)\n",
      "2023-12-17 22:29:48.308 INFO load_module /var/folders/27/z40g_7vx5q97_wfz_gcd92k40000gn/T/tmp49rg0buo/tmp_func_c0b77fdd4f03740d.tar\n"
     ]
    },
    {
     "name": "stdout",
     "output_type": "stream",
     "text": [
      "[Task  9/48]  Current/Best:   14.61/  37.34 GFLOPS | Progress: (16/4536) | 31.80 s Done.\n",
      "[Task 10/48]  Current/Best:    0.00/   0.00 GFLOPS | Progress: (0/2016) | 0.00 s"
     ]
    },
    {
     "name": "stderr",
     "output_type": "stream",
     "text": [
      "2023-12-17 22:29:48.608 INFO Finish serving ('127.0.0.1', 53367)\n",
      "2023-12-17 22:29:51.746 INFO Finish serving ('127.0.0.1', 53371)\n",
      "2023-12-17 22:29:52.876 INFO Finish serving ('127.0.0.1', 53373)\n",
      "2023-12-17 22:29:55.134 INFO load_module /var/folders/27/z40g_7vx5q97_wfz_gcd92k40000gn/T/tmpv_qvtfu8/tmp_func_1d424e5446066d10.tar\n",
      "2023-12-17 22:29:55.458 INFO Finish serving ('127.0.0.1', 53375)\n",
      "2023-12-17 22:29:56.768 INFO load_module /var/folders/27/z40g_7vx5q97_wfz_gcd92k40000gn/T/tmpet7q6qjg/tmp_func_9d4b4fa6c384c486.tar\n",
      "2023-12-17 22:29:57.203 INFO Finish serving ('127.0.0.1', 53377)\n",
      "2023-12-17 22:29:58.565 INFO load_module /var/folders/27/z40g_7vx5q97_wfz_gcd92k40000gn/T/tmp3mq00wua/tmp_func_cfbd6398b5061f41.tar\n",
      "2023-12-17 22:29:58.974 INFO Finish serving ('127.0.0.1', 53379)\n",
      "2023-12-17 22:30:00.366 INFO load_module /var/folders/27/z40g_7vx5q97_wfz_gcd92k40000gn/T/tmpfu1i_67b/tmp_func_b7571cd3666cfe0b.tar\n",
      "2023-12-17 22:30:00.757 INFO Finish serving ('127.0.0.1', 53381)\n",
      "2023-12-17 22:30:02.038 INFO load_module /var/folders/27/z40g_7vx5q97_wfz_gcd92k40000gn/T/tmpmpmx8baz/tmp_func_cb479ee250954cc3.tar\n",
      "2023-12-17 22:30:02.437 INFO Finish serving ('127.0.0.1', 53383)\n",
      "2023-12-17 22:30:03.807 INFO load_module /var/folders/27/z40g_7vx5q97_wfz_gcd92k40000gn/T/tmp7_h_ch0x/tmp_func_eb1833b7689bef09.tar\n",
      "2023-12-17 22:30:04.201 INFO Finish serving ('127.0.0.1', 53385)\n",
      "2023-12-17 22:30:05.616 INFO load_module /var/folders/27/z40g_7vx5q97_wfz_gcd92k40000gn/T/tmpr94fpa6g/tmp_func_aab81e8cc487cf16.tar\n",
      "2023-12-17 22:30:05.997 INFO Finish serving ('127.0.0.1', 53387)\n",
      "2023-12-17 22:30:07.299 INFO load_module /var/folders/27/z40g_7vx5q97_wfz_gcd92k40000gn/T/tmpawvb5sfx/tmp_func_acfe6ee4d2bddb9a.tar\n",
      "2023-12-17 22:30:07.684 INFO Finish serving ('127.0.0.1', 53389)\n",
      "2023-12-17 22:30:08.969 INFO load_module /var/folders/27/z40g_7vx5q97_wfz_gcd92k40000gn/T/tmpobl07alj/tmp_func_379d94cbbe5b5e18.tar\n",
      "2023-12-17 22:30:09.350 INFO Finish serving ('127.0.0.1', 53391)\n",
      "2023-12-17 22:30:10.857 INFO load_module /var/folders/27/z40g_7vx5q97_wfz_gcd92k40000gn/T/tmpt1w2fly3/tmp_func_437c005f58fb11ac.tar\n",
      "2023-12-17 22:30:11.242 INFO Finish serving ('127.0.0.1', 53393)\n",
      "2023-12-17 22:30:12.547 INFO load_module /var/folders/27/z40g_7vx5q97_wfz_gcd92k40000gn/T/tmpguq1oec1/tmp_func_50c4c3fd6e631649.tar\n",
      "2023-12-17 22:30:12.935 INFO Finish serving ('127.0.0.1', 53395)\n",
      "2023-12-17 22:30:14.422 INFO load_module /var/folders/27/z40g_7vx5q97_wfz_gcd92k40000gn/T/tmpyjt3m8ec/tmp_func_63191bc19bedda54.tar\n",
      "2023-12-17 22:30:14.805 INFO Finish serving ('127.0.0.1', 53397)\n",
      "2023-12-17 22:30:16.152 INFO load_module /var/folders/27/z40g_7vx5q97_wfz_gcd92k40000gn/T/tmpq17p4wbf/tmp_func_e042311256b54983.tar\n",
      "2023-12-17 22:30:16.521 INFO Finish serving ('127.0.0.1', 53399)\n",
      "2023-12-17 22:30:18.303 INFO load_module /var/folders/27/z40g_7vx5q97_wfz_gcd92k40000gn/T/tmpzsnbnesn/tmp_func_99b4bb3f63b7b35e.tar\n",
      "2023-12-17 22:30:18.692 INFO Finish serving ('127.0.0.1', 53401)\n",
      "2023-12-17 22:30:20.191 INFO load_module /var/folders/27/z40g_7vx5q97_wfz_gcd92k40000gn/T/tmpismd_dt0/tmp_func_eff6893dc32625b0.tar\n",
      "2023-12-17 22:30:20.653 INFO Finish serving ('127.0.0.1', 53403)\n",
      "2023-12-17 22:30:22.484 INFO load_module /var/folders/27/z40g_7vx5q97_wfz_gcd92k40000gn/T/tmpqly1sv10/tmp_func_fa7f38d0af2f2671.tar\n"
     ]
    },
    {
     "name": "stdout",
     "output_type": "stream",
     "text": [
      "[Task 10/48]  Current/Best:   40.23/  78.15 GFLOPS | Progress: (16/2016) | 34.11 s Done.\n",
      "[Task 11/48]  Current/Best:    0.00/   0.00 GFLOPS | Progress: (0/3888) | 0.00 s"
     ]
    },
    {
     "name": "stderr",
     "output_type": "stream",
     "text": [
      "2023-12-17 22:30:22.907 INFO Finish serving ('127.0.0.1', 53405)\n",
      "2023-12-17 22:30:26.143 INFO Finish serving ('127.0.0.1', 53409)\n",
      "2023-12-17 22:30:27.236 INFO Finish serving ('127.0.0.1', 53411)\n",
      "2023-12-17 22:30:28.684 INFO load_module /var/folders/27/z40g_7vx5q97_wfz_gcd92k40000gn/T/tmpflfydy1z/tmp_func_fcf878366eaeab31.tar\n",
      "2023-12-17 22:30:28.911 INFO Finish serving ('127.0.0.1', 53413)\n",
      "2023-12-17 22:30:30.383 INFO load_module /var/folders/27/z40g_7vx5q97_wfz_gcd92k40000gn/T/tmp19nqvi3e/tmp_func_fbfd2e1774712ffa.tar\n",
      "2023-12-17 22:30:30.609 INFO Finish serving ('127.0.0.1', 53415)\n",
      "2023-12-17 22:30:32.549 INFO load_module /var/folders/27/z40g_7vx5q97_wfz_gcd92k40000gn/T/tmpgjz_thre/tmp_func_43fa87501f249751.tar\n",
      "2023-12-17 22:30:32.772 INFO Finish serving ('127.0.0.1', 53417)\n",
      "2023-12-17 22:30:34.212 INFO load_module /var/folders/27/z40g_7vx5q97_wfz_gcd92k40000gn/T/tmp1cn9nmmh/tmp_func_71a604c0909b2fcd.tar\n",
      "2023-12-17 22:30:34.439 INFO Finish serving ('127.0.0.1', 53419)\n",
      "2023-12-17 22:30:36.015 INFO load_module /var/folders/27/z40g_7vx5q97_wfz_gcd92k40000gn/T/tmp3ynxr8_l/tmp_func_97365546f02e7eca.tar\n",
      "2023-12-17 22:30:36.239 INFO Finish serving ('127.0.0.1', 53421)\n",
      "2023-12-17 22:30:37.667 INFO load_module /var/folders/27/z40g_7vx5q97_wfz_gcd92k40000gn/T/tmpkgrtwm02/tmp_func_42128c0033d3bb49.tar\n",
      "2023-12-17 22:30:37.899 INFO Finish serving ('127.0.0.1', 53423)\n",
      "2023-12-17 22:30:39.356 INFO load_module /var/folders/27/z40g_7vx5q97_wfz_gcd92k40000gn/T/tmpyhlspi5e/tmp_func_791c0fe421b34cfc.tar\n",
      "2023-12-17 22:30:39.630 INFO Finish serving ('127.0.0.1', 53425)\n",
      "2023-12-17 22:30:41.268 INFO load_module /var/folders/27/z40g_7vx5q97_wfz_gcd92k40000gn/T/tmp2p3quwa9/tmp_func_91d6c20645a0517d.tar\n",
      "2023-12-17 22:30:41.503 INFO Finish serving ('127.0.0.1', 53427)\n",
      "2023-12-17 22:30:43.031 INFO load_module /var/folders/27/z40g_7vx5q97_wfz_gcd92k40000gn/T/tmpzjxutmp3/tmp_func_ee35abc65197e3aa.tar\n",
      "2023-12-17 22:30:43.282 INFO Finish serving ('127.0.0.1', 53429)\n",
      "2023-12-17 22:30:44.832 INFO load_module /var/folders/27/z40g_7vx5q97_wfz_gcd92k40000gn/T/tmpmt7vphbz/tmp_func_df9af986932c881e.tar\n",
      "2023-12-17 22:30:45.078 INFO Finish serving ('127.0.0.1', 53431)\n",
      "2023-12-17 22:30:46.571 INFO load_module /var/folders/27/z40g_7vx5q97_wfz_gcd92k40000gn/T/tmpx0u2wff_/tmp_func_fbd8f3da0b64e7ad.tar\n",
      "2023-12-17 22:30:46.809 INFO Finish serving ('127.0.0.1', 53433)\n",
      "2023-12-17 22:30:48.603 INFO load_module /var/folders/27/z40g_7vx5q97_wfz_gcd92k40000gn/T/tmpbe1bvtci/tmp_func_487d3b7ef4f01a00.tar\n",
      "2023-12-17 22:30:48.847 INFO Finish serving ('127.0.0.1', 53435)\n",
      "2023-12-17 22:30:50.602 INFO load_module /var/folders/27/z40g_7vx5q97_wfz_gcd92k40000gn/T/tmp7590759h/tmp_func_b4e912ae3f80138.tar\n",
      "2023-12-17 22:30:50.847 INFO Finish serving ('127.0.0.1', 53437)\n",
      "2023-12-17 22:30:52.475 INFO load_module /var/folders/27/z40g_7vx5q97_wfz_gcd92k40000gn/T/tmp2cm4e4f5/tmp_func_948691d92f6389b8.tar\n",
      "2023-12-17 22:30:52.716 INFO Finish serving ('127.0.0.1', 53439)\n",
      "2023-12-17 22:30:54.270 INFO load_module /var/folders/27/z40g_7vx5q97_wfz_gcd92k40000gn/T/tmpl28b3ebx/tmp_func_6d020f3ce0d31218.tar\n",
      "2023-12-17 22:30:54.525 INFO Finish serving ('127.0.0.1', 53441)\n",
      "2023-12-17 22:30:56.012 INFO load_module /var/folders/27/z40g_7vx5q97_wfz_gcd92k40000gn/T/tmpikqfour4/tmp_func_5660314912b03a46.tar\n"
     ]
    },
    {
     "name": "stdout",
     "output_type": "stream",
     "text": [
      "[Task 11/48]  Current/Best:   12.15/  24.44 GFLOPS | Progress: (16/3888) | 33.17 s Done.\n",
      "[Task 12/48]  Current/Best:    0.00/   0.00 GFLOPS | Progress: (0/1944) | 0.00 s"
     ]
    },
    {
     "name": "stderr",
     "output_type": "stream",
     "text": [
      "2023-12-17 22:30:56.259 INFO Finish serving ('127.0.0.1', 53443)\n",
      "2023-12-17 22:30:59.569 INFO Finish serving ('127.0.0.1', 53447)\n",
      "2023-12-17 22:31:00.669 INFO Finish serving ('127.0.0.1', 53449)\n",
      "2023-12-17 22:31:02.241 INFO load_module /var/folders/27/z40g_7vx5q97_wfz_gcd92k40000gn/T/tmpjedgwqix/tmp_func_e58b94d5530d394.tar\n",
      "2023-12-17 22:31:02.456 INFO Finish serving ('127.0.0.1', 53451)\n",
      "2023-12-17 22:31:04.328 INFO load_module /var/folders/27/z40g_7vx5q97_wfz_gcd92k40000gn/T/tmpcnsk9jqy/tmp_func_5fbcc9af5f32a228.tar\n",
      "2023-12-17 22:31:04.625 INFO Finish serving ('127.0.0.1', 53453)\n",
      "2023-12-17 22:31:06.097 INFO load_module /var/folders/27/z40g_7vx5q97_wfz_gcd92k40000gn/T/tmp8c_a53kb/tmp_func_85923d614dae3243.tar\n",
      "2023-12-17 22:31:06.338 INFO Finish serving ('127.0.0.1', 53455)\n",
      "2023-12-17 22:31:07.769 INFO load_module /var/folders/27/z40g_7vx5q97_wfz_gcd92k40000gn/T/tmpz14kx_o8/tmp_func_35f16e3183948284.tar\n",
      "2023-12-17 22:31:08.043 INFO Finish serving ('127.0.0.1', 53457)\n",
      "2023-12-17 22:31:09.996 INFO load_module /var/folders/27/z40g_7vx5q97_wfz_gcd92k40000gn/T/tmpg3l7lazz/tmp_func_b8d187d7f6074adf.tar\n",
      "2023-12-17 22:31:10.260 INFO Finish serving ('127.0.0.1', 53460)\n",
      "2023-12-17 22:31:11.780 INFO load_module /var/folders/27/z40g_7vx5q97_wfz_gcd92k40000gn/T/tmpt6zwnuu6/tmp_func_c9b016d313062f41.tar\n",
      "2023-12-17 22:31:12.046 INFO Finish serving ('127.0.0.1', 53462)\n",
      "2023-12-17 22:31:13.538 INFO load_module /var/folders/27/z40g_7vx5q97_wfz_gcd92k40000gn/T/tmpssjjm6pw/tmp_func_376d2cbf7b555460.tar\n",
      "2023-12-17 22:31:13.767 INFO Finish serving ('127.0.0.1', 53466)\n",
      "2023-12-17 22:31:15.347 INFO load_module /var/folders/27/z40g_7vx5q97_wfz_gcd92k40000gn/T/tmp_8o0_bzr/tmp_func_8326b7bd8b1dfc16.tar\n",
      "2023-12-17 22:31:15.572 INFO Finish serving ('127.0.0.1', 53469)\n",
      "2023-12-17 22:31:17.066 INFO load_module /var/folders/27/z40g_7vx5q97_wfz_gcd92k40000gn/T/tmp6sggco3f/tmp_func_7ccfc81d63443299.tar\n",
      "2023-12-17 22:31:17.302 INFO Finish serving ('127.0.0.1', 53471)\n",
      "2023-12-17 22:31:19.009 INFO load_module /var/folders/27/z40g_7vx5q97_wfz_gcd92k40000gn/T/tmpxhk2mnwn/tmp_func_2342219c63a8010.tar\n",
      "2023-12-17 22:31:19.233 INFO Finish serving ('127.0.0.1', 53473)\n",
      "2023-12-17 22:31:20.654 INFO load_module /var/folders/27/z40g_7vx5q97_wfz_gcd92k40000gn/T/tmpvavfnzk8/tmp_func_aad1bc2e40baee56.tar\n",
      "2023-12-17 22:31:20.872 INFO Finish serving ('127.0.0.1', 53475)\n",
      "2023-12-17 22:31:22.314 INFO load_module /var/folders/27/z40g_7vx5q97_wfz_gcd92k40000gn/T/tmpgo20cy76/tmp_func_791525bdf1b30041.tar\n",
      "2023-12-17 22:31:22.553 INFO Finish serving ('127.0.0.1', 53480)\n",
      "2023-12-17 22:31:23.933 INFO load_module /var/folders/27/z40g_7vx5q97_wfz_gcd92k40000gn/T/tmpe32a29mb/tmp_func_4dedf5fb699f6c4.tar\n",
      "2023-12-17 22:31:24.147 INFO Finish serving ('127.0.0.1', 53482)\n",
      "2023-12-17 22:31:25.481 INFO load_module /var/folders/27/z40g_7vx5q97_wfz_gcd92k40000gn/T/tmp322582l0/tmp_func_19900f01f67f0299.tar\n",
      "2023-12-17 22:31:25.695 INFO Finish serving ('127.0.0.1', 53484)\n",
      "2023-12-17 22:31:27.057 INFO load_module /var/folders/27/z40g_7vx5q97_wfz_gcd92k40000gn/T/tmpl3w2his4/tmp_func_fe1bddbc50002708.tar\n",
      "2023-12-17 22:31:27.272 INFO Finish serving ('127.0.0.1', 53486)\n",
      "2023-12-17 22:31:29.098 INFO load_module /var/folders/27/z40g_7vx5q97_wfz_gcd92k40000gn/T/tmpu5in79zd/tmp_func_d6350f9f89f079ce.tar\n"
     ]
    },
    {
     "name": "stdout",
     "output_type": "stream",
     "text": [
      "[Task 12/48]  Current/Best:   59.28/  65.92 GFLOPS | Progress: (16/1944) | 32.88 s Done.\n",
      "[Task 13/48]  Current/Best:    0.00/   0.00 GFLOPS | Progress: (0/864) | 0.00 s"
     ]
    },
    {
     "name": "stderr",
     "output_type": "stream",
     "text": [
      "2023-12-17 22:31:29.317 INFO Finish serving ('127.0.0.1', 53488)\n",
      "2023-12-17 22:31:32.754 INFO Finish serving ('127.0.0.1', 53492)\n",
      "2023-12-17 22:31:33.913 INFO Finish serving ('127.0.0.1', 53494)\n",
      "2023-12-17 22:31:35.991 INFO load_module /var/folders/27/z40g_7vx5q97_wfz_gcd92k40000gn/T/tmpkfohjx5a/tmp_func_22b4396c45f38944.tar\n",
      "2023-12-17 22:31:36.170 INFO Finish serving ('127.0.0.1', 53496)\n",
      "2023-12-17 22:31:37.786 INFO load_module /var/folders/27/z40g_7vx5q97_wfz_gcd92k40000gn/T/tmpo4l4auew/tmp_func_ab373186e31bc324.tar\n",
      "2023-12-17 22:31:38.039 INFO Finish serving ('127.0.0.1', 53498)\n",
      "2023-12-17 22:31:39.473 INFO load_module /var/folders/27/z40g_7vx5q97_wfz_gcd92k40000gn/T/tmpybae8hm2/tmp_func_b54ebe29932efcb9.tar\n",
      "2023-12-17 22:31:39.707 INFO Finish serving ('127.0.0.1', 53500)\n",
      "2023-12-17 22:31:41.182 INFO load_module /var/folders/27/z40g_7vx5q97_wfz_gcd92k40000gn/T/tmpfj5dkequ/tmp_func_f10c18a763ed5f4a.tar\n",
      "2023-12-17 22:31:41.439 INFO Finish serving ('127.0.0.1', 53502)\n",
      "2023-12-17 22:31:43.030 INFO load_module /var/folders/27/z40g_7vx5q97_wfz_gcd92k40000gn/T/tmpwkxni89r/tmp_func_94887ee8a36d3bad.tar\n",
      "2023-12-17 22:31:43.262 INFO Finish serving ('127.0.0.1', 53504)\n",
      "2023-12-17 22:31:44.817 INFO load_module /var/folders/27/z40g_7vx5q97_wfz_gcd92k40000gn/T/tmpahuno8u1/tmp_func_894ba3c099152888.tar\n",
      "2023-12-17 22:31:45.099 INFO Finish serving ('127.0.0.1', 53506)\n",
      "2023-12-17 22:31:46.549 INFO load_module /var/folders/27/z40g_7vx5q97_wfz_gcd92k40000gn/T/tmpuwnfx1a5/tmp_func_df74d469ae9c3d62.tar\n",
      "2023-12-17 22:31:46.773 INFO Finish serving ('127.0.0.1', 53508)\n",
      "2023-12-17 22:31:48.379 INFO load_module /var/folders/27/z40g_7vx5q97_wfz_gcd92k40000gn/T/tmp4ljk2iy9/tmp_func_94e4d4672a83b375.tar\n",
      "2023-12-17 22:31:48.630 INFO Finish serving ('127.0.0.1', 53510)\n",
      "2023-12-17 22:31:50.369 INFO load_module /var/folders/27/z40g_7vx5q97_wfz_gcd92k40000gn/T/tmps_10gjfc/tmp_func_83349a27b7d836ce.tar\n",
      "2023-12-17 22:31:50.615 INFO Finish serving ('127.0.0.1', 53512)\n",
      "2023-12-17 22:31:52.234 INFO load_module /var/folders/27/z40g_7vx5q97_wfz_gcd92k40000gn/T/tmpya1d5v8g/tmp_func_92b93b998306b6a3.tar\n",
      "2023-12-17 22:31:52.461 INFO Finish serving ('127.0.0.1', 53516)\n",
      "2023-12-17 22:31:54.038 INFO load_module /var/folders/27/z40g_7vx5q97_wfz_gcd92k40000gn/T/tmpkvrsri5j/tmp_func_c17469ff4d2e06c8.tar\n",
      "2023-12-17 22:31:54.268 INFO Finish serving ('127.0.0.1', 53528)\n",
      "2023-12-17 22:31:55.712 INFO load_module /var/folders/27/z40g_7vx5q97_wfz_gcd92k40000gn/T/tmp7d2v7c5f/tmp_func_1e27cd512529b3a8.tar\n",
      "2023-12-17 22:31:55.924 INFO Finish serving ('127.0.0.1', 53531)\n",
      "2023-12-17 22:31:57.314 INFO load_module /var/folders/27/z40g_7vx5q97_wfz_gcd92k40000gn/T/tmpv9tacyd4/tmp_func_a5023605f897003f.tar\n",
      "2023-12-17 22:31:57.533 INFO Finish serving ('127.0.0.1', 53534)\n",
      "2023-12-17 22:31:58.955 INFO load_module /var/folders/27/z40g_7vx5q97_wfz_gcd92k40000gn/T/tmpluq0l17k/tmp_func_8bf2a972d44d3c01.tar\n",
      "2023-12-17 22:31:59.162 INFO Finish serving ('127.0.0.1', 53537)\n",
      "2023-12-17 22:32:00.515 INFO load_module /var/folders/27/z40g_7vx5q97_wfz_gcd92k40000gn/T/tmp4ztuwjbc/tmp_func_bc28309eeb6ef7e4.tar\n",
      "2023-12-17 22:32:00.736 INFO Finish serving ('127.0.0.1', 53539)\n",
      "2023-12-17 22:32:02.056 INFO load_module /var/folders/27/z40g_7vx5q97_wfz_gcd92k40000gn/T/tmp951q51pn/tmp_func_95247419de7fefd8.tar\n"
     ]
    },
    {
     "name": "stdout",
     "output_type": "stream",
     "text": [
      "[Task 13/48]  Current/Best:   88.32/ 142.87 GFLOPS | Progress: (16/864) | 32.77 s Done.\n",
      "[Task 14/48]  Current/Best:    0.00/   0.00 GFLOPS | Progress: (0/768) | 0.00 s"
     ]
    },
    {
     "name": "stderr",
     "output_type": "stream",
     "text": [
      "2023-12-17 22:32:02.262 INFO Finish serving ('127.0.0.1', 53541)\n",
      "2023-12-17 22:32:05.362 INFO Finish serving ('127.0.0.1', 53545)\n",
      "2023-12-17 22:32:06.428 INFO Finish serving ('127.0.0.1', 53547)\n",
      "2023-12-17 22:32:07.872 INFO load_module /var/folders/27/z40g_7vx5q97_wfz_gcd92k40000gn/T/tmpba7hj_q7/tmp_func_a3b71f8ef821c9e5.tar\n",
      "2023-12-17 22:32:07.990 INFO Finish serving ('127.0.0.1', 53549)\n",
      "2023-12-17 22:32:09.354 INFO load_module /var/folders/27/z40g_7vx5q97_wfz_gcd92k40000gn/T/tmppezp704y/tmp_func_e74910863aed939f.tar\n",
      "2023-12-17 22:32:09.489 INFO Finish serving ('127.0.0.1', 53551)\n",
      "2023-12-17 22:32:10.919 INFO load_module /var/folders/27/z40g_7vx5q97_wfz_gcd92k40000gn/T/tmp3b65xfkm/tmp_func_3631bd51dc35affc.tar\n",
      "2023-12-17 22:32:11.042 INFO Finish serving ('127.0.0.1', 53554)\n",
      "2023-12-17 22:32:12.488 INFO load_module /var/folders/27/z40g_7vx5q97_wfz_gcd92k40000gn/T/tmp2rlk5uvm/tmp_func_793ef37c465a3607.tar\n",
      "2023-12-17 22:32:12.610 INFO Finish serving ('127.0.0.1', 53556)\n",
      "2023-12-17 22:32:13.963 INFO load_module /var/folders/27/z40g_7vx5q97_wfz_gcd92k40000gn/T/tmppohhw69x/tmp_func_63d4305d7620b755.tar\n",
      "2023-12-17 22:32:14.085 INFO Finish serving ('127.0.0.1', 53558)\n",
      "2023-12-17 22:32:15.538 INFO load_module /var/folders/27/z40g_7vx5q97_wfz_gcd92k40000gn/T/tmpqpzxea4w/tmp_func_d9f9610b2fb09fce.tar\n",
      "2023-12-17 22:32:15.663 INFO Finish serving ('127.0.0.1', 53560)\n",
      "2023-12-17 22:32:17.108 INFO load_module /var/folders/27/z40g_7vx5q97_wfz_gcd92k40000gn/T/tmp_tmyml8u/tmp_func_805f699ae0239f4a.tar\n",
      "2023-12-17 22:32:17.234 INFO Finish serving ('127.0.0.1', 53562)\n",
      "2023-12-17 22:32:18.781 INFO load_module /var/folders/27/z40g_7vx5q97_wfz_gcd92k40000gn/T/tmpb_d1kudw/tmp_func_e69f11a927ac6094.tar\n",
      "2023-12-17 22:32:18.902 INFO Finish serving ('127.0.0.1', 53564)\n",
      "2023-12-17 22:32:20.253 INFO load_module /var/folders/27/z40g_7vx5q97_wfz_gcd92k40000gn/T/tmp08x844hr/tmp_func_83395a17e070516d.tar\n",
      "2023-12-17 22:32:20.374 INFO Finish serving ('127.0.0.1', 53566)\n",
      "2023-12-17 22:32:21.928 INFO load_module /var/folders/27/z40g_7vx5q97_wfz_gcd92k40000gn/T/tmp3nw5p9yp/tmp_func_84015b5af4582210.tar\n",
      "2023-12-17 22:32:22.053 INFO Finish serving ('127.0.0.1', 53568)\n",
      "2023-12-17 22:32:23.401 INFO load_module /var/folders/27/z40g_7vx5q97_wfz_gcd92k40000gn/T/tmpdoddepnf/tmp_func_99670f8fcba8f60d.tar\n",
      "2023-12-17 22:32:23.523 INFO Finish serving ('127.0.0.1', 53570)\n",
      "2023-12-17 22:32:24.973 INFO load_module /var/folders/27/z40g_7vx5q97_wfz_gcd92k40000gn/T/tmps77t28e7/tmp_func_2bcd16efdbe3113.tar\n",
      "2023-12-17 22:32:25.094 INFO Finish serving ('127.0.0.1', 53572)\n",
      "2023-12-17 22:32:26.547 INFO load_module /var/folders/27/z40g_7vx5q97_wfz_gcd92k40000gn/T/tmp7_sf1m9m/tmp_func_31585b578c992b25.tar\n",
      "2023-12-17 22:32:26.670 INFO Finish serving ('127.0.0.1', 53574)\n",
      "2023-12-17 22:32:28.258 INFO load_module /var/folders/27/z40g_7vx5q97_wfz_gcd92k40000gn/T/tmp4prh6yi3/tmp_func_9502e7b33394a65f.tar\n",
      "2023-12-17 22:32:28.391 INFO Finish serving ('127.0.0.1', 53576)\n",
      "2023-12-17 22:32:30.323 INFO load_module /var/folders/27/z40g_7vx5q97_wfz_gcd92k40000gn/T/tmpy4t9gqda/tmp_func_1d88a9913999ed8.tar\n",
      "2023-12-17 22:32:30.441 INFO Finish serving ('127.0.0.1', 53578)\n"
     ]
    },
    {
     "name": "stdout",
     "output_type": "stream",
     "text": [
      "[Task 14/48]  Current/Best:   77.65/  95.25 GFLOPS | Progress: (16/768) | 29.55 s"
     ]
    },
    {
     "name": "stderr",
     "output_type": "stream",
     "text": [
      "2023-12-17 22:32:31.884 INFO load_module /var/folders/27/z40g_7vx5q97_wfz_gcd92k40000gn/T/tmpq13qwwn_/tmp_func_cd288622feed5816.tar\n",
      "2023-12-17 22:32:32.004 INFO Finish serving ('127.0.0.1', 53580)\n"
     ]
    },
    {
     "name": "stdout",
     "output_type": "stream",
     "text": [
      " Done.\n",
      "[Task 15/48]  Current/Best:    0.00/   0.00 GFLOPS | Progress: (0/1008) | 0.00 s"
     ]
    },
    {
     "name": "stderr",
     "output_type": "stream",
     "text": [
      "2023-12-17 22:32:35.144 INFO Finish serving ('127.0.0.1', 53584)\n",
      "2023-12-17 22:32:36.231 INFO Finish serving ('127.0.0.1', 53586)\n",
      "2023-12-17 22:32:38.287 INFO load_module /var/folders/27/z40g_7vx5q97_wfz_gcd92k40000gn/T/tmpjejceers/tmp_func_38f93d9acaacd009.tar\n",
      "2023-12-17 22:32:38.417 INFO Finish serving ('127.0.0.1', 53588)\n",
      "2023-12-17 22:32:39.934 INFO load_module /var/folders/27/z40g_7vx5q97_wfz_gcd92k40000gn/T/tmp5ae8tmum/tmp_func_f4a61f0807f66aff.tar\n",
      "2023-12-17 22:32:40.083 INFO Finish serving ('127.0.0.1', 53590)\n",
      "2023-12-17 22:32:41.499 INFO load_module /var/folders/27/z40g_7vx5q97_wfz_gcd92k40000gn/T/tmp4aip04q8/tmp_func_c4d3e57959539bb0.tar\n",
      "2023-12-17 22:32:41.633 INFO Finish serving ('127.0.0.1', 53592)\n",
      "2023-12-17 22:32:43.013 INFO load_module /var/folders/27/z40g_7vx5q97_wfz_gcd92k40000gn/T/tmp0bjo729m/tmp_func_b903fa2ec555a53b.tar\n",
      "2023-12-17 22:32:43.148 INFO Finish serving ('127.0.0.1', 53594)\n",
      "2023-12-17 22:32:44.563 INFO load_module /var/folders/27/z40g_7vx5q97_wfz_gcd92k40000gn/T/tmphgiqoheq/tmp_func_4905e23b87044cb6.tar\n",
      "2023-12-17 22:32:44.695 INFO Finish serving ('127.0.0.1', 53596)\n",
      "2023-12-17 22:32:46.119 INFO load_module /var/folders/27/z40g_7vx5q97_wfz_gcd92k40000gn/T/tmpi6pf1dfj/tmp_func_797f1a93adda4393.tar\n",
      "2023-12-17 22:32:46.250 INFO Finish serving ('127.0.0.1', 53598)\n",
      "2023-12-17 22:32:47.622 INFO load_module /var/folders/27/z40g_7vx5q97_wfz_gcd92k40000gn/T/tmpecwvrvda/tmp_func_24624b5674fbc634.tar\n",
      "2023-12-17 22:32:47.755 INFO Finish serving ('127.0.0.1', 53600)\n",
      "2023-12-17 22:32:49.205 INFO load_module /var/folders/27/z40g_7vx5q97_wfz_gcd92k40000gn/T/tmpz7yzkh8h/tmp_func_2fc61cc05143c57c.tar\n",
      "2023-12-17 22:32:49.350 INFO Finish serving ('127.0.0.1', 53602)\n",
      "2023-12-17 22:32:50.916 INFO load_module /var/folders/27/z40g_7vx5q97_wfz_gcd92k40000gn/T/tmp6a3p3mci/tmp_func_84fcb42b028fe7df.tar\n",
      "2023-12-17 22:32:51.050 INFO Finish serving ('127.0.0.1', 53604)\n",
      "2023-12-17 22:32:52.649 INFO load_module /var/folders/27/z40g_7vx5q97_wfz_gcd92k40000gn/T/tmp_czt49u0/tmp_func_aac28ba8bcab70a8.tar\n",
      "2023-12-17 22:32:52.782 INFO Finish serving ('127.0.0.1', 53606)\n",
      "2023-12-17 22:32:54.430 INFO load_module /var/folders/27/z40g_7vx5q97_wfz_gcd92k40000gn/T/tmpwbesbcdk/tmp_func_e610f0d95bff30d9.tar\n",
      "2023-12-17 22:32:54.558 INFO Finish serving ('127.0.0.1', 53608)\n",
      "2023-12-17 22:32:56.015 INFO load_module /var/folders/27/z40g_7vx5q97_wfz_gcd92k40000gn/T/tmpltexf2bv/tmp_func_1e8d9a2c1695b4c4.tar\n",
      "2023-12-17 22:32:56.151 INFO Finish serving ('127.0.0.1', 53610)\n",
      "2023-12-17 22:32:57.608 INFO load_module /var/folders/27/z40g_7vx5q97_wfz_gcd92k40000gn/T/tmpmga3qgpw/tmp_func_8718596ee96f8b64.tar\n",
      "2023-12-17 22:32:57.737 INFO Finish serving ('127.0.0.1', 53612)\n",
      "2023-12-17 22:32:59.339 INFO load_module /var/folders/27/z40g_7vx5q97_wfz_gcd92k40000gn/T/tmpke07z18v/tmp_func_d8171fff6c65295c.tar\n",
      "2023-12-17 22:32:59.469 INFO Finish serving ('127.0.0.1', 53614)\n",
      "2023-12-17 22:33:01.019 INFO load_module /var/folders/27/z40g_7vx5q97_wfz_gcd92k40000gn/T/tmpw5p1x8fu/tmp_func_471febe7c6de3d7a.tar\n",
      "2023-12-17 22:33:01.145 INFO Finish serving ('127.0.0.1', 53616)\n"
     ]
    },
    {
     "name": "stdout",
     "output_type": "stream",
     "text": [
      "[Task 15/48]  Current/Best:   84.42/  98.49 GFLOPS | Progress: (16/1008) | 30.84 s"
     ]
    },
    {
     "name": "stderr",
     "output_type": "stream",
     "text": [
      "2023-12-17 22:33:02.919 INFO load_module /var/folders/27/z40g_7vx5q97_wfz_gcd92k40000gn/T/tmpjp2m1r19/tmp_func_428bbc418a2053b5.tar\n",
      "2023-12-17 22:33:03.044 INFO Finish serving ('127.0.0.1', 53618)\n"
     ]
    },
    {
     "name": "stdout",
     "output_type": "stream",
     "text": [
      " Done.\n",
      "[Task 16/48]  Current/Best:    0.00/   0.00 GFLOPS | Progress: (0/1008) | 0.00 s"
     ]
    },
    {
     "name": "stderr",
     "output_type": "stream",
     "text": [
      "2023-12-17 22:33:06.479 INFO Finish serving ('127.0.0.1', 53622)\n",
      "2023-12-17 22:33:07.630 INFO Finish serving ('127.0.0.1', 53624)\n",
      "2023-12-17 22:33:09.766 INFO load_module /var/folders/27/z40g_7vx5q97_wfz_gcd92k40000gn/T/tmpcap4c20a/tmp_func_d0676273efaab761.tar\n",
      "2023-12-17 22:33:09.893 INFO Finish serving ('127.0.0.1', 53626)\n",
      "2023-12-17 22:33:11.334 INFO load_module /var/folders/27/z40g_7vx5q97_wfz_gcd92k40000gn/T/tmpi1l6co3b/tmp_func_b5d448a24e447c99.tar\n",
      "2023-12-17 22:33:11.485 INFO Finish serving ('127.0.0.1', 53628)\n",
      "2023-12-17 22:33:13.732 INFO load_module /var/folders/27/z40g_7vx5q97_wfz_gcd92k40000gn/T/tmpecegspeq/tmp_func_9baa23ecb9ca8534.tar\n",
      "2023-12-17 22:33:13.869 INFO Finish serving ('127.0.0.1', 53630)\n",
      "2023-12-17 22:33:15.437 INFO load_module /var/folders/27/z40g_7vx5q97_wfz_gcd92k40000gn/T/tmp9olabahr/tmp_func_adca6dfcc4e58911.tar\n",
      "2023-12-17 22:33:15.576 INFO Finish serving ('127.0.0.1', 53632)\n",
      "2023-12-17 22:33:17.120 INFO load_module /var/folders/27/z40g_7vx5q97_wfz_gcd92k40000gn/T/tmp24l11ngu/tmp_func_2bd2bab7f1580a0e.tar\n",
      "2023-12-17 22:33:17.258 INFO Finish serving ('127.0.0.1', 53634)\n",
      "2023-12-17 22:33:18.984 INFO load_module /var/folders/27/z40g_7vx5q97_wfz_gcd92k40000gn/T/tmpqcfuqstp/tmp_func_198eada136fb9bf7.tar\n",
      "2023-12-17 22:33:19.125 INFO Finish serving ('127.0.0.1', 53636)\n",
      "2023-12-17 22:33:20.854 INFO load_module /var/folders/27/z40g_7vx5q97_wfz_gcd92k40000gn/T/tmp5q_7q1ld/tmp_func_2d29cb36879a7a13.tar\n",
      "2023-12-17 22:33:20.999 INFO Finish serving ('127.0.0.1', 53638)\n",
      "2023-12-17 22:33:22.649 INFO load_module /var/folders/27/z40g_7vx5q97_wfz_gcd92k40000gn/T/tmpojzghldt/tmp_func_c14edd26cdc0afcb.tar\n",
      "2023-12-17 22:33:22.787 INFO Finish serving ('127.0.0.1', 53643)\n",
      "2023-12-17 22:33:24.327 INFO load_module /var/folders/27/z40g_7vx5q97_wfz_gcd92k40000gn/T/tmppq5onltp/tmp_func_6ba83b4e0d2b212e.tar\n",
      "2023-12-17 22:33:24.470 INFO Finish serving ('127.0.0.1', 53645)\n",
      "2023-12-17 22:33:25.982 INFO load_module /var/folders/27/z40g_7vx5q97_wfz_gcd92k40000gn/T/tmpjr2nxgog/tmp_func_f13e2a1d5cb9e7fc.tar\n",
      "2023-12-17 22:33:26.120 INFO Finish serving ('127.0.0.1', 53647)\n",
      "2023-12-17 22:33:27.757 INFO load_module /var/folders/27/z40g_7vx5q97_wfz_gcd92k40000gn/T/tmplykt8btu/tmp_func_8205bb53b8328793.tar\n",
      "2023-12-17 22:33:27.892 INFO Finish serving ('127.0.0.1', 53649)\n",
      "2023-12-17 22:33:29.459 INFO load_module /var/folders/27/z40g_7vx5q97_wfz_gcd92k40000gn/T/tmp63n2kpsd/tmp_func_1f7b42d2e572745b.tar\n",
      "2023-12-17 22:33:29.596 INFO Finish serving ('127.0.0.1', 53651)\n",
      "2023-12-17 22:33:31.290 INFO load_module /var/folders/27/z40g_7vx5q97_wfz_gcd92k40000gn/T/tmp0c2joss4/tmp_func_d8a0fbb9d0ebec13.tar\n",
      "2023-12-17 22:33:31.423 INFO Finish serving ('127.0.0.1', 53653)\n",
      "2023-12-17 22:33:32.872 INFO load_module /var/folders/27/z40g_7vx5q97_wfz_gcd92k40000gn/T/tmp_zqvardd/tmp_func_4046bd4cef3e740d.tar\n",
      "2023-12-17 22:33:33.003 INFO Finish serving ('127.0.0.1', 53655)\n",
      "2023-12-17 22:33:34.469 INFO load_module /var/folders/27/z40g_7vx5q97_wfz_gcd92k40000gn/T/tmpeq7c0rcd/tmp_func_cec8c20b681267ce.tar\n",
      "2023-12-17 22:33:34.600 INFO Finish serving ('127.0.0.1', 53657)\n"
     ]
    },
    {
     "name": "stdout",
     "output_type": "stream",
     "text": [
      "[Task 16/48]  Current/Best:   72.67/  86.93 GFLOPS | Progress: (16/1008) | 33.17 s"
     ]
    },
    {
     "name": "stderr",
     "output_type": "stream",
     "text": [
      "2023-12-17 22:33:36.279 INFO load_module /var/folders/27/z40g_7vx5q97_wfz_gcd92k40000gn/T/tmpixcegv1r/tmp_func_e2a410b7c2c62f78.tar\n",
      "2023-12-17 22:33:36.412 INFO Finish serving ('127.0.0.1', 53660)\n"
     ]
    },
    {
     "name": "stdout",
     "output_type": "stream",
     "text": [
      " Done.\n",
      "[Task 17/48]  Current/Best:    0.00/   0.00 GFLOPS | Progress: (0/896) | 0.00 s"
     ]
    },
    {
     "name": "stderr",
     "output_type": "stream",
     "text": [
      "2023-12-17 22:33:39.666 INFO Finish serving ('127.0.0.1', 53664)\n",
      "2023-12-17 22:33:40.747 INFO Finish serving ('127.0.0.1', 53666)\n",
      "2023-12-17 22:33:42.672 INFO load_module /var/folders/27/z40g_7vx5q97_wfz_gcd92k40000gn/T/tmp2ozkw9ca/tmp_func_d195e75503aaf561.tar\n",
      "2023-12-17 22:33:42.793 INFO Finish serving ('127.0.0.1', 53668)\n",
      "2023-12-17 22:33:44.143 INFO load_module /var/folders/27/z40g_7vx5q97_wfz_gcd92k40000gn/T/tmpy6hdi1kp/tmp_func_f4c19c4bf9b7aadb.tar\n",
      "2023-12-17 22:33:44.271 INFO Finish serving ('127.0.0.1', 53670)\n",
      "2023-12-17 22:33:45.913 INFO load_module /var/folders/27/z40g_7vx5q97_wfz_gcd92k40000gn/T/tmp2uh3aeo_/tmp_func_700a7ecadf64f5ac.tar\n",
      "2023-12-17 22:33:46.037 INFO Finish serving ('127.0.0.1', 53672)\n",
      "2023-12-17 22:33:47.389 INFO load_module /var/folders/27/z40g_7vx5q97_wfz_gcd92k40000gn/T/tmpzghlouz1/tmp_func_4a06fb9cd05400ce.tar\n",
      "2023-12-17 22:33:47.513 INFO Finish serving ('127.0.0.1', 53675)\n",
      "2023-12-17 22:33:48.969 INFO load_module /var/folders/27/z40g_7vx5q97_wfz_gcd92k40000gn/T/tmpcngnhvft/tmp_func_2951ae9938b3f070.tar\n",
      "2023-12-17 22:33:49.092 INFO Finish serving ('127.0.0.1', 53677)\n",
      "2023-12-17 22:33:50.538 INFO load_module /var/folders/27/z40g_7vx5q97_wfz_gcd92k40000gn/T/tmp2kurn0ek/tmp_func_9fcce010bca9e46f.tar\n",
      "2023-12-17 22:33:50.667 INFO Finish serving ('127.0.0.1', 53679)\n",
      "2023-12-17 22:33:52.111 INFO load_module /var/folders/27/z40g_7vx5q97_wfz_gcd92k40000gn/T/tmpxdvi96cx/tmp_func_bd9574ed10deae28.tar\n",
      "2023-12-17 22:33:52.232 INFO Finish serving ('127.0.0.1', 53681)\n",
      "2023-12-17 22:33:53.692 INFO load_module /var/folders/27/z40g_7vx5q97_wfz_gcd92k40000gn/T/tmpf3w1he47/tmp_func_7c431a47f1dc8597.tar\n",
      "2023-12-17 22:33:53.814 INFO Finish serving ('127.0.0.1', 53683)\n",
      "2023-12-17 22:33:55.250 INFO load_module /var/folders/27/z40g_7vx5q97_wfz_gcd92k40000gn/T/tmpsuyv65dz/tmp_func_577f91baad97a977.tar\n",
      "2023-12-17 22:33:55.376 INFO Finish serving ('127.0.0.1', 53685)\n",
      "2023-12-17 22:33:56.726 INFO load_module /var/folders/27/z40g_7vx5q97_wfz_gcd92k40000gn/T/tmp7vlqcr5n/tmp_func_addf655cb3d9e5fb.tar\n",
      "2023-12-17 22:33:56.851 INFO Finish serving ('127.0.0.1', 53687)\n",
      "2023-12-17 22:33:58.393 INFO load_module /var/folders/27/z40g_7vx5q97_wfz_gcd92k40000gn/T/tmp_0b0nox6/tmp_func_3c287bb15e11ff36.tar\n",
      "2023-12-17 22:33:58.513 INFO Finish serving ('127.0.0.1', 53689)\n",
      "2023-12-17 22:33:59.870 INFO load_module /var/folders/27/z40g_7vx5q97_wfz_gcd92k40000gn/T/tmpj_7o3z3g/tmp_func_567dd3d5f16984b.tar\n",
      "2023-12-17 22:33:59.989 INFO Finish serving ('127.0.0.1', 53691)\n",
      "2023-12-17 22:34:01.543 INFO load_module /var/folders/27/z40g_7vx5q97_wfz_gcd92k40000gn/T/tmpo9oz5p15/tmp_func_b7d10863b7368c6f.tar\n",
      "2023-12-17 22:34:01.667 INFO Finish serving ('127.0.0.1', 53693)\n",
      "2023-12-17 22:34:03.738 INFO load_module /var/folders/27/z40g_7vx5q97_wfz_gcd92k40000gn/T/tmpr9tmyxbh/tmp_func_20fef95eeab4d7ff.tar\n",
      "2023-12-17 22:34:03.859 INFO Finish serving ('127.0.0.1', 53695)\n",
      "2023-12-17 22:34:05.230 INFO load_module /var/folders/27/z40g_7vx5q97_wfz_gcd92k40000gn/T/tmpo5023mvm/tmp_func_a113a5f0693b4de9.tar\n",
      "2023-12-17 22:34:05.351 INFO Finish serving ('127.0.0.1', 53697)\n"
     ]
    },
    {
     "name": "stdout",
     "output_type": "stream",
     "text": [
      "[Task 17/48]  Current/Best:   80.86/  81.98 GFLOPS | Progress: (16/896) | 30.31 s"
     ]
    },
    {
     "name": "stderr",
     "output_type": "stream",
     "text": [
      "2023-12-17 22:34:06.796 INFO load_module /var/folders/27/z40g_7vx5q97_wfz_gcd92k40000gn/T/tmphai_8fr0/tmp_func_d9ba8e6290a76e44.tar\n",
      "2023-12-17 22:34:06.918 INFO Finish serving ('127.0.0.1', 53699)\n"
     ]
    },
    {
     "name": "stdout",
     "output_type": "stream",
     "text": [
      " Done.\n",
      "[Task 18/48]  Current/Best:    0.00/   0.00 GFLOPS | Progress: (0/112) | 0.00 s"
     ]
    },
    {
     "name": "stderr",
     "output_type": "stream",
     "text": [
      "2023-12-17 22:34:10.192 INFO Finish serving ('127.0.0.1', 53703)\n",
      "2023-12-17 22:34:11.269 INFO Finish serving ('127.0.0.1', 53705)\n",
      "2023-12-17 22:34:13.178 INFO load_module /var/folders/27/z40g_7vx5q97_wfz_gcd92k40000gn/T/tmp3gtb88sr/tmp_func_a73ec27a7dc729f0.tar\n",
      "2023-12-17 22:34:13.292 INFO Finish serving ('127.0.0.1', 53707)\n",
      "2023-12-17 22:34:14.651 INFO load_module /var/folders/27/z40g_7vx5q97_wfz_gcd92k40000gn/T/tmphtc1gk6g/tmp_func_9fccdbe18d62da23.tar\n",
      "2023-12-17 22:34:14.763 INFO Finish serving ('127.0.0.1', 53709)\n",
      "2023-12-17 22:34:16.229 INFO load_module /var/folders/27/z40g_7vx5q97_wfz_gcd92k40000gn/T/tmpvr4phu7d/tmp_func_834bac97aa2a9157.tar\n",
      "2023-12-17 22:34:16.343 INFO Finish serving ('127.0.0.1', 53711)\n",
      "2023-12-17 22:34:17.798 INFO load_module /var/folders/27/z40g_7vx5q97_wfz_gcd92k40000gn/T/tmpoa2aqar1/tmp_func_cfd31ec3f1df61e6.tar\n",
      "2023-12-17 22:34:17.907 INFO Finish serving ('127.0.0.1', 53713)\n",
      "2023-12-17 22:34:19.368 INFO load_module /var/folders/27/z40g_7vx5q97_wfz_gcd92k40000gn/T/tmpl2o4qer4/tmp_func_61e35b3443eec31.tar\n",
      "2023-12-17 22:34:19.477 INFO Finish serving ('127.0.0.1', 53715)\n",
      "2023-12-17 22:34:20.947 INFO load_module /var/folders/27/z40g_7vx5q97_wfz_gcd92k40000gn/T/tmp2n_9rl9h/tmp_func_6a8dc0e9fee80f9c.tar\n",
      "2023-12-17 22:34:21.058 INFO Finish serving ('127.0.0.1', 53717)\n",
      "2023-12-17 22:34:22.537 INFO load_module /var/folders/27/z40g_7vx5q97_wfz_gcd92k40000gn/T/tmpfj4mr1mo/tmp_func_f0c32d7682ed5ca9.tar\n",
      "2023-12-17 22:34:22.649 INFO Finish serving ('127.0.0.1', 53719)\n",
      "2023-12-17 22:34:24.093 INFO load_module /var/folders/27/z40g_7vx5q97_wfz_gcd92k40000gn/T/tmp3m52btn1/tmp_func_4d9072a05a67ee4a.tar\n",
      "2023-12-17 22:34:24.208 INFO Finish serving ('127.0.0.1', 53721)\n",
      "2023-12-17 22:34:25.665 INFO load_module /var/folders/27/z40g_7vx5q97_wfz_gcd92k40000gn/T/tmps845cf8y/tmp_func_c5919766c132d5fb.tar\n",
      "2023-12-17 22:34:25.780 INFO Finish serving ('127.0.0.1', 53723)\n",
      "2023-12-17 22:34:27.232 INFO load_module /var/folders/27/z40g_7vx5q97_wfz_gcd92k40000gn/T/tmpbt3j_sn3/tmp_func_b04ee48ee3d4003e.tar\n",
      "2023-12-17 22:34:27.345 INFO Finish serving ('127.0.0.1', 53725)\n",
      "2023-12-17 22:34:29.331 INFO load_module /var/folders/27/z40g_7vx5q97_wfz_gcd92k40000gn/T/tmppa91hfq5/tmp_func_f2069f743841cfff.tar\n",
      "2023-12-17 22:34:29.442 INFO Finish serving ('127.0.0.1', 53727)\n",
      "2023-12-17 22:34:31.013 INFO load_module /var/folders/27/z40g_7vx5q97_wfz_gcd92k40000gn/T/tmptnxl74hx/tmp_func_7e9cbc180a59777b.tar\n",
      "2023-12-17 22:34:31.126 INFO Finish serving ('127.0.0.1', 53729)\n",
      "2023-12-17 22:34:32.603 INFO load_module /var/folders/27/z40g_7vx5q97_wfz_gcd92k40000gn/T/tmpp_cwt2b0/tmp_func_47d233a152b0b857.tar\n",
      "2023-12-17 22:34:32.718 INFO Finish serving ('127.0.0.1', 53731)\n",
      "2023-12-17 22:34:34.161 INFO load_module /var/folders/27/z40g_7vx5q97_wfz_gcd92k40000gn/T/tmp39rcp0mn/tmp_func_23b7c2676a7835fb.tar\n",
      "2023-12-17 22:34:34.273 INFO Finish serving ('127.0.0.1', 53733)\n",
      "2023-12-17 22:34:36.049 INFO load_module /var/folders/27/z40g_7vx5q97_wfz_gcd92k40000gn/T/tmpqjwx8h9m/tmp_func_4eaf71ec2cb037f5.tar\n",
      "2023-12-17 22:34:36.165 INFO Finish serving ('127.0.0.1', 53735)\n"
     ]
    },
    {
     "name": "stdout",
     "output_type": "stream",
     "text": [
      "[Task 18/48]  Current/Best:    6.92/  13.13 GFLOPS | Progress: (16/112) | 30.92 s"
     ]
    },
    {
     "name": "stderr",
     "output_type": "stream",
     "text": [
      "2023-12-17 22:34:37.927 INFO load_module /var/folders/27/z40g_7vx5q97_wfz_gcd92k40000gn/T/tmpsahzc6s0/tmp_func_e4d1985377e965cc.tar\n",
      "2023-12-17 22:34:38.037 INFO Finish serving ('127.0.0.1', 53737)\n"
     ]
    },
    {
     "name": "stdout",
     "output_type": "stream",
     "text": [
      " Done.\n",
      "[Task 19/48]  Current/Best:    0.00/   0.00 GFLOPS | Progress: (0/864) | 0.00 s"
     ]
    },
    {
     "name": "stderr",
     "output_type": "stream",
     "text": [
      "2023-12-17 22:34:41.636 INFO Finish serving ('127.0.0.1', 53741)\n",
      "2023-12-17 22:34:42.871 INFO Finish serving ('127.0.0.1', 53743)\n",
      "2023-12-17 22:34:44.604 INFO load_module /var/folders/27/z40g_7vx5q97_wfz_gcd92k40000gn/T/tmpg119bbme/tmp_func_8de6e8f46ea59eb0.tar\n",
      "2023-12-17 22:34:44.731 INFO Finish serving ('127.0.0.1', 53745)\n",
      "2023-12-17 22:34:46.305 INFO load_module /var/folders/27/z40g_7vx5q97_wfz_gcd92k40000gn/T/tmpk7p_d7i9/tmp_func_f75dc7e2c8259fc2.tar\n",
      "2023-12-17 22:34:46.454 INFO Finish serving ('127.0.0.1', 53747)\n",
      "2023-12-17 22:34:48.106 INFO load_module /var/folders/27/z40g_7vx5q97_wfz_gcd92k40000gn/T/tmpek3aqtb_/tmp_func_1fd036fc90d29c89.tar\n",
      "2023-12-17 22:34:48.237 INFO Finish serving ('127.0.0.1', 53749)\n",
      "2023-12-17 22:34:49.862 INFO load_module /var/folders/27/z40g_7vx5q97_wfz_gcd92k40000gn/T/tmpc6obitre/tmp_func_37eb35c835f742ce.tar\n",
      "2023-12-17 22:34:49.998 INFO Finish serving ('127.0.0.1', 53751)\n",
      "2023-12-17 22:34:51.777 INFO load_module /var/folders/27/z40g_7vx5q97_wfz_gcd92k40000gn/T/tmpe18jkiji/tmp_func_26297e98a415e94f.tar\n",
      "2023-12-17 22:34:51.910 INFO Finish serving ('127.0.0.1', 53753)\n",
      "2023-12-17 22:34:53.448 INFO load_module /var/folders/27/z40g_7vx5q97_wfz_gcd92k40000gn/T/tmp66m97e24/tmp_func_aa1588ded1a0a01c.tar\n",
      "2023-12-17 22:34:53.581 INFO Finish serving ('127.0.0.1', 53755)\n",
      "2023-12-17 22:34:55.056 INFO load_module /var/folders/27/z40g_7vx5q97_wfz_gcd92k40000gn/T/tmp39txzjel/tmp_func_3550255703ab2c3.tar\n",
      "2023-12-17 22:34:55.205 INFO Finish serving ('127.0.0.1', 53757)\n",
      "2023-12-17 22:34:56.888 INFO load_module /var/folders/27/z40g_7vx5q97_wfz_gcd92k40000gn/T/tmpdhjlc3kn/tmp_func_a243910be500f18.tar\n",
      "2023-12-17 22:34:57.016 INFO Finish serving ('127.0.0.1', 53763)\n",
      "2023-12-17 22:34:58.691 INFO load_module /var/folders/27/z40g_7vx5q97_wfz_gcd92k40000gn/T/tmpj9uraeym/tmp_func_f66012f93cf24386.tar\n",
      "2023-12-17 22:34:58.826 INFO Finish serving ('127.0.0.1', 53765)\n",
      "2023-12-17 22:35:00.368 INFO load_module /var/folders/27/z40g_7vx5q97_wfz_gcd92k40000gn/T/tmpqljdlv4y/tmp_func_4a7835097ca933fa.tar\n",
      "2023-12-17 22:35:00.507 INFO Finish serving ('127.0.0.1', 53767)\n",
      "2023-12-17 22:35:02.395 INFO load_module /var/folders/27/z40g_7vx5q97_wfz_gcd92k40000gn/T/tmpzqxac34o/tmp_func_c76cbe0b683871c1.tar\n",
      "2023-12-17 22:35:02.532 INFO Finish serving ('127.0.0.1', 53769)\n",
      "2023-12-17 22:35:04.507 INFO load_module /var/folders/27/z40g_7vx5q97_wfz_gcd92k40000gn/T/tmp0c288u4v/tmp_func_7cf06e4f9426f11.tar\n",
      "2023-12-17 22:35:04.652 INFO Finish serving ('127.0.0.1', 53771)\n",
      "2023-12-17 22:35:06.192 INFO load_module /var/folders/27/z40g_7vx5q97_wfz_gcd92k40000gn/T/tmp1au_buxk/tmp_func_ea15d4829f813ce.tar\n",
      "2023-12-17 22:35:06.327 INFO Finish serving ('127.0.0.1', 53773)\n",
      "2023-12-17 22:35:08.555 INFO load_module /var/folders/27/z40g_7vx5q97_wfz_gcd92k40000gn/T/tmpuus5q59b/tmp_func_7285950496138218.tar\n",
      "2023-12-17 22:35:08.685 INFO Finish serving ('127.0.0.1', 53775)\n",
      "2023-12-17 22:35:10.287 INFO load_module /var/folders/27/z40g_7vx5q97_wfz_gcd92k40000gn/T/tmpnppfi2m_/tmp_func_ec3a60068d636f10.tar\n",
      "2023-12-17 22:35:10.416 INFO Finish serving ('127.0.0.1', 53777)\n"
     ]
    },
    {
     "name": "stdout",
     "output_type": "stream",
     "text": [
      "[Task 19/48]  Current/Best:   86.15/  86.15 GFLOPS | Progress: (16/864) | 33.83 s"
     ]
    },
    {
     "name": "stderr",
     "output_type": "stream",
     "text": [
      "2023-12-17 22:35:11.933 INFO load_module /var/folders/27/z40g_7vx5q97_wfz_gcd92k40000gn/T/tmporyhkn77/tmp_func_2932d53f4ede866c.tar\n",
      "2023-12-17 22:35:12.062 INFO Finish serving ('127.0.0.1', 53779)\n"
     ]
    },
    {
     "name": "stdout",
     "output_type": "stream",
     "text": [
      " Done.\n",
      "[Task 20/48]  Current/Best:    0.00/   0.00 GFLOPS | Progress: (0/2160) | 0.00 s"
     ]
    },
    {
     "name": "stderr",
     "output_type": "stream",
     "text": [
      "2023-12-17 22:35:15.729 INFO Finish serving ('127.0.0.1', 53783)\n",
      "2023-12-17 22:35:16.980 INFO Finish serving ('127.0.0.1', 53785)\n",
      "2023-12-17 22:35:18.657 INFO load_module /var/folders/27/z40g_7vx5q97_wfz_gcd92k40000gn/T/tmpphio8rdm/tmp_func_d28c523367b46d16.tar\n",
      "2023-12-17 22:35:18.935 INFO Finish serving ('127.0.0.1', 53787)\n",
      "2023-12-17 22:35:20.615 INFO load_module /var/folders/27/z40g_7vx5q97_wfz_gcd92k40000gn/T/tmpe9ajbyfe/tmp_func_fb88a1d25f7c2103.tar\n",
      "2023-12-17 22:35:21.002 INFO Finish serving ('127.0.0.1', 53789)\n",
      "2023-12-17 22:35:22.488 INFO load_module /var/folders/27/z40g_7vx5q97_wfz_gcd92k40000gn/T/tmp1aph7509/tmp_func_a074d6fb40daf285.tar\n",
      "2023-12-17 22:35:22.817 INFO Finish serving ('127.0.0.1', 53791)\n",
      "2023-12-17 22:35:24.281 INFO load_module /var/folders/27/z40g_7vx5q97_wfz_gcd92k40000gn/T/tmpsguno2zx/tmp_func_32d08770eee1d4bc.tar\n",
      "2023-12-17 22:35:24.587 INFO Finish serving ('127.0.0.1', 53793)\n",
      "2023-12-17 22:35:26.025 INFO load_module /var/folders/27/z40g_7vx5q97_wfz_gcd92k40000gn/T/tmpy_u0rmsb/tmp_func_ed4d103f672e3395.tar\n",
      "2023-12-17 22:35:26.340 INFO Finish serving ('127.0.0.1', 53795)\n",
      "2023-12-17 22:35:27.950 INFO load_module /var/folders/27/z40g_7vx5q97_wfz_gcd92k40000gn/T/tmpaxz45a60/tmp_func_b2516433cd54edee.tar\n",
      "2023-12-17 22:35:28.250 INFO Finish serving ('127.0.0.1', 53797)\n",
      "2023-12-17 22:35:29.722 INFO load_module /var/folders/27/z40g_7vx5q97_wfz_gcd92k40000gn/T/tmp1zfo9suz/tmp_func_53c2d665836d4342.tar\n",
      "2023-12-17 22:35:30.021 INFO Finish serving ('127.0.0.1', 53799)\n",
      "2023-12-17 22:35:31.616 INFO load_module /var/folders/27/z40g_7vx5q97_wfz_gcd92k40000gn/T/tmp41i7t6i3/tmp_func_c5e1f49600a8a9a2.tar\n",
      "2023-12-17 22:35:31.938 INFO Finish serving ('127.0.0.1', 53801)\n",
      "2023-12-17 22:35:33.425 INFO load_module /var/folders/27/z40g_7vx5q97_wfz_gcd92k40000gn/T/tmpw3xr8oh5/tmp_func_26470e9fc278dccf.tar\n",
      "2023-12-17 22:35:33.770 INFO Finish serving ('127.0.0.1', 53803)\n",
      "2023-12-17 22:35:35.284 INFO load_module /var/folders/27/z40g_7vx5q97_wfz_gcd92k40000gn/T/tmp4h23k6go/tmp_func_1d81942489d39407.tar\n",
      "2023-12-17 22:35:35.593 INFO Finish serving ('127.0.0.1', 53805)\n",
      "2023-12-17 22:35:37.054 INFO load_module /var/folders/27/z40g_7vx5q97_wfz_gcd92k40000gn/T/tmpm_yisu8h/tmp_func_cba1b1b5e0faf059.tar\n",
      "2023-12-17 22:35:37.367 INFO Finish serving ('127.0.0.1', 53807)\n",
      "2023-12-17 22:35:39.137 INFO load_module /var/folders/27/z40g_7vx5q97_wfz_gcd92k40000gn/T/tmpmfr_psf4/tmp_func_e0ffe7e789992968.tar\n",
      "2023-12-17 22:35:39.404 INFO Finish serving ('127.0.0.1', 53809)\n",
      "2023-12-17 22:35:41.047 INFO load_module /var/folders/27/z40g_7vx5q97_wfz_gcd92k40000gn/T/tmpfb9axhdl/tmp_func_87781b932f69f68e.tar\n",
      "2023-12-17 22:35:41.303 INFO Finish serving ('127.0.0.1', 53811)\n",
      "2023-12-17 22:35:42.741 INFO load_module /var/folders/27/z40g_7vx5q97_wfz_gcd92k40000gn/T/tmpzdgzht2p/tmp_func_ae6b9592cdff9bff.tar\n",
      "2023-12-17 22:35:42.990 INFO Finish serving ('127.0.0.1', 53813)\n",
      "2023-12-17 22:35:44.473 INFO load_module /var/folders/27/z40g_7vx5q97_wfz_gcd92k40000gn/T/tmpicne1rd9/tmp_func_f05db5f650180e14.tar\n",
      "2023-12-17 22:35:44.731 INFO Finish serving ('127.0.0.1', 53815)\n",
      "2023-12-17 22:35:46.289 INFO load_module /var/folders/27/z40g_7vx5q97_wfz_gcd92k40000gn/T/tmpakvfh17t/tmp_func_576d81df5d3eeab4.tar\n"
     ]
    },
    {
     "name": "stdout",
     "output_type": "stream",
     "text": [
      "[Task 20/48]  Current/Best:   85.07/  91.33 GFLOPS | Progress: (16/2160) | 34.28 s Done.\n",
      "[Task 21/48]  Current/Best:    0.00/   0.00 GFLOPS | Progress: (0/4000) | 0.00 s"
     ]
    },
    {
     "name": "stderr",
     "output_type": "stream",
     "text": [
      "2023-12-17 22:35:46.548 INFO Finish serving ('127.0.0.1', 53817)\n",
      "2023-12-17 22:35:50.015 INFO Finish serving ('127.0.0.1', 53821)\n",
      "2023-12-17 22:35:51.216 INFO Finish serving ('127.0.0.1', 53823)\n",
      "2023-12-17 22:35:53.201 INFO load_module /var/folders/27/z40g_7vx5q97_wfz_gcd92k40000gn/T/tmphz3r0qeg/tmp_func_7c2953bba5049e32.tar\n",
      "2023-12-17 22:35:53.368 INFO Finish serving ('127.0.0.1', 53825)\n",
      "2023-12-17 22:35:54.774 INFO load_module /var/folders/27/z40g_7vx5q97_wfz_gcd92k40000gn/T/tmpo268gy5h/tmp_func_4d29bb3652d4b8c4.tar\n",
      "2023-12-17 22:35:54.939 INFO Finish serving ('127.0.0.1', 53827)\n",
      "2023-12-17 22:35:56.541 INFO load_module /var/folders/27/z40g_7vx5q97_wfz_gcd92k40000gn/T/tmp6qisyvis/tmp_func_99973b3290ba3900.tar\n",
      "2023-12-17 22:35:56.715 INFO Finish serving ('127.0.0.1', 53829)\n",
      "2023-12-17 22:35:58.346 INFO load_module /var/folders/27/z40g_7vx5q97_wfz_gcd92k40000gn/T/tmpjavou39i/tmp_func_965eabbfd37c80de.tar\n",
      "2023-12-17 22:35:58.512 INFO Finish serving ('127.0.0.1', 53831)\n",
      "2023-12-17 22:36:00.072 INFO load_module /var/folders/27/z40g_7vx5q97_wfz_gcd92k40000gn/T/tmptnqc3duo/tmp_func_2f8bb593c17dc61e.tar\n",
      "2023-12-17 22:36:00.239 INFO Finish serving ('127.0.0.1', 53833)\n",
      "2023-12-17 22:36:01.735 INFO load_module /var/folders/27/z40g_7vx5q97_wfz_gcd92k40000gn/T/tmpf01i3d70/tmp_func_d8459c9b1a1d202e.tar\n",
      "2023-12-17 22:36:01.899 INFO Finish serving ('127.0.0.1', 53835)\n",
      "2023-12-17 22:36:03.460 INFO load_module /var/folders/27/z40g_7vx5q97_wfz_gcd92k40000gn/T/tmpufajg46o/tmp_func_98f60df3aa128b0e.tar\n",
      "2023-12-17 22:36:03.634 INFO Finish serving ('127.0.0.1', 53837)\n",
      "2023-12-17 22:36:05.879 INFO load_module /var/folders/27/z40g_7vx5q97_wfz_gcd92k40000gn/T/tmp6a52882s/tmp_func_e8f99e89442d328a.tar\n",
      "2023-12-17 22:36:06.047 INFO Finish serving ('127.0.0.1', 53839)\n",
      "2023-12-17 22:36:07.788 INFO load_module /var/folders/27/z40g_7vx5q97_wfz_gcd92k40000gn/T/tmphfk9o_z8/tmp_func_9491a3daa0e6f934.tar\n",
      "2023-12-17 22:36:07.957 INFO Finish serving ('127.0.0.1', 53841)\n",
      "2023-12-17 22:36:09.877 INFO load_module /var/folders/27/z40g_7vx5q97_wfz_gcd92k40000gn/T/tmppxzy6236/tmp_func_363d5b063e47bb0e.tar\n",
      "2023-12-17 22:36:10.049 INFO Finish serving ('127.0.0.1', 53843)\n",
      "2023-12-17 22:36:11.746 INFO load_module /var/folders/27/z40g_7vx5q97_wfz_gcd92k40000gn/T/tmp4rp060an/tmp_func_ed90978fcdc3d4d1.tar\n",
      "2023-12-17 22:36:11.916 INFO Finish serving ('127.0.0.1', 53845)\n",
      "2023-12-17 22:36:13.640 INFO load_module /var/folders/27/z40g_7vx5q97_wfz_gcd92k40000gn/T/tmp3wk2b6ek/tmp_func_9b18362f2a9938c7.tar\n",
      "2023-12-17 22:36:13.812 INFO Finish serving ('127.0.0.1', 53847)\n",
      "2023-12-17 22:36:15.644 INFO load_module /var/folders/27/z40g_7vx5q97_wfz_gcd92k40000gn/T/tmpm7re54mc/tmp_func_edddbdb22cb3716a.tar\n",
      "2023-12-17 22:36:15.818 INFO Finish serving ('127.0.0.1', 53849)\n",
      "2023-12-17 22:36:17.388 INFO load_module /var/folders/27/z40g_7vx5q97_wfz_gcd92k40000gn/T/tmpw43e6wip/tmp_func_75675a9a638ab3bf.tar\n",
      "2023-12-17 22:36:17.567 INFO Finish serving ('127.0.0.1', 53851)\n",
      "2023-12-17 22:36:19.194 INFO load_module /var/folders/27/z40g_7vx5q97_wfz_gcd92k40000gn/T/tmpp7ty9ztj/tmp_func_dd69ebb63480b60f.tar\n",
      "2023-12-17 22:36:19.367 INFO Finish serving ('127.0.0.1', 53853)\n"
     ]
    },
    {
     "name": "stdout",
     "output_type": "stream",
     "text": [
      "[Task 21/48]  Current/Best:   16.30/  40.52 GFLOPS | Progress: (16/4000) | 34.41 s"
     ]
    },
    {
     "name": "stderr",
     "output_type": "stream",
     "text": [
      "2023-12-17 22:36:20.985 INFO load_module /var/folders/27/z40g_7vx5q97_wfz_gcd92k40000gn/T/tmpbrlyzrjc/tmp_func_9990f675ee832efc.tar\n",
      "2023-12-17 22:36:21.157 INFO Finish serving ('127.0.0.1', 53855)\n"
     ]
    },
    {
     "name": "stdout",
     "output_type": "stream",
     "text": [
      " Done.\n",
      "[Task 22/48]  Current/Best:    0.00/   0.00 GFLOPS | Progress: (0/3200) | 0.00 s"
     ]
    },
    {
     "name": "stderr",
     "output_type": "stream",
     "text": [
      "2023-12-17 22:36:24.588 INFO Finish serving ('127.0.0.1', 53859)\n",
      "2023-12-17 22:36:25.737 INFO Finish serving ('127.0.0.1', 53861)\n",
      "2023-12-17 22:36:27.281 INFO load_module /var/folders/27/z40g_7vx5q97_wfz_gcd92k40000gn/T/tmp6exq99uo/tmp_func_cfdb4cc21bdab51.tar\n",
      "2023-12-17 22:36:28.041 INFO Finish serving ('127.0.0.1', 53863)\n",
      "2023-12-17 22:36:29.665 INFO load_module /var/folders/27/z40g_7vx5q97_wfz_gcd92k40000gn/T/tmpuozvos9z/tmp_func_4219b3900f1e4e32.tar\n",
      "2023-12-17 22:36:30.239 INFO Finish serving ('127.0.0.1', 53865)\n",
      "2023-12-17 22:36:31.765 INFO load_module /var/folders/27/z40g_7vx5q97_wfz_gcd92k40000gn/T/tmpfc5ntz3_/tmp_func_85d7da7463f3c4b8.tar\n",
      "2023-12-17 22:36:32.219 INFO Finish serving ('127.0.0.1', 53867)\n",
      "2023-12-17 22:36:33.653 INFO load_module /var/folders/27/z40g_7vx5q97_wfz_gcd92k40000gn/T/tmpa34nx9ph/tmp_func_d18f75edd7be507e.tar\n",
      "2023-12-17 22:36:34.072 INFO Finish serving ('127.0.0.1', 53869)\n",
      "2023-12-17 22:36:35.661 INFO load_module /var/folders/27/z40g_7vx5q97_wfz_gcd92k40000gn/T/tmpvhfqop9z/tmp_func_bed251f39418f2eb.tar\n",
      "2023-12-17 22:36:36.065 INFO Finish serving ('127.0.0.1', 53871)\n",
      "2023-12-17 22:36:37.664 INFO load_module /var/folders/27/z40g_7vx5q97_wfz_gcd92k40000gn/T/tmpqyiyhnru/tmp_func_df8f6146e3aa1df4.tar\n",
      "2023-12-17 22:36:38.009 INFO Finish serving ('127.0.0.1', 53873)\n",
      "2023-12-17 22:36:39.413 INFO load_module /var/folders/27/z40g_7vx5q97_wfz_gcd92k40000gn/T/tmp14_kizli/tmp_func_3c88288f9658d928.tar\n",
      "2023-12-17 22:36:39.728 INFO Finish serving ('127.0.0.1', 53875)\n",
      "2023-12-17 22:36:41.202 INFO load_module /var/folders/27/z40g_7vx5q97_wfz_gcd92k40000gn/T/tmp86y6m6sg/tmp_func_c348d970dbd01ba5.tar\n",
      "2023-12-17 22:36:41.503 INFO Finish serving ('127.0.0.1', 53877)\n",
      "2023-12-17 22:36:43.153 INFO load_module /var/folders/27/z40g_7vx5q97_wfz_gcd92k40000gn/T/tmprw_cr52_/tmp_func_d575325420a716ad.tar\n",
      "2023-12-17 22:36:43.434 INFO Finish serving ('127.0.0.1', 53879)\n",
      "2023-12-17 22:36:45.002 INFO load_module /var/folders/27/z40g_7vx5q97_wfz_gcd92k40000gn/T/tmp_73xv5qf/tmp_func_6ad830687fab5b46.tar\n",
      "2023-12-17 22:36:45.280 INFO Finish serving ('127.0.0.1', 53881)\n",
      "2023-12-17 22:36:46.683 INFO load_module /var/folders/27/z40g_7vx5q97_wfz_gcd92k40000gn/T/tmpelygiql0/tmp_func_3b6229f3ece9a73b.tar\n",
      "2023-12-17 22:36:46.957 INFO Finish serving ('127.0.0.1', 53883)\n",
      "2023-12-17 22:36:48.414 INFO load_module /var/folders/27/z40g_7vx5q97_wfz_gcd92k40000gn/T/tmpeiz70aeu/tmp_func_fdacf70cacdf2c76.tar\n",
      "2023-12-17 22:36:48.696 INFO Finish serving ('127.0.0.1', 53885)\n",
      "2023-12-17 22:36:50.355 INFO load_module /var/folders/27/z40g_7vx5q97_wfz_gcd92k40000gn/T/tmpu1wl61uq/tmp_func_e4c989b579d79b08.tar\n",
      "2023-12-17 22:36:50.712 INFO Finish serving ('127.0.0.1', 53887)\n",
      "2023-12-17 22:36:52.442 INFO load_module /var/folders/27/z40g_7vx5q97_wfz_gcd92k40000gn/T/tmpyjsl7t8s/tmp_func_af87481b0f48f307.tar\n",
      "2023-12-17 22:36:52.774 INFO Finish serving ('127.0.0.1', 53889)\n",
      "2023-12-17 22:36:54.219 INFO load_module /var/folders/27/z40g_7vx5q97_wfz_gcd92k40000gn/T/tmpb92wgbhp/tmp_func_59b2486e878c8db3.tar\n",
      "2023-12-17 22:36:54.553 INFO Finish serving ('127.0.0.1', 53892)\n",
      "2023-12-17 22:36:56.115 INFO load_module /var/folders/27/z40g_7vx5q97_wfz_gcd92k40000gn/T/tmp73o7m8s7/tmp_func_80bc0356625ee4f1.tar\n"
     ]
    },
    {
     "name": "stdout",
     "output_type": "stream",
     "text": [
      "[Task 22/48]  Current/Best:   18.67/  26.07 GFLOPS | Progress: (16/3200) | 35.07 s Done.\n",
      "[Task 23/48]  Current/Best:    0.00/   0.00 GFLOPS | Progress: (0/2240) | 0.00 s"
     ]
    },
    {
     "name": "stderr",
     "output_type": "stream",
     "text": [
      "2023-12-17 22:36:56.430 INFO Finish serving ('127.0.0.1', 53894)\n",
      "2023-12-17 22:36:59.859 INFO Finish serving ('127.0.0.1', 53900)\n",
      "2023-12-17 22:37:01.039 INFO Finish serving ('127.0.0.1', 53902)\n",
      "2023-12-17 22:37:02.939 INFO load_module /var/folders/27/z40g_7vx5q97_wfz_gcd92k40000gn/T/tmpkhxtc4b6/tmp_func_8f2523ab01d8d936.tar\n",
      "2023-12-17 22:37:03.264 INFO Finish serving ('127.0.0.1', 53904)\n",
      "2023-12-17 22:37:04.926 INFO load_module /var/folders/27/z40g_7vx5q97_wfz_gcd92k40000gn/T/tmpc7yuodm5/tmp_func_5f21ae71c69f6d77.tar\n",
      "2023-12-17 22:37:05.238 INFO Finish serving ('127.0.0.1', 53906)\n",
      "2023-12-17 22:37:06.666 INFO load_module /var/folders/27/z40g_7vx5q97_wfz_gcd92k40000gn/T/tmpf6qrj03p/tmp_func_3dbcb1d1f23b7c2.tar\n",
      "2023-12-17 22:37:06.957 INFO Finish serving ('127.0.0.1', 53908)\n",
      "2023-12-17 22:37:08.595 INFO load_module /var/folders/27/z40g_7vx5q97_wfz_gcd92k40000gn/T/tmpgdjmqclg/tmp_func_44b83336f01f89c8.tar\n",
      "2023-12-17 22:37:08.898 INFO Finish serving ('127.0.0.1', 53910)\n",
      "2023-12-17 22:37:10.693 INFO load_module /var/folders/27/z40g_7vx5q97_wfz_gcd92k40000gn/T/tmpu3mzk_bg/tmp_func_90eb65cb696ab066.tar\n",
      "2023-12-17 22:37:11.024 INFO Finish serving ('127.0.0.1', 53912)\n",
      "2023-12-17 22:37:12.562 INFO load_module /var/folders/27/z40g_7vx5q97_wfz_gcd92k40000gn/T/tmp9onwwi_u/tmp_func_7aa0f82978aca390.tar\n",
      "2023-12-17 22:37:12.848 INFO Finish serving ('127.0.0.1', 53914)\n",
      "2023-12-17 22:37:14.476 INFO load_module /var/folders/27/z40g_7vx5q97_wfz_gcd92k40000gn/T/tmpljw5_oqc/tmp_func_b6b981ae498ceaee.tar\n",
      "2023-12-17 22:37:14.782 INFO Finish serving ('127.0.0.1', 53916)\n",
      "2023-12-17 22:37:16.461 INFO load_module /var/folders/27/z40g_7vx5q97_wfz_gcd92k40000gn/T/tmpgctubm8c/tmp_func_b2d58d1185886cd6.tar\n",
      "2023-12-17 22:37:16.787 INFO Finish serving ('127.0.0.1', 53918)\n",
      "2023-12-17 22:37:18.337 INFO load_module /var/folders/27/z40g_7vx5q97_wfz_gcd92k40000gn/T/tmpo04etmth/tmp_func_3f8ed9da713ed51e.tar\n",
      "2023-12-17 22:37:18.669 INFO Finish serving ('127.0.0.1', 53920)\n",
      "2023-12-17 22:37:21.047 INFO load_module /var/folders/27/z40g_7vx5q97_wfz_gcd92k40000gn/T/tmpu7v1ynio/tmp_func_cb32ed812ae26ab8.tar\n",
      "2023-12-17 22:37:21.357 INFO Finish serving ('127.0.0.1', 53922)\n",
      "2023-12-17 22:37:23.005 INFO load_module /var/folders/27/z40g_7vx5q97_wfz_gcd92k40000gn/T/tmpjmp1crqu/tmp_func_4fef993fc4849693.tar\n",
      "2023-12-17 22:37:23.394 INFO Finish serving ('127.0.0.1', 53924)\n",
      "2023-12-17 22:37:25.239 INFO load_module /var/folders/27/z40g_7vx5q97_wfz_gcd92k40000gn/T/tmp4ou4ayn2/tmp_func_5ce521b9073ad430.tar\n",
      "2023-12-17 22:37:25.550 INFO Finish serving ('127.0.0.1', 53926)\n",
      "2023-12-17 22:37:27.190 INFO load_module /var/folders/27/z40g_7vx5q97_wfz_gcd92k40000gn/T/tmp1gwf5a0f/tmp_func_3925870c6d187ea1.tar\n",
      "2023-12-17 22:37:27.516 INFO Finish serving ('127.0.0.1', 53928)\n",
      "2023-12-17 22:37:29.145 INFO load_module /var/folders/27/z40g_7vx5q97_wfz_gcd92k40000gn/T/tmp1senaxul/tmp_func_e48e2d34e217d06b.tar\n",
      "2023-12-17 22:37:29.521 INFO Finish serving ('127.0.0.1', 53930)\n",
      "2023-12-17 22:37:31.345 INFO load_module /var/folders/27/z40g_7vx5q97_wfz_gcd92k40000gn/T/tmpoxqjbuq1/tmp_func_deacef65b7a3501f.tar\n",
      "2023-12-17 22:37:31.703 INFO Finish serving ('127.0.0.1', 53932)\n",
      "2023-12-17 22:37:33.343 INFO load_module /var/folders/27/z40g_7vx5q97_wfz_gcd92k40000gn/T/tmpzig5zhc5/tmp_func_cb339437167b68a0.tar\n"
     ]
    },
    {
     "name": "stdout",
     "output_type": "stream",
     "text": [
      "[Task 23/48]  Current/Best:   23.27/  25.01 GFLOPS | Progress: (16/2240) | 37.01 s"
     ]
    },
    {
     "name": "stderr",
     "output_type": "stream",
     "text": [
      "2023-12-17 22:37:33.641 INFO Finish serving ('127.0.0.1', 53934)\n"
     ]
    },
    {
     "name": "stdout",
     "output_type": "stream",
     "text": [
      " Done.\n",
      "[Task 24/48]  Current/Best:    0.00/   0.00 GFLOPS | Progress: (0/1960) | 0.00 s"
     ]
    },
    {
     "name": "stderr",
     "output_type": "stream",
     "text": [
      "2023-12-17 22:37:37.568 INFO Finish serving ('127.0.0.1', 53938)\n",
      "2023-12-17 22:37:38.927 INFO Finish serving ('127.0.0.1', 53950)\n",
      "2023-12-17 22:37:40.737 INFO load_module /var/folders/27/z40g_7vx5q97_wfz_gcd92k40000gn/T/tmptgyj9e42/tmp_func_30da40dcf29d7b04.tar\n",
      "2023-12-17 22:37:40.875 INFO Finish serving ('127.0.0.1', 53952)\n",
      "2023-12-17 22:37:42.853 INFO load_module /var/folders/27/z40g_7vx5q97_wfz_gcd92k40000gn/T/tmp1futyhti/tmp_func_ed518a7a59b17808.tar\n",
      "2023-12-17 22:37:42.984 INFO Finish serving ('127.0.0.1', 53954)\n",
      "2023-12-17 22:37:44.938 INFO load_module /var/folders/27/z40g_7vx5q97_wfz_gcd92k40000gn/T/tmpz450h0pi/tmp_func_d594446b0a24d890.tar\n",
      "2023-12-17 22:37:45.070 INFO Finish serving ('127.0.0.1', 53956)\n",
      "2023-12-17 22:37:46.966 INFO load_module /var/folders/27/z40g_7vx5q97_wfz_gcd92k40000gn/T/tmpt8ysctc3/tmp_func_a8ac44dca754a3b4.tar\n",
      "2023-12-17 22:37:47.090 INFO Finish serving ('127.0.0.1', 53958)\n",
      "2023-12-17 22:37:49.199 INFO load_module /var/folders/27/z40g_7vx5q97_wfz_gcd92k40000gn/T/tmp28z981tk/tmp_func_4c74dfa01683b14a.tar\n",
      "2023-12-17 22:37:49.324 INFO Finish serving ('127.0.0.1', 53960)\n",
      "2023-12-17 22:37:51.169 INFO load_module /var/folders/27/z40g_7vx5q97_wfz_gcd92k40000gn/T/tmp9lue4uiy/tmp_func_172fcea145c9b9f3.tar\n",
      "2023-12-17 22:37:51.301 INFO Finish serving ('127.0.0.1', 53962)\n",
      "2023-12-17 22:37:53.408 INFO load_module /var/folders/27/z40g_7vx5q97_wfz_gcd92k40000gn/T/tmpycosku_6/tmp_func_3cfa7a70c0a53fc0.tar\n",
      "2023-12-17 22:37:53.539 INFO Finish serving ('127.0.0.1', 53964)\n",
      "2023-12-17 22:37:55.353 INFO load_module /var/folders/27/z40g_7vx5q97_wfz_gcd92k40000gn/T/tmp9oevk1it/tmp_func_edc1ddd268e36bd5.tar\n",
      "2023-12-17 22:37:55.484 INFO Finish serving ('127.0.0.1', 53966)\n",
      "2023-12-17 22:37:57.455 INFO load_module /var/folders/27/z40g_7vx5q97_wfz_gcd92k40000gn/T/tmpqee1q9r2/tmp_func_e61c982f881b37a0.tar\n",
      "2023-12-17 22:37:57.579 INFO Finish serving ('127.0.0.1', 53968)\n",
      "2023-12-17 22:37:59.452 INFO load_module /var/folders/27/z40g_7vx5q97_wfz_gcd92k40000gn/T/tmpl_x7ss21/tmp_func_9202910494d6a46d.tar\n",
      "2023-12-17 22:37:59.580 INFO Finish serving ('127.0.0.1', 53970)\n",
      "2023-12-17 22:38:02.075 INFO load_module /var/folders/27/z40g_7vx5q97_wfz_gcd92k40000gn/T/tmp99tvv720/tmp_func_a2738c9a2141fc65.tar\n",
      "2023-12-17 22:38:02.196 INFO Finish serving ('127.0.0.1', 53972)\n",
      "2023-12-17 22:38:04.043 INFO load_module /var/folders/27/z40g_7vx5q97_wfz_gcd92k40000gn/T/tmp5agqlcei/tmp_func_2bdc3578c243319f.tar\n",
      "2023-12-17 22:38:04.168 INFO Finish serving ('127.0.0.1', 53974)\n",
      "2023-12-17 22:38:05.839 INFO load_module /var/folders/27/z40g_7vx5q97_wfz_gcd92k40000gn/T/tmp7296_fqq/tmp_func_adc065effbc94a58.tar\n",
      "2023-12-17 22:38:05.960 INFO Finish serving ('127.0.0.1', 53976)\n",
      "2023-12-17 22:38:07.555 INFO load_module /var/folders/27/z40g_7vx5q97_wfz_gcd92k40000gn/T/tmp3dp4p0ht/tmp_func_2de5c20e83499a34.tar\n",
      "2023-12-17 22:38:07.676 INFO Finish serving ('127.0.0.1', 53978)\n",
      "2023-12-17 22:38:09.128 INFO load_module /var/folders/27/z40g_7vx5q97_wfz_gcd92k40000gn/T/tmpi3omduls/tmp_func_f1166043dbe5697c.tar\n",
      "2023-12-17 22:38:09.250 INFO Finish serving ('127.0.0.1', 53980)\n"
     ]
    },
    {
     "name": "stdout",
     "output_type": "stream",
     "text": [
      "[Task 24/48]  Current/Best:   34.97/  34.97 GFLOPS | Progress: (16/1960) | 37.26 s"
     ]
    },
    {
     "name": "stderr",
     "output_type": "stream",
     "text": [
      "2023-12-17 22:38:10.986 INFO load_module /var/folders/27/z40g_7vx5q97_wfz_gcd92k40000gn/T/tmp10j88id4/tmp_func_5a94547017c88ba0.tar\n",
      "2023-12-17 22:38:11.104 INFO Finish serving ('127.0.0.1', 53982)\n"
     ]
    },
    {
     "name": "stdout",
     "output_type": "stream",
     "text": [
      " Done.\n",
      "[Task 25/48]  Current/Best:    0.00/   0.00 GFLOPS | Progress: (0/2240) | 0.00 s"
     ]
    },
    {
     "name": "stderr",
     "output_type": "stream",
     "text": [
      "2023-12-17 22:38:14.392 INFO Finish serving ('127.0.0.1', 53986)\n",
      "2023-12-17 22:38:15.603 INFO Finish serving ('127.0.0.1', 53988)\n",
      "2023-12-17 22:38:17.059 INFO load_module /var/folders/27/z40g_7vx5q97_wfz_gcd92k40000gn/T/tmpwo2p5n3z/tmp_func_2cd9a1d88d440c67.tar\n",
      "2023-12-17 22:38:17.198 INFO Finish serving ('127.0.0.1', 53990)\n",
      "2023-12-17 22:38:18.577 INFO load_module /var/folders/27/z40g_7vx5q97_wfz_gcd92k40000gn/T/tmpnytift5c/tmp_func_5cdfbdd841b66f87.tar\n",
      "2023-12-17 22:38:18.713 INFO Finish serving ('127.0.0.1', 53992)\n",
      "2023-12-17 22:38:20.125 INFO load_module /var/folders/27/z40g_7vx5q97_wfz_gcd92k40000gn/T/tmpngc8ueoi/tmp_func_55ed1b8b28237bd7.tar\n",
      "2023-12-17 22:38:20.259 INFO Finish serving ('127.0.0.1', 53994)\n",
      "2023-12-17 22:38:21.863 INFO load_module /var/folders/27/z40g_7vx5q97_wfz_gcd92k40000gn/T/tmpui0ns1j4/tmp_func_c36e930900d62e90.tar\n",
      "2023-12-17 22:38:22.002 INFO Finish serving ('127.0.0.1', 53996)\n",
      "2023-12-17 22:38:23.864 INFO load_module /var/folders/27/z40g_7vx5q97_wfz_gcd92k40000gn/T/tmpfhjxokp0/tmp_func_2430d9b0c8df7b3f.tar\n",
      "2023-12-17 22:38:23.996 INFO Finish serving ('127.0.0.1', 53998)\n",
      "2023-12-17 22:38:25.402 INFO load_module /var/folders/27/z40g_7vx5q97_wfz_gcd92k40000gn/T/tmp8_p1cx3c/tmp_func_ec9f5615ada60628.tar\n",
      "2023-12-17 22:38:25.535 INFO Finish serving ('127.0.0.1', 54001)\n",
      "2023-12-17 22:38:26.967 INFO load_module /var/folders/27/z40g_7vx5q97_wfz_gcd92k40000gn/T/tmpivoz6i8j/tmp_func_c3542b6b3f2cd474.tar\n",
      "2023-12-17 22:38:27.098 INFO Finish serving ('127.0.0.1', 54003)\n",
      "2023-12-17 22:38:28.582 INFO load_module /var/folders/27/z40g_7vx5q97_wfz_gcd92k40000gn/T/tmpvr81c0yk/tmp_func_5d990d846850d16e.tar\n",
      "2023-12-17 22:38:28.711 INFO Finish serving ('127.0.0.1', 54005)\n",
      "2023-12-17 22:38:30.384 INFO load_module /var/folders/27/z40g_7vx5q97_wfz_gcd92k40000gn/T/tmp6dwnnd9g/tmp_func_8e2e8f7a2834dc37.tar\n",
      "2023-12-17 22:38:30.520 INFO Finish serving ('127.0.0.1', 54007)\n",
      "2023-12-17 22:38:32.063 INFO load_module /var/folders/27/z40g_7vx5q97_wfz_gcd92k40000gn/T/tmp_3l3fi5r/tmp_func_64bea05d7b7e5dde.tar\n",
      "2023-12-17 22:38:32.200 INFO Finish serving ('127.0.0.1', 54009)\n",
      "2023-12-17 22:38:33.636 INFO load_module /var/folders/27/z40g_7vx5q97_wfz_gcd92k40000gn/T/tmpimwrtwx_/tmp_func_f31c0b267e341dfc.tar\n",
      "2023-12-17 22:38:33.771 INFO Finish serving ('127.0.0.1', 54011)\n",
      "2023-12-17 22:38:35.277 INFO load_module /var/folders/27/z40g_7vx5q97_wfz_gcd92k40000gn/T/tmpw690rv2c/tmp_func_68e0b7edf5bafdc3.tar\n",
      "2023-12-17 22:38:35.409 INFO Finish serving ('127.0.0.1', 54013)\n",
      "2023-12-17 22:38:36.969 INFO load_module /var/folders/27/z40g_7vx5q97_wfz_gcd92k40000gn/T/tmph3oezwch/tmp_func_98e97f8f50f04125.tar\n",
      "2023-12-17 22:38:37.103 INFO Finish serving ('127.0.0.1', 54015)\n",
      "2023-12-17 22:38:38.516 INFO load_module /var/folders/27/z40g_7vx5q97_wfz_gcd92k40000gn/T/tmp6j7wyg9q/tmp_func_23ea69e36edfd9a7.tar\n",
      "2023-12-17 22:38:38.646 INFO Finish serving ('127.0.0.1', 54017)\n",
      "2023-12-17 22:38:40.120 INFO load_module /var/folders/27/z40g_7vx5q97_wfz_gcd92k40000gn/T/tmpn9atocn8/tmp_func_1d7e6263b211095.tar\n",
      "2023-12-17 22:38:40.248 INFO Finish serving ('127.0.0.1', 54019)\n"
     ]
    },
    {
     "name": "stdout",
     "output_type": "stream",
     "text": [
      "[Task 25/48]  Current/Best:   28.26/  33.26 GFLOPS | Progress: (16/2240) | 30.52 s"
     ]
    },
    {
     "name": "stderr",
     "output_type": "stream",
     "text": [
      "2023-12-17 22:38:41.693 INFO load_module /var/folders/27/z40g_7vx5q97_wfz_gcd92k40000gn/T/tmpccvbwtic/tmp_func_dd7e7d1591b43a7c.tar\n",
      "2023-12-17 22:38:41.825 INFO Finish serving ('127.0.0.1', 54021)\n"
     ]
    },
    {
     "name": "stdout",
     "output_type": "stream",
     "text": [
      " Done.\n",
      "[Task 26/48]  Current/Best:    0.00/   0.00 GFLOPS | Progress: (0/2240) | 0.00 s"
     ]
    },
    {
     "name": "stderr",
     "output_type": "stream",
     "text": [
      "2023-12-17 22:38:45.267 INFO Finish serving ('127.0.0.1', 54025)\n",
      "2023-12-17 22:38:46.422 INFO Finish serving ('127.0.0.1', 54027)\n",
      "2023-12-17 22:38:47.927 INFO load_module /var/folders/27/z40g_7vx5q97_wfz_gcd92k40000gn/T/tmpr6tt450j/tmp_func_91bb472e990c1449.tar\n",
      "2023-12-17 22:38:48.108 INFO Finish serving ('127.0.0.1', 54029)\n",
      "2023-12-17 22:38:49.888 INFO load_module /var/folders/27/z40g_7vx5q97_wfz_gcd92k40000gn/T/tmp1i4m2ilm/tmp_func_3ecd7dc68e428beb.tar\n",
      "2023-12-17 22:38:50.046 INFO Finish serving ('127.0.0.1', 54031)\n",
      "2023-12-17 22:38:51.484 INFO load_module /var/folders/27/z40g_7vx5q97_wfz_gcd92k40000gn/T/tmpts7lpsqg/tmp_func_4920b43d2405b1d4.tar\n",
      "2023-12-17 22:38:51.616 INFO Finish serving ('127.0.0.1', 54033)\n",
      "2023-12-17 22:38:53.128 INFO load_module /var/folders/27/z40g_7vx5q97_wfz_gcd92k40000gn/T/tmp37rmibw2/tmp_func_24ac5105802ff95.tar\n",
      "2023-12-17 22:38:53.282 INFO Finish serving ('127.0.0.1', 54035)\n",
      "2023-12-17 22:38:54.804 INFO load_module /var/folders/27/z40g_7vx5q97_wfz_gcd92k40000gn/T/tmp1d7w1xl5/tmp_func_97b0bb6f6f7cc198.tar\n",
      "2023-12-17 22:38:54.938 INFO Finish serving ('127.0.0.1', 54037)\n",
      "2023-12-17 22:38:56.377 INFO load_module /var/folders/27/z40g_7vx5q97_wfz_gcd92k40000gn/T/tmpt0bdzxw5/tmp_func_6b6beee648ad4071.tar\n",
      "2023-12-17 22:38:56.512 INFO Finish serving ('127.0.0.1', 54039)\n",
      "2023-12-17 22:38:57.938 INFO load_module /var/folders/27/z40g_7vx5q97_wfz_gcd92k40000gn/T/tmp5gg0jojl/tmp_func_33e8c383f0228ee6.tar\n",
      "2023-12-17 22:38:58.071 INFO Finish serving ('127.0.0.1', 54041)\n",
      "2023-12-17 22:38:59.492 INFO load_module /var/folders/27/z40g_7vx5q97_wfz_gcd92k40000gn/T/tmp15td81dj/tmp_func_5c5feefd7d2b8834.tar\n",
      "2023-12-17 22:38:59.625 INFO Finish serving ('127.0.0.1', 54043)\n",
      "2023-12-17 22:39:01.069 INFO load_module /var/folders/27/z40g_7vx5q97_wfz_gcd92k40000gn/T/tmpkw5fa0vu/tmp_func_64291700d9f676c6.tar\n",
      "2023-12-17 22:39:01.205 INFO Finish serving ('127.0.0.1', 54046)\n",
      "2023-12-17 22:39:02.625 INFO load_module /var/folders/27/z40g_7vx5q97_wfz_gcd92k40000gn/T/tmpka5mde26/tmp_func_bd53f6416b820cfd.tar\n",
      "2023-12-17 22:39:02.757 INFO Finish serving ('127.0.0.1', 54048)\n",
      "2023-12-17 22:39:04.175 INFO load_module /var/folders/27/z40g_7vx5q97_wfz_gcd92k40000gn/T/tmpkjjvtkq0/tmp_func_f5c2a6086d146207.tar\n",
      "2023-12-17 22:39:04.313 INFO Finish serving ('127.0.0.1', 54050)\n",
      "2023-12-17 22:39:05.678 INFO load_module /var/folders/27/z40g_7vx5q97_wfz_gcd92k40000gn/T/tmpp8q3ym8w/tmp_func_3e19966a9cfedd4d.tar\n",
      "2023-12-17 22:39:05.815 INFO Finish serving ('127.0.0.1', 54052)\n",
      "2023-12-17 22:39:07.185 INFO load_module /var/folders/27/z40g_7vx5q97_wfz_gcd92k40000gn/T/tmpmh3mjrmd/tmp_func_8e0337aae709242b.tar\n",
      "2023-12-17 22:39:07.321 INFO Finish serving ('127.0.0.1', 54054)\n",
      "2023-12-17 22:39:08.751 INFO load_module /var/folders/27/z40g_7vx5q97_wfz_gcd92k40000gn/T/tmp2vrflqjc/tmp_func_481b3700b70b0eb.tar\n",
      "2023-12-17 22:39:08.883 INFO Finish serving ('127.0.0.1', 54057)\n",
      "2023-12-17 22:39:10.395 INFO load_module /var/folders/27/z40g_7vx5q97_wfz_gcd92k40000gn/T/tmp84hyko3p/tmp_func_b32af27d5f39d04a.tar\n",
      "2023-12-17 22:39:10.526 INFO Finish serving ('127.0.0.1', 54059)\n"
     ]
    },
    {
     "name": "stdout",
     "output_type": "stream",
     "text": [
      "[Task 26/48]  Current/Best:   24.13/  24.13 GFLOPS | Progress: (16/2240) | 30.03 s"
     ]
    },
    {
     "name": "stderr",
     "output_type": "stream",
     "text": [
      "2023-12-17 22:39:11.901 INFO load_module /var/folders/27/z40g_7vx5q97_wfz_gcd92k40000gn/T/tmp5o0z08_x/tmp_func_6b786a74f506f85.tar\n",
      "2023-12-17 22:39:12.034 INFO Finish serving ('127.0.0.1', 54061)\n"
     ]
    },
    {
     "name": "stdout",
     "output_type": "stream",
     "text": [
      " Done.\n",
      "[Task 27/48]  Current/Best:    0.00/   0.00 GFLOPS | Progress: (0/140) | 0.00 s"
     ]
    },
    {
     "name": "stderr",
     "output_type": "stream",
     "text": [
      "2023-12-17 22:39:15.159 INFO Finish serving ('127.0.0.1', 54065)\n",
      "2023-12-17 22:39:16.224 INFO Finish serving ('127.0.0.1', 54067)\n",
      "2023-12-17 22:39:19.668 INFO load_module /var/folders/27/z40g_7vx5q97_wfz_gcd92k40000gn/T/tmp8la_hfvr/tmp_func_128c27dd67df4bdf.tar\n",
      "2023-12-17 22:39:19.780 INFO Finish serving ('127.0.0.1', 54069)\n",
      "2023-12-17 22:39:21.347 INFO load_module /var/folders/27/z40g_7vx5q97_wfz_gcd92k40000gn/T/tmpj4dyq79l/tmp_func_2ad1945ae1d0b921.tar\n",
      "2023-12-17 22:39:21.459 INFO Finish serving ('127.0.0.1', 54071)\n",
      "2023-12-17 22:39:23.119 INFO load_module /var/folders/27/z40g_7vx5q97_wfz_gcd92k40000gn/T/tmpddcklsja/tmp_func_d807e0f706cde648.tar\n",
      "2023-12-17 22:39:23.230 INFO Finish serving ('127.0.0.1', 54073)\n",
      "2023-12-17 22:39:24.688 INFO load_module /var/folders/27/z40g_7vx5q97_wfz_gcd92k40000gn/T/tmpf5yuggnx/tmp_func_c4f709f02b30c42e.tar\n",
      "2023-12-17 22:39:24.797 INFO Finish serving ('127.0.0.1', 54075)\n",
      "2023-12-17 22:39:26.215 INFO load_module /var/folders/27/z40g_7vx5q97_wfz_gcd92k40000gn/T/tmpo6dggnm9/tmp_func_f471e54bd620062d.tar\n",
      "2023-12-17 22:39:26.325 INFO Finish serving ('127.0.0.1', 54077)\n",
      "2023-12-17 22:39:27.684 INFO load_module /var/folders/27/z40g_7vx5q97_wfz_gcd92k40000gn/T/tmp505q9ri8/tmp_func_9ecf03d2ad557fa9.tar\n",
      "2023-12-17 22:39:27.796 INFO Finish serving ('127.0.0.1', 54079)\n",
      "2023-12-17 22:39:29.200 INFO load_module /var/folders/27/z40g_7vx5q97_wfz_gcd92k40000gn/T/tmpz5ksz13g/tmp_func_f8f393e9a1e896a3.tar\n",
      "2023-12-17 22:39:29.312 INFO Finish serving ('127.0.0.1', 54081)\n",
      "2023-12-17 22:39:30.780 INFO load_module /var/folders/27/z40g_7vx5q97_wfz_gcd92k40000gn/T/tmp_04545o5/tmp_func_7961e4049c518a8c.tar\n",
      "2023-12-17 22:39:30.892 INFO Finish serving ('127.0.0.1', 54083)\n",
      "2023-12-17 22:39:32.974 INFO load_module /var/folders/27/z40g_7vx5q97_wfz_gcd92k40000gn/T/tmp56rz12ld/tmp_func_73fe79e4961c75a2.tar\n",
      "2023-12-17 22:39:33.083 INFO Finish serving ('127.0.0.1', 54085)\n",
      "2023-12-17 22:39:34.479 INFO load_module /var/folders/27/z40g_7vx5q97_wfz_gcd92k40000gn/T/tmp__sq6xky/tmp_func_74072c58e6833f3e.tar\n",
      "2023-12-17 22:39:34.592 INFO Finish serving ('127.0.0.1', 54087)\n",
      "2023-12-17 22:39:36.028 INFO load_module /var/folders/27/z40g_7vx5q97_wfz_gcd92k40000gn/T/tmpg5dn3_32/tmp_func_5e04f32564c37906.tar\n",
      "2023-12-17 22:39:36.140 INFO Finish serving ('127.0.0.1', 54089)\n",
      "2023-12-17 22:39:37.600 INFO load_module /var/folders/27/z40g_7vx5q97_wfz_gcd92k40000gn/T/tmp8r1b3m7h/tmp_func_3a2bb74941446fcf.tar\n",
      "2023-12-17 22:39:37.711 INFO Finish serving ('127.0.0.1', 54091)\n",
      "2023-12-17 22:39:39.175 INFO load_module /var/folders/27/z40g_7vx5q97_wfz_gcd92k40000gn/T/tmp07wlbulo/tmp_func_35b72bf7f3f57ff9.tar\n",
      "2023-12-17 22:39:39.283 INFO Finish serving ('127.0.0.1', 54093)\n",
      "2023-12-17 22:39:40.733 INFO load_module /var/folders/27/z40g_7vx5q97_wfz_gcd92k40000gn/T/tmpp3uhy4wy/tmp_func_beafaff96331e543.tar\n",
      "2023-12-17 22:39:40.842 INFO Finish serving ('127.0.0.1', 54095)\n",
      "2023-12-17 22:39:42.512 INFO load_module /var/folders/27/z40g_7vx5q97_wfz_gcd92k40000gn/T/tmp2pnnnbjf/tmp_func_531f66ebe803b9e8.tar\n",
      "2023-12-17 22:39:42.620 INFO Finish serving ('127.0.0.1', 54097)\n"
     ]
    },
    {
     "name": "stdout",
     "output_type": "stream",
     "text": [
      "[Task 27/48]  Current/Best:    6.98/  10.23 GFLOPS | Progress: (16/140) | 32.49 s"
     ]
    },
    {
     "name": "stderr",
     "output_type": "stream",
     "text": [
      "2023-12-17 22:39:44.597 INFO load_module /var/folders/27/z40g_7vx5q97_wfz_gcd92k40000gn/T/tmp88wh3nv_/tmp_func_b3239ed12fe768ff.tar\n",
      "2023-12-17 22:39:44.709 INFO Finish serving ('127.0.0.1', 54099)\n"
     ]
    },
    {
     "name": "stdout",
     "output_type": "stream",
     "text": [
      " Done.\n",
      "[Task 28/48]  Current/Best:    0.00/   0.00 GFLOPS | Progress: (0/2560) | 0.00 s"
     ]
    },
    {
     "name": "stderr",
     "output_type": "stream",
     "text": [
      "2023-12-17 22:39:48.072 INFO Finish serving ('127.0.0.1', 54103)\n",
      "2023-12-17 22:39:49.198 INFO Finish serving ('127.0.0.1', 54105)\n",
      "2023-12-17 22:39:50.700 INFO load_module /var/folders/27/z40g_7vx5q97_wfz_gcd92k40000gn/T/tmp3nyragr0/tmp_func_744ffd602d1c3882.tar\n",
      "2023-12-17 22:39:50.813 INFO Finish serving ('127.0.0.1', 54107)\n",
      "2023-12-17 22:39:52.469 INFO load_module /var/folders/27/z40g_7vx5q97_wfz_gcd92k40000gn/T/tmpz5c0ea_2/tmp_func_334d5bceaaae7dfc.tar\n",
      "2023-12-17 22:39:52.581 INFO Finish serving ('127.0.0.1', 54109)\n",
      "2023-12-17 22:39:54.013 INFO load_module /var/folders/27/z40g_7vx5q97_wfz_gcd92k40000gn/T/tmpxxy9u55g/tmp_func_761611ea9e3054a5.tar\n",
      "2023-12-17 22:39:54.125 INFO Finish serving ('127.0.0.1', 54111)\n",
      "2023-12-17 22:39:55.534 INFO load_module /var/folders/27/z40g_7vx5q97_wfz_gcd92k40000gn/T/tmpm3h46xh4/tmp_func_22d0f65d71d412eb.tar\n",
      "2023-12-17 22:39:55.649 INFO Finish serving ('127.0.0.1', 54113)\n",
      "2023-12-17 22:39:57.098 INFO load_module /var/folders/27/z40g_7vx5q97_wfz_gcd92k40000gn/T/tmp2_pawj98/tmp_func_483c060db09b07b6.tar\n",
      "2023-12-17 22:39:57.209 INFO Finish serving ('127.0.0.1', 54115)\n",
      "2023-12-17 22:39:58.704 INFO load_module /var/folders/27/z40g_7vx5q97_wfz_gcd92k40000gn/T/tmpvk36our_/tmp_func_c3638f8ffd4363a2.tar\n",
      "2023-12-17 22:39:58.818 INFO Finish serving ('127.0.0.1', 54117)\n",
      "2023-12-17 22:40:00.220 INFO load_module /var/folders/27/z40g_7vx5q97_wfz_gcd92k40000gn/T/tmpa8lu9bul/tmp_func_e255e583344a883d.tar\n",
      "2023-12-17 22:40:00.331 INFO Finish serving ('127.0.0.1', 54119)\n",
      "2023-12-17 22:40:01.803 INFO load_module /var/folders/27/z40g_7vx5q97_wfz_gcd92k40000gn/T/tmpc3wbt1s2/tmp_func_9a637c0d332ea587.tar\n",
      "2023-12-17 22:40:01.914 INFO Finish serving ('127.0.0.1', 54121)\n",
      "2023-12-17 22:40:03.345 INFO load_module /var/folders/27/z40g_7vx5q97_wfz_gcd92k40000gn/T/tmpt2g4dw2b/tmp_func_46487607a454c353.tar\n",
      "2023-12-17 22:40:03.460 INFO Finish serving ('127.0.0.1', 54123)\n",
      "2023-12-17 22:40:04.852 INFO load_module /var/folders/27/z40g_7vx5q97_wfz_gcd92k40000gn/T/tmph7_8kmjo/tmp_func_155a53307e607fbd.tar\n",
      "2023-12-17 22:40:04.966 INFO Finish serving ('127.0.0.1', 54125)\n",
      "2023-12-17 22:40:06.433 INFO load_module /var/folders/27/z40g_7vx5q97_wfz_gcd92k40000gn/T/tmpy_44xo0w/tmp_func_2e2d2c31214991d1.tar\n",
      "2023-12-17 22:40:06.547 INFO Finish serving ('127.0.0.1', 54127)\n",
      "2023-12-17 22:40:08.068 INFO load_module /var/folders/27/z40g_7vx5q97_wfz_gcd92k40000gn/T/tmpbdvoyi7g/tmp_func_a3a6426533c7db89.tar\n",
      "2023-12-17 22:40:08.181 INFO Finish serving ('127.0.0.1', 54129)\n",
      "2023-12-17 22:40:09.719 INFO load_module /var/folders/27/z40g_7vx5q97_wfz_gcd92k40000gn/T/tmp4o1d6guf/tmp_func_49962504eefdbc6c.tar\n",
      "2023-12-17 22:40:09.831 INFO Finish serving ('127.0.0.1', 54131)\n",
      "2023-12-17 22:40:11.290 INFO load_module /var/folders/27/z40g_7vx5q97_wfz_gcd92k40000gn/T/tmpueyaa7m5/tmp_func_55a69491fb204b8.tar\n",
      "2023-12-17 22:40:11.403 INFO Finish serving ('127.0.0.1', 54133)\n",
      "2023-12-17 22:40:13.146 INFO load_module /var/folders/27/z40g_7vx5q97_wfz_gcd92k40000gn/T/tmpmid97ogo/tmp_func_57784b80fd12622e.tar\n",
      "2023-12-17 22:40:13.261 INFO Finish serving ('127.0.0.1', 54135)\n"
     ]
    },
    {
     "name": "stdout",
     "output_type": "stream",
     "text": [
      "[Task 28/48]  Current/Best:    5.40/  13.11 GFLOPS | Progress: (16/2560) | 30.15 s"
     ]
    },
    {
     "name": "stderr",
     "output_type": "stream",
     "text": [
      "2023-12-17 22:40:14.938 INFO load_module /var/folders/27/z40g_7vx5q97_wfz_gcd92k40000gn/T/tmpsd6h_92q/tmp_func_1f2a80ecce04eb02.tar\n",
      "2023-12-17 22:40:15.053 INFO Finish serving ('127.0.0.1', 54137)\n"
     ]
    },
    {
     "name": "stdout",
     "output_type": "stream",
     "text": [
      " Done.\n",
      "[Task 29/48]  Current/Best:    0.00/   0.00 GFLOPS | Progress: (0/1120) | 0.00 s"
     ]
    },
    {
     "name": "stderr",
     "output_type": "stream",
     "text": [
      "2023-12-17 22:40:18.619 INFO Finish serving ('127.0.0.1', 54141)\n",
      "2023-12-17 22:40:19.848 INFO Finish serving ('127.0.0.1', 54143)\n",
      "2023-12-17 22:40:21.633 INFO load_module /var/folders/27/z40g_7vx5q97_wfz_gcd92k40000gn/T/tmphaosx850/tmp_func_336e6e56e43c2df4.tar\n",
      "2023-12-17 22:40:21.765 INFO Finish serving ('127.0.0.1', 54145)\n",
      "2023-12-17 22:40:23.398 INFO load_module /var/folders/27/z40g_7vx5q97_wfz_gcd92k40000gn/T/tmpjqwcv78h/tmp_func_6919c6ed0c0b09e4.tar\n",
      "2023-12-17 22:40:23.527 INFO Finish serving ('127.0.0.1', 54147)\n",
      "2023-12-17 22:40:25.301 INFO load_module /var/folders/27/z40g_7vx5q97_wfz_gcd92k40000gn/T/tmp9a7no3zg/tmp_func_1694ab99c78d1c01.tar\n",
      "2023-12-17 22:40:25.427 INFO Finish serving ('127.0.0.1', 54149)\n",
      "2023-12-17 22:40:27.067 INFO load_module /var/folders/27/z40g_7vx5q97_wfz_gcd92k40000gn/T/tmp3qnh1c7m/tmp_func_eeca29ace95e293e.tar\n",
      "2023-12-17 22:40:27.189 INFO Finish serving ('127.0.0.1', 54151)\n",
      "2023-12-17 22:40:28.874 INFO load_module /var/folders/27/z40g_7vx5q97_wfz_gcd92k40000gn/T/tmpzeiefv60/tmp_func_8d415d7b6f8d7755.tar\n",
      "2023-12-17 22:40:28.993 INFO Finish serving ('127.0.0.1', 54153)\n",
      "2023-12-17 22:40:30.678 INFO load_module /var/folders/27/z40g_7vx5q97_wfz_gcd92k40000gn/T/tmp6qs61zqj/tmp_func_e8d15116eea40456.tar\n",
      "2023-12-17 22:40:30.802 INFO Finish serving ('127.0.0.1', 54155)\n",
      "2023-12-17 22:40:32.545 INFO load_module /var/folders/27/z40g_7vx5q97_wfz_gcd92k40000gn/T/tmpbdid2gt1/tmp_func_12241ebace6b8a9b.tar\n",
      "2023-12-17 22:40:32.668 INFO Finish serving ('127.0.0.1', 54157)\n",
      "2023-12-17 22:40:34.308 INFO load_module /var/folders/27/z40g_7vx5q97_wfz_gcd92k40000gn/T/tmp3numtuj_/tmp_func_c8412dabd253926.tar\n",
      "2023-12-17 22:40:34.428 INFO Finish serving ('127.0.0.1', 54159)\n",
      "2023-12-17 22:40:36.216 INFO load_module /var/folders/27/z40g_7vx5q97_wfz_gcd92k40000gn/T/tmp1o19ae_6/tmp_func_c7200d24b34812ec.tar\n",
      "2023-12-17 22:40:36.336 INFO Finish serving ('127.0.0.1', 54161)\n",
      "2023-12-17 22:40:37.915 INFO load_module /var/folders/27/z40g_7vx5q97_wfz_gcd92k40000gn/T/tmpiv6qt8tb/tmp_func_3310227da9c4565f.tar\n",
      "2023-12-17 22:40:38.036 INFO Finish serving ('127.0.0.1', 54163)\n",
      "2023-12-17 22:40:39.639 INFO load_module /var/folders/27/z40g_7vx5q97_wfz_gcd92k40000gn/T/tmp6pz9l0_t/tmp_func_7bcb7f116f0bb623.tar\n",
      "2023-12-17 22:40:39.763 INFO Finish serving ('127.0.0.1', 54165)\n",
      "2023-12-17 22:40:41.457 INFO load_module /var/folders/27/z40g_7vx5q97_wfz_gcd92k40000gn/T/tmp3i3uuxcj/tmp_func_f19bba59697187.tar\n",
      "2023-12-17 22:40:41.579 INFO Finish serving ('127.0.0.1', 54167)\n",
      "2023-12-17 22:40:43.170 INFO load_module /var/folders/27/z40g_7vx5q97_wfz_gcd92k40000gn/T/tmpee8vd87m/tmp_func_dc32eb3f8219f872.tar\n",
      "2023-12-17 22:40:43.288 INFO Finish serving ('127.0.0.1', 54169)\n",
      "2023-12-17 22:40:44.801 INFO load_module /var/folders/27/z40g_7vx5q97_wfz_gcd92k40000gn/T/tmpv7vcx385/tmp_func_87170a263fa12429.tar\n",
      "2023-12-17 22:40:44.919 INFO Finish serving ('127.0.0.1', 54171)\n",
      "2023-12-17 22:40:46.398 INFO load_module /var/folders/27/z40g_7vx5q97_wfz_gcd92k40000gn/T/tmpbltmh2gm/tmp_func_8b1e50aa143986ac.tar\n",
      "2023-12-17 22:40:46.519 INFO Finish serving ('127.0.0.1', 54173)\n"
     ]
    },
    {
     "name": "stdout",
     "output_type": "stream",
     "text": [
      "[Task 29/48]  Current/Best:   19.31/  23.23 GFLOPS | Progress: (16/1120) | 32.81 s"
     ]
    },
    {
     "name": "stderr",
     "output_type": "stream",
     "text": [
      "2023-12-17 22:40:47.955 INFO load_module /var/folders/27/z40g_7vx5q97_wfz_gcd92k40000gn/T/tmpyldutuut/tmp_func_e403a54421533e47.tar\n",
      "2023-12-17 22:40:48.073 INFO Finish serving ('127.0.0.1', 54175)\n"
     ]
    },
    {
     "name": "stdout",
     "output_type": "stream",
     "text": [
      " Done.\n",
      "[Task 30/48]  Current/Best:    0.00/   0.00 GFLOPS | Progress: (0/972) | 0.00 s"
     ]
    },
    {
     "name": "stderr",
     "output_type": "stream",
     "text": [
      "2023-12-17 22:40:51.336 INFO Finish serving ('127.0.0.1', 54179)\n",
      "2023-12-17 22:40:52.406 INFO Finish serving ('127.0.0.1', 54181)\n",
      "2023-12-17 22:40:53.768 INFO load_module /var/folders/27/z40g_7vx5q97_wfz_gcd92k40000gn/T/tmpvl0j94d3/tmp_func_a50102ba125fc7de.tar\n",
      "2023-12-17 22:40:53.888 INFO Finish serving ('127.0.0.1', 54183)\n",
      "2023-12-17 22:40:55.265 INFO load_module /var/folders/27/z40g_7vx5q97_wfz_gcd92k40000gn/T/tmp4hhblr9g/tmp_func_9b1909217a2e26db.tar\n",
      "2023-12-17 22:40:55.386 INFO Finish serving ('127.0.0.1', 54185)\n",
      "2023-12-17 22:40:56.781 INFO load_module /var/folders/27/z40g_7vx5q97_wfz_gcd92k40000gn/T/tmpihwjsmf4/tmp_func_de72b31c5c32b5e1.tar\n",
      "2023-12-17 22:40:56.900 INFO Finish serving ('127.0.0.1', 54187)\n",
      "2023-12-17 22:40:58.329 INFO load_module /var/folders/27/z40g_7vx5q97_wfz_gcd92k40000gn/T/tmp8pdhsy93/tmp_func_10c5854aa19143f0.tar\n",
      "2023-12-17 22:40:58.450 INFO Finish serving ('127.0.0.1', 54189)\n",
      "2023-12-17 22:40:59.903 INFO load_module /var/folders/27/z40g_7vx5q97_wfz_gcd92k40000gn/T/tmpuvmwqtqt/tmp_func_638dddbb997f5a51.tar\n",
      "2023-12-17 22:41:00.020 INFO Finish serving ('127.0.0.1', 54191)\n",
      "2023-12-17 22:41:01.532 INFO load_module /var/folders/27/z40g_7vx5q97_wfz_gcd92k40000gn/T/tmppeuazm5x/tmp_func_876228f31ab5bf15.tar\n",
      "2023-12-17 22:41:01.653 INFO Finish serving ('127.0.0.1', 54193)\n",
      "2023-12-17 22:41:03.673 INFO load_module /var/folders/27/z40g_7vx5q97_wfz_gcd92k40000gn/T/tmputa7qo2s/tmp_func_d1926f6647aa496.tar\n",
      "2023-12-17 22:41:03.792 INFO Finish serving ('127.0.0.1', 54195)\n",
      "2023-12-17 22:41:05.281 INFO load_module /var/folders/27/z40g_7vx5q97_wfz_gcd92k40000gn/T/tmp_8sabxb6/tmp_func_da293c4795cc58a9.tar\n",
      "2023-12-17 22:41:05.404 INFO Finish serving ('127.0.0.1', 54197)\n",
      "2023-12-17 22:41:07.150 INFO load_module /var/folders/27/z40g_7vx5q97_wfz_gcd92k40000gn/T/tmpfi86xz9u/tmp_func_b476783a24421f98.tar\n",
      "2023-12-17 22:41:07.277 INFO Finish serving ('127.0.0.1', 54199)\n",
      "2023-12-17 22:41:08.915 INFO load_module /var/folders/27/z40g_7vx5q97_wfz_gcd92k40000gn/T/tmpyt4n57lw/tmp_func_9ba8ea598ac06ed3.tar\n",
      "2023-12-17 22:41:09.036 INFO Finish serving ('127.0.0.1', 54201)\n",
      "2023-12-17 22:41:10.686 INFO load_module /var/folders/27/z40g_7vx5q97_wfz_gcd92k40000gn/T/tmpjilz4ve2/tmp_func_924c3de647006e75.tar\n",
      "2023-12-17 22:41:10.806 INFO Finish serving ('127.0.0.1', 54203)\n",
      "2023-12-17 22:41:12.915 INFO load_module /var/folders/27/z40g_7vx5q97_wfz_gcd92k40000gn/T/tmpxycw8blh/tmp_func_fa506813aab7f378.tar\n",
      "2023-12-17 22:41:13.034 INFO Finish serving ('127.0.0.1', 54205)\n",
      "2023-12-17 22:41:14.645 INFO load_module /var/folders/27/z40g_7vx5q97_wfz_gcd92k40000gn/T/tmpjhkesbeb/tmp_func_1439128b255e012f.tar\n",
      "2023-12-17 22:41:14.767 INFO Finish serving ('127.0.0.1', 54207)\n",
      "2023-12-17 22:41:16.691 INFO load_module /var/folders/27/z40g_7vx5q97_wfz_gcd92k40000gn/T/tmp1i9bh8un/tmp_func_95c0290c3603ea9d.tar\n",
      "2023-12-17 22:41:16.814 INFO Finish serving ('127.0.0.1', 54209)\n",
      "2023-12-17 22:41:18.419 INFO load_module /var/folders/27/z40g_7vx5q97_wfz_gcd92k40000gn/T/tmpbu3l6xul/tmp_func_a1a240175e09852e.tar\n",
      "2023-12-17 22:41:18.541 INFO Finish serving ('127.0.0.1', 54211)\n"
     ]
    },
    {
     "name": "stdout",
     "output_type": "stream",
     "text": [
      "[Task 30/48]  Current/Best:    6.30/  15.02 GFLOPS | Progress: (16/972) | 32.12 s"
     ]
    },
    {
     "name": "stderr",
     "output_type": "stream",
     "text": [
      "2023-12-17 22:41:20.253 INFO load_module /var/folders/27/z40g_7vx5q97_wfz_gcd92k40000gn/T/tmpdq02rgnz/tmp_func_c9ca08ff69bd4c60.tar\n",
      "2023-12-17 22:41:20.378 INFO Finish serving ('127.0.0.1', 54213)\n"
     ]
    },
    {
     "name": "stdout",
     "output_type": "stream",
     "text": [
      " Done.\n",
      "[Task 31/48]  Current/Best:    0.00/   0.00 GFLOPS | Progress: (0/756) | 0.00 s"
     ]
    },
    {
     "name": "stderr",
     "output_type": "stream",
     "text": [
      "2023-12-17 22:41:24.207 INFO Finish serving ('127.0.0.1', 54217)\n",
      "2023-12-17 22:41:25.472 INFO Finish serving ('127.0.0.1', 54219)\n",
      "2023-12-17 22:41:27.203 INFO load_module /var/folders/27/z40g_7vx5q97_wfz_gcd92k40000gn/T/tmpyt30w2u_/tmp_func_33d3ce6b0fffc1f2.tar\n",
      "2023-12-17 22:41:27.330 INFO Finish serving ('127.0.0.1', 54221)\n",
      "2023-12-17 22:41:28.930 INFO load_module /var/folders/27/z40g_7vx5q97_wfz_gcd92k40000gn/T/tmpzrhp4cif/tmp_func_3822ff76980897bd.tar\n",
      "2023-12-17 22:41:29.060 INFO Finish serving ('127.0.0.1', 54223)\n",
      "2023-12-17 22:41:30.609 INFO load_module /var/folders/27/z40g_7vx5q97_wfz_gcd92k40000gn/T/tmp2yquwob9/tmp_func_a0fc707652c2cb27.tar\n",
      "2023-12-17 22:41:30.740 INFO Finish serving ('127.0.0.1', 54225)\n",
      "2023-12-17 22:41:32.605 INFO load_module /var/folders/27/z40g_7vx5q97_wfz_gcd92k40000gn/T/tmppr6iz4ts/tmp_func_8ee99b6a64403c3b.tar\n",
      "2023-12-17 22:41:32.734 INFO Finish serving ('127.0.0.1', 54227)\n",
      "2023-12-17 22:41:34.161 INFO load_module /var/folders/27/z40g_7vx5q97_wfz_gcd92k40000gn/T/tmpmx0tw6zw/tmp_func_f1c9e0285f894ca0.tar\n",
      "2023-12-17 22:41:34.288 INFO Finish serving ('127.0.0.1', 54229)\n",
      "2023-12-17 22:41:35.983 INFO load_module /var/folders/27/z40g_7vx5q97_wfz_gcd92k40000gn/T/tmpx1bu5_f9/tmp_func_9aeb2daf4b7dabe9.tar\n",
      "2023-12-17 22:41:36.112 INFO Finish serving ('127.0.0.1', 54231)\n",
      "2023-12-17 22:41:37.669 INFO load_module /var/folders/27/z40g_7vx5q97_wfz_gcd92k40000gn/T/tmp6otckv9b/tmp_func_9077f82ef9e68194.tar\n",
      "2023-12-17 22:41:37.798 INFO Finish serving ('127.0.0.1', 54233)\n",
      "2023-12-17 22:41:39.226 INFO load_module /var/folders/27/z40g_7vx5q97_wfz_gcd92k40000gn/T/tmpr6mg4ni7/tmp_func_a2ae5a45a450ce7d.tar\n",
      "2023-12-17 22:41:39.355 INFO Finish serving ('127.0.0.1', 54235)\n",
      "2023-12-17 22:41:40.876 INFO load_module /var/folders/27/z40g_7vx5q97_wfz_gcd92k40000gn/T/tmp3os3srao/tmp_func_920e2183d2766806.tar\n",
      "2023-12-17 22:41:41.005 INFO Finish serving ('127.0.0.1', 54237)\n",
      "2023-12-17 22:41:42.897 INFO load_module /var/folders/27/z40g_7vx5q97_wfz_gcd92k40000gn/T/tmp5g5je71v/tmp_func_ab7e4b68f74644d6.tar\n",
      "2023-12-17 22:41:43.023 INFO Finish serving ('127.0.0.1', 54239)\n",
      "2023-12-17 22:41:44.574 INFO load_module /var/folders/27/z40g_7vx5q97_wfz_gcd92k40000gn/T/tmp0tbj10za/tmp_func_4c8b6167c0d8c9af.tar\n",
      "2023-12-17 22:41:44.702 INFO Finish serving ('127.0.0.1', 54241)\n",
      "2023-12-17 22:41:46.229 INFO load_module /var/folders/27/z40g_7vx5q97_wfz_gcd92k40000gn/T/tmp2fissm0m/tmp_func_9fbd03aadd6615af.tar\n",
      "2023-12-17 22:41:46.357 INFO Finish serving ('127.0.0.1', 54243)\n",
      "2023-12-17 22:41:48.242 INFO load_module /var/folders/27/z40g_7vx5q97_wfz_gcd92k40000gn/T/tmp1nsw94j_/tmp_func_32a3b51af720aa49.tar\n",
      "2023-12-17 22:41:48.366 INFO Finish serving ('127.0.0.1', 54245)\n",
      "2023-12-17 22:41:49.851 INFO load_module /var/folders/27/z40g_7vx5q97_wfz_gcd92k40000gn/T/tmpret4zewy/tmp_func_772d40b1cb0f041d.tar\n",
      "2023-12-17 22:41:49.978 INFO Finish serving ('127.0.0.1', 54247)\n",
      "2023-12-17 22:41:51.441 INFO load_module /var/folders/27/z40g_7vx5q97_wfz_gcd92k40000gn/T/tmplov5y6cd/tmp_func_87c38a5e33dfa7b6.tar\n",
      "2023-12-17 22:41:51.568 INFO Finish serving ('127.0.0.1', 54249)\n"
     ]
    },
    {
     "name": "stdout",
     "output_type": "stream",
     "text": [
      "[Task 31/48]  Current/Best:   48.59/  78.26 GFLOPS | Progress: (16/756) | 32.54 s"
     ]
    },
    {
     "name": "stderr",
     "output_type": "stream",
     "text": [
      "2023-12-17 22:41:52.985 INFO load_module /var/folders/27/z40g_7vx5q97_wfz_gcd92k40000gn/T/tmpmicg_fpd/tmp_func_a0133494c4a20e26.tar\n",
      "2023-12-17 22:41:53.111 INFO Finish serving ('127.0.0.1', 54255)\n"
     ]
    },
    {
     "name": "stdout",
     "output_type": "stream",
     "text": [
      " Done.\n",
      "[Task 32/48]  Current/Best:    0.00/   0.00 GFLOPS | Progress: (0/896) | 0.00 s"
     ]
    },
    {
     "name": "stderr",
     "output_type": "stream",
     "text": [
      "2023-12-17 22:41:56.533 INFO Finish serving ('127.0.0.1', 54260)\n",
      "2023-12-17 22:41:57.733 INFO Finish serving ('127.0.0.1', 54263)\n",
      "2023-12-17 22:41:59.195 INFO load_module /var/folders/27/z40g_7vx5q97_wfz_gcd92k40000gn/T/tmpqgvzn8sr/tmp_func_8336142e5bff1a81.tar\n",
      "2023-12-17 22:41:59.327 INFO Finish serving ('127.0.0.1', 54265)\n",
      "2023-12-17 22:42:00.889 INFO load_module /var/folders/27/z40g_7vx5q97_wfz_gcd92k40000gn/T/tmp9fwqj7nv/tmp_func_eeb4d73b2f5866cd.tar\n",
      "2023-12-17 22:42:01.021 INFO Finish serving ('127.0.0.1', 54269)\n",
      "2023-12-17 22:42:02.487 INFO load_module /var/folders/27/z40g_7vx5q97_wfz_gcd92k40000gn/T/tmpmdq2by9y/tmp_func_137c1328218eac04.tar\n",
      "2023-12-17 22:42:02.618 INFO Finish serving ('127.0.0.1', 54271)\n",
      "2023-12-17 22:42:04.293 INFO load_module /var/folders/27/z40g_7vx5q97_wfz_gcd92k40000gn/T/tmp5szr41be/tmp_func_23334e260b4975f.tar\n",
      "2023-12-17 22:42:04.427 INFO Finish serving ('127.0.0.1', 54273)\n",
      "2023-12-17 22:42:05.979 INFO load_module /var/folders/27/z40g_7vx5q97_wfz_gcd92k40000gn/T/tmpbs11gt3k/tmp_func_7dce2a339e88ad5b.tar\n",
      "2023-12-17 22:42:06.118 INFO Finish serving ('127.0.0.1', 54275)\n",
      "2023-12-17 22:42:07.621 INFO load_module /var/folders/27/z40g_7vx5q97_wfz_gcd92k40000gn/T/tmpsrmal6xh/tmp_func_c414666b9b94fff5.tar\n",
      "2023-12-17 22:42:07.756 INFO Finish serving ('127.0.0.1', 54277)\n",
      "2023-12-17 22:42:09.539 INFO load_module /var/folders/27/z40g_7vx5q97_wfz_gcd92k40000gn/T/tmpb_gvq3jf/tmp_func_97a625c2e80a8264.tar\n",
      "2023-12-17 22:42:09.679 INFO Finish serving ('127.0.0.1', 54279)\n",
      "2023-12-17 22:42:11.636 INFO load_module /var/folders/27/z40g_7vx5q97_wfz_gcd92k40000gn/T/tmpgi2cqx_g/tmp_func_fa2713ab45f9dcaa.tar\n",
      "2023-12-17 22:42:11.774 INFO Finish serving ('127.0.0.1', 54281)\n",
      "2023-12-17 22:42:13.306 INFO load_module /var/folders/27/z40g_7vx5q97_wfz_gcd92k40000gn/T/tmpumb_z0q4/tmp_func_3b15020899878ab9.tar\n",
      "2023-12-17 22:42:13.437 INFO Finish serving ('127.0.0.1', 54283)\n",
      "2023-12-17 22:42:15.005 INFO load_module /var/folders/27/z40g_7vx5q97_wfz_gcd92k40000gn/T/tmpijpqbrmn/tmp_func_d20cd20bd6aeaca.tar\n",
      "2023-12-17 22:42:15.135 INFO Finish serving ('127.0.0.1', 54285)\n",
      "2023-12-17 22:42:16.747 INFO load_module /var/folders/27/z40g_7vx5q97_wfz_gcd92k40000gn/T/tmpgt90y75z/tmp_func_7c18b4b9fab82a0a.tar\n",
      "2023-12-17 22:42:16.879 INFO Finish serving ('127.0.0.1', 54287)\n",
      "2023-12-17 22:42:18.547 INFO load_module /var/folders/27/z40g_7vx5q97_wfz_gcd92k40000gn/T/tmpbof1zgky/tmp_func_d61f26eec74de96b.tar\n",
      "2023-12-17 22:42:18.680 INFO Finish serving ('127.0.0.1', 54289)\n",
      "2023-12-17 22:42:20.249 INFO load_module /var/folders/27/z40g_7vx5q97_wfz_gcd92k40000gn/T/tmp0k__b8j9/tmp_func_c121ac389d0e2f45.tar\n",
      "2023-12-17 22:42:20.385 INFO Finish serving ('127.0.0.1', 54291)\n",
      "2023-12-17 22:42:21.991 INFO load_module /var/folders/27/z40g_7vx5q97_wfz_gcd92k40000gn/T/tmpuzhw6xh5/tmp_func_2afc379a39897be9.tar\n",
      "2023-12-17 22:42:22.128 INFO Finish serving ('127.0.0.1', 54293)\n",
      "2023-12-17 22:42:25.043 INFO load_module /var/folders/27/z40g_7vx5q97_wfz_gcd92k40000gn/T/tmpw4o0ecoo/tmp_func_2cfd2c15aba8acb9.tar\n",
      "2023-12-17 22:42:25.178 INFO Finish serving ('127.0.0.1', 54295)\n"
     ]
    },
    {
     "name": "stdout",
     "output_type": "stream",
     "text": [
      "[Task 32/48]  Current/Best:    4.10/  13.91 GFLOPS | Progress: (16/896) | 33.68 s"
     ]
    },
    {
     "name": "stderr",
     "output_type": "stream",
     "text": [
      "2023-12-17 22:42:26.841 INFO load_module /var/folders/27/z40g_7vx5q97_wfz_gcd92k40000gn/T/tmpym4rs_0n/tmp_func_b60272d6ccd0c3d3.tar\n",
      "2023-12-17 22:42:26.979 INFO Finish serving ('127.0.0.1', 54297)\n"
     ]
    },
    {
     "name": "stdout",
     "output_type": "stream",
     "text": [
      " Done.\n",
      "[Task 33/48]  Current/Best:    0.00/   0.00 GFLOPS | Progress: (0/784) | 0.00 s"
     ]
    },
    {
     "name": "stderr",
     "output_type": "stream",
     "text": [
      "2023-12-17 22:42:30.647 INFO Finish serving ('127.0.0.1', 54302)\n",
      "2023-12-17 22:42:31.855 INFO Finish serving ('127.0.0.1', 54304)\n",
      "2023-12-17 22:42:34.378 INFO load_module /var/folders/27/z40g_7vx5q97_wfz_gcd92k40000gn/T/tmp_3j_sh_t/tmp_func_7881dfa407a04ff1.tar\n",
      "2023-12-17 22:42:34.521 INFO Finish serving ('127.0.0.1', 54306)\n",
      "2023-12-17 22:42:36.373 INFO load_module /var/folders/27/z40g_7vx5q97_wfz_gcd92k40000gn/T/tmpzxigcfdo/tmp_func_77234c01a826def8.tar\n",
      "2023-12-17 22:42:36.530 INFO Finish serving ('127.0.0.1', 54308)\n",
      "2023-12-17 22:42:37.986 INFO load_module /var/folders/27/z40g_7vx5q97_wfz_gcd92k40000gn/T/tmphp3055e1/tmp_func_faa8c8e77e0218b5.tar\n",
      "2023-12-17 22:42:38.136 INFO Finish serving ('127.0.0.1', 54310)\n",
      "2023-12-17 22:42:39.695 INFO load_module /var/folders/27/z40g_7vx5q97_wfz_gcd92k40000gn/T/tmp0weipeyb/tmp_func_2393923a70eb411c.tar\n",
      "2023-12-17 22:42:39.844 INFO Finish serving ('127.0.0.1', 54313)\n",
      "2023-12-17 22:42:41.518 INFO load_module /var/folders/27/z40g_7vx5q97_wfz_gcd92k40000gn/T/tmpipdxmf2z/tmp_func_25e934ac930407b6.tar\n",
      "2023-12-17 22:42:41.667 INFO Finish serving ('127.0.0.1', 54315)\n",
      "2023-12-17 22:42:43.198 INFO load_module /var/folders/27/z40g_7vx5q97_wfz_gcd92k40000gn/T/tmpmgsksqnm/tmp_func_613e56d6a09e6b2e.tar\n",
      "2023-12-17 22:42:43.343 INFO Finish serving ('127.0.0.1', 54319)\n",
      "2023-12-17 22:42:44.831 INFO load_module /var/folders/27/z40g_7vx5q97_wfz_gcd92k40000gn/T/tmp8_swa2r6/tmp_func_eaf8d1aada6c2f42.tar\n",
      "2023-12-17 22:42:44.977 INFO Finish serving ('127.0.0.1', 54321)\n",
      "2023-12-17 22:42:46.511 INFO load_module /var/folders/27/z40g_7vx5q97_wfz_gcd92k40000gn/T/tmp821pch1l/tmp_func_8df372ff563b2c06.tar\n",
      "2023-12-17 22:42:46.659 INFO Finish serving ('127.0.0.1', 54323)\n",
      "2023-12-17 22:42:48.437 INFO load_module /var/folders/27/z40g_7vx5q97_wfz_gcd92k40000gn/T/tmp5a1bviiy/tmp_func_17a1647c9c35e490.tar\n",
      "2023-12-17 22:42:48.588 INFO Finish serving ('127.0.0.1', 54325)\n",
      "2023-12-17 22:42:50.070 INFO load_module /var/folders/27/z40g_7vx5q97_wfz_gcd92k40000gn/T/tmpl4emul9w/tmp_func_b481479ae85300a4.tar\n",
      "2023-12-17 22:42:50.221 INFO Finish serving ('127.0.0.1', 54327)\n",
      "2023-12-17 22:42:52.532 INFO load_module /var/folders/27/z40g_7vx5q97_wfz_gcd92k40000gn/T/tmp0eh5pofq/tmp_func_ffedd55a36557884.tar\n",
      "2023-12-17 22:42:52.671 INFO Finish serving ('127.0.0.1', 54329)\n",
      "2023-12-17 22:42:54.200 INFO load_module /var/folders/27/z40g_7vx5q97_wfz_gcd92k40000gn/T/tmpcayp4qxj/tmp_func_ca0db7efe04249d.tar\n",
      "2023-12-17 22:42:54.339 INFO Finish serving ('127.0.0.1', 54331)\n",
      "2023-12-17 22:42:55.819 INFO load_module /var/folders/27/z40g_7vx5q97_wfz_gcd92k40000gn/T/tmpj9_5zlj8/tmp_func_6e523611d7159614.tar\n",
      "2023-12-17 22:42:55.962 INFO Finish serving ('127.0.0.1', 54333)\n",
      "2023-12-17 22:42:57.971 INFO load_module /var/folders/27/z40g_7vx5q97_wfz_gcd92k40000gn/T/tmp5gu4u12j/tmp_func_629d28df2963cfdf.tar\n",
      "2023-12-17 22:42:58.112 INFO Finish serving ('127.0.0.1', 54335)\n",
      "2023-12-17 22:42:59.549 INFO load_module /var/folders/27/z40g_7vx5q97_wfz_gcd92k40000gn/T/tmp14nvxfan/tmp_func_d31452775fe3c24e.tar\n",
      "2023-12-17 22:42:59.689 INFO Finish serving ('127.0.0.1', 54337)\n"
     ]
    },
    {
     "name": "stdout",
     "output_type": "stream",
     "text": [
      "[Task 33/48]  Current/Best:   78.07/  82.48 GFLOPS | Progress: (16/784) | 34.10 s"
     ]
    },
    {
     "name": "stderr",
     "output_type": "stream",
     "text": [
      "2023-12-17 22:43:01.129 INFO load_module /var/folders/27/z40g_7vx5q97_wfz_gcd92k40000gn/T/tmp8ga7j4_9/tmp_func_4c341ceb3b34c288.tar\n",
      "2023-12-17 22:43:01.267 INFO Finish serving ('127.0.0.1', 54339)\n"
     ]
    },
    {
     "name": "stdout",
     "output_type": "stream",
     "text": [
      " Done.\n",
      "[Task 34/48]  Current/Best:    0.00/   0.00 GFLOPS | Progress: (0/350) | 0.00 s"
     ]
    },
    {
     "name": "stderr",
     "output_type": "stream",
     "text": [
      "2023-12-17 22:43:04.924 INFO Finish serving ('127.0.0.1', 54343)\n",
      "2023-12-17 22:43:06.294 INFO Finish serving ('127.0.0.1', 54345)\n",
      "2023-12-17 22:43:07.913 INFO load_module /var/folders/27/z40g_7vx5q97_wfz_gcd92k40000gn/T/tmpx63u2a2z/tmp_func_a1c1ff5ace8dab0c.tar\n",
      "2023-12-17 22:43:08.034 INFO Finish serving ('127.0.0.1', 54347)\n",
      "2023-12-17 22:43:09.928 INFO load_module /var/folders/27/z40g_7vx5q97_wfz_gcd92k40000gn/T/tmp40sont0g/tmp_func_2d8240f38a060adf.tar\n",
      "2023-12-17 22:43:10.051 INFO Finish serving ('127.0.0.1', 54349)\n",
      "2023-12-17 22:43:11.930 INFO load_module /var/folders/27/z40g_7vx5q97_wfz_gcd92k40000gn/T/tmps0y5jnsl/tmp_func_b553c58af59bfd7c.tar\n",
      "2023-12-17 22:43:12.054 INFO Finish serving ('127.0.0.1', 54351)\n",
      "2023-12-17 22:43:14.036 INFO load_module /var/folders/27/z40g_7vx5q97_wfz_gcd92k40000gn/T/tmpsh16ulyf/tmp_func_e153bf54e50a4a69.tar\n",
      "2023-12-17 22:43:14.242 INFO Finish serving ('127.0.0.1', 54353)\n",
      "2023-12-17 22:43:16.337 INFO load_module /var/folders/27/z40g_7vx5q97_wfz_gcd92k40000gn/T/tmp0lmdr3m4/tmp_func_3084579c5091aac1.tar\n",
      "2023-12-17 22:43:16.462 INFO Finish serving ('127.0.0.1', 54355)\n",
      "2023-12-17 22:43:18.635 INFO load_module /var/folders/27/z40g_7vx5q97_wfz_gcd92k40000gn/T/tmpf_r9vs5f/tmp_func_ab56c6bdce2c6475.tar\n",
      "2023-12-17 22:43:18.756 INFO Finish serving ('127.0.0.1', 54357)\n",
      "2023-12-17 22:43:20.964 INFO load_module /var/folders/27/z40g_7vx5q97_wfz_gcd92k40000gn/T/tmp5x7sdmsk/tmp_func_8f65d4328f092348.tar\n",
      "2023-12-17 22:43:21.089 INFO Finish serving ('127.0.0.1', 54359)\n",
      "2023-12-17 22:43:23.855 INFO load_module /var/folders/27/z40g_7vx5q97_wfz_gcd92k40000gn/T/tmprumov2l9/tmp_func_3000636e5e883c09.tar\n",
      "2023-12-17 22:43:24.038 INFO Finish serving ('127.0.0.1', 54361)\n",
      "2023-12-17 22:43:26.311 INFO load_module /var/folders/27/z40g_7vx5q97_wfz_gcd92k40000gn/T/tmpldgvmbps/tmp_func_78e095b898bbe2da.tar\n",
      "2023-12-17 22:43:26.434 INFO Finish serving ('127.0.0.1', 54363)\n",
      "2023-12-17 22:43:28.803 INFO load_module /var/folders/27/z40g_7vx5q97_wfz_gcd92k40000gn/T/tmpjqxoxd_2/tmp_func_284e713d1a3ebaee.tar\n",
      "2023-12-17 22:43:28.929 INFO Finish serving ('127.0.0.1', 54365)\n",
      "2023-12-17 22:43:30.913 INFO load_module /var/folders/27/z40g_7vx5q97_wfz_gcd92k40000gn/T/tmpx8y9fszx/tmp_func_616095fd290d5175.tar\n",
      "2023-12-17 22:43:31.035 INFO Finish serving ('127.0.0.1', 54367)\n",
      "2023-12-17 22:43:33.098 INFO load_module /var/folders/27/z40g_7vx5q97_wfz_gcd92k40000gn/T/tmpzlrk4law/tmp_func_63e5a590524b29c5.tar\n",
      "2023-12-17 22:43:33.224 INFO Finish serving ('127.0.0.1', 54369)\n",
      "2023-12-17 22:43:35.228 INFO load_module /var/folders/27/z40g_7vx5q97_wfz_gcd92k40000gn/T/tmpsoqge8at/tmp_func_9c03fb6212aa25a9.tar\n",
      "2023-12-17 22:43:35.351 INFO Finish serving ('127.0.0.1', 54371)\n",
      "2023-12-17 22:43:37.522 INFO load_module /var/folders/27/z40g_7vx5q97_wfz_gcd92k40000gn/T/tmpm2sef6ab/tmp_func_445065be57298598.tar\n",
      "2023-12-17 22:43:37.648 INFO Finish serving ('127.0.0.1', 54378)\n",
      "2023-12-17 22:43:39.375 INFO load_module /var/folders/27/z40g_7vx5q97_wfz_gcd92k40000gn/T/tmpy_8g3vsp/tmp_func_5cf8a5456c19a79c.tar\n",
      "2023-12-17 22:43:39.500 INFO Finish serving ('127.0.0.1', 54385)\n"
     ]
    },
    {
     "name": "stdout",
     "output_type": "stream",
     "text": [
      "[Task 34/48]  Current/Best:   11.03/  14.95 GFLOPS | Progress: (16/350) | 39.95 s"
     ]
    },
    {
     "name": "stderr",
     "output_type": "stream",
     "text": [
      "2023-12-17 22:43:41.288 INFO load_module /var/folders/27/z40g_7vx5q97_wfz_gcd92k40000gn/T/tmptpfk0qp2/tmp_func_f00e0957b632eee7.tar\n",
      "2023-12-17 22:43:41.412 INFO Finish serving ('127.0.0.1', 54387)\n"
     ]
    },
    {
     "name": "stdout",
     "output_type": "stream",
     "text": [
      " Done.\n",
      "[Task 35/48]  Current/Best:    0.00/   0.00 GFLOPS | Progress: (0/490) | 0.00 s"
     ]
    },
    {
     "name": "stderr",
     "output_type": "stream",
     "text": [
      "2023-12-17 22:43:45.064 INFO Finish serving ('127.0.0.1', 54397)\n",
      "2023-12-17 22:43:46.250 INFO Finish serving ('127.0.0.1', 54399)\n",
      "2023-12-17 22:43:48.497 INFO load_module /var/folders/27/z40g_7vx5q97_wfz_gcd92k40000gn/T/tmpszrgu3f6/tmp_func_6161873627fa6dbb.tar\n",
      "2023-12-17 22:43:48.641 INFO Finish serving ('127.0.0.1', 54401)\n",
      "2023-12-17 22:43:50.300 INFO load_module /var/folders/27/z40g_7vx5q97_wfz_gcd92k40000gn/T/tmp8okrtdew/tmp_func_53488ce9c2ab9b21.tar\n",
      "2023-12-17 22:43:50.445 INFO Finish serving ('127.0.0.1', 54403)\n",
      "2023-12-17 22:43:52.302 INFO load_module /var/folders/27/z40g_7vx5q97_wfz_gcd92k40000gn/T/tmptiepofsy/tmp_func_37dbd7cb0a20eb3f.tar\n",
      "2023-12-17 22:43:52.457 INFO Finish serving ('127.0.0.1', 54405)\n",
      "2023-12-17 22:43:54.115 INFO load_module /var/folders/27/z40g_7vx5q97_wfz_gcd92k40000gn/T/tmprlkyu91j/tmp_func_1383381ced5102f8.tar\n",
      "2023-12-17 22:43:54.257 INFO Finish serving ('127.0.0.1', 54407)\n",
      "2023-12-17 22:43:56.494 INFO load_module /var/folders/27/z40g_7vx5q97_wfz_gcd92k40000gn/T/tmpvmf4a8oi/tmp_func_1f1320234a264438.tar\n",
      "2023-12-17 22:43:56.635 INFO Finish serving ('127.0.0.1', 54409)\n",
      "2023-12-17 22:43:58.732 INFO load_module /var/folders/27/z40g_7vx5q97_wfz_gcd92k40000gn/T/tmpplige4ev/tmp_func_ed2fdf3e88608322.tar\n",
      "2023-12-17 22:43:58.879 INFO Finish serving ('127.0.0.1', 54411)\n",
      "2023-12-17 22:44:00.688 INFO load_module /var/folders/27/z40g_7vx5q97_wfz_gcd92k40000gn/T/tmp3fzw_57m/tmp_func_2d13cf0434f7a180.tar\n",
      "2023-12-17 22:44:00.830 INFO Finish serving ('127.0.0.1', 54413)\n",
      "2023-12-17 22:44:02.884 INFO load_module /var/folders/27/z40g_7vx5q97_wfz_gcd92k40000gn/T/tmp0tzb5vuw/tmp_func_5380d5cfbe52447f.tar\n",
      "2023-12-17 22:44:03.073 INFO Finish serving ('127.0.0.1', 54415)\n",
      "2023-12-17 22:44:05.504 INFO load_module /var/folders/27/z40g_7vx5q97_wfz_gcd92k40000gn/T/tmp0vxch78m/tmp_func_8b4d8a6fbb4580b7.tar\n",
      "2023-12-17 22:44:05.648 INFO Finish serving ('127.0.0.1', 54417)\n",
      "2023-12-17 22:44:07.750 INFO load_module /var/folders/27/z40g_7vx5q97_wfz_gcd92k40000gn/T/tmp2i1sf9mq/tmp_func_e234f171fd0db3d7.tar\n",
      "2023-12-17 22:44:07.921 INFO Finish serving ('127.0.0.1', 54419)\n",
      "2023-12-17 22:44:09.867 INFO load_module /var/folders/27/z40g_7vx5q97_wfz_gcd92k40000gn/T/tmpge2bsykj/tmp_func_3990ea511ced88a.tar\n",
      "2023-12-17 22:44:10.014 INFO Finish serving ('127.0.0.1', 54422)\n",
      "2023-12-17 22:44:12.222 INFO load_module /var/folders/27/z40g_7vx5q97_wfz_gcd92k40000gn/T/tmp7wx041st/tmp_func_30ea11e17fe9ad14.tar\n",
      "2023-12-17 22:44:12.373 INFO Finish serving ('127.0.0.1', 54424)\n",
      "2023-12-17 22:44:14.322 INFO load_module /var/folders/27/z40g_7vx5q97_wfz_gcd92k40000gn/T/tmpgeac9olr/tmp_func_9d8bb76972d15301.tar\n",
      "2023-12-17 22:44:14.464 INFO Finish serving ('127.0.0.1', 54426)\n",
      "2023-12-17 22:44:16.286 INFO load_module /var/folders/27/z40g_7vx5q97_wfz_gcd92k40000gn/T/tmpw6u5d2hw/tmp_func_611688576fd5a3c.tar\n",
      "2023-12-17 22:44:16.426 INFO Finish serving ('127.0.0.1', 54428)\n",
      "2023-12-17 22:44:18.516 INFO load_module /var/folders/27/z40g_7vx5q97_wfz_gcd92k40000gn/T/tmpalsav4z3/tmp_func_3626f7be36febe2b.tar\n",
      "2023-12-17 22:44:18.653 INFO Finish serving ('127.0.0.1', 54430)\n"
     ]
    },
    {
     "name": "stdout",
     "output_type": "stream",
     "text": [
      "[Task 35/48]  Current/Best:  177.05/ 177.05 GFLOPS | Progress: (16/490) | 39.13 s"
     ]
    },
    {
     "name": "stderr",
     "output_type": "stream",
     "text": [
      "2023-12-17 22:44:20.610 INFO load_module /var/folders/27/z40g_7vx5q97_wfz_gcd92k40000gn/T/tmp_n7lsbqu/tmp_func_682a4ebdce14d741.tar\n",
      "2023-12-17 22:44:20.747 INFO Finish serving ('127.0.0.1', 54432)\n"
     ]
    },
    {
     "name": "stdout",
     "output_type": "stream",
     "text": [
      " Done.\n",
      "[Task 36/48]  Current/Best:    0.00/   0.00 GFLOPS | Progress: (0/686) | 0.00 s"
     ]
    },
    {
     "name": "stderr",
     "output_type": "stream",
     "text": [
      "2023-12-17 22:44:24.834 INFO Finish serving ('127.0.0.1', 54436)\n",
      "2023-12-17 22:44:26.363 INFO Finish serving ('127.0.0.1', 54438)\n",
      "2023-12-17 22:44:28.135 INFO load_module /var/folders/27/z40g_7vx5q97_wfz_gcd92k40000gn/T/tmpv6fyq0ci/tmp_func_82802320525b4517.tar\n",
      "2023-12-17 22:44:28.300 INFO Finish serving ('127.0.0.1', 54440)\n",
      "2023-12-17 22:44:30.227 INFO load_module /var/folders/27/z40g_7vx5q97_wfz_gcd92k40000gn/T/tmpccsofwjl/tmp_func_b644e6508745341f.tar\n",
      "2023-12-17 22:44:30.395 INFO Finish serving ('127.0.0.1', 54442)\n",
      "2023-12-17 22:44:32.671 INFO load_module /var/folders/27/z40g_7vx5q97_wfz_gcd92k40000gn/T/tmpnnrdx4bm/tmp_func_92d98bed8f71f4b.tar\n",
      "2023-12-17 22:44:32.833 INFO Finish serving ('127.0.0.1', 54444)\n",
      "2023-12-17 22:44:34.514 INFO load_module /var/folders/27/z40g_7vx5q97_wfz_gcd92k40000gn/T/tmpe3jh9p5k/tmp_func_40f2f950bb3f84e0.tar\n",
      "2023-12-17 22:44:34.678 INFO Finish serving ('127.0.0.1', 54446)\n",
      "2023-12-17 22:44:36.441 INFO load_module /var/folders/27/z40g_7vx5q97_wfz_gcd92k40000gn/T/tmp8mii42hj/tmp_func_46f2a806fe811bdc.tar\n",
      "2023-12-17 22:44:36.601 INFO Finish serving ('127.0.0.1', 54448)\n",
      "2023-12-17 22:44:38.170 INFO load_module /var/folders/27/z40g_7vx5q97_wfz_gcd92k40000gn/T/tmp4jtpr9ui/tmp_func_2d17c98394225939.tar\n",
      "2023-12-17 22:44:38.335 INFO Finish serving ('127.0.0.1', 54450)\n",
      "2023-12-17 22:44:40.108 INFO load_module /var/folders/27/z40g_7vx5q97_wfz_gcd92k40000gn/T/tmpu8cz_ntx/tmp_func_3970b2bea969b3a5.tar\n",
      "2023-12-17 22:44:40.276 INFO Finish serving ('127.0.0.1', 54452)\n",
      "2023-12-17 22:44:41.775 INFO load_module /var/folders/27/z40g_7vx5q97_wfz_gcd92k40000gn/T/tmp56x5fgf5/tmp_func_64f1303c1066188c.tar\n",
      "2023-12-17 22:44:41.940 INFO Finish serving ('127.0.0.1', 54454)\n",
      "2023-12-17 22:44:43.456 INFO load_module /var/folders/27/z40g_7vx5q97_wfz_gcd92k40000gn/T/tmp7_r12q9d/tmp_func_8a64480cacbb906.tar\n",
      "2023-12-17 22:44:43.617 INFO Finish serving ('127.0.0.1', 54456)\n",
      "2023-12-17 22:44:45.254 INFO load_module /var/folders/27/z40g_7vx5q97_wfz_gcd92k40000gn/T/tmpz0e4f5ny/tmp_func_196123da38114438.tar\n",
      "2023-12-17 22:44:45.412 INFO Finish serving ('127.0.0.1', 54458)\n",
      "2023-12-17 22:44:46.929 INFO load_module /var/folders/27/z40g_7vx5q97_wfz_gcd92k40000gn/T/tmpjr9i466w/tmp_func_c19adc454ad9493e.tar\n",
      "2023-12-17 22:44:47.083 INFO Finish serving ('127.0.0.1', 54460)\n",
      "2023-12-17 22:44:48.557 INFO load_module /var/folders/27/z40g_7vx5q97_wfz_gcd92k40000gn/T/tmpzvj8ahnh/tmp_func_8eadb72357aa34d4.tar\n",
      "2023-12-17 22:44:48.718 INFO Finish serving ('127.0.0.1', 54462)\n",
      "2023-12-17 22:44:50.224 INFO load_module /var/folders/27/z40g_7vx5q97_wfz_gcd92k40000gn/T/tmpvhjw9xtx/tmp_func_98bb0d10f0c5efbf.tar\n",
      "2023-12-17 22:44:50.379 INFO Finish serving ('127.0.0.1', 54464)\n",
      "2023-12-17 22:44:52.364 INFO load_module /var/folders/27/z40g_7vx5q97_wfz_gcd92k40000gn/T/tmpum1lp35z/tmp_func_7529b95866c51e8b.tar\n",
      "2023-12-17 22:44:52.520 INFO Finish serving ('127.0.0.1', 54466)\n",
      "2023-12-17 22:44:54.164 INFO load_module /var/folders/27/z40g_7vx5q97_wfz_gcd92k40000gn/T/tmp1y93n_0_/tmp_func_da7b317b9257bedb.tar\n",
      "2023-12-17 22:44:54.333 INFO Finish serving ('127.0.0.1', 54468)\n"
     ]
    },
    {
     "name": "stdout",
     "output_type": "stream",
     "text": [
      "[Task 36/48]  Current/Best:   20.61/  70.63 GFLOPS | Progress: (16/686) | 35.16 s"
     ]
    },
    {
     "name": "stderr",
     "output_type": "stream",
     "text": [
      "2023-12-17 22:44:55.952 INFO load_module /var/folders/27/z40g_7vx5q97_wfz_gcd92k40000gn/T/tmpc6jw79mu/tmp_func_fd310d7a405fe4e1.tar\n",
      "2023-12-17 22:44:56.118 INFO Finish serving ('127.0.0.1', 54470)\n"
     ]
    },
    {
     "name": "stdout",
     "output_type": "stream",
     "text": [
      " Done.\n",
      "[Task 37/48]  Current/Best:    0.00/   0.00 GFLOPS | Progress: (0/686) | 0.00 s"
     ]
    },
    {
     "name": "stderr",
     "output_type": "stream",
     "text": [
      "2023-12-17 22:44:59.697 INFO Finish serving ('127.0.0.1', 54475)\n",
      "2023-12-17 22:45:00.878 INFO Finish serving ('127.0.0.1', 54477)\n",
      "2023-12-17 22:45:03.080 INFO load_module /var/folders/27/z40g_7vx5q97_wfz_gcd92k40000gn/T/tmp93gat_nd/tmp_func_c4b9637acede1ce4.tar\n",
      "2023-12-17 22:45:03.294 INFO Finish serving ('127.0.0.1', 54479)\n",
      "2023-12-17 22:45:04.834 INFO load_module /var/folders/27/z40g_7vx5q97_wfz_gcd92k40000gn/T/tmpfy7ccasw/tmp_func_d48ee9c09b24740c.tar\n",
      "2023-12-17 22:45:05.037 INFO Finish serving ('127.0.0.1', 54481)\n",
      "2023-12-17 22:45:06.618 INFO load_module /var/folders/27/z40g_7vx5q97_wfz_gcd92k40000gn/T/tmpkgnd_n86/tmp_func_aaffdc0c94260ed9.tar\n",
      "2023-12-17 22:45:06.813 INFO Finish serving ('127.0.0.1', 54483)\n",
      "2023-12-17 22:45:08.418 INFO load_module /var/folders/27/z40g_7vx5q97_wfz_gcd92k40000gn/T/tmp5km9hywr/tmp_func_f60c4716aeb7fbb1.tar\n",
      "2023-12-17 22:45:08.605 INFO Finish serving ('127.0.0.1', 54485)\n",
      "2023-12-17 22:45:10.086 INFO load_module /var/folders/27/z40g_7vx5q97_wfz_gcd92k40000gn/T/tmptbts2b_c/tmp_func_f8fd2ed674582fbe.tar\n",
      "2023-12-17 22:45:10.276 INFO Finish serving ('127.0.0.1', 54488)\n",
      "2023-12-17 22:45:12.057 INFO load_module /var/folders/27/z40g_7vx5q97_wfz_gcd92k40000gn/T/tmpz9tt_cgr/tmp_func_24d467c78d40427b.tar\n",
      "2023-12-17 22:45:12.252 INFO Finish serving ('127.0.0.1', 54490)\n",
      "2023-12-17 22:45:13.685 INFO load_module /var/folders/27/z40g_7vx5q97_wfz_gcd92k40000gn/T/tmpi9l2n9id/tmp_func_94761b7b436a428.tar\n",
      "2023-12-17 22:45:13.874 INFO Finish serving ('127.0.0.1', 54492)\n",
      "2023-12-17 22:45:15.338 INFO load_module /var/folders/27/z40g_7vx5q97_wfz_gcd92k40000gn/T/tmppfiwe7ee/tmp_func_267bfbdd1ca69ab6.tar\n",
      "2023-12-17 22:45:15.541 INFO Finish serving ('127.0.0.1', 54494)\n",
      "2023-12-17 22:45:17.101 INFO load_module /var/folders/27/z40g_7vx5q97_wfz_gcd92k40000gn/T/tmpmj2b_xj7/tmp_func_c0de65c8cb9be248.tar\n",
      "2023-12-17 22:45:17.292 INFO Finish serving ('127.0.0.1', 54497)\n",
      "2023-12-17 22:45:18.904 INFO load_module /var/folders/27/z40g_7vx5q97_wfz_gcd92k40000gn/T/tmpgdu1s1tr/tmp_func_6245130e934a9318.tar\n",
      "2023-12-17 22:45:19.086 INFO Finish serving ('127.0.0.1', 54501)\n",
      "2023-12-17 22:45:20.580 INFO load_module /var/folders/27/z40g_7vx5q97_wfz_gcd92k40000gn/T/tmpj7x0v1x9/tmp_func_69deeb448afc7f34.tar\n",
      "2023-12-17 22:45:20.759 INFO Finish serving ('127.0.0.1', 54503)\n",
      "2023-12-17 22:45:22.173 INFO load_module /var/folders/27/z40g_7vx5q97_wfz_gcd92k40000gn/T/tmpt6rxchdi/tmp_func_5ee442be5b310f9b.tar\n",
      "2023-12-17 22:45:22.351 INFO Finish serving ('127.0.0.1', 54505)\n",
      "2023-12-17 22:45:23.777 INFO load_module /var/folders/27/z40g_7vx5q97_wfz_gcd92k40000gn/T/tmp9qkljnyr/tmp_func_584280a14f86d9b7.tar\n",
      "2023-12-17 22:45:23.952 INFO Finish serving ('127.0.0.1', 54507)\n",
      "2023-12-17 22:45:25.343 INFO load_module /var/folders/27/z40g_7vx5q97_wfz_gcd92k40000gn/T/tmp09yrlfp9/tmp_func_fae685a2776186f0.tar\n",
      "2023-12-17 22:45:25.523 INFO Finish serving ('127.0.0.1', 54509)\n",
      "2023-12-17 22:45:27.292 INFO load_module /var/folders/27/z40g_7vx5q97_wfz_gcd92k40000gn/T/tmpcg6k7t2k/tmp_func_7fe09a28df81dabc.tar\n",
      "2023-12-17 22:45:27.465 INFO Finish serving ('127.0.0.1', 54511)\n"
     ]
    },
    {
     "name": "stdout",
     "output_type": "stream",
     "text": [
      "[Task 37/48]  Current/Best:  117.12/ 117.12 GFLOPS | Progress: (16/686) | 32.85 s"
     ]
    },
    {
     "name": "stderr",
     "output_type": "stream",
     "text": [
      "2023-12-17 22:45:28.997 INFO load_module /var/folders/27/z40g_7vx5q97_wfz_gcd92k40000gn/T/tmp2ibf__mh/tmp_func_8308be5fb4747342.tar\n",
      "2023-12-17 22:45:29.167 INFO Finish serving ('127.0.0.1', 54513)\n"
     ]
    },
    {
     "name": "stdout",
     "output_type": "stream",
     "text": [
      " Done.\n",
      "[Task 38/48]  Current/Best:    0.00/   0.00 GFLOPS | Progress: (0/686) | 0.00 s"
     ]
    },
    {
     "name": "stderr",
     "output_type": "stream",
     "text": [
      "2023-12-17 22:45:32.479 INFO Finish serving ('127.0.0.1', 54517)\n",
      "2023-12-17 22:45:33.593 INFO Finish serving ('127.0.0.1', 54519)\n",
      "2023-12-17 22:45:35.169 INFO load_module /var/folders/27/z40g_7vx5q97_wfz_gcd92k40000gn/T/tmpv_tsbtye/tmp_func_fa51131aa877d144.tar\n",
      "2023-12-17 22:45:35.288 INFO Finish serving ('127.0.0.1', 54521)\n",
      "2023-12-17 22:45:36.843 INFO load_module /var/folders/27/z40g_7vx5q97_wfz_gcd92k40000gn/T/tmpv4irc_ad/tmp_func_3dc0d429db932c85.tar\n",
      "2023-12-17 22:45:36.965 INFO Finish serving ('127.0.0.1', 54523)\n",
      "2023-12-17 22:45:38.728 INFO load_module /var/folders/27/z40g_7vx5q97_wfz_gcd92k40000gn/T/tmp45ticqkb/tmp_func_17068a619c2a1429.tar\n",
      "2023-12-17 22:45:38.851 INFO Finish serving ('127.0.0.1', 54525)\n",
      "2023-12-17 22:45:40.401 INFO load_module /var/folders/27/z40g_7vx5q97_wfz_gcd92k40000gn/T/tmpi3ro9azl/tmp_func_d6c4af4a412fa6e.tar\n",
      "2023-12-17 22:45:40.525 INFO Finish serving ('127.0.0.1', 54527)\n",
      "2023-12-17 22:45:41.981 INFO load_module /var/folders/27/z40g_7vx5q97_wfz_gcd92k40000gn/T/tmpoj_z6_4j/tmp_func_4303b23ede72bf84.tar\n",
      "2023-12-17 22:45:42.103 INFO Finish serving ('127.0.0.1', 54529)\n",
      "2023-12-17 22:45:43.646 INFO load_module /var/folders/27/z40g_7vx5q97_wfz_gcd92k40000gn/T/tmp4wjwwwzn/tmp_func_41c602e9fe63afc9.tar\n",
      "2023-12-17 22:45:43.765 INFO Finish serving ('127.0.0.1', 54531)\n",
      "2023-12-17 22:45:45.276 INFO load_module /var/folders/27/z40g_7vx5q97_wfz_gcd92k40000gn/T/tmpr9okvncw/tmp_func_271f13b59cae7e94.tar\n",
      "2023-12-17 22:45:45.401 INFO Finish serving ('127.0.0.1', 54533)\n",
      "2023-12-17 22:45:46.838 INFO load_module /var/folders/27/z40g_7vx5q97_wfz_gcd92k40000gn/T/tmppeo_nil9/tmp_func_7d033bed945a6306.tar\n",
      "2023-12-17 22:45:46.964 INFO Finish serving ('127.0.0.1', 54535)\n",
      "2023-12-17 22:45:48.410 INFO load_module /var/folders/27/z40g_7vx5q97_wfz_gcd92k40000gn/T/tmpozimhops/tmp_func_a899cba92942e8c4.tar\n",
      "2023-12-17 22:45:48.532 INFO Finish serving ('127.0.0.1', 54537)\n",
      "2023-12-17 22:45:50.266 INFO load_module /var/folders/27/z40g_7vx5q97_wfz_gcd92k40000gn/T/tmpq099rigr/tmp_func_749433aaeccab6e2.tar\n",
      "2023-12-17 22:45:50.390 INFO Finish serving ('127.0.0.1', 54539)\n",
      "2023-12-17 22:45:51.933 INFO load_module /var/folders/27/z40g_7vx5q97_wfz_gcd92k40000gn/T/tmpnankece8/tmp_func_7c018a52f67380a9.tar\n",
      "2023-12-17 22:45:52.056 INFO Finish serving ('127.0.0.1', 54541)\n",
      "2023-12-17 22:45:53.631 INFO load_module /var/folders/27/z40g_7vx5q97_wfz_gcd92k40000gn/T/tmpy_9wizix/tmp_func_1886218df9736ae1.tar\n",
      "2023-12-17 22:45:53.753 INFO Finish serving ('127.0.0.1', 54543)\n",
      "2023-12-17 22:45:55.263 INFO load_module /var/folders/27/z40g_7vx5q97_wfz_gcd92k40000gn/T/tmp8oo0t5qo/tmp_func_b56ae1d82cbf1893.tar\n",
      "2023-12-17 22:45:55.384 INFO Finish serving ('127.0.0.1', 54545)\n",
      "2023-12-17 22:45:56.947 INFO load_module /var/folders/27/z40g_7vx5q97_wfz_gcd92k40000gn/T/tmp2xmc5mwo/tmp_func_ce035a068e076819.tar\n",
      "2023-12-17 22:45:57.069 INFO Finish serving ('127.0.0.1', 54547)\n",
      "2023-12-17 22:45:58.751 INFO load_module /var/folders/27/z40g_7vx5q97_wfz_gcd92k40000gn/T/tmpsg0dd5r1/tmp_func_f842371b9b8627f6.tar\n",
      "2023-12-17 22:45:58.876 INFO Finish serving ('127.0.0.1', 54549)\n"
     ]
    },
    {
     "name": "stdout",
     "output_type": "stream",
     "text": [
      "[Task 38/48]  Current/Best:   24.20/  70.29 GFLOPS | Progress: (16/686) | 31.13 s"
     ]
    },
    {
     "name": "stderr",
     "output_type": "stream",
     "text": [
      "2023-12-17 22:46:00.368 INFO load_module /var/folders/27/z40g_7vx5q97_wfz_gcd92k40000gn/T/tmpfrxep_i8/tmp_func_3d28f5754adca36b.tar\n",
      "2023-12-17 22:46:00.490 INFO Finish serving ('127.0.0.1', 54551)\n"
     ]
    },
    {
     "name": "stdout",
     "output_type": "stream",
     "text": [
      " Done.\n",
      "[Task 39/48]  Current/Best:    0.00/   0.00 GFLOPS | Progress: (0/686) | 0.00 s"
     ]
    },
    {
     "name": "stderr",
     "output_type": "stream",
     "text": [
      "2023-12-17 22:46:03.936 INFO Finish serving ('127.0.0.1', 54556)\n",
      "2023-12-17 22:46:05.120 INFO Finish serving ('127.0.0.1', 54558)\n",
      "2023-12-17 22:46:07.221 INFO load_module /var/folders/27/z40g_7vx5q97_wfz_gcd92k40000gn/T/tmpbgjvbgq4/tmp_func_d92b0f8b8fdfe1c4.tar\n",
      "2023-12-17 22:46:07.347 INFO Finish serving ('127.0.0.1', 54560)\n",
      "2023-12-17 22:46:08.896 INFO load_module /var/folders/27/z40g_7vx5q97_wfz_gcd92k40000gn/T/tmp_bdycvg9/tmp_func_5797ee4c41afba9.tar\n",
      "2023-12-17 22:46:09.033 INFO Finish serving ('127.0.0.1', 54562)\n",
      "2023-12-17 22:46:10.711 INFO load_module /var/folders/27/z40g_7vx5q97_wfz_gcd92k40000gn/T/tmpvddh3i3b/tmp_func_ed00783f986b5a11.tar\n",
      "2023-12-17 22:46:10.841 INFO Finish serving ('127.0.0.1', 54565)\n",
      "2023-12-17 22:46:12.382 INFO load_module /var/folders/27/z40g_7vx5q97_wfz_gcd92k40000gn/T/tmpfaqr36ae/tmp_func_837aeab18dc4b51c.tar\n",
      "2023-12-17 22:46:12.512 INFO Finish serving ('127.0.0.1', 54568)\n",
      "2023-12-17 22:46:14.083 INFO load_module /var/folders/27/z40g_7vx5q97_wfz_gcd92k40000gn/T/tmpupdeuiez/tmp_func_fead297be6042597.tar\n",
      "2023-12-17 22:46:14.213 INFO Finish serving ('127.0.0.1', 54570)\n",
      "2023-12-17 22:46:15.686 INFO load_module /var/folders/27/z40g_7vx5q97_wfz_gcd92k40000gn/T/tmplpab0edx/tmp_func_52311b454cf53673.tar\n",
      "2023-12-17 22:46:15.819 INFO Finish serving ('127.0.0.1', 54572)\n",
      "2023-12-17 22:46:17.298 INFO load_module /var/folders/27/z40g_7vx5q97_wfz_gcd92k40000gn/T/tmp6815nfr1/tmp_func_b94395f6074509e8.tar\n",
      "2023-12-17 22:46:17.431 INFO Finish serving ('127.0.0.1', 54574)\n",
      "2023-12-17 22:46:18.978 INFO load_module /var/folders/27/z40g_7vx5q97_wfz_gcd92k40000gn/T/tmpdqv9txzk/tmp_func_a790feed574c8b0a.tar\n",
      "2023-12-17 22:46:19.108 INFO Finish serving ('127.0.0.1', 54576)\n",
      "2023-12-17 22:46:21.198 INFO load_module /var/folders/27/z40g_7vx5q97_wfz_gcd92k40000gn/T/tmplx1ahmfz/tmp_func_4f6c938c9aae5c75.tar\n",
      "2023-12-17 22:46:21.329 INFO Finish serving ('127.0.0.1', 54578)\n",
      "2023-12-17 22:46:22.875 INFO load_module /var/folders/27/z40g_7vx5q97_wfz_gcd92k40000gn/T/tmp95jh69eu/tmp_func_7adee4ede5f49d27.tar\n",
      "2023-12-17 22:46:23.002 INFO Finish serving ('127.0.0.1', 54580)\n",
      "2023-12-17 22:46:24.965 INFO load_module /var/folders/27/z40g_7vx5q97_wfz_gcd92k40000gn/T/tmpw9txkeos/tmp_func_6f4bb389a4e41af.tar\n",
      "2023-12-17 22:46:25.091 INFO Finish serving ('127.0.0.1', 54582)\n",
      "2023-12-17 22:46:27.029 INFO load_module /var/folders/27/z40g_7vx5q97_wfz_gcd92k40000gn/T/tmp8rmzt1nd/tmp_func_81041d7d7d638e3a.tar\n",
      "2023-12-17 22:46:27.159 INFO Finish serving ('127.0.0.1', 54584)\n",
      "2023-12-17 22:46:29.586 INFO load_module /var/folders/27/z40g_7vx5q97_wfz_gcd92k40000gn/T/tmpcan67tq7/tmp_func_94a0940acc49396e.tar\n",
      "2023-12-17 22:46:29.714 INFO Finish serving ('127.0.0.1', 54586)\n",
      "2023-12-17 22:46:31.340 INFO load_module /var/folders/27/z40g_7vx5q97_wfz_gcd92k40000gn/T/tmp2pykgkgy/tmp_func_6b08fb503e3735ca.tar\n",
      "2023-12-17 22:46:31.469 INFO Finish serving ('127.0.0.1', 54588)\n",
      "2023-12-17 22:46:33.257 INFO load_module /var/folders/27/z40g_7vx5q97_wfz_gcd92k40000gn/T/tmp_1tpv999/tmp_func_779497cefb7850ee.tar\n",
      "2023-12-17 22:46:33.386 INFO Finish serving ('127.0.0.1', 54590)\n"
     ]
    },
    {
     "name": "stdout",
     "output_type": "stream",
     "text": [
      "[Task 39/48]  Current/Best:   92.69/  92.69 GFLOPS | Progress: (16/686) | 34.37 s"
     ]
    },
    {
     "name": "stderr",
     "output_type": "stream",
     "text": [
      "2023-12-17 22:46:34.932 INFO load_module /var/folders/27/z40g_7vx5q97_wfz_gcd92k40000gn/T/tmp5aegpwki/tmp_func_55b1d4f708bcee83.tar\n",
      "2023-12-17 22:46:35.059 INFO Finish serving ('127.0.0.1', 54592)\n"
     ]
    },
    {
     "name": "stdout",
     "output_type": "stream",
     "text": [
      " Done.\n",
      "[Task 40/48]  Current/Best:    0.00/   0.00 GFLOPS | Progress: (0/588) | 0.00 s"
     ]
    },
    {
     "name": "stderr",
     "output_type": "stream",
     "text": [
      "2023-12-17 22:46:38.649 INFO Finish serving ('127.0.0.1', 54596)\n",
      "2023-12-17 22:46:39.816 INFO Finish serving ('127.0.0.1', 54598)\n",
      "2023-12-17 22:46:41.283 INFO load_module /var/folders/27/z40g_7vx5q97_wfz_gcd92k40000gn/T/tmp0tigbqu6/tmp_func_77ed442a17631ab8.tar\n",
      "2023-12-17 22:46:41.393 INFO Finish serving ('127.0.0.1', 54600)\n",
      "2023-12-17 22:46:42.850 INFO load_module /var/folders/27/z40g_7vx5q97_wfz_gcd92k40000gn/T/tmp8q9y0o8w/tmp_func_d696c50fec0fa3c.tar\n",
      "2023-12-17 22:46:42.964 INFO Finish serving ('127.0.0.1', 54602)\n",
      "2023-12-17 22:46:44.430 INFO load_module /var/folders/27/z40g_7vx5q97_wfz_gcd92k40000gn/T/tmpycovb8il/tmp_func_69881a4a408172db.tar\n",
      "2023-12-17 22:46:44.544 INFO Finish serving ('127.0.0.1', 54604)\n",
      "2023-12-17 22:46:46.233 INFO load_module /var/folders/27/z40g_7vx5q97_wfz_gcd92k40000gn/T/tmpdxvnn7fr/tmp_func_55a3febc4edd34a0.tar\n",
      "2023-12-17 22:46:46.345 INFO Finish serving ('127.0.0.1', 54606)\n",
      "2023-12-17 22:46:47.938 INFO load_module /var/folders/27/z40g_7vx5q97_wfz_gcd92k40000gn/T/tmpps0y0qkg/tmp_func_866f681f621247fe.tar\n",
      "2023-12-17 22:46:48.048 INFO Finish serving ('127.0.0.1', 54608)\n",
      "2023-12-17 22:46:49.510 INFO load_module /var/folders/27/z40g_7vx5q97_wfz_gcd92k40000gn/T/tmpijmrce19/tmp_func_ef111402567cceb3.tar\n",
      "2023-12-17 22:46:49.624 INFO Finish serving ('127.0.0.1', 54610)\n",
      "2023-12-17 22:46:51.177 INFO load_module /var/folders/27/z40g_7vx5q97_wfz_gcd92k40000gn/T/tmpt9scb15x/tmp_func_59075b887e1904cb.tar\n",
      "2023-12-17 22:46:51.289 INFO Finish serving ('127.0.0.1', 54612)\n",
      "2023-12-17 22:46:52.888 INFO load_module /var/folders/27/z40g_7vx5q97_wfz_gcd92k40000gn/T/tmp34f8ur4n/tmp_func_f90fce14117dbe.tar\n",
      "2023-12-17 22:46:53.002 INFO Finish serving ('127.0.0.1', 54614)\n",
      "2023-12-17 22:46:54.489 INFO load_module /var/folders/27/z40g_7vx5q97_wfz_gcd92k40000gn/T/tmps969r27b/tmp_func_50bcf802e9c04231.tar\n",
      "2023-12-17 22:46:54.598 INFO Finish serving ('127.0.0.1', 54617)\n",
      "2023-12-17 22:46:56.322 INFO load_module /var/folders/27/z40g_7vx5q97_wfz_gcd92k40000gn/T/tmpt1ry_fro/tmp_func_be532677d640f1b4.tar\n",
      "2023-12-17 22:46:56.434 INFO Finish serving ('127.0.0.1', 54620)\n",
      "2023-12-17 22:46:58.032 INFO load_module /var/folders/27/z40g_7vx5q97_wfz_gcd92k40000gn/T/tmpn0jyaean/tmp_func_b09ec866a2f9d2ff.tar\n",
      "2023-12-17 22:46:58.146 INFO Finish serving ('127.0.0.1', 54625)\n",
      "2023-12-17 22:46:59.672 INFO load_module /var/folders/27/z40g_7vx5q97_wfz_gcd92k40000gn/T/tmpd5h3304k/tmp_func_e16631ed0bc29fcf.tar\n",
      "2023-12-17 22:46:59.786 INFO Finish serving ('127.0.0.1', 54629)\n",
      "2023-12-17 22:47:01.295 INFO load_module /var/folders/27/z40g_7vx5q97_wfz_gcd92k40000gn/T/tmppd8anu3k/tmp_func_b03d211471e42129.tar\n",
      "2023-12-17 22:47:01.408 INFO Finish serving ('127.0.0.1', 54631)\n",
      "2023-12-17 22:47:03.140 INFO load_module /var/folders/27/z40g_7vx5q97_wfz_gcd92k40000gn/T/tmp9ob854g3/tmp_func_6fd972bdced573fe.tar\n",
      "2023-12-17 22:47:03.253 INFO Finish serving ('127.0.0.1', 54634)\n",
      "2023-12-17 22:47:04.958 INFO load_module /var/folders/27/z40g_7vx5q97_wfz_gcd92k40000gn/T/tmp9woqsz25/tmp_func_2f2edc33b8f2d483.tar\n",
      "2023-12-17 22:47:05.071 INFO Finish serving ('127.0.0.1', 54636)\n"
     ]
    },
    {
     "name": "stdout",
     "output_type": "stream",
     "text": [
      "[Task 40/48]  Current/Best:   29.41/  63.03 GFLOPS | Progress: (16/588) | 31.75 s"
     ]
    },
    {
     "name": "stderr",
     "output_type": "stream",
     "text": [
      "2023-12-17 22:47:06.908 INFO load_module /var/folders/27/z40g_7vx5q97_wfz_gcd92k40000gn/T/tmpq0px_4st/tmp_func_82b882bccde3b5fa.tar\n",
      "2023-12-17 22:47:07.022 INFO Finish serving ('127.0.0.1', 54638)\n"
     ]
    },
    {
     "name": "stdout",
     "output_type": "stream",
     "text": [
      " Done.\n",
      "[Task 41/48]  Current/Best:    0.00/   0.00 GFLOPS | Progress: (0/588) | 0.00 s"
     ]
    },
    {
     "name": "stderr",
     "output_type": "stream",
     "text": [
      "2023-12-17 22:47:10.438 INFO Finish serving ('127.0.0.1', 54643)\n",
      "2023-12-17 22:47:11.570 INFO Finish serving ('127.0.0.1', 54645)\n",
      "2023-12-17 22:47:13.209 INFO load_module /var/folders/27/z40g_7vx5q97_wfz_gcd92k40000gn/T/tmpuudppveb/tmp_func_3d992c5c749c6e1f.tar\n",
      "2023-12-17 22:47:13.322 INFO Finish serving ('127.0.0.1', 54647)\n",
      "2023-12-17 22:47:14.790 INFO load_module /var/folders/27/z40g_7vx5q97_wfz_gcd92k40000gn/T/tmpit_5fw2l/tmp_func_f07f0e559b32962.tar\n",
      "2023-12-17 22:47:14.905 INFO Finish serving ('127.0.0.1', 54649)\n",
      "2023-12-17 22:47:16.351 INFO load_module /var/folders/27/z40g_7vx5q97_wfz_gcd92k40000gn/T/tmph0ex0sly/tmp_func_a24ffd1cd3252361.tar\n",
      "2023-12-17 22:47:16.464 INFO Finish serving ('127.0.0.1', 54651)\n",
      "2023-12-17 22:47:17.918 INFO load_module /var/folders/27/z40g_7vx5q97_wfz_gcd92k40000gn/T/tmpipjv11vz/tmp_func_ebb2e93f967526ea.tar\n",
      "2023-12-17 22:47:18.030 INFO Finish serving ('127.0.0.1', 54653)\n",
      "2023-12-17 22:47:19.492 INFO load_module /var/folders/27/z40g_7vx5q97_wfz_gcd92k40000gn/T/tmpkns1lsyb/tmp_func_38d299e2e3d73b15.tar\n",
      "2023-12-17 22:47:19.606 INFO Finish serving ('127.0.0.1', 54655)\n",
      "2023-12-17 22:47:20.976 INFO load_module /var/folders/27/z40g_7vx5q97_wfz_gcd92k40000gn/T/tmp4sfo7gz0/tmp_func_ef6d331d7cc73fa6.tar\n",
      "2023-12-17 22:47:21.090 INFO Finish serving ('127.0.0.1', 54657)\n",
      "2023-12-17 22:47:22.644 INFO load_module /var/folders/27/z40g_7vx5q97_wfz_gcd92k40000gn/T/tmpakkun5_9/tmp_func_33fa9224e6092a8a.tar\n",
      "2023-12-17 22:47:22.758 INFO Finish serving ('127.0.0.1', 54659)\n",
      "2023-12-17 22:47:24.211 INFO load_module /var/folders/27/z40g_7vx5q97_wfz_gcd92k40000gn/T/tmp6mh2c4g8/tmp_func_c069bfa480480753.tar\n",
      "2023-12-17 22:47:24.325 INFO Finish serving ('127.0.0.1', 54661)\n",
      "2023-12-17 22:47:25.784 INFO load_module /var/folders/27/z40g_7vx5q97_wfz_gcd92k40000gn/T/tmp_njg3q9h/tmp_func_3cbd1bc2ae87bfbb.tar\n",
      "2023-12-17 22:47:25.899 INFO Finish serving ('127.0.0.1', 54663)\n",
      "2023-12-17 22:47:27.259 INFO load_module /var/folders/27/z40g_7vx5q97_wfz_gcd92k40000gn/T/tmpilmh6nvz/tmp_func_ee6e701fe3984607.tar\n",
      "2023-12-17 22:47:27.373 INFO Finish serving ('127.0.0.1', 54665)\n",
      "2023-12-17 22:47:28.933 INFO load_module /var/folders/27/z40g_7vx5q97_wfz_gcd92k40000gn/T/tmp517bx0fv/tmp_func_fcbbaa63bfdd4cc3.tar\n",
      "2023-12-17 22:47:29.049 INFO Finish serving ('127.0.0.1', 54667)\n",
      "2023-12-17 22:47:30.405 INFO load_module /var/folders/27/z40g_7vx5q97_wfz_gcd92k40000gn/T/tmpgcux4tep/tmp_func_3ae70e4d6d9d4020.tar\n",
      "2023-12-17 22:47:30.520 INFO Finish serving ('127.0.0.1', 54669)\n",
      "2023-12-17 22:47:31.977 INFO load_module /var/folders/27/z40g_7vx5q97_wfz_gcd92k40000gn/T/tmppd9fffaa/tmp_func_2c090b50838c7ebf.tar\n",
      "2023-12-17 22:47:32.091 INFO Finish serving ('127.0.0.1', 54671)\n",
      "2023-12-17 22:47:33.420 INFO load_module /var/folders/27/z40g_7vx5q97_wfz_gcd92k40000gn/T/tmpqph24_sj/tmp_func_eb7ecae6490a9efb.tar\n",
      "2023-12-17 22:47:33.532 INFO Finish serving ('127.0.0.1', 54673)\n",
      "2023-12-17 22:47:34.864 INFO load_module /var/folders/27/z40g_7vx5q97_wfz_gcd92k40000gn/T/tmpyc6dm6e1/tmp_func_f9d22ec0dc02c43d.tar\n",
      "2023-12-17 22:47:34.978 INFO Finish serving ('127.0.0.1', 54675)\n"
     ]
    },
    {
     "name": "stdout",
     "output_type": "stream",
     "text": [
      "[Task 41/48]  Current/Best:   81.68/ 155.14 GFLOPS | Progress: (16/588) | 29.19 s"
     ]
    },
    {
     "name": "stderr",
     "output_type": "stream",
     "text": [
      "2023-12-17 22:47:36.292 INFO load_module /var/folders/27/z40g_7vx5q97_wfz_gcd92k40000gn/T/tmpxlzj0nqa/tmp_func_cea7eae4dba2c515.tar\n",
      "2023-12-17 22:47:36.407 INFO Finish serving ('127.0.0.1', 54677)\n"
     ]
    },
    {
     "name": "stdout",
     "output_type": "stream",
     "text": [
      " Done.\n",
      "[Task 42/48]  Current/Best:    0.00/   0.00 GFLOPS | Progress: (0/490) | 0.00 s"
     ]
    },
    {
     "name": "stderr",
     "output_type": "stream",
     "text": [
      "2023-12-17 22:47:39.491 INFO Finish serving ('127.0.0.1', 54681)\n",
      "2023-12-17 22:47:40.539 INFO Finish serving ('127.0.0.1', 54683)\n",
      "2023-12-17 22:47:41.939 INFO load_module /var/folders/27/z40g_7vx5q97_wfz_gcd92k40000gn/T/tmpbu9rbgul/tmp_func_78f70bda8deca4c4.tar\n",
      "2023-12-17 22:47:42.049 INFO Finish serving ('127.0.0.1', 54685)\n",
      "2023-12-17 22:47:43.515 INFO load_module /var/folders/27/z40g_7vx5q97_wfz_gcd92k40000gn/T/tmptzmjowbw/tmp_func_5819d4ae2d3c3c47.tar\n",
      "2023-12-17 22:47:43.624 INFO Finish serving ('127.0.0.1', 54687)\n",
      "2023-12-17 22:47:44.951 INFO load_module /var/folders/27/z40g_7vx5q97_wfz_gcd92k40000gn/T/tmptq51u_v9/tmp_func_632f745878a44050.tar\n",
      "2023-12-17 22:47:45.061 INFO Finish serving ('127.0.0.1', 54689)\n",
      "2023-12-17 22:47:46.365 INFO load_module /var/folders/27/z40g_7vx5q97_wfz_gcd92k40000gn/T/tmpqcvbx61m/tmp_func_f99c2a78aaa1628a.tar\n",
      "2023-12-17 22:47:46.476 INFO Finish serving ('127.0.0.1', 54691)\n",
      "2023-12-17 22:47:47.804 INFO load_module /var/folders/27/z40g_7vx5q97_wfz_gcd92k40000gn/T/tmpg_m2werd/tmp_func_b1676339498d7a2a.tar\n",
      "2023-12-17 22:47:47.916 INFO Finish serving ('127.0.0.1', 54693)\n",
      "2023-12-17 22:47:49.280 INFO load_module /var/folders/27/z40g_7vx5q97_wfz_gcd92k40000gn/T/tmpwqv0zwu4/tmp_func_74a8f3ad1b4cfe1d.tar\n",
      "2023-12-17 22:47:49.391 INFO Finish serving ('127.0.0.1', 54695)\n",
      "2023-12-17 22:47:50.853 INFO load_module /var/folders/27/z40g_7vx5q97_wfz_gcd92k40000gn/T/tmpr4xg5pk0/tmp_func_e127740415515908.tar\n",
      "2023-12-17 22:47:50.964 INFO Finish serving ('127.0.0.1', 54697)\n",
      "2023-12-17 22:47:52.294 INFO load_module /var/folders/27/z40g_7vx5q97_wfz_gcd92k40000gn/T/tmprky1cx37/tmp_func_8578b09dbab4ea9e.tar\n",
      "2023-12-17 22:47:52.407 INFO Finish serving ('127.0.0.1', 54699)\n",
      "2023-12-17 22:47:53.757 INFO load_module /var/folders/27/z40g_7vx5q97_wfz_gcd92k40000gn/T/tmpzzbbfiw_/tmp_func_4887adc5edb19ac3.tar\n",
      "2023-12-17 22:47:53.865 INFO Finish serving ('127.0.0.1', 54701)\n",
      "2023-12-17 22:47:55.338 INFO load_module /var/folders/27/z40g_7vx5q97_wfz_gcd92k40000gn/T/tmpv09nxqmp/tmp_func_96f6ed595d99b5b8.tar\n",
      "2023-12-17 22:47:55.450 INFO Finish serving ('127.0.0.1', 54703)\n",
      "2023-12-17 22:47:56.777 INFO load_module /var/folders/27/z40g_7vx5q97_wfz_gcd92k40000gn/T/tmpzvzgby3w/tmp_func_3111d420629a3c25.tar\n",
      "2023-12-17 22:47:56.885 INFO Finish serving ('127.0.0.1', 54705)\n",
      "2023-12-17 22:47:58.292 INFO load_module /var/folders/27/z40g_7vx5q97_wfz_gcd92k40000gn/T/tmpp6w6c5lb/tmp_func_ea99f077efeb9b99.tar\n",
      "2023-12-17 22:47:58.402 INFO Finish serving ('127.0.0.1', 54707)\n",
      "2023-12-17 22:47:59.763 INFO load_module /var/folders/27/z40g_7vx5q97_wfz_gcd92k40000gn/T/tmp7ufoz_1w/tmp_func_c955d478f47f25a0.tar\n",
      "2023-12-17 22:47:59.874 INFO Finish serving ('127.0.0.1', 54709)\n",
      "2023-12-17 22:48:01.443 INFO load_module /var/folders/27/z40g_7vx5q97_wfz_gcd92k40000gn/T/tmpmtd8zge3/tmp_func_bcc6b8ed4ce06aef.tar\n",
      "2023-12-17 22:48:01.552 INFO Finish serving ('127.0.0.1', 54711)\n",
      "2023-12-17 22:48:02.911 INFO load_module /var/folders/27/z40g_7vx5q97_wfz_gcd92k40000gn/T/tmpqst1seju/tmp_func_252c3b85f7f70ec2.tar\n",
      "2023-12-17 22:48:03.022 INFO Finish serving ('127.0.0.1', 54713)\n"
     ]
    },
    {
     "name": "stdout",
     "output_type": "stream",
     "text": [
      "[Task 42/48]  Current/Best:   26.44/  45.34 GFLOPS | Progress: (16/490) | 28.20 s"
     ]
    },
    {
     "name": "stderr",
     "output_type": "stream",
     "text": [
      "2023-12-17 22:48:04.681 INFO load_module /var/folders/27/z40g_7vx5q97_wfz_gcd92k40000gn/T/tmpjo8qp2gz/tmp_func_4069fc35125bf1d6.tar\n",
      "2023-12-17 22:48:04.792 INFO Finish serving ('127.0.0.1', 54715)\n"
     ]
    },
    {
     "name": "stdout",
     "output_type": "stream",
     "text": [
      " Done.\n",
      "[Task 43/48]  Current/Best:    0.00/   0.00 GFLOPS | Progress: (0/490) | 0.00 s"
     ]
    },
    {
     "name": "stderr",
     "output_type": "stream",
     "text": [
      "2023-12-17 22:48:07.848 INFO Finish serving ('127.0.0.1', 54719)\n",
      "2023-12-17 22:48:08.891 INFO Finish serving ('127.0.0.1', 54721)\n",
      "2023-12-17 22:48:10.252 INFO load_module /var/folders/27/z40g_7vx5q97_wfz_gcd92k40000gn/T/tmpu4p54jo8/tmp_func_eb600e661bcab6fe.tar\n",
      "2023-12-17 22:48:10.364 INFO Finish serving ('127.0.0.1', 54723)\n",
      "2023-12-17 22:48:11.826 INFO load_module /var/folders/27/z40g_7vx5q97_wfz_gcd92k40000gn/T/tmp4feq8zt8/tmp_func_623295dbebf46c4.tar\n",
      "2023-12-17 22:48:11.935 INFO Finish serving ('127.0.0.1', 54725)\n",
      "2023-12-17 22:48:13.264 INFO load_module /var/folders/27/z40g_7vx5q97_wfz_gcd92k40000gn/T/tmpmiqn3mbq/tmp_func_295d1ad25dfcd62f.tar\n",
      "2023-12-17 22:48:13.375 INFO Finish serving ('127.0.0.1', 54727)\n",
      "2023-12-17 22:48:14.740 INFO load_module /var/folders/27/z40g_7vx5q97_wfz_gcd92k40000gn/T/tmpwx89wism/tmp_func_889ec6de75a9ecca.tar\n",
      "2023-12-17 22:48:14.852 INFO Finish serving ('127.0.0.1', 54729)\n",
      "2023-12-17 22:48:16.167 INFO load_module /var/folders/27/z40g_7vx5q97_wfz_gcd92k40000gn/T/tmpzg8009d9/tmp_func_21101c8f0984d16d.tar\n",
      "2023-12-17 22:48:16.277 INFO Finish serving ('127.0.0.1', 54731)\n",
      "2023-12-17 22:48:17.593 INFO load_module /var/folders/27/z40g_7vx5q97_wfz_gcd92k40000gn/T/tmp4wyc54_s/tmp_func_69d30d5e69fde62d.tar\n",
      "2023-12-17 22:48:17.702 INFO Finish serving ('127.0.0.1', 54733)\n",
      "2023-12-17 22:48:19.272 INFO load_module /var/folders/27/z40g_7vx5q97_wfz_gcd92k40000gn/T/tmprfbaut6v/tmp_func_b331fc76b4f6b04.tar\n",
      "2023-12-17 22:48:19.381 INFO Finish serving ('127.0.0.1', 54735)\n",
      "2023-12-17 22:48:20.896 INFO load_module /var/folders/27/z40g_7vx5q97_wfz_gcd92k40000gn/T/tmp8sujw7uc/tmp_func_75bd26dc66f0116f.tar\n",
      "2023-12-17 22:48:21.004 INFO Finish serving ('127.0.0.1', 54737)\n",
      "2023-12-17 22:48:22.700 INFO load_module /var/folders/27/z40g_7vx5q97_wfz_gcd92k40000gn/T/tmpznqwxm6x/tmp_func_b7c9128da310aff3.tar\n",
      "2023-12-17 22:48:22.809 INFO Finish serving ('127.0.0.1', 54739)\n",
      "2023-12-17 22:48:24.174 INFO load_module /var/folders/27/z40g_7vx5q97_wfz_gcd92k40000gn/T/tmpcw9hcmky/tmp_func_1573ec44a23853db.tar\n",
      "2023-12-17 22:48:24.282 INFO Finish serving ('127.0.0.1', 54741)\n",
      "2023-12-17 22:48:25.700 INFO load_module /var/folders/27/z40g_7vx5q97_wfz_gcd92k40000gn/T/tmp1ynis38p/tmp_func_f62af1f77f2348b.tar\n",
      "2023-12-17 22:48:25.810 INFO Finish serving ('127.0.0.1', 54743)\n",
      "2023-12-17 22:48:27.169 INFO load_module /var/folders/27/z40g_7vx5q97_wfz_gcd92k40000gn/T/tmpa0ve3a5l/tmp_func_977c0ae53cec451e.tar\n",
      "2023-12-17 22:48:27.281 INFO Finish serving ('127.0.0.1', 54745)\n",
      "2023-12-17 22:48:28.701 INFO load_module /var/folders/27/z40g_7vx5q97_wfz_gcd92k40000gn/T/tmpchn3xccz/tmp_func_8f68d7007563522b.tar\n",
      "2023-12-17 22:48:28.811 INFO Finish serving ('127.0.0.1', 54747)\n",
      "2023-12-17 22:48:30.173 INFO load_module /var/folders/27/z40g_7vx5q97_wfz_gcd92k40000gn/T/tmp3q79xjzh/tmp_func_e2417cab3927d7ae.tar\n",
      "2023-12-17 22:48:30.282 INFO Finish serving ('127.0.0.1', 54749)\n",
      "2023-12-17 22:48:31.842 INFO load_module /var/folders/27/z40g_7vx5q97_wfz_gcd92k40000gn/T/tmpcxm4a2uf/tmp_func_701fdfca921deaed.tar\n",
      "2023-12-17 22:48:31.952 INFO Finish serving ('127.0.0.1', 54751)\n"
     ]
    },
    {
     "name": "stdout",
     "output_type": "stream",
     "text": [
      "[Task 43/48]  Current/Best:   27.24/  49.57 GFLOPS | Progress: (16/490) | 29.50 s"
     ]
    },
    {
     "name": "stderr",
     "output_type": "stream",
     "text": [
      "2023-12-17 22:48:34.367 INFO load_module /var/folders/27/z40g_7vx5q97_wfz_gcd92k40000gn/T/tmprt3z4ydu/tmp_func_5dfbc45797e9e94e.tar\n",
      "2023-12-17 22:48:34.478 INFO Finish serving ('127.0.0.1', 54777)\n"
     ]
    },
    {
     "name": "stdout",
     "output_type": "stream",
     "text": [
      " Done.\n",
      "[Task 44/48]  Current/Best:    0.00/   0.00 GFLOPS | Progress: (0/588) | 0.00 s"
     ]
    },
    {
     "name": "stderr",
     "output_type": "stream",
     "text": [
      "2023-12-17 22:48:38.455 INFO Finish serving ('127.0.0.1', 54820)\n",
      "2023-12-17 22:48:39.930 INFO Finish serving ('127.0.0.1', 54822)\n",
      "2023-12-17 22:48:42.334 INFO load_module /var/folders/27/z40g_7vx5q97_wfz_gcd92k40000gn/T/tmpf1v8n2ed/tmp_func_fcedcb3464618349.tar\n",
      "2023-12-17 22:48:42.523 INFO Finish serving ('127.0.0.1', 54830)\n",
      "2023-12-17 22:48:44.337 INFO load_module /var/folders/27/z40g_7vx5q97_wfz_gcd92k40000gn/T/tmp3y713w1n/tmp_func_96158c9d7d3d85cf.tar\n",
      "2023-12-17 22:48:44.532 INFO Finish serving ('127.0.0.1', 54834)\n",
      "2023-12-17 22:48:46.154 INFO load_module /var/folders/27/z40g_7vx5q97_wfz_gcd92k40000gn/T/tmp3gi4n9r6/tmp_func_8c7ced151b562077.tar\n",
      "2023-12-17 22:48:46.326 INFO Finish serving ('127.0.0.1', 54836)\n",
      "2023-12-17 22:48:48.103 INFO load_module /var/folders/27/z40g_7vx5q97_wfz_gcd92k40000gn/T/tmpqxgqrd1z/tmp_func_82de99871c8a19ff.tar\n",
      "2023-12-17 22:48:48.272 INFO Finish serving ('127.0.0.1', 54838)\n",
      "2023-12-17 22:48:49.812 INFO load_module /var/folders/27/z40g_7vx5q97_wfz_gcd92k40000gn/T/tmpf9thox6u/tmp_func_4a7a58e6bc9cc0c9.tar\n",
      "2023-12-17 22:48:49.982 INFO Finish serving ('127.0.0.1', 54840)\n",
      "2023-12-17 22:48:51.670 INFO load_module /var/folders/27/z40g_7vx5q97_wfz_gcd92k40000gn/T/tmphnbx9dpd/tmp_func_41d6dbe833b4247.tar\n",
      "2023-12-17 22:48:51.838 INFO Finish serving ('127.0.0.1', 54842)\n",
      "2023-12-17 22:48:53.336 INFO load_module /var/folders/27/z40g_7vx5q97_wfz_gcd92k40000gn/T/tmp3pr53oq8/tmp_func_7b76221b2fab21ea.tar\n",
      "2023-12-17 22:48:53.504 INFO Finish serving ('127.0.0.1', 54844)\n",
      "2023-12-17 22:48:54.917 INFO load_module /var/folders/27/z40g_7vx5q97_wfz_gcd92k40000gn/T/tmpgj0q1iwu/tmp_func_e722c3cd3db62355.tar\n",
      "2023-12-17 22:48:55.086 INFO Finish serving ('127.0.0.1', 54846)\n",
      "2023-12-17 22:48:56.486 INFO load_module /var/folders/27/z40g_7vx5q97_wfz_gcd92k40000gn/T/tmpdr1kaep0/tmp_func_f686ff0598624f87.tar\n",
      "2023-12-17 22:48:56.653 INFO Finish serving ('127.0.0.1', 54848)\n",
      "2023-12-17 22:48:58.066 INFO load_module /var/folders/27/z40g_7vx5q97_wfz_gcd92k40000gn/T/tmphfym18o9/tmp_func_a88dea8a29c2840a.tar\n",
      "2023-12-17 22:48:58.226 INFO Finish serving ('127.0.0.1', 54850)\n",
      "2023-12-17 22:48:59.534 INFO load_module /var/folders/27/z40g_7vx5q97_wfz_gcd92k40000gn/T/tmpeeyys98a/tmp_func_60cadcd3aafb1e64.tar\n",
      "2023-12-17 22:48:59.695 INFO Finish serving ('127.0.0.1', 54852)\n",
      "2023-12-17 22:49:01.106 INFO load_module /var/folders/27/z40g_7vx5q97_wfz_gcd92k40000gn/T/tmp67wzx7l9/tmp_func_ffc1cae40af4e25d.tar\n",
      "2023-12-17 22:49:01.269 INFO Finish serving ('127.0.0.1', 54854)\n",
      "2023-12-17 22:49:02.778 INFO load_module /var/folders/27/z40g_7vx5q97_wfz_gcd92k40000gn/T/tmpijnw_8or/tmp_func_b60f299630f2f01e.tar\n",
      "2023-12-17 22:49:02.941 INFO Finish serving ('127.0.0.1', 54856)\n",
      "2023-12-17 22:49:04.350 INFO load_module /var/folders/27/z40g_7vx5q97_wfz_gcd92k40000gn/T/tmpaxh6c8hz/tmp_func_e8b801b146d33402.tar\n",
      "2023-12-17 22:49:04.512 INFO Finish serving ('127.0.0.1', 54859)\n",
      "2023-12-17 22:49:05.930 INFO load_module /var/folders/27/z40g_7vx5q97_wfz_gcd92k40000gn/T/tmp1b2gps5w/tmp_func_830dab943749cfe7.tar\n",
      "2023-12-17 22:49:06.086 INFO Finish serving ('127.0.0.1', 54861)\n"
     ]
    },
    {
     "name": "stdout",
     "output_type": "stream",
     "text": [
      "[Task 44/48]  Current/Best:  124.27/ 124.27 GFLOPS | Progress: (16/588) | 32.94 s"
     ]
    },
    {
     "name": "stderr",
     "output_type": "stream",
     "text": [
      "2023-12-17 22:49:07.496 INFO load_module /var/folders/27/z40g_7vx5q97_wfz_gcd92k40000gn/T/tmp3cgiaaw1/tmp_func_38aef4f7c09e931b.tar\n",
      "2023-12-17 22:49:07.653 INFO Finish serving ('127.0.0.1', 54863)\n"
     ]
    },
    {
     "name": "stdout",
     "output_type": "stream",
     "text": [
      " Done.\n",
      "[Task 45/48]  Current/Best:    0.00/   0.00 GFLOPS | Progress: (0/504) | 0.00 s"
     ]
    },
    {
     "name": "stderr",
     "output_type": "stream",
     "text": [
      "2023-12-17 22:49:10.821 INFO Finish serving ('127.0.0.1', 54867)\n",
      "2023-12-17 22:49:11.894 INFO Finish serving ('127.0.0.1', 54869)\n",
      "2023-12-17 22:49:13.263 INFO load_module /var/folders/27/z40g_7vx5q97_wfz_gcd92k40000gn/T/tmplhd6o8td/tmp_func_4433e24834c6d1ec.tar\n",
      "2023-12-17 22:49:13.396 INFO Finish serving ('127.0.0.1', 54871)\n",
      "2023-12-17 22:49:14.842 INFO load_module /var/folders/27/z40g_7vx5q97_wfz_gcd92k40000gn/T/tmp6p2b46ks/tmp_func_2e8eb21a3d563718.tar\n",
      "2023-12-17 22:49:14.974 INFO Finish serving ('127.0.0.1', 54873)\n",
      "2023-12-17 22:49:16.323 INFO load_module /var/folders/27/z40g_7vx5q97_wfz_gcd92k40000gn/T/tmpy2isbg47/tmp_func_aff865e106d25a00.tar\n",
      "2023-12-17 22:49:16.453 INFO Finish serving ('127.0.0.1', 54875)\n",
      "2023-12-17 22:49:17.884 INFO load_module /var/folders/27/z40g_7vx5q97_wfz_gcd92k40000gn/T/tmp_8wn5w7t/tmp_func_b49757bb680dc7fe.tar\n",
      "2023-12-17 22:49:18.020 INFO Finish serving ('127.0.0.1', 54877)\n",
      "2023-12-17 22:49:19.324 INFO load_module /var/folders/27/z40g_7vx5q97_wfz_gcd92k40000gn/T/tmpyvfgy27_/tmp_func_9a0dab4a678fae54.tar\n",
      "2023-12-17 22:49:19.461 INFO Finish serving ('127.0.0.1', 54879)\n",
      "2023-12-17 22:49:20.735 INFO load_module /var/folders/27/z40g_7vx5q97_wfz_gcd92k40000gn/T/tmpv51sds6j/tmp_func_6256f947d64986d2.tar\n",
      "2023-12-17 22:49:20.872 INFO Finish serving ('127.0.0.1', 54881)\n",
      "2023-12-17 22:49:22.382 INFO load_module /var/folders/27/z40g_7vx5q97_wfz_gcd92k40000gn/T/tmp_qzjav4u/tmp_func_e5452dc7eefb0472.tar\n",
      "2023-12-17 22:49:22.515 INFO Finish serving ('127.0.0.1', 54883)\n",
      "2023-12-17 22:49:23.795 INFO load_module /var/folders/27/z40g_7vx5q97_wfz_gcd92k40000gn/T/tmpj49xvvsw/tmp_func_8372bad72e52cb0f.tar\n",
      "2023-12-17 22:49:23.931 INFO Finish serving ('127.0.0.1', 54885)\n",
      "2023-12-17 22:49:25.329 INFO load_module /var/folders/27/z40g_7vx5q97_wfz_gcd92k40000gn/T/tmpoqyidmr7/tmp_func_cbc1a6c361156298.tar\n",
      "2023-12-17 22:49:25.465 INFO Finish serving ('127.0.0.1', 54887)\n",
      "2023-12-17 22:49:26.797 INFO load_module /var/folders/27/z40g_7vx5q97_wfz_gcd92k40000gn/T/tmpzj5pgo9j/tmp_func_f3ba1058cd61230a.tar\n",
      "2023-12-17 22:49:26.932 INFO Finish serving ('127.0.0.1', 54889)\n",
      "2023-12-17 22:49:28.483 INFO load_module /var/folders/27/z40g_7vx5q97_wfz_gcd92k40000gn/T/tmpe80acmnk/tmp_func_95dded256dc7a2d0.tar\n",
      "2023-12-17 22:49:28.616 INFO Finish serving ('127.0.0.1', 54891)\n",
      "2023-12-17 22:49:29.943 INFO load_module /var/folders/27/z40g_7vx5q97_wfz_gcd92k40000gn/T/tmpjrj47w8u/tmp_func_d120e465d3f5c9e7.tar\n",
      "2023-12-17 22:49:30.075 INFO Finish serving ('127.0.0.1', 54893)\n",
      "2023-12-17 22:49:31.821 INFO load_module /var/folders/27/z40g_7vx5q97_wfz_gcd92k40000gn/T/tmppwyuxg2_/tmp_func_443db2d7f45bbcc2.tar\n",
      "2023-12-17 22:49:31.960 INFO Finish serving ('127.0.0.1', 54895)\n",
      "2023-12-17 22:49:33.299 INFO load_module /var/folders/27/z40g_7vx5q97_wfz_gcd92k40000gn/T/tmpn1hpbwht/tmp_func_68037b355e49e06b.tar\n",
      "2023-12-17 22:49:33.436 INFO Finish serving ('127.0.0.1', 54897)\n",
      "2023-12-17 22:49:34.851 INFO load_module /var/folders/27/z40g_7vx5q97_wfz_gcd92k40000gn/T/tmpaj6t43l9/tmp_func_366d31093f571020.tar\n",
      "2023-12-17 22:49:34.978 INFO Finish serving ('127.0.0.1', 54899)\n"
     ]
    },
    {
     "name": "stdout",
     "output_type": "stream",
     "text": [
      "[Task 45/48]  Current/Best:   73.76/ 114.62 GFLOPS | Progress: (16/504) | 28.62 s"
     ]
    },
    {
     "name": "stderr",
     "output_type": "stream",
     "text": [
      "2023-12-17 22:49:36.332 INFO load_module /var/folders/27/z40g_7vx5q97_wfz_gcd92k40000gn/T/tmp2b4zks05/tmp_func_2c48b64a2963f64d.tar\n",
      "2023-12-17 22:49:36.464 INFO Finish serving ('127.0.0.1', 54901)\n"
     ]
    },
    {
     "name": "stdout",
     "output_type": "stream",
     "text": [
      " Done.\n",
      "[Task 46/48]  Current/Best:    0.00/   0.00 GFLOPS | Progress: (0/504) | 0.00 s"
     ]
    },
    {
     "name": "stderr",
     "output_type": "stream",
     "text": [
      "2023-12-17 22:49:39.537 INFO Finish serving ('127.0.0.1', 54905)\n",
      "2023-12-17 22:49:40.606 INFO Finish serving ('127.0.0.1', 54907)\n",
      "2023-12-17 22:49:42.627 INFO load_module /var/folders/27/z40g_7vx5q97_wfz_gcd92k40000gn/T/tmpfnaw7h2k/tmp_func_7925c65df93440aa.tar\n",
      "2023-12-17 22:49:42.776 INFO Finish serving ('127.0.0.1', 54909)\n",
      "2023-12-17 22:49:44.366 INFO load_module /var/folders/27/z40g_7vx5q97_wfz_gcd92k40000gn/T/tmpr_420b7i/tmp_func_c2aa61c61d801aa2.tar\n",
      "2023-12-17 22:49:44.511 INFO Finish serving ('127.0.0.1', 54911)\n",
      "2023-12-17 22:49:46.588 INFO load_module /var/folders/27/z40g_7vx5q97_wfz_gcd92k40000gn/T/tmp5nt_noef/tmp_func_e11826c6e0332f89.tar\n",
      "2023-12-17 22:49:46.733 INFO Finish serving ('127.0.0.1', 54913)\n",
      "2023-12-17 22:49:48.399 INFO load_module /var/folders/27/z40g_7vx5q97_wfz_gcd92k40000gn/T/tmp50s8as9t/tmp_func_a0dc998389eb4bd8.tar\n",
      "2023-12-17 22:49:48.544 INFO Finish serving ('127.0.0.1', 54915)\n",
      "2023-12-17 22:49:50.027 INFO load_module /var/folders/27/z40g_7vx5q97_wfz_gcd92k40000gn/T/tmp60g1hxfz/tmp_func_1052415dd038a0aa.tar\n",
      "2023-12-17 22:49:50.172 INFO Finish serving ('127.0.0.1', 54917)\n",
      "2023-12-17 22:49:51.687 INFO load_module /var/folders/27/z40g_7vx5q97_wfz_gcd92k40000gn/T/tmpim9kv8ze/tmp_func_5d6d322768df520b.tar\n",
      "2023-12-17 22:49:51.833 INFO Finish serving ('127.0.0.1', 54919)\n",
      "2023-12-17 22:49:53.536 INFO load_module /var/folders/27/z40g_7vx5q97_wfz_gcd92k40000gn/T/tmpl_0598xm/tmp_func_a191f8b8c4f889fa.tar\n",
      "2023-12-17 22:49:53.678 INFO Finish serving ('127.0.0.1', 54921)\n",
      "2023-12-17 22:49:55.210 INFO load_module /var/folders/27/z40g_7vx5q97_wfz_gcd92k40000gn/T/tmpyhp12i97/tmp_func_27957667181b941a.tar\n",
      "2023-12-17 22:49:55.354 INFO Finish serving ('127.0.0.1', 54923)\n",
      "2023-12-17 22:49:56.940 INFO load_module /var/folders/27/z40g_7vx5q97_wfz_gcd92k40000gn/T/tmpvroryjvc/tmp_func_22db65973d422021.tar\n",
      "2023-12-17 22:49:57.084 INFO Finish serving ('127.0.0.1', 54925)\n",
      "2023-12-17 22:49:59.171 INFO load_module /var/folders/27/z40g_7vx5q97_wfz_gcd92k40000gn/T/tmprrnq8x1i/tmp_func_f1c9c8af6563378d.tar\n",
      "2023-12-17 22:49:59.316 INFO Finish serving ('127.0.0.1', 54927)\n",
      "2023-12-17 22:50:01.168 INFO load_module /var/folders/27/z40g_7vx5q97_wfz_gcd92k40000gn/T/tmpv58sdisq/tmp_func_d025894b60c4695d.tar\n",
      "2023-12-17 22:50:01.309 INFO Finish serving ('127.0.0.1', 54929)\n",
      "2023-12-17 22:50:03.076 INFO load_module /var/folders/27/z40g_7vx5q97_wfz_gcd92k40000gn/T/tmp06ls__un/tmp_func_f50f8d465b309879.tar\n",
      "2023-12-17 22:50:03.220 INFO Finish serving ('127.0.0.1', 54931)\n",
      "2023-12-17 22:50:05.181 INFO load_module /var/folders/27/z40g_7vx5q97_wfz_gcd92k40000gn/T/tmpyjwqavdc/tmp_func_4f0852c7288ec12.tar\n",
      "2023-12-17 22:50:05.318 INFO Finish serving ('127.0.0.1', 54934)\n",
      "2023-12-17 22:50:07.169 INFO load_module /var/folders/27/z40g_7vx5q97_wfz_gcd92k40000gn/T/tmpt735vef5/tmp_func_2d83e0f6ebf06d40.tar\n",
      "2023-12-17 22:50:07.307 INFO Finish serving ('127.0.0.1', 54938)\n",
      "2023-12-17 22:50:09.010 INFO load_module /var/folders/27/z40g_7vx5q97_wfz_gcd92k40000gn/T/tmp_8te99ga/tmp_func_444b35432ecef373.tar\n",
      "2023-12-17 22:50:09.149 INFO Finish serving ('127.0.0.1', 54941)\n"
     ]
    },
    {
     "name": "stdout",
     "output_type": "stream",
     "text": [
      "[Task 46/48]  Current/Best:   95.12/ 105.43 GFLOPS | Progress: (16/504) | 34.44 s"
     ]
    },
    {
     "name": "stderr",
     "output_type": "stream",
     "text": [
      "2023-12-17 22:50:10.938 INFO load_module /var/folders/27/z40g_7vx5q97_wfz_gcd92k40000gn/T/tmpavh1xgty/tmp_func_8f774db0804fee6d.tar\n",
      "2023-12-17 22:50:11.075 INFO Finish serving ('127.0.0.1', 54943)\n"
     ]
    },
    {
     "name": "stdout",
     "output_type": "stream",
     "text": [
      " Done.\n",
      "[Task 47/48]  Current/Best:    0.00/   0.00 GFLOPS | Progress: (0/504) | 0.00 s"
     ]
    },
    {
     "name": "stderr",
     "output_type": "stream",
     "text": [
      "2023-12-17 22:50:14.726 INFO Finish serving ('127.0.0.1', 54948)\n",
      "2023-12-17 22:50:15.896 INFO Finish serving ('127.0.0.1', 54950)\n",
      "2023-12-17 22:50:17.770 INFO load_module /var/folders/27/z40g_7vx5q97_wfz_gcd92k40000gn/T/tmp4y8qtu4o/tmp_func_f272ac9216f5142c.tar\n",
      "2023-12-17 22:50:18.009 INFO Finish serving ('127.0.0.1', 54952)\n",
      "2023-12-17 22:50:19.486 INFO load_module /var/folders/27/z40g_7vx5q97_wfz_gcd92k40000gn/T/tmpmf9jyy95/tmp_func_669d59429966dba2.tar\n",
      "2023-12-17 22:50:19.806 INFO Finish serving ('127.0.0.1', 54954)\n",
      "2023-12-17 22:50:21.321 INFO load_module /var/folders/27/z40g_7vx5q97_wfz_gcd92k40000gn/T/tmpof99ccdj/tmp_func_56b9f7230535e3a0.tar\n",
      "2023-12-17 22:50:21.628 INFO Finish serving ('127.0.0.1', 54956)\n",
      "2023-12-17 22:50:23.074 INFO load_module /var/folders/27/z40g_7vx5q97_wfz_gcd92k40000gn/T/tmpdwv5xo3_/tmp_func_e7887f1fd2556bb2.tar\n",
      "2023-12-17 22:50:23.388 INFO Finish serving ('127.0.0.1', 54958)\n",
      "2023-12-17 22:50:25.088 INFO load_module /var/folders/27/z40g_7vx5q97_wfz_gcd92k40000gn/T/tmpziut4z9z/tmp_func_3ccad9d67aefd964.tar\n",
      "2023-12-17 22:50:25.425 INFO Finish serving ('127.0.0.1', 54960)\n",
      "2023-12-17 22:50:27.243 INFO load_module /var/folders/27/z40g_7vx5q97_wfz_gcd92k40000gn/T/tmpa1w17atw/tmp_func_6e45af48e12e9e4a.tar\n",
      "2023-12-17 22:50:27.562 INFO Finish serving ('127.0.0.1', 54962)\n",
      "2023-12-17 22:50:29.189 INFO load_module /var/folders/27/z40g_7vx5q97_wfz_gcd92k40000gn/T/tmpcrvd_z02/tmp_func_ab11a229813759e9.tar\n",
      "2023-12-17 22:50:29.485 INFO Finish serving ('127.0.0.1', 54964)\n",
      "2023-12-17 22:50:31.065 INFO load_module /var/folders/27/z40g_7vx5q97_wfz_gcd92k40000gn/T/tmp88jjgpb7/tmp_func_38bddb3e59f92a65.tar\n",
      "2023-12-17 22:50:31.368 INFO Finish serving ('127.0.0.1', 54966)\n",
      "2023-12-17 22:50:33.037 INFO load_module /var/folders/27/z40g_7vx5q97_wfz_gcd92k40000gn/T/tmp9wnnias1/tmp_func_f5edf6fe7d734f9b.tar\n",
      "2023-12-17 22:50:33.347 INFO Finish serving ('127.0.0.1', 54968)\n",
      "2023-12-17 22:50:34.953 INFO load_module /var/folders/27/z40g_7vx5q97_wfz_gcd92k40000gn/T/tmpdcn8ss8f/tmp_func_220c17895392cf6c.tar\n",
      "2023-12-17 22:50:35.243 INFO Finish serving ('127.0.0.1', 54970)\n",
      "2023-12-17 22:50:36.819 INFO load_module /var/folders/27/z40g_7vx5q97_wfz_gcd92k40000gn/T/tmpopq_e8m1/tmp_func_52064e88574ad246.tar\n",
      "2023-12-17 22:50:37.110 INFO Finish serving ('127.0.0.1', 54972)\n",
      "2023-12-17 22:50:38.768 INFO load_module /var/folders/27/z40g_7vx5q97_wfz_gcd92k40000gn/T/tmp_4aemnts/tmp_func_1b7486019d93c8c8.tar\n",
      "2023-12-17 22:50:39.059 INFO Finish serving ('127.0.0.1', 54977)\n",
      "2023-12-17 22:50:40.720 INFO load_module /var/folders/27/z40g_7vx5q97_wfz_gcd92k40000gn/T/tmp39lgeci6/tmp_func_19df7fbc478063aa.tar\n",
      "2023-12-17 22:50:40.977 INFO Finish serving ('127.0.0.1', 54979)\n",
      "2023-12-17 22:50:42.541 INFO load_module /var/folders/27/z40g_7vx5q97_wfz_gcd92k40000gn/T/tmp1y81yoqi/tmp_func_390ed9761b141c3.tar\n",
      "2023-12-17 22:50:42.797 INFO Finish serving ('127.0.0.1', 54982)\n",
      "2023-12-17 22:50:44.510 INFO load_module /var/folders/27/z40g_7vx5q97_wfz_gcd92k40000gn/T/tmpik1onrxq/tmp_func_89a5f667043965ab.tar\n",
      "2023-12-17 22:50:44.780 INFO Finish serving ('127.0.0.1', 54984)\n",
      "2023-12-17 22:50:46.648 INFO load_module /var/folders/27/z40g_7vx5q97_wfz_gcd92k40000gn/T/tmpr22o22u2/tmp_func_7649405100f80d9b.tar\n"
     ]
    },
    {
     "name": "stdout",
     "output_type": "stream",
     "text": [
      "[Task 47/48]  Current/Best:  145.46/ 200.23 GFLOPS | Progress: (16/504) | 35.63 s Done.\n",
      "[Task 48/48]  Current/Best:    0.00/   0.00 GFLOPS | Progress: (0/336) | 0.00 s"
     ]
    },
    {
     "name": "stderr",
     "output_type": "stream",
     "text": [
      "2023-12-17 22:50:46.898 INFO Finish serving ('127.0.0.1', 54987)\n",
      "2023-12-17 22:50:50.467 INFO Finish serving ('127.0.0.1', 54991)\n",
      "2023-12-17 22:50:51.654 INFO Finish serving ('127.0.0.1', 54993)\n",
      "2023-12-17 22:50:53.832 INFO load_module /var/folders/27/z40g_7vx5q97_wfz_gcd92k40000gn/T/tmp0x_nuzak/tmp_func_c53205f22d60fac4.tar\n",
      "2023-12-17 22:50:54.025 INFO Finish serving ('127.0.0.1', 54995)\n",
      "2023-12-17 22:50:55.795 INFO load_module /var/folders/27/z40g_7vx5q97_wfz_gcd92k40000gn/T/tmpjwa_skrr/tmp_func_380ba65a4a981c35.tar\n",
      "2023-12-17 22:50:55.987 INFO Finish serving ('127.0.0.1', 54997)\n",
      "2023-12-17 22:50:58.124 INFO load_module /var/folders/27/z40g_7vx5q97_wfz_gcd92k40000gn/T/tmpx6mo6c58/tmp_func_80fdd6d9f52dfdca.tar\n",
      "2023-12-17 22:50:58.321 INFO Finish serving ('127.0.0.1', 54999)\n",
      "2023-12-17 22:51:00.644 INFO load_module /var/folders/27/z40g_7vx5q97_wfz_gcd92k40000gn/T/tmp0fx_sis_/tmp_func_de4f716bbc63f9f3.tar\n",
      "2023-12-17 22:51:00.849 INFO Finish serving ('127.0.0.1', 55001)\n",
      "2023-12-17 22:51:02.839 INFO load_module /var/folders/27/z40g_7vx5q97_wfz_gcd92k40000gn/T/tmpaqrw6n0h/tmp_func_d91aa352d60d444e.tar\n",
      "2023-12-17 22:51:03.060 INFO Finish serving ('127.0.0.1', 55003)\n",
      "2023-12-17 22:51:04.938 INFO load_module /var/folders/27/z40g_7vx5q97_wfz_gcd92k40000gn/T/tmp9ad1rj92/tmp_func_d92cfe285edd440f.tar\n",
      "2023-12-17 22:51:05.137 INFO Finish serving ('127.0.0.1', 55005)\n",
      "2023-12-17 22:51:07.039 INFO load_module /var/folders/27/z40g_7vx5q97_wfz_gcd92k40000gn/T/tmp3cy4ge4m/tmp_func_4cdcd4831dda8d0d.tar\n",
      "2023-12-17 22:51:07.238 INFO Finish serving ('127.0.0.1', 55007)\n",
      "2023-12-17 22:51:09.238 INFO load_module /var/folders/27/z40g_7vx5q97_wfz_gcd92k40000gn/T/tmptjhun3xl/tmp_func_bdb53c8d2011a3af.tar\n",
      "2023-12-17 22:51:09.433 INFO Finish serving ('127.0.0.1', 55009)\n",
      "2023-12-17 22:51:11.426 INFO load_module /var/folders/27/z40g_7vx5q97_wfz_gcd92k40000gn/T/tmpm7bd2esw/tmp_func_2eb1e86f37e11cba.tar\n",
      "2023-12-17 22:51:11.617 INFO Finish serving ('127.0.0.1', 55011)\n",
      "2023-12-17 22:51:13.490 INFO load_module /var/folders/27/z40g_7vx5q97_wfz_gcd92k40000gn/T/tmpuswkcq3e/tmp_func_3647a9d6aeb5eb11.tar\n",
      "2023-12-17 22:51:13.678 INFO Finish serving ('127.0.0.1', 55013)\n",
      "2023-12-17 22:51:15.851 INFO load_module /var/folders/27/z40g_7vx5q97_wfz_gcd92k40000gn/T/tmpfgf60d01/tmp_func_4ab1f00f995b01fe.tar\n",
      "2023-12-17 22:51:16.045 INFO Finish serving ('127.0.0.1', 55015)\n",
      "2023-12-17 22:51:18.051 INFO load_module /var/folders/27/z40g_7vx5q97_wfz_gcd92k40000gn/T/tmp1oer1avs/tmp_func_212e1adaa6d09394.tar\n",
      "2023-12-17 22:51:18.245 INFO Finish serving ('127.0.0.1', 55019)\n",
      "2023-12-17 22:51:20.140 INFO load_module /var/folders/27/z40g_7vx5q97_wfz_gcd92k40000gn/T/tmpwwad_6_l/tmp_func_cc3ddf6a4d1e24d0.tar\n",
      "2023-12-17 22:51:20.335 INFO Finish serving ('127.0.0.1', 55022)\n",
      "2023-12-17 22:51:22.140 INFO load_module /var/folders/27/z40g_7vx5q97_wfz_gcd92k40000gn/T/tmpz_pb9o0u/tmp_func_dc0aac89aa44f6ca.tar\n",
      "2023-12-17 22:51:22.332 INFO Finish serving ('127.0.0.1', 55024)\n",
      "2023-12-17 22:51:24.238 INFO load_module /var/folders/27/z40g_7vx5q97_wfz_gcd92k40000gn/T/tmpshp__9qs/tmp_func_7344cef021cd3533.tar\n",
      "2023-12-17 22:51:24.428 INFO Finish serving ('127.0.0.1', 55027)\n"
     ]
    },
    {
     "name": "stdout",
     "output_type": "stream",
     "text": [
      "[Task 48/48]  Current/Best:   49.17/  49.34 GFLOPS | Progress: (16/336) | 39.43 s"
     ]
    },
    {
     "name": "stderr",
     "output_type": "stream",
     "text": [
      "2023-12-17 22:51:26.331 INFO load_module /var/folders/27/z40g_7vx5q97_wfz_gcd92k40000gn/T/tmpp3qd9nm9/tmp_func_953307f1ecd1dadf.tar\n",
      "2023-12-17 22:51:26.522 INFO Finish serving ('127.0.0.1', 55029)\n"
     ]
    },
    {
     "name": "stdout",
     "output_type": "stream",
     "text": [
      " Done.\n"
     ]
    }
   ],
   "source": [
    "tasks = extract_tasks_autotvm(mod_nchw, target, params)\n",
    "run_tuning_autotvm(tasks, **tuning_option)"
   ]
  },
  {
   "cell_type": "code",
   "execution_count": 54,
   "id": "b5ca0a83",
   "metadata": {},
   "outputs": [
    {
     "name": "stdout",
     "output_type": "stream",
     "text": [
      "Evaluation of the network compiled in 'default' mode without auto tune:\n",
      "Compile...\n",
      "Evaluate inference time cost...\n",
      "Execution time summary:\n",
      " mean (ms)   median (ms)    max (ms)     min (ms)     std (ms)  \n",
      "  85.7656      84.6015      89.9523      82.7431       3.0561   \n",
      "               \n",
      "\n",
      "Evaluation of the network been tuned on kernel level:\n",
      "Compile...\n",
      "Evaluate inference time cost...\n",
      "Execution time summary:\n",
      " mean (ms)   median (ms)    max (ms)     min (ms)     std (ms)  \n",
      "  105.0359     99.7231      117.7934     97.5912       9.0628   \n",
      "               \n"
     ]
    }
   ],
   "source": [
    "evaluate_autotvm(input_tensor, mod_nchw, input_shape, 'statistics.log', target)"
   ]
  },
  {
   "cell_type": "code",
   "execution_count": null,
   "id": "b02b3ae1",
   "metadata": {},
   "outputs": [],
   "source": []
  },
  {
   "cell_type": "code",
   "execution_count": null,
   "id": "599aa7d6",
   "metadata": {},
   "outputs": [],
   "source": []
  }
 ],
 "metadata": {
  "kernelspec": {
   "display_name": "Python 3 (ipykernel)",
   "language": "python",
   "name": "python3"
  },
  "language_info": {
   "codemirror_mode": {
    "name": "ipython",
    "version": 3
   },
   "file_extension": ".py",
   "mimetype": "text/x-python",
   "name": "python",
   "nbconvert_exporter": "python",
   "pygments_lexer": "ipython3",
   "version": "3.10.12"
  }
 },
 "nbformat": 4,
 "nbformat_minor": 5
}
